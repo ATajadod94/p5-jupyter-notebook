{
 "cells": [
  {
   "cell_type": "markdown",
   "metadata": {
    "slideshow": {
     "slide_type": "slide"
    }
   },
   "source": [
    "# p5.js in the Jupyter Notebook for custom interactive visualizations \n",
    "\n",
    "\n",
    "The goal of this notebook is to show how to create custom visualizations in a Jupyter Notebook.\n",
    "\n",
    "The Jupyter Notebook provides the `%%javascript` cell magic, that we can use to load existing Javascript libraries.\n",
    "\n",
    "Although this can be applied in many contexts and applications, we will focus on one concrete example.\n",
    "\n",
    "\n",
    "## Example with the Bermuda Triangle Puzzle\n",
    "\n",
    "\n",
    "The Bermuda Triangle Puzzle is a wooden puzzle consisting of 1 big triangle and 16 smaller triangles of equal size.\n",
    "\n",
    "On the edges of the big triangle, there are colored dots, as well as on the edges of the small triangles:\n",
    "\n",
    "![Bermuda Triangle Puzzle](./bermuda_triangle_puzzle.jpg)"
   ]
  },
  {
   "cell_type": "markdown",
   "metadata": {},
   "source": [
    "## Goal\n",
    "\n",
    "The 16 triangles all fit inside the big triangle. But the goal of the puzzle is to **arrange the triangles in a way so that each adjacent color is the same: red next to red, blue next to blue, and so on...**.\n",
    "\n",
    "One thing to notice is that the colors on the edges of the big triangle cannot be moved, but the smaller triangles can be rotated and re-arranged as we want.\n",
    "\n",
    "### How do we solve this?\n",
    "\n",
    "As usual, there are different approaches:\n",
    "\n",
    "1. One can just take the puzzle and start playing with it. After a while, some patterns may show upbut can become very tedious when trying all combinations.\n",
    "2. Speaking of trying all combinations, one can try to brute force the puzzle (still manually with the wooden pieces), take notes of the configurations that have been tested, and keep iterating. This requires a lot of rigor to not miss any step and start from the beginning.\n",
    "3. Brute-forcing can be fun for a moment, but repetitive after a few minutes. Instead of doing it manually, we write a program that goes through all possibilities and try them one by one, maybe finding more than one solution if more exist. This requires knowing how to approach the problem and define an explicit and efficient search strategy, which can be difficult to find and implement.\n",
    "4. When we don't really know what to do, we can start modelling the puzzle / state, and use stochastic search to find a solution. This requires a set of good building blocks and tools that the stochastic search can rely on."
   ]
  },
  {
   "cell_type": "markdown",
   "metadata": {
    "slideshow": {
     "slide_type": "-"
    }
   },
   "source": [
    "## Strategy\n",
    "\n",
    "In this notebook, I would like to try the last approach, using a stochastic approach. \n",
    "To prove that the solution is correct, the best way is probably to draw it right away, and visually verify the colors match. This is what we would do with the real puzzle.\n",
    "\n",
    "Since we will already be drawing the puzzle, we can push one step further to make an interactive animation of the stochastic search.\n",
    "\n",
    "This is where we introduce [p5.js](https://p5js.org), a web-based port of the rendering framework Processing, for easy to make graphics right here in the browser.\n",
    "\n",
    "Steps:\n",
    "\n",
    "1. Model the puzzle by encoding the colors to numbers and arranging them into lists.\n",
    "2. Define a function, which draws a state on a canvas. A state is defined as the big triangle and a permutation of the 16 small triangles potentially rotated.\n",
    "3. Define a function, which given a list of actions (permutations of triangles, rotation of triangles), animate them on a canvas.\n",
    "4. Define a small helper for genetic algorithms.\n",
    "5. Define a function that uses the helper to search for the solution, logging each step taken (permutation, rotation) to a list of actions.\n",
    "6. Use the previously defined functions to animated the search and display the final solution"
   ]
  },
  {
   "cell_type": "markdown",
   "metadata": {},
   "source": [
    "## Tools\n",
    "\n",
    "For this kind of exploratory problem, we will rely on a few Python packages. However this time, I want to introduce them one by one when needed, to follow the explorative approach."
   ]
  },
  {
   "cell_type": "markdown",
   "metadata": {},
   "source": [
    "## Model\n",
    "\n",
    "This is perhaps the most tedious step, as it requires listing the different pieces with the proper order for the colors.\n",
    "\n",
    "### Triangles\n",
    "\n",
    "In total, we have 16 triangles, and 6 colors: **white, blue, yellow, green, black, red**."
   ]
  },
  {
   "cell_type": "code",
   "execution_count": 1,
   "metadata": {
    "slideshow": {
     "slide_type": "slide"
    }
   },
   "outputs": [],
   "source": [
    "N_TRIANGLES = 16\n",
    "IDS = list(range(N_TRIANGLES))\n",
    "N_COLORS = 6\n",
    "WHITE, BLUE, YELLOW, GREEN, BLACK, RED = range(N_COLORS)\n",
    "\n",
    "# list the pieces, turning anti-clockwise for the colors\n",
    "# The number at the last position of the tuple indicate the number\n",
    "# of identical pieces\n",
    "triangles_count = [\n",
    "    (WHITE, BLUE, BLUE, 1),\n",
    "    (WHITE, YELLOW, GREEN, 2),\n",
    "    (WHITE, BLACK, BLUE, 2),\n",
    "    (WHITE, GREEN, RED, 1),\n",
    "    (WHITE, RED, YELLOW, 1),\n",
    "    (WHITE, WHITE, BLUE, 1),\n",
    "    (BLACK, GREEN, RED, 1),\n",
    "    (BLACK, RED, GREEN, 2),\n",
    "    (BLACK, BLACK, GREEN, 1),\n",
    "    (BLACK, GREEN, YELLOW, 1),\n",
    "    (BLACK, YELLOW, BLUE, 1),\n",
    "    (GREEN, RED, YELLOW, 1),\n",
    "    (BLUE, GREEN, YELLOW, 1)\n",
    "]\n",
    "\n",
    "assert N_TRIANGLES == sum(t[-1] for t in triangles_count)"
   ]
  },
  {
   "cell_type": "markdown",
   "metadata": {},
   "source": [
    "The triangles were listed correctly, let's unpack them into a flat list. Additionally, we add a number (0, 1 or 2) corresponding to the current rotation (initially 0)"
   ]
  },
  {
   "cell_type": "code",
   "execution_count": 2,
   "metadata": {},
   "outputs": [
    {
     "name": "stdout",
     "output_type": "stream",
     "text": [
      "((0, 1, 1), (0, 2, 3), (0, 2, 3), (0, 4, 1), (0, 4, 1), (0, 3, 5), (0, 5, 2), (0, 0, 1), (4, 3, 5), (4, 5, 3), (4, 5, 3), (4, 4, 3), (4, 3, 2), (4, 2, 1), (3, 5, 2), (1, 3, 2))\n"
     ]
    }
   ],
   "source": [
    "triangles = tuple([t[:-1] for t in triangles_count for times in range(t[-1])])\n",
    "print(triangles)\n",
    "\n",
    "assert N_TRIANGLES == len(triangles)"
   ]
  },
  {
   "cell_type": "markdown",
   "metadata": {},
   "source": [
    "This is our immutable list of triangles (tuples), that we can index by an integer from 0 to 15.\n",
    "\n",
    "### Board\n",
    "\n",
    "What needs to be done now is to define the board with the fixed colors. Together with the triangles, they define the **state** of the puzzle."
   ]
  },
  {
   "cell_type": "code",
   "execution_count": 3,
   "metadata": {},
   "outputs": [],
   "source": [
    "import json\n",
    "\n",
    "class Board:\n",
    "    \n",
    "    TRIANGLES = triangles\n",
    "    LEFT = (WHITE, RED, WHITE, YELLOW)\n",
    "    RIGHT = (BLUE, RED, GREEN, BLACK)\n",
    "    BOTTOM = (GREEN, GREEN, WHITE, GREEN)\n",
    "    \n",
    "    def __str__(self):\n",
    "        return json.dumps({\n",
    "            'TRIANGLES': Board.TRIANGLES,\n",
    "            'LEFT': Board.LEFT,\n",
    "            'RIGHT': Board.RIGHT,\n",
    "            'BOTTOM': Board.BOTTOM,\n",
    "        })\n",
    "\n",
    "\n",
    "class Permutation(Board):\n",
    "    def __init__(self, permutation, states=[]):\n",
    "        self.permutation = list(permutation)\n",
    "        self.repr = [triangles[p[0]] + (p[1],) for p in self.permutation]\n",
    "        self.states = states\n",
    "        \n",
    "    def __str__(self):\n",
    "        base = json.loads(super().__str__())\n",
    "        base.update({\n",
    "            'repr': self.repr,\n",
    "            'permutation': self.permutation,\n",
    "            'states': self.states,\n",
    "        })\n",
    "        return json.dumps(base)"
   ]
  },
  {
   "cell_type": "markdown",
   "metadata": {},
   "source": [
    "Create global storage to write states and variables from Python, and access them from Javascript"
   ]
  },
  {
   "cell_type": "code",
   "execution_count": 4,
   "metadata": {},
   "outputs": [
    {
     "data": {
      "application/javascript": [
       "window.kv = {};"
      ],
      "text/plain": [
       "<IPython.core.display.Javascript object>"
      ]
     },
     "metadata": {},
     "output_type": "display_data"
    }
   ],
   "source": [
    "%%javascript\n",
    "window.kv = {};"
   ]
  },
  {
   "cell_type": "code",
   "execution_count": 5,
   "metadata": {},
   "outputs": [],
   "source": [
    "from IPython.display import Javascript\n",
    "\n",
    "def send_to_js(key, value):\n",
    "    display(Javascript(f'window.kv.{key} = {value};'))"
   ]
  },
  {
   "cell_type": "code",
   "execution_count": 6,
   "metadata": {},
   "outputs": [
    {
     "data": {
      "application/javascript": [
       "window.kv.defaultBoard = {\"TRIANGLES\": [[0, 1, 1], [0, 2, 3], [0, 2, 3], [0, 4, 1], [0, 4, 1], [0, 3, 5], [0, 5, 2], [0, 0, 1], [4, 3, 5], [4, 5, 3], [4, 5, 3], [4, 4, 3], [4, 3, 2], [4, 2, 1], [3, 5, 2], [1, 3, 2]], \"LEFT\": [0, 5, 0, 2], \"RIGHT\": [1, 5, 3, 4], \"BOTTOM\": [3, 3, 0, 3], \"repr\": [[0, 1, 1, 0], [0, 2, 3, 0], [0, 2, 3, 0], [0, 4, 1, 0], [0, 4, 1, 0], [0, 3, 5, 0], [0, 5, 2, 0], [0, 0, 1, 0], [4, 3, 5, 0], [4, 5, 3, 0], [4, 5, 3, 0], [4, 4, 3, 0], [4, 3, 2, 0], [4, 2, 1, 0], [3, 5, 2, 0], [1, 3, 2, 0]], \"permutation\": [[0, 0], [1, 0], [2, 0], [3, 0], [4, 0], [5, 0], [6, 0], [7, 0], [8, 0], [9, 0], [10, 0], [11, 0], [12, 0], [13, 0], [14, 0], [15, 0]], \"states\": []};"
      ],
      "text/plain": [
       "<IPython.core.display.Javascript object>"
      ]
     },
     "metadata": {},
     "output_type": "display_data"
    }
   ],
   "source": [
    "send_to_js('defaultBoard', Permutation([i, 0] for i in range(N_TRIANGLES)))"
   ]
  },
  {
   "cell_type": "markdown",
   "metadata": {},
   "source": [
    "## Drawing the state\n",
    "\n",
    "Since the Jupyter Notebook is basically a webpage, we can directly use battle-tested web libraries to draw shapes on a canvas. One of my favorite is [p5.js](https://p5js.org), let's see how we can use it here."
   ]
  },
  {
   "cell_type": "code",
   "execution_count": 7,
   "metadata": {},
   "outputs": [
    {
     "data": {
      "application/javascript": [
       "require.config({\n",
       "    paths: {\n",
       "        'p5': 'https://cdnjs.cloudflare.com/ajax/libs/p5.js/0.5.16/p5.min',\n",
       "        'p5.dom': 'https://cdnjs.cloudflare.com/ajax/libs/p5.js/0.5.16/addons/p5.dom.min'\n",
       "    }\n",
       "});"
      ],
      "text/plain": [
       "<IPython.core.display.Javascript object>"
      ]
     },
     "metadata": {},
     "output_type": "display_data"
    }
   ],
   "source": [
    "%%javascript\n",
    "require.config({\n",
    "    paths: {\n",
    "        'p5': 'https://cdnjs.cloudflare.com/ajax/libs/p5.js/0.5.16/p5.min',\n",
    "        'p5.dom': 'https://cdnjs.cloudflare.com/ajax/libs/p5.js/0.5.16/addons/p5.dom.min'\n",
    "    }\n",
    "});"
   ]
  },
  {
   "cell_type": "markdown",
   "metadata": {},
   "source": [
    "Jupyter uses [require.js](http://requirejs.org/) under the hood, and the good thing is that we make use of it for our own purposes.\n",
    "\n",
    "We can for example define small modules relying on p5.js, that will in the end be assembled together to form the bigger picture."
   ]
  },
  {
   "cell_type": "code",
   "execution_count": 8,
   "metadata": {},
   "outputs": [
    {
     "data": {
      "application/javascript": [
       "\n",
       "window.defineModule = function (name, dependencies, module) {\n",
       "    // force the recreation of the module\n",
       "    // (when re-executing a cell for example)\n",
       "    require.undef(name);\n",
       "    \n",
       "    define(name, dependencies, module);\n",
       "};\n",
       "\n",
       "window.createSketch = function (cell, name, dependencies, module) {\n",
       "    // global store for sketches, lazily created\n",
       "    window.sketches = window.sketches || {};\n",
       "    \n",
       "    // remove existing if it already exists\n",
       "    $(`${name}`).remove();\n",
       "    cell.append(`<div id=\"${name}\" style=\"text-align: center;\"></div>`);\n",
       "    \n",
       "    // stop the existing sketch\n",
       "    let sketch = window.sketches[name];\n",
       "    if (sketch) {\n",
       "        clearTimeout(sketch.timeout);\n",
       "        sketch.remove();\n",
       "    }\n",
       "    \n",
       "    require(['p5', 'p5.dom'], (p5, p5dom) => {\n",
       "        require(dependencies, function(...deps) {\n",
       "            let sketch = module(...deps);\n",
       "            window.sketches[name] = new p5(sketch, name);\n",
       "            console.log(`sketch ${name} created`);\n",
       "        })\n",
       "    });\n",
       "}"
      ],
      "text/plain": [
       "<IPython.core.display.Javascript object>"
      ]
     },
     "metadata": {},
     "output_type": "display_data"
    }
   ],
   "source": [
    "%%javascript\n",
    "\n",
    "window.defineModule = function (name, dependencies, module) {\n",
    "    // force the recreation of the module\n",
    "    // (when re-executing a cell for example)\n",
    "    require.undef(name);\n",
    "    \n",
    "    define(name, dependencies, module);\n",
    "};\n",
    "\n",
    "window.createSketch = function (cell, name, dependencies, module) {\n",
    "    // global store for sketches, lazily created\n",
    "    window.sketches = window.sketches || {};\n",
    "    \n",
    "    // remove existing if it already exists\n",
    "    $(`${name}`).remove();\n",
    "    cell.append(`<div id=\"${name}\" style=\"text-align: center;\"></div>`);\n",
    "    \n",
    "    // stop the existing sketch\n",
    "    let sketch = window.sketches[name];\n",
    "    if (sketch) {\n",
    "        clearTimeout(sketch.timeout);\n",
    "        sketch.remove();\n",
    "    }\n",
    "    \n",
    "    require(['p5', 'p5.dom'], (p5, p5dom) => {\n",
    "        require(dependencies, function(...deps) {\n",
    "            let sketch = module(...deps);\n",
    "            window.sketches[name] = new p5(sketch, name);\n",
    "            console.log(`sketch ${name} created`);\n",
    "        })\n",
    "    });\n",
    "}"
   ]
  },
  {
   "cell_type": "markdown",
   "metadata": {},
   "source": [
    "The `defineModule` javascript function can be used right away to create a module containing the list of settings."
   ]
  },
  {
   "cell_type": "code",
   "execution_count": 9,
   "metadata": {},
   "outputs": [
    {
     "data": {
      "application/javascript": [
       "\n",
       "defineModule('settings', [], () => {\n",
       "    let N_TRIANGLES = 16;\n",
       "    let COLORS = ['#fff', '#00f', '#ff0', '#0f0', '#000', '#f00'];\n",
       "    let R = 50;\n",
       "    let r = R / 2;\n",
       "    let CR = r / 2;\n",
       "    let OFFSET_X = R * Math.sqrt(3) * 0.5;\n",
       "    let OFFSET_Y = 1.5 * R;\n",
       "    \n",
       "    return {N_TRIANGLES, COLORS, R, r, CR, OFFSET_X, OFFSET_Y};\n",
       "})"
      ],
      "text/plain": [
       "<IPython.core.display.Javascript object>"
      ]
     },
     "metadata": {},
     "output_type": "display_data"
    }
   ],
   "source": [
    "%%javascript\n",
    "\n",
    "defineModule('settings', [], () => {\n",
    "    let N_TRIANGLES = 16;\n",
    "    let COLORS = ['#fff', '#00f', '#ff0', '#0f0', '#000', '#f00'];\n",
    "    let R = 50;\n",
    "    let r = R / 2;\n",
    "    let CR = r / 2;\n",
    "    let OFFSET_X = R * Math.sqrt(3) * 0.5;\n",
    "    let OFFSET_Y = 1.5 * R;\n",
    "    \n",
    "    return {N_TRIANGLES, COLORS, R, r, CR, OFFSET_X, OFFSET_Y};\n",
    "})"
   ]
  },
  {
   "cell_type": "markdown",
   "metadata": {},
   "source": [
    "With these parameters defined, we can create a `triangles` module that will be used to draw one triangle on the screen."
   ]
  },
  {
   "cell_type": "code",
   "execution_count": 10,
   "metadata": {},
   "outputs": [
    {
     "data": {
      "application/javascript": [
       "\n",
       "defineModule('triangles', ['settings'], (settings) => {\n",
       "    let {COLORS, R, r, CR, OFFSET_X, OFFSET_Y} = settings;\n",
       "    \n",
       "    function _getPoints(n, startAngle, radius) {\n",
       "        let points = [];\n",
       "        let da = 2 * Math.PI / n;\n",
       "        for (let i = 0; i < n; i++) {\n",
       "            let angle = startAngle - i * da;\n",
       "            let x = radius * Math.cos(angle);\n",
       "            let y = radius * Math.sin(angle);\n",
       "            points.push(x);\n",
       "            points.push(y);\n",
       "        }\n",
       "        return points;\n",
       "    }\n",
       "    \n",
       "    return (p) => {\n",
       "        return {\n",
       "            genTrianglesPos: function* () {\n",
       "                let id = 0;\n",
       "                for (let row = 0; row < 4; row++) {\n",
       "                    let n_row = 2 * row + 1;\n",
       "                    for (let col = 0; col < n_row; col++) {\n",
       "                        let x = (col - row) * OFFSET_X;\n",
       "                        let flip = (id + row) % 2;\n",
       "                        let y = row * OFFSET_Y + ((flip == 1) ? -R/2 : 0);\n",
       "                        yield {id, x, y, flip, row, col, n_row};\n",
       "                        id++;\n",
       "                    }\n",
       "                }\n",
       "            },\n",
       "            drawTriangle: function (colors, x, y, rotation, flip=0) {\n",
       "                p.fill('#825201'); // wood color\n",
       "\n",
       "                let n = colors.length;\n",
       "                p.push();\n",
       "                p.translate(x, y);\n",
       "                p.rotate(-rotation * p.TWO_PI / 3 + flip * p.PI);\n",
       "                \n",
       "                p.triangle(..._getPoints(n, Math.PI / 6, R));\n",
       "\n",
       "                let circles = _getPoints(n, Math.PI / 2, 1.25 * CR);\n",
       "                for (let i = 0; i < n; i++) {\n",
       "                    let xx = circles[2*i];\n",
       "                    let yy = circles[2*i+1];\n",
       "                    let color = COLORS[colors[i]];\n",
       "                    p.fill(color);\n",
       "                    p.ellipse(xx, yy, CR);\n",
       "                }\n",
       "                p.pop();\n",
       "            }\n",
       "        };\n",
       "    };\n",
       "});"
      ],
      "text/plain": [
       "<IPython.core.display.Javascript object>"
      ]
     },
     "metadata": {},
     "output_type": "display_data"
    }
   ],
   "source": [
    "%%javascript\n",
    "\n",
    "defineModule('triangles', ['settings'], (settings) => {\n",
    "    let {COLORS, R, r, CR, OFFSET_X, OFFSET_Y} = settings;\n",
    "    \n",
    "    function _getPoints(n, startAngle, radius) {\n",
    "        let points = [];\n",
    "        let da = 2 * Math.PI / n;\n",
    "        for (let i = 0; i < n; i++) {\n",
    "            let angle = startAngle - i * da;\n",
    "            let x = radius * Math.cos(angle);\n",
    "            let y = radius * Math.sin(angle);\n",
    "            points.push(x);\n",
    "            points.push(y);\n",
    "        }\n",
    "        return points;\n",
    "    }\n",
    "    \n",
    "    return (p) => {\n",
    "        return {\n",
    "            genTrianglesPos: function* () {\n",
    "                let id = 0;\n",
    "                for (let row = 0; row < 4; row++) {\n",
    "                    let n_row = 2 * row + 1;\n",
    "                    for (let col = 0; col < n_row; col++) {\n",
    "                        let x = (col - row) * OFFSET_X;\n",
    "                        let flip = (id + row) % 2;\n",
    "                        let y = row * OFFSET_Y + ((flip == 1) ? -R/2 : 0);\n",
    "                        yield {id, x, y, flip, row, col, n_row};\n",
    "                        id++;\n",
    "                    }\n",
    "                }\n",
    "            },\n",
    "            drawTriangle: function (colors, x, y, rotation, flip=0) {\n",
    "                p.fill('#825201'); // wood color\n",
    "\n",
    "                let n = colors.length;\n",
    "                p.push();\n",
    "                p.translate(x, y);\n",
    "                p.rotate(-rotation * p.TWO_PI / 3 + flip * p.PI);\n",
    "                \n",
    "                p.triangle(..._getPoints(n, Math.PI / 6, R));\n",
    "\n",
    "                let circles = _getPoints(n, Math.PI / 2, 1.25 * CR);\n",
    "                for (let i = 0; i < n; i++) {\n",
    "                    let xx = circles[2*i];\n",
    "                    let yy = circles[2*i+1];\n",
    "                    let color = COLORS[colors[i]];\n",
    "                    p.fill(color);\n",
    "                    p.ellipse(xx, yy, CR);\n",
    "                }\n",
    "                p.pop();\n",
    "            }\n",
    "        };\n",
    "    };\n",
    "});"
   ]
  },
  {
   "cell_type": "markdown",
   "metadata": {},
   "source": [
    "### Static Board\n",
    "\n",
    "Let's start small and focus on drawing a static board. This is were the different modules defined above become useful, as we can now depend on them."
   ]
  },
  {
   "cell_type": "code",
   "execution_count": 11,
   "metadata": {},
   "outputs": [
    {
     "data": {
      "application/javascript": [
       "\n",
       "defineModule('staticBoard', ['settings', 'triangles'], (Settings, Triangles) => {\n",
       "    let {COLORS, R, CR, OFFSET_X, OFFSET_Y} = Settings;\n",
       "    \n",
       "    return (p) => {\n",
       "        let W = p.width;\n",
       "        let H = p.height;\n",
       "        let triangles = Triangles(p);\n",
       "        \n",
       "        function _drawStaticColors (board) {\n",
       "            for (let {id, x, y, row, col, n_row} of triangles.genTrianglesPos()) {\n",
       "                if (col === 0) {\n",
       "                    let left = COLORS[board.LEFT[row]];\n",
       "                    let right = COLORS[board.RIGHT[row]];\n",
       "                    p.fill(left);\n",
       "                    p.ellipse(x - OFFSET_X, y - R / 2, CR);\n",
       "                    p.fill(right);\n",
       "                    p.ellipse(x + n_row * OFFSET_X, y - R / 2, CR);\n",
       "                }\n",
       "                          \n",
       "                if (row === 3 && col % 2 == 0) {\n",
       "                    p.fill(COLORS[board.BOTTOM[parseInt(col / 2, 10)]]);\n",
       "                    p.ellipse(x, 3.75*OFFSET_Y, CR);\n",
       "                }\n",
       "            }\n",
       "        }\n",
       "        \n",
       "        return {\n",
       "            drawStaticColors: _drawStaticColors,\n",
       "            drawBoard: (boardName) => {\n",
       "                let board = window.kv[boardName];\n",
       "                let repr = board.repr;\n",
       "                \n",
       "                for (let {id, x, y, flip} of triangles.genTrianglesPos()) {\n",
       "                    let [a, b, c, rot] = repr[id];\n",
       "                    p.push();\n",
       "                    triangles.drawTriangle([a, b, c], x, y, rot, flip);\n",
       "                    p.pop();\n",
       "                }\n",
       "                \n",
       "                _drawStaticColors(board);\n",
       "            }\n",
       "        };\n",
       "    };\n",
       "});"
      ],
      "text/plain": [
       "<IPython.core.display.Javascript object>"
      ]
     },
     "metadata": {},
     "output_type": "display_data"
    }
   ],
   "source": [
    "%%javascript\n",
    "\n",
    "defineModule('staticBoard', ['settings', 'triangles'], (Settings, Triangles) => {\n",
    "    let {COLORS, R, CR, OFFSET_X, OFFSET_Y} = Settings;\n",
    "    \n",
    "    return (p) => {\n",
    "        let W = p.width;\n",
    "        let H = p.height;\n",
    "        let triangles = Triangles(p);\n",
    "        \n",
    "        function _drawStaticColors (board) {\n",
    "            for (let {id, x, y, row, col, n_row} of triangles.genTrianglesPos()) {\n",
    "                if (col === 0) {\n",
    "                    let left = COLORS[board.LEFT[row]];\n",
    "                    let right = COLORS[board.RIGHT[row]];\n",
    "                    p.fill(left);\n",
    "                    p.ellipse(x - OFFSET_X, y - R / 2, CR);\n",
    "                    p.fill(right);\n",
    "                    p.ellipse(x + n_row * OFFSET_X, y - R / 2, CR);\n",
    "                }\n",
    "                          \n",
    "                if (row === 3 && col % 2 == 0) {\n",
    "                    p.fill(COLORS[board.BOTTOM[parseInt(col / 2, 10)]]);\n",
    "                    p.ellipse(x, 3.75*OFFSET_Y, CR);\n",
    "                }\n",
    "            }\n",
    "        }\n",
    "        \n",
    "        return {\n",
    "            drawStaticColors: _drawStaticColors,\n",
    "            drawBoard: (boardName) => {\n",
    "                let board = window.kv[boardName];\n",
    "                let repr = board.repr;\n",
    "                \n",
    "                for (let {id, x, y, flip} of triangles.genTrianglesPos()) {\n",
    "                    let [a, b, c, rot] = repr[id];\n",
    "                    p.push();\n",
    "                    triangles.drawTriangle([a, b, c], x, y, rot, flip);\n",
    "                    p.pop();\n",
    "                }\n",
    "                \n",
    "                _drawStaticColors(board);\n",
    "            }\n",
    "        };\n",
    "    };\n",
    "});"
   ]
  },
  {
   "cell_type": "markdown",
   "metadata": {},
   "source": [
    "Creating the sketch is now just a matter of putting the previous pieces together:"
   ]
  },
  {
   "cell_type": "code",
   "execution_count": 12,
   "metadata": {
    "scrolled": false
   },
   "outputs": [
    {
     "data": {
      "application/javascript": [
       "\n",
       "window.drawStaticBoard = function (name, boardName, element) {\n",
       "    createSketch(element, name, ['staticBoard'], function (StaticBoard) {\n",
       "        let W = 400;\n",
       "        let H = 400;\n",
       "\n",
       "        return function(p) {\n",
       "            let staticBoard = StaticBoard(p);\n",
       "\n",
       "            p.setup = function(){\n",
       "                p.createCanvas(W, H);\n",
       "                p.noLoop();\n",
       "            }\n",
       "\n",
       "            p.draw = function () {\n",
       "                p.background('#ddd');\n",
       "                p.push();\n",
       "                p.translate(W / 2, H / 4);\n",
       "                staticBoard.drawBoard(boardName);\n",
       "                p.pop();\n",
       "            }\n",
       "        };\n",
       "    });\n",
       "}"
      ],
      "text/plain": [
       "<IPython.core.display.Javascript object>"
      ]
     },
     "metadata": {},
     "output_type": "display_data"
    }
   ],
   "source": [
    "%%javascript\n",
    "\n",
    "window.drawStaticBoard = function (name, boardName, element) {\n",
    "    createSketch(element, name, ['staticBoard'], function (StaticBoard) {\n",
    "        let W = 400;\n",
    "        let H = 400;\n",
    "\n",
    "        return function(p) {\n",
    "            let staticBoard = StaticBoard(p);\n",
    "\n",
    "            p.setup = function(){\n",
    "                p.createCanvas(W, H);\n",
    "                p.noLoop();\n",
    "            }\n",
    "\n",
    "            p.draw = function () {\n",
    "                p.background('#ddd');\n",
    "                p.push();\n",
    "                p.translate(W / 2, H / 4);\n",
    "                staticBoard.drawBoard(boardName);\n",
    "                p.pop();\n",
    "            }\n",
    "        };\n",
    "    });\n",
    "}"
   ]
  },
  {
   "cell_type": "code",
   "execution_count": 13,
   "metadata": {},
   "outputs": [
    {
     "data": {
      "application/javascript": [
       "window.kv.staticBoardTest = {\"TRIANGLES\": [[0, 1, 1], [0, 2, 3], [0, 2, 3], [0, 4, 1], [0, 4, 1], [0, 3, 5], [0, 5, 2], [0, 0, 1], [4, 3, 5], [4, 5, 3], [4, 5, 3], [4, 4, 3], [4, 3, 2], [4, 2, 1], [3, 5, 2], [1, 3, 2]], \"LEFT\": [0, 5, 0, 2], \"RIGHT\": [1, 5, 3, 4], \"BOTTOM\": [3, 3, 0, 3], \"repr\": [[0, 1, 1, 0], [0, 2, 3, 0], [0, 2, 3, 0], [0, 4, 1, 0], [0, 4, 1, 0], [0, 3, 5, 0], [0, 5, 2, 0], [0, 0, 1, 0], [4, 3, 5, 0], [4, 5, 3, 0], [4, 5, 3, 0], [4, 4, 3, 0], [4, 3, 2, 0], [4, 2, 1, 0], [3, 5, 2, 0], [1, 3, 2, 0]], \"permutation\": [[0, 0], [1, 0], [2, 0], [3, 0], [4, 0], [5, 0], [6, 0], [7, 0], [8, 0], [9, 0], [10, 0], [11, 0], [12, 0], [13, 0], [14, 0], [15, 0]], \"states\": []};"
      ],
      "text/plain": [
       "<IPython.core.display.Javascript object>"
      ]
     },
     "metadata": {},
     "output_type": "display_data"
    }
   ],
   "source": [
    "send_to_js('staticBoardTest', Permutation([i, 0] for i in range(N_TRIANGLES)))"
   ]
  },
  {
   "cell_type": "code",
   "execution_count": 14,
   "metadata": {
    "scrolled": false
   },
   "outputs": [
    {
     "data": {
      "application/javascript": [
       "\n",
       "drawStaticBoard('drawTriangles', 'staticBoardTest', element)"
      ],
      "text/plain": [
       "<IPython.core.display.Javascript object>"
      ]
     },
     "metadata": {},
     "output_type": "display_data"
    }
   ],
   "source": [
    "%%javascript\n",
    "\n",
    "drawStaticBoard('drawTriangles', 'staticBoardTest', element)"
   ]
  },
  {
   "cell_type": "markdown",
   "metadata": {},
   "source": [
    "### Rotating the triangles\n",
    "\n",
    "You must have noticed the magic `0` number as the last element of the triangle tuple.\n",
    "This number can take the values `[0, 1, 2]`. To make it simple, we order the three colors of the triangles from 0 to 2, with 0 corresponding to the color at the \"bottom\" of the triangle.\n",
    "\n",
    "Difficult to visualize? No problem, we can create a new sketch for that purpose!"
   ]
  },
  {
   "cell_type": "code",
   "execution_count": 15,
   "metadata": {},
   "outputs": [
    {
     "data": {
      "application/javascript": [
       "\n",
       "require.config({\n",
       "    paths: {\n",
       "        tween: 'https://cdnjs.cloudflare.com/ajax/libs/tween.js/17.1.1/Tween.min'\n",
       "    }\n",
       "});"
      ],
      "text/plain": [
       "<IPython.core.display.Javascript object>"
      ]
     },
     "metadata": {},
     "output_type": "display_data"
    }
   ],
   "source": [
    "%%javascript\n",
    "\n",
    "require.config({\n",
    "    paths: {\n",
    "        tween: 'https://cdnjs.cloudflare.com/ajax/libs/tween.js/17.1.1/Tween.min'\n",
    "    }\n",
    "});"
   ]
  },
  {
   "cell_type": "code",
   "execution_count": 16,
   "metadata": {},
   "outputs": [
    {
     "data": {
      "application/javascript": [
       "\n",
       "createSketch(element, 'rotate-triangle-demo', ['tween', 'triangles'], function (Tween, Triangles) {\n",
       "    let W = 300; let H = 150;\n",
       "    \n",
       "    return (p) => {\n",
       "        let obj = { angle: 0 };\n",
       "        let T = Triangles(p);\n",
       "        let rotateButton;\n",
       "        \n",
       "        let tweenGroup = new Tween.Group();\n",
       "        let t = new Tween.Tween(obj, tweenGroup)\n",
       "                    .to({angle: \"+\" + (p.TWO_PI / 3)}, 500)\n",
       "                    .easing(Tween.Easing.Quadratic.InOut)\n",
       "                    .onStart(() => t.running = true)\n",
       "                    .onComplete(() => t.running = false)\n",
       "        \n",
       "        function rotate () {\n",
       "            if (t.running) return;\n",
       "            t.start();\n",
       "        }\n",
       "\n",
       "        p.setup = function(){\n",
       "            p.createCanvas(W, H);\n",
       "            rotateButton = p.createButton('Rotate');\n",
       "            rotateButton.style('color', '#000');\n",
       "            rotateButton.mousePressed(rotate);\n",
       "            rotateButton.position(150, 10);\n",
       "        }\n",
       "\n",
       "        p.draw = function () {\n",
       "            tweenGroup.update();\n",
       "            p.background('#ddd');\n",
       "            p.translate(W / 3, H / 2);\n",
       "            p.push();\n",
       "            p.rotate(obj.angle);\n",
       "            T.drawTriangle([0, 1, 2], 0);\n",
       "            p.pop();\n",
       "            p.push();\n",
       "            p.translate(W / 3, 0);\n",
       "            p.rotate(-obj.angle);\n",
       "            T.drawTriangle([3, 4, 5], 0);\n",
       "            p.pop();\n",
       "        }\n",
       "    };\n",
       "});"
      ],
      "text/plain": [
       "<IPython.core.display.Javascript object>"
      ]
     },
     "metadata": {},
     "output_type": "display_data"
    }
   ],
   "source": [
    "%%javascript\n",
    "\n",
    "createSketch(element, 'rotate-triangle-demo', ['tween', 'triangles'], function (Tween, Triangles) {\n",
    "    let W = 300; let H = 150;\n",
    "    \n",
    "    return (p) => {\n",
    "        let obj = { angle: 0 };\n",
    "        let T = Triangles(p);\n",
    "        let rotateButton;\n",
    "        \n",
    "        let tweenGroup = new Tween.Group();\n",
    "        let t = new Tween.Tween(obj, tweenGroup)\n",
    "                    .to({angle: \"+\" + (p.TWO_PI / 3)}, 500)\n",
    "                    .easing(Tween.Easing.Quadratic.InOut)\n",
    "                    .onStart(() => t.running = true)\n",
    "                    .onComplete(() => t.running = false)\n",
    "        \n",
    "        function rotate () {\n",
    "            if (t.running) return;\n",
    "            t.start();\n",
    "        }\n",
    "\n",
    "        p.setup = function(){\n",
    "            p.createCanvas(W, H);\n",
    "            rotateButton = p.createButton('Rotate');\n",
    "            rotateButton.style('color', '#000');\n",
    "            rotateButton.mousePressed(rotate);\n",
    "            rotateButton.position(150, 10);\n",
    "        }\n",
    "\n",
    "        p.draw = function () {\n",
    "            tweenGroup.update();\n",
    "            p.background('#ddd');\n",
    "            p.translate(W / 3, H / 2);\n",
    "            p.push();\n",
    "            p.rotate(obj.angle);\n",
    "            T.drawTriangle([0, 1, 2], 0);\n",
    "            p.pop();\n",
    "            p.push();\n",
    "            p.translate(W / 3, 0);\n",
    "            p.rotate(-obj.angle);\n",
    "            T.drawTriangle([3, 4, 5], 0);\n",
    "            p.pop();\n",
    "        }\n",
    "    };\n",
    "});"
   ]
  },
  {
   "cell_type": "markdown",
   "metadata": {},
   "source": [
    "### Animated Board\n",
    "\n",
    "It would be more interesting to actually visualize the entire solving process in an animated fashion.\n",
    "\n",
    "Similar to the previous examples, we can define a new require module called `animatedBoard`."
   ]
  },
  {
   "cell_type": "code",
   "execution_count": 17,
   "metadata": {},
   "outputs": [
    {
     "data": {
      "application/javascript": [
       "\n",
       "defineModule('animatedBoard',\n",
       "             ['settings', 'staticBoard', 'triangles', 'tween'],\n",
       "             (Settings, StaticBoard, Triangles, Tween) => {\n",
       "    \n",
       "    let {N_TRIANGLES} = Settings;\n",
       "    \n",
       "    return (p) => {\n",
       "        let tweenGroup = new Tween.Group();\n",
       "        let globalTime = 0;\n",
       "        \n",
       "        let staticBoard = StaticBoard(p);\n",
       "        let triangles = Triangles(p);\n",
       "        \n",
       "        let [it, animationSpeed, baseSpeed, step] = [0, 1000, 1000, 1];\n",
       "        let board = null;\n",
       "        \n",
       "        // pre-compute the positions of the triangles\n",
       "        let triangleGen = triangles.genTrianglesPos();\n",
       "        let pos = _.range(N_TRIANGLES).map(i => _.pick(triangleGen.next().value, ['x', 'y', 'flip']));\n",
       "        let start = _.range(N_TRIANGLES).map(i => ({x: 0, y: 0, r: 0, f: 0}));\n",
       "        let end = _.range(N_TRIANGLES).map(i => ({x: 0, y: 0, r: 0, f: 0}));\n",
       "        let moving = [];\n",
       "\n",
       "        function transitionState(curr) {\n",
       "            let states = board.states;\n",
       "            let [from, to] = [states[curr], states[curr + 1]];\n",
       "            _.range(N_TRIANGLES).forEach(i => {\n",
       "                _.assign(start[i], {x: pos[i].x, y: pos[i].y, r: from[i][1], f: pos[i].flip});\n",
       "                let pp = i;\n",
       "                if (from[i][0] !== to[i][0]) {\n",
       "                    pp = states[curr + 1].findIndex((e) => e[0] === from[i][0]);\n",
       "                }\n",
       "                _.assign(end[i], {x: pos[pp].x, y: pos[pp].y, r: to[pp][1], f: pos[pp].flip});\n",
       "            });\n",
       "\n",
       "            moving = [];\n",
       "            start.forEach((a, i) => {\n",
       "                let b = end[i];\n",
       "                if (a.x != b.x || a.y != b.y || a.r != b.r) {\n",
       "                    moving.push(i);\n",
       "                    new Tween.Tween(a, tweenGroup)\n",
       "                        .to({x: b.x, y: b.y, r: b.r, f: b.f}, animationSpeed)\n",
       "                        .easing(Tween.Easing.Quadratic.InOut)\n",
       "                        .start(globalTime)\n",
       "                }\n",
       "            });\n",
       "            \n",
       "            new Tween.Tween({t: 0}, tweenGroup)\n",
       "                .to({t: animationSpeed}, animationSpeed)\n",
       "                .onComplete(() => {\n",
       "                    if (it >= states.length - 2) return;\n",
       "                    updateIterationNumber(it+1);\n",
       "                    transitionState(curr + Math.min(step, states.length - it - 1));\n",
       "                })\n",
       "                .start(globalTime);\n",
       "            \n",
       "        }\n",
       "        \n",
       "        // controls\n",
       "        let playButton;\n",
       "        let running = true;\n",
       "        let iterationNumber;\n",
       "        \n",
       "        function updateIterationNumber(newIt) {\n",
       "            it = newIt;\n",
       "            iterationNumber.value(it);\n",
       "        }\n",
       "        \n",
       "        function setState(stateId) {\n",
       "            tweenGroup.removeAll();\n",
       "            it = Math.max(0, Math.min(stateId, board.states.length - 2));\n",
       "            updateIterationNumber(it);\n",
       "            transitionState(it);\n",
       "            running = false;\n",
       "        }\n",
       "\n",
       "        return {\n",
       "            init: (boardName) => {\n",
       "                board = window.kv[boardName];\n",
       "                playButton = p.createButton('❚❚');\n",
       "                playButton.style('color', '#000');\n",
       "                playButton.style('width', '50px');\n",
       "                playButton.mousePressed(() => running = !running);\n",
       "                playButton.position(200, 10);\n",
       "                \n",
       "                let prevButton = p.createButton('◄');\n",
       "                prevButton.style('color', '#000');\n",
       "                prevButton.style('width', '50px');\n",
       "                prevButton.mousePressed(() => setState(it-1));\n",
       "                prevButton.position(150, 10);\n",
       "                \n",
       "                let nextButton = p.createButton('►');\n",
       "                nextButton.style('color', '#000');\n",
       "                nextButton.style('width', '50px');\n",
       "                nextButton.mousePressed(() => setState(it+1));\n",
       "                nextButton.position(250, 10);\n",
       "                \n",
       "                _.range(3).forEach(i => {\n",
       "                    let speedRatio = Math.pow(10, i);\n",
       "                    let speedButton = p.createButton(`x${speedRatio}`);\n",
       "                    speedButton.position(150 + 50 * i, 40);\n",
       "                    speedButton.style('width', '50px');\n",
       "                    speedButton.style('color', '#000');\n",
       "                    speedButton.mousePressed(() => animationSpeed = baseSpeed / speedRatio);\n",
       "                });\n",
       "                \n",
       "                let iterationText = p.createElement('div', 'Iteration:');\n",
       "                iterationText.position(150, 80);\n",
       "                iterationText.style('width', '60px');\n",
       "                iterationText.style('color', '#fff');\n",
       "                \n",
       "                iterationNumber = p.createInput();\n",
       "                iterationNumber.position(210, 80);\n",
       "                iterationNumber.style('width', '50px');\n",
       "                iterationNumber.style('color', '#000');\n",
       "                \n",
       "                let iterationSubmit = p.createButton('Set');\n",
       "                iterationSubmit.position(260, 80);\n",
       "                iterationSubmit.style('width', '40px');\n",
       "                iterationSubmit.style('color', '#000');\n",
       "                iterationSubmit.mousePressed(() => setState(parseInt(iterationNumber.value(), 10) || 0));\n",
       "                \n",
       "            },\n",
       "            startAnimation: (startIteration, speed) => {\n",
       "                it = startIteration;\n",
       "                baseSpeed = speed;\n",
       "                animationSpeed = speed;\n",
       "                transitionState(0);\n",
       "            },\n",
       "            draw: () => {\n",
       "                playButton.html(running ? '❚❚' : '►');\n",
       "                if (running) {\n",
       "                    tweenGroup.update(globalTime);  \n",
       "                    globalTime += Math.min(1000 / p.frameRate(), 33);\n",
       "                }\n",
       "                \n",
       "                p.fill('#000');\n",
       "                p.textSize(24);\n",
       "                p.text(`Iteration: ${it}`, 10, 30);\n",
       "                \n",
       "                p.translate(p.width / 2, p.height / 4);\n",
       "                let allTriangles = _.range(N_TRIANGLES);\n",
       "                let staticTriangles = _.difference(allTriangles, moving);\n",
       "                [staticTriangles, moving].forEach(bucket => {\n",
       "                    bucket.forEach(id => {\n",
       "                        let [triangleId, rot] = board.states[it][id];\n",
       "                        let [a, b, c] = board.TRIANGLES[triangleId];\n",
       "                        let {x, y, r, f} = start[id];\n",
       "                        p.push();\n",
       "                        triangles.drawTriangle([a, b, c], x, y, r, f);\n",
       "                        p.pop();\n",
       "                    });\n",
       "                });\n",
       "                staticBoard.drawStaticColors(board);\n",
       "            }\n",
       "        }\n",
       "    };\n",
       "});"
      ],
      "text/plain": [
       "<IPython.core.display.Javascript object>"
      ]
     },
     "metadata": {},
     "output_type": "display_data"
    }
   ],
   "source": [
    "%%javascript\n",
    "\n",
    "defineModule('animatedBoard',\n",
    "             ['settings', 'staticBoard', 'triangles', 'tween'],\n",
    "             (Settings, StaticBoard, Triangles, Tween) => {\n",
    "    \n",
    "    let {N_TRIANGLES} = Settings;\n",
    "    \n",
    "    return (p) => {\n",
    "        let tweenGroup = new Tween.Group();\n",
    "        let globalTime = 0;\n",
    "        \n",
    "        let staticBoard = StaticBoard(p);\n",
    "        let triangles = Triangles(p);\n",
    "        \n",
    "        let [it, animationSpeed, baseSpeed, step] = [0, 1000, 1000, 1];\n",
    "        let board = null;\n",
    "        \n",
    "        // pre-compute the positions of the triangles\n",
    "        let triangleGen = triangles.genTrianglesPos();\n",
    "        let pos = _.range(N_TRIANGLES).map(i => _.pick(triangleGen.next().value, ['x', 'y', 'flip']));\n",
    "        let start = _.range(N_TRIANGLES).map(i => ({x: 0, y: 0, r: 0, f: 0}));\n",
    "        let end = _.range(N_TRIANGLES).map(i => ({x: 0, y: 0, r: 0, f: 0}));\n",
    "        let moving = [];\n",
    "\n",
    "        function transitionState(curr) {\n",
    "            let states = board.states;\n",
    "            let [from, to] = [states[curr], states[curr + 1]];\n",
    "            _.range(N_TRIANGLES).forEach(i => {\n",
    "                _.assign(start[i], {x: pos[i].x, y: pos[i].y, r: from[i][1], f: pos[i].flip});\n",
    "                let pp = i;\n",
    "                if (from[i][0] !== to[i][0]) {\n",
    "                    pp = states[curr + 1].findIndex((e) => e[0] === from[i][0]);\n",
    "                }\n",
    "                _.assign(end[i], {x: pos[pp].x, y: pos[pp].y, r: to[pp][1], f: pos[pp].flip});\n",
    "            });\n",
    "\n",
    "            moving = [];\n",
    "            start.forEach((a, i) => {\n",
    "                let b = end[i];\n",
    "                if (a.x != b.x || a.y != b.y || a.r != b.r) {\n",
    "                    moving.push(i);\n",
    "                    new Tween.Tween(a, tweenGroup)\n",
    "                        .to({x: b.x, y: b.y, r: b.r, f: b.f}, animationSpeed)\n",
    "                        .easing(Tween.Easing.Quadratic.InOut)\n",
    "                        .start(globalTime)\n",
    "                }\n",
    "            });\n",
    "            \n",
    "            new Tween.Tween({t: 0}, tweenGroup)\n",
    "                .to({t: animationSpeed}, animationSpeed)\n",
    "                .onComplete(() => {\n",
    "                    if (it >= states.length - 2) return;\n",
    "                    updateIterationNumber(it+1);\n",
    "                    transitionState(curr + Math.min(step, states.length - it - 1));\n",
    "                })\n",
    "                .start(globalTime);\n",
    "            \n",
    "        }\n",
    "        \n",
    "        // controls\n",
    "        let playButton;\n",
    "        let running = true;\n",
    "        let iterationNumber;\n",
    "        \n",
    "        function updateIterationNumber(newIt) {\n",
    "            it = newIt;\n",
    "            iterationNumber.value(it);\n",
    "        }\n",
    "        \n",
    "        function setState(stateId) {\n",
    "            tweenGroup.removeAll();\n",
    "            it = Math.max(0, Math.min(stateId, board.states.length - 2));\n",
    "            updateIterationNumber(it);\n",
    "            transitionState(it);\n",
    "            running = false;\n",
    "        }\n",
    "\n",
    "        return {\n",
    "            init: (boardName) => {\n",
    "                board = window.kv[boardName];\n",
    "                playButton = p.createButton('❚❚');\n",
    "                playButton.style('color', '#000');\n",
    "                playButton.style('width', '50px');\n",
    "                playButton.mousePressed(() => running = !running);\n",
    "                playButton.position(200, 10);\n",
    "                \n",
    "                let prevButton = p.createButton('◄');\n",
    "                prevButton.style('color', '#000');\n",
    "                prevButton.style('width', '50px');\n",
    "                prevButton.mousePressed(() => setState(it-1));\n",
    "                prevButton.position(150, 10);\n",
    "                \n",
    "                let nextButton = p.createButton('►');\n",
    "                nextButton.style('color', '#000');\n",
    "                nextButton.style('width', '50px');\n",
    "                nextButton.mousePressed(() => setState(it+1));\n",
    "                nextButton.position(250, 10);\n",
    "                \n",
    "                _.range(3).forEach(i => {\n",
    "                    let speedRatio = Math.pow(10, i);\n",
    "                    let speedButton = p.createButton(`x${speedRatio}`);\n",
    "                    speedButton.position(150 + 50 * i, 40);\n",
    "                    speedButton.style('width', '50px');\n",
    "                    speedButton.style('color', '#000');\n",
    "                    speedButton.mousePressed(() => animationSpeed = baseSpeed / speedRatio);\n",
    "                });\n",
    "                \n",
    "                let iterationText = p.createElement('div', 'Iteration:');\n",
    "                iterationText.position(150, 80);\n",
    "                iterationText.style('width', '60px');\n",
    "                iterationText.style('color', '#fff');\n",
    "                \n",
    "                iterationNumber = p.createInput();\n",
    "                iterationNumber.position(210, 80);\n",
    "                iterationNumber.style('width', '50px');\n",
    "                iterationNumber.style('color', '#000');\n",
    "                \n",
    "                let iterationSubmit = p.createButton('Set');\n",
    "                iterationSubmit.position(260, 80);\n",
    "                iterationSubmit.style('width', '40px');\n",
    "                iterationSubmit.style('color', '#000');\n",
    "                iterationSubmit.mousePressed(() => setState(parseInt(iterationNumber.value(), 10) || 0));\n",
    "                \n",
    "            },\n",
    "            startAnimation: (startIteration, speed) => {\n",
    "                it = startIteration;\n",
    "                baseSpeed = speed;\n",
    "                animationSpeed = speed;\n",
    "                transitionState(0);\n",
    "            },\n",
    "            draw: () => {\n",
    "                playButton.html(running ? '❚❚' : '►');\n",
    "                if (running) {\n",
    "                    tweenGroup.update(globalTime);  \n",
    "                    globalTime += Math.min(1000 / p.frameRate(), 33);\n",
    "                }\n",
    "                \n",
    "                p.fill('#000');\n",
    "                p.textSize(24);\n",
    "                p.text(`Iteration: ${it}`, 10, 30);\n",
    "                \n",
    "                p.translate(p.width / 2, p.height / 4);\n",
    "                let allTriangles = _.range(N_TRIANGLES);\n",
    "                let staticTriangles = _.difference(allTriangles, moving);\n",
    "                [staticTriangles, moving].forEach(bucket => {\n",
    "                    bucket.forEach(id => {\n",
    "                        let [triangleId, rot] = board.states[it][id];\n",
    "                        let [a, b, c] = board.TRIANGLES[triangleId];\n",
    "                        let {x, y, r, f} = start[id];\n",
    "                        p.push();\n",
    "                        triangles.drawTriangle([a, b, c], x, y, r, f);\n",
    "                        p.pop();\n",
    "                    });\n",
    "                });\n",
    "                staticBoard.drawStaticColors(board);\n",
    "            }\n",
    "        }\n",
    "    };\n",
    "});"
   ]
  },
  {
   "cell_type": "code",
   "execution_count": 18,
   "metadata": {},
   "outputs": [
    {
     "data": {
      "application/javascript": [
       "\n",
       "window.animateBoard = function (name, boardName, element, startIteration=0, speed=1000) {\n",
       "    createSketch(element, name, ['animatedBoard'], (AnimatedBoard) => {\n",
       "        let W = 400; let H = 400;\n",
       "\n",
       "        return function(p) {\n",
       "            let board = AnimatedBoard(p);\n",
       "            \n",
       "            p.setup = function () {\n",
       "                p.createCanvas(W, H);\n",
       "                board.init(boardName);\n",
       "                board.startAnimation(startIteration, speed);\n",
       "            }\n",
       "\n",
       "            p.draw = function () {\n",
       "                p.background('#ddd');\n",
       "                board.draw();\n",
       "            }\n",
       "        };\n",
       "    });\n",
       "}"
      ],
      "text/plain": [
       "<IPython.core.display.Javascript object>"
      ]
     },
     "metadata": {},
     "output_type": "display_data"
    }
   ],
   "source": [
    "%%javascript\n",
    "\n",
    "window.animateBoard = function (name, boardName, element, startIteration=0, speed=1000) {\n",
    "    createSketch(element, name, ['animatedBoard'], (AnimatedBoard) => {\n",
    "        let W = 400; let H = 400;\n",
    "\n",
    "        return function(p) {\n",
    "            let board = AnimatedBoard(p);\n",
    "            \n",
    "            p.setup = function () {\n",
    "                p.createCanvas(W, H);\n",
    "                board.init(boardName);\n",
    "                board.startAnimation(startIteration, speed);\n",
    "            }\n",
    "\n",
    "            p.draw = function () {\n",
    "                p.background('#ddd');\n",
    "                board.draw();\n",
    "            }\n",
    "        };\n",
    "    });\n",
    "}"
   ]
  },
  {
   "cell_type": "markdown",
   "metadata": {},
   "source": [
    "Let's create a test Permutation for testing."
   ]
  },
  {
   "cell_type": "code",
   "execution_count": 19,
   "metadata": {},
   "outputs": [
    {
     "data": {
      "application/javascript": [
       "window.kv.testAnimatedBoard = {\"TRIANGLES\": [[0, 1, 1], [0, 2, 3], [0, 2, 3], [0, 4, 1], [0, 4, 1], [0, 3, 5], [0, 5, 2], [0, 0, 1], [4, 3, 5], [4, 5, 3], [4, 5, 3], [4, 4, 3], [4, 3, 2], [4, 2, 1], [3, 5, 2], [1, 3, 2]], \"LEFT\": [0, 5, 0, 2], \"RIGHT\": [1, 5, 3, 4], \"BOTTOM\": [3, 3, 0, 3], \"repr\": [[0, 1, 1, 0], [0, 2, 3, 0], [0, 2, 3, 0], [0, 4, 1, 0], [0, 4, 1, 0], [0, 3, 5, 0], [0, 5, 2, 0], [0, 0, 1, 0], [4, 3, 5, 0], [4, 5, 3, 0], [4, 5, 3, 0], [4, 4, 3, 0], [4, 3, 2, 0], [4, 2, 1, 0], [3, 5, 2, 0], [1, 3, 2, 0]], \"permutation\": [[0, 0], [1, 0], [2, 0], [3, 0], [4, 0], [5, 0], [6, 0], [7, 0], [8, 0], [9, 0], [10, 0], [11, 0], [12, 0], [13, 0], [14, 0], [15, 0]], \"states\": [[[7, 1], [3, 0], [11, 1], [8, 1], [0, 1], [15, 0], [1, 1], [12, 1], [10, 0], [14, 0], [13, 1], [5, 1], [4, 1], [2, 0], [9, 0], [6, 1]], [[7, 1], [3, 0], [11, 1], [8, 1], [0, 1], [15, 0], [1, 1], [12, 1], [10, 0], [14, 0], [13, 1], [5, 1], [4, 1], [6, 0], [9, 0], [2, 0]], [[7, 1], [3, 0], [11, 1], [8, 1], [0, 1], [15, 0], [14, 0], [12, 1], [10, 0], [1, 1], [13, 1], [5, 1], [4, 1], [6, 0], [9, 0], [2, 0]], [[3, 2], [7, 1], [11, 1], [8, 1], [0, 1], [15, 0], [14, 0], [12, 1], [10, 0], [1, 1], [13, 1], [5, 1], [4, 1], [6, 0], [9, 0], [2, 0]], [[3, 2], [4, 0], [11, 1], [8, 1], [0, 1], [15, 0], [14, 0], [12, 1], [10, 0], [1, 1], [13, 1], [5, 1], [7, 0], [6, 0], [9, 0], [2, 0]], [[7, 1], [3, 0], [11, 1], [8, 1], [0, 1], [15, 0], [1, 1], [12, 1], [10, 0], [14, 0], [13, 1], [5, 1], [4, 1], [2, 0], [9, 0], [6, 1]], [[7, 1], [3, 0], [11, 1], [8, 1], [0, 1], [15, 0], [1, 1], [12, 1], [10, 0], [14, 0], [13, 1], [5, 1], [4, 1], [6, 0], [9, 0], [2, 0]], [[7, 1], [3, 0], [11, 1], [8, 1], [0, 1], [15, 0], [14, 0], [12, 1], [10, 0], [1, 1], [13, 1], [5, 1], [4, 1], [6, 0], [9, 0], [2, 0]], [[3, 2], [7, 1], [11, 1], [8, 1], [0, 1], [15, 0], [14, 0], [12, 1], [10, 0], [1, 1], [13, 1], [5, 1], [4, 1], [6, 0], [9, 0], [2, 0]], [[3, 2], [4, 0], [11, 1], [8, 1], [0, 1], [15, 0], [14, 0], [12, 1], [10, 0], [1, 1], [13, 1], [5, 1], [7, 0], [6, 0], [9, 0], [2, 0]], [[7, 1], [3, 0], [11, 1], [8, 1], [0, 1], [15, 0], [1, 1], [12, 1], [10, 0], [14, 0], [13, 1], [5, 1], [4, 1], [2, 0], [9, 0], [6, 1]], [[7, 1], [3, 0], [11, 1], [8, 1], [0, 1], [15, 0], [1, 1], [12, 1], [10, 0], [14, 0], [13, 1], [5, 1], [4, 1], [6, 0], [9, 0], [2, 0]], [[7, 1], [3, 0], [11, 1], [8, 1], [0, 1], [15, 0], [14, 0], [12, 1], [10, 0], [1, 1], [13, 1], [5, 1], [4, 1], [6, 0], [9, 0], [2, 0]], [[3, 2], [7, 1], [11, 1], [8, 1], [0, 1], [15, 0], [14, 0], [12, 1], [10, 0], [1, 1], [13, 1], [5, 1], [4, 1], [6, 0], [9, 0], [2, 0]], [[3, 2], [4, 0], [11, 1], [8, 1], [0, 1], [15, 0], [14, 0], [12, 1], [10, 0], [1, 1], [13, 1], [5, 1], [7, 0], [6, 0], [9, 0], [2, 0]], [[7, 1], [3, 0], [11, 1], [8, 1], [0, 1], [15, 0], [1, 1], [12, 1], [10, 0], [14, 0], [13, 1], [5, 1], [4, 1], [2, 0], [9, 0], [6, 1]], [[7, 1], [3, 0], [11, 1], [8, 1], [0, 1], [15, 0], [1, 1], [12, 1], [10, 0], [14, 0], [13, 1], [5, 1], [4, 1], [6, 0], [9, 0], [2, 0]], [[7, 1], [3, 0], [11, 1], [8, 1], [0, 1], [15, 0], [14, 0], [12, 1], [10, 0], [1, 1], [13, 1], [5, 1], [4, 1], [6, 0], [9, 0], [2, 0]], [[3, 2], [7, 1], [11, 1], [8, 1], [0, 1], [15, 0], [14, 0], [12, 1], [10, 0], [1, 1], [13, 1], [5, 1], [4, 1], [6, 0], [9, 0], [2, 0]], [[3, 2], [4, 0], [11, 1], [8, 1], [0, 1], [15, 0], [14, 0], [12, 1], [10, 0], [1, 1], [13, 1], [5, 1], [7, 0], [6, 0], [9, 0], [2, 0]], [[7, 1], [3, 0], [11, 1], [8, 1], [0, 1], [15, 0], [1, 1], [12, 1], [10, 0], [14, 0], [13, 1], [5, 1], [4, 1], [2, 0], [9, 0], [6, 1]], [[7, 1], [3, 0], [11, 1], [8, 1], [0, 1], [15, 0], [1, 1], [12, 1], [10, 0], [14, 0], [13, 1], [5, 1], [4, 1], [6, 0], [9, 0], [2, 0]], [[7, 1], [3, 0], [11, 1], [8, 1], [0, 1], [15, 0], [14, 0], [12, 1], [10, 0], [1, 1], [13, 1], [5, 1], [4, 1], [6, 0], [9, 0], [2, 0]], [[3, 2], [7, 1], [11, 1], [8, 1], [0, 1], [15, 0], [14, 0], [12, 1], [10, 0], [1, 1], [13, 1], [5, 1], [4, 1], [6, 0], [9, 0], [2, 0]], [[3, 2], [4, 0], [11, 1], [8, 1], [0, 1], [15, 0], [14, 0], [12, 1], [10, 0], [1, 1], [13, 1], [5, 1], [7, 0], [6, 0], [9, 0], [2, 0]], [[7, 1], [3, 0], [11, 1], [8, 1], [0, 1], [15, 0], [1, 1], [12, 1], [10, 0], [14, 0], [13, 1], [5, 1], [4, 1], [2, 0], [9, 0], [6, 1]], [[7, 1], [3, 0], [11, 1], [8, 1], [0, 1], [15, 0], [1, 1], [12, 1], [10, 0], [14, 0], [13, 1], [5, 1], [4, 1], [6, 0], [9, 0], [2, 0]], [[7, 1], [3, 0], [11, 1], [8, 1], [0, 1], [15, 0], [14, 0], [12, 1], [10, 0], [1, 1], [13, 1], [5, 1], [4, 1], [6, 0], [9, 0], [2, 0]], [[3, 2], [7, 1], [11, 1], [8, 1], [0, 1], [15, 0], [14, 0], [12, 1], [10, 0], [1, 1], [13, 1], [5, 1], [4, 1], [6, 0], [9, 0], [2, 0]], [[3, 2], [4, 0], [11, 1], [8, 1], [0, 1], [15, 0], [14, 0], [12, 1], [10, 0], [1, 1], [13, 1], [5, 1], [7, 0], [6, 0], [9, 0], [2, 0]], [[7, 1], [3, 0], [11, 1], [8, 1], [0, 1], [15, 0], [1, 1], [12, 1], [10, 0], [14, 0], [13, 1], [5, 1], [4, 1], [2, 0], [9, 0], [6, 1]], [[7, 1], [3, 0], [11, 1], [8, 1], [0, 1], [15, 0], [1, 1], [12, 1], [10, 0], [14, 0], [13, 1], [5, 1], [4, 1], [6, 0], [9, 0], [2, 0]], [[7, 1], [3, 0], [11, 1], [8, 1], [0, 1], [15, 0], [14, 0], [12, 1], [10, 0], [1, 1], [13, 1], [5, 1], [4, 1], [6, 0], [9, 0], [2, 0]], [[3, 2], [7, 1], [11, 1], [8, 1], [0, 1], [15, 0], [14, 0], [12, 1], [10, 0], [1, 1], [13, 1], [5, 1], [4, 1], [6, 0], [9, 0], [2, 0]], [[3, 2], [4, 0], [11, 1], [8, 1], [0, 1], [15, 0], [14, 0], [12, 1], [10, 0], [1, 1], [13, 1], [5, 1], [7, 0], [6, 0], [9, 0], [2, 0]], [[7, 1], [3, 0], [11, 1], [8, 1], [0, 1], [15, 0], [1, 1], [12, 1], [10, 0], [14, 0], [13, 1], [5, 1], [4, 1], [2, 0], [9, 0], [6, 1]], [[7, 1], [3, 0], [11, 1], [8, 1], [0, 1], [15, 0], [1, 1], [12, 1], [10, 0], [14, 0], [13, 1], [5, 1], [4, 1], [6, 0], [9, 0], [2, 0]], [[7, 1], [3, 0], [11, 1], [8, 1], [0, 1], [15, 0], [14, 0], [12, 1], [10, 0], [1, 1], [13, 1], [5, 1], [4, 1], [6, 0], [9, 0], [2, 0]], [[3, 2], [7, 1], [11, 1], [8, 1], [0, 1], [15, 0], [14, 0], [12, 1], [10, 0], [1, 1], [13, 1], [5, 1], [4, 1], [6, 0], [9, 0], [2, 0]], [[3, 2], [4, 0], [11, 1], [8, 1], [0, 1], [15, 0], [14, 0], [12, 1], [10, 0], [1, 1], [13, 1], [5, 1], [7, 0], [6, 0], [9, 0], [2, 0]], [[7, 1], [3, 0], [11, 1], [8, 1], [0, 1], [15, 0], [1, 1], [12, 1], [10, 0], [14, 0], [13, 1], [5, 1], [4, 1], [2, 0], [9, 0], [6, 1]], [[7, 1], [3, 0], [11, 1], [8, 1], [0, 1], [15, 0], [1, 1], [12, 1], [10, 0], [14, 0], [13, 1], [5, 1], [4, 1], [6, 0], [9, 0], [2, 0]], [[7, 1], [3, 0], [11, 1], [8, 1], [0, 1], [15, 0], [14, 0], [12, 1], [10, 0], [1, 1], [13, 1], [5, 1], [4, 1], [6, 0], [9, 0], [2, 0]], [[3, 2], [7, 1], [11, 1], [8, 1], [0, 1], [15, 0], [14, 0], [12, 1], [10, 0], [1, 1], [13, 1], [5, 1], [4, 1], [6, 0], [9, 0], [2, 0]], [[3, 2], [4, 0], [11, 1], [8, 1], [0, 1], [15, 0], [14, 0], [12, 1], [10, 0], [1, 1], [13, 1], [5, 1], [7, 0], [6, 0], [9, 0], [2, 0]], [[7, 1], [3, 0], [11, 1], [8, 1], [0, 1], [15, 0], [1, 1], [12, 1], [10, 0], [14, 0], [13, 1], [5, 1], [4, 1], [2, 0], [9, 0], [6, 1]], [[7, 1], [3, 0], [11, 1], [8, 1], [0, 1], [15, 0], [1, 1], [12, 1], [10, 0], [14, 0], [13, 1], [5, 1], [4, 1], [6, 0], [9, 0], [2, 0]], [[7, 1], [3, 0], [11, 1], [8, 1], [0, 1], [15, 0], [14, 0], [12, 1], [10, 0], [1, 1], [13, 1], [5, 1], [4, 1], [6, 0], [9, 0], [2, 0]], [[3, 2], [7, 1], [11, 1], [8, 1], [0, 1], [15, 0], [14, 0], [12, 1], [10, 0], [1, 1], [13, 1], [5, 1], [4, 1], [6, 0], [9, 0], [2, 0]], [[3, 2], [4, 0], [11, 1], [8, 1], [0, 1], [15, 0], [14, 0], [12, 1], [10, 0], [1, 1], [13, 1], [5, 1], [7, 0], [6, 0], [9, 0], [2, 0]], [[7, 1], [3, 0], [11, 1], [8, 1], [0, 1], [15, 0], [1, 1], [12, 1], [10, 0], [14, 0], [13, 1], [5, 1], [4, 1], [2, 0], [9, 0], [6, 1]], [[7, 1], [3, 0], [11, 1], [8, 1], [0, 1], [15, 0], [1, 1], [12, 1], [10, 0], [14, 0], [13, 1], [5, 1], [4, 1], [6, 0], [9, 0], [2, 0]], [[7, 1], [3, 0], [11, 1], [8, 1], [0, 1], [15, 0], [14, 0], [12, 1], [10, 0], [1, 1], [13, 1], [5, 1], [4, 1], [6, 0], [9, 0], [2, 0]], [[3, 2], [7, 1], [11, 1], [8, 1], [0, 1], [15, 0], [14, 0], [12, 1], [10, 0], [1, 1], [13, 1], [5, 1], [4, 1], [6, 0], [9, 0], [2, 0]], [[3, 2], [4, 0], [11, 1], [8, 1], [0, 1], [15, 0], [14, 0], [12, 1], [10, 0], [1, 1], [13, 1], [5, 1], [7, 0], [6, 0], [9, 0], [2, 0]], [[7, 1], [3, 0], [11, 1], [8, 1], [0, 1], [15, 0], [1, 1], [12, 1], [10, 0], [14, 0], [13, 1], [5, 1], [4, 1], [2, 0], [9, 0], [6, 1]], [[7, 1], [3, 0], [11, 1], [8, 1], [0, 1], [15, 0], [1, 1], [12, 1], [10, 0], [14, 0], [13, 1], [5, 1], [4, 1], [6, 0], [9, 0], [2, 0]], [[7, 1], [3, 0], [11, 1], [8, 1], [0, 1], [15, 0], [14, 0], [12, 1], [10, 0], [1, 1], [13, 1], [5, 1], [4, 1], [6, 0], [9, 0], [2, 0]], [[3, 2], [7, 1], [11, 1], [8, 1], [0, 1], [15, 0], [14, 0], [12, 1], [10, 0], [1, 1], [13, 1], [5, 1], [4, 1], [6, 0], [9, 0], [2, 0]], [[3, 2], [4, 0], [11, 1], [8, 1], [0, 1], [15, 0], [14, 0], [12, 1], [10, 0], [1, 1], [13, 1], [5, 1], [7, 0], [6, 0], [9, 0], [2, 0]], [[7, 1], [3, 0], [11, 1], [8, 1], [0, 1], [15, 0], [1, 1], [12, 1], [10, 0], [14, 0], [13, 1], [5, 1], [4, 1], [2, 0], [9, 0], [6, 1]], [[7, 1], [3, 0], [11, 1], [8, 1], [0, 1], [15, 0], [1, 1], [12, 1], [10, 0], [14, 0], [13, 1], [5, 1], [4, 1], [6, 0], [9, 0], [2, 0]], [[7, 1], [3, 0], [11, 1], [8, 1], [0, 1], [15, 0], [14, 0], [12, 1], [10, 0], [1, 1], [13, 1], [5, 1], [4, 1], [6, 0], [9, 0], [2, 0]], [[3, 2], [7, 1], [11, 1], [8, 1], [0, 1], [15, 0], [14, 0], [12, 1], [10, 0], [1, 1], [13, 1], [5, 1], [4, 1], [6, 0], [9, 0], [2, 0]], [[3, 2], [4, 0], [11, 1], [8, 1], [0, 1], [15, 0], [14, 0], [12, 1], [10, 0], [1, 1], [13, 1], [5, 1], [7, 0], [6, 0], [9, 0], [2, 0]], [[7, 1], [3, 0], [11, 1], [8, 1], [0, 1], [15, 0], [1, 1], [12, 1], [10, 0], [14, 0], [13, 1], [5, 1], [4, 1], [2, 0], [9, 0], [6, 1]], [[7, 1], [3, 0], [11, 1], [8, 1], [0, 1], [15, 0], [1, 1], [12, 1], [10, 0], [14, 0], [13, 1], [5, 1], [4, 1], [6, 0], [9, 0], [2, 0]], [[7, 1], [3, 0], [11, 1], [8, 1], [0, 1], [15, 0], [14, 0], [12, 1], [10, 0], [1, 1], [13, 1], [5, 1], [4, 1], [6, 0], [9, 0], [2, 0]], [[3, 2], [7, 1], [11, 1], [8, 1], [0, 1], [15, 0], [14, 0], [12, 1], [10, 0], [1, 1], [13, 1], [5, 1], [4, 1], [6, 0], [9, 0], [2, 0]], [[3, 2], [4, 0], [11, 1], [8, 1], [0, 1], [15, 0], [14, 0], [12, 1], [10, 0], [1, 1], [13, 1], [5, 1], [7, 0], [6, 0], [9, 0], [2, 0]], [[7, 1], [3, 0], [11, 1], [8, 1], [0, 1], [15, 0], [1, 1], [12, 1], [10, 0], [14, 0], [13, 1], [5, 1], [4, 1], [2, 0], [9, 0], [6, 1]], [[7, 1], [3, 0], [11, 1], [8, 1], [0, 1], [15, 0], [1, 1], [12, 1], [10, 0], [14, 0], [13, 1], [5, 1], [4, 1], [6, 0], [9, 0], [2, 0]], [[7, 1], [3, 0], [11, 1], [8, 1], [0, 1], [15, 0], [14, 0], [12, 1], [10, 0], [1, 1], [13, 1], [5, 1], [4, 1], [6, 0], [9, 0], [2, 0]], [[3, 2], [7, 1], [11, 1], [8, 1], [0, 1], [15, 0], [14, 0], [12, 1], [10, 0], [1, 1], [13, 1], [5, 1], [4, 1], [6, 0], [9, 0], [2, 0]], [[3, 2], [4, 0], [11, 1], [8, 1], [0, 1], [15, 0], [14, 0], [12, 1], [10, 0], [1, 1], [13, 1], [5, 1], [7, 0], [6, 0], [9, 0], [2, 0]], [[7, 1], [3, 0], [11, 1], [8, 1], [0, 1], [15, 0], [1, 1], [12, 1], [10, 0], [14, 0], [13, 1], [5, 1], [4, 1], [2, 0], [9, 0], [6, 1]], [[7, 1], [3, 0], [11, 1], [8, 1], [0, 1], [15, 0], [1, 1], [12, 1], [10, 0], [14, 0], [13, 1], [5, 1], [4, 1], [6, 0], [9, 0], [2, 0]], [[7, 1], [3, 0], [11, 1], [8, 1], [0, 1], [15, 0], [14, 0], [12, 1], [10, 0], [1, 1], [13, 1], [5, 1], [4, 1], [6, 0], [9, 0], [2, 0]], [[3, 2], [7, 1], [11, 1], [8, 1], [0, 1], [15, 0], [14, 0], [12, 1], [10, 0], [1, 1], [13, 1], [5, 1], [4, 1], [6, 0], [9, 0], [2, 0]], [[3, 2], [4, 0], [11, 1], [8, 1], [0, 1], [15, 0], [14, 0], [12, 1], [10, 0], [1, 1], [13, 1], [5, 1], [7, 0], [6, 0], [9, 0], [2, 0]], [[7, 1], [3, 0], [11, 1], [8, 1], [0, 1], [15, 0], [1, 1], [12, 1], [10, 0], [14, 0], [13, 1], [5, 1], [4, 1], [2, 0], [9, 0], [6, 1]], [[7, 1], [3, 0], [11, 1], [8, 1], [0, 1], [15, 0], [1, 1], [12, 1], [10, 0], [14, 0], [13, 1], [5, 1], [4, 1], [6, 0], [9, 0], [2, 0]], [[7, 1], [3, 0], [11, 1], [8, 1], [0, 1], [15, 0], [14, 0], [12, 1], [10, 0], [1, 1], [13, 1], [5, 1], [4, 1], [6, 0], [9, 0], [2, 0]], [[3, 2], [7, 1], [11, 1], [8, 1], [0, 1], [15, 0], [14, 0], [12, 1], [10, 0], [1, 1], [13, 1], [5, 1], [4, 1], [6, 0], [9, 0], [2, 0]], [[3, 2], [4, 0], [11, 1], [8, 1], [0, 1], [15, 0], [14, 0], [12, 1], [10, 0], [1, 1], [13, 1], [5, 1], [7, 0], [6, 0], [9, 0], [2, 0]], [[7, 1], [3, 0], [11, 1], [8, 1], [0, 1], [15, 0], [1, 1], [12, 1], [10, 0], [14, 0], [13, 1], [5, 1], [4, 1], [2, 0], [9, 0], [6, 1]], [[7, 1], [3, 0], [11, 1], [8, 1], [0, 1], [15, 0], [1, 1], [12, 1], [10, 0], [14, 0], [13, 1], [5, 1], [4, 1], [6, 0], [9, 0], [2, 0]], [[7, 1], [3, 0], [11, 1], [8, 1], [0, 1], [15, 0], [14, 0], [12, 1], [10, 0], [1, 1], [13, 1], [5, 1], [4, 1], [6, 0], [9, 0], [2, 0]], [[3, 2], [7, 1], [11, 1], [8, 1], [0, 1], [15, 0], [14, 0], [12, 1], [10, 0], [1, 1], [13, 1], [5, 1], [4, 1], [6, 0], [9, 0], [2, 0]], [[3, 2], [4, 0], [11, 1], [8, 1], [0, 1], [15, 0], [14, 0], [12, 1], [10, 0], [1, 1], [13, 1], [5, 1], [7, 0], [6, 0], [9, 0], [2, 0]], [[7, 1], [3, 0], [11, 1], [8, 1], [0, 1], [15, 0], [1, 1], [12, 1], [10, 0], [14, 0], [13, 1], [5, 1], [4, 1], [2, 0], [9, 0], [6, 1]], [[7, 1], [3, 0], [11, 1], [8, 1], [0, 1], [15, 0], [1, 1], [12, 1], [10, 0], [14, 0], [13, 1], [5, 1], [4, 1], [6, 0], [9, 0], [2, 0]], [[7, 1], [3, 0], [11, 1], [8, 1], [0, 1], [15, 0], [14, 0], [12, 1], [10, 0], [1, 1], [13, 1], [5, 1], [4, 1], [6, 0], [9, 0], [2, 0]], [[3, 2], [7, 1], [11, 1], [8, 1], [0, 1], [15, 0], [14, 0], [12, 1], [10, 0], [1, 1], [13, 1], [5, 1], [4, 1], [6, 0], [9, 0], [2, 0]], [[3, 2], [4, 0], [11, 1], [8, 1], [0, 1], [15, 0], [14, 0], [12, 1], [10, 0], [1, 1], [13, 1], [5, 1], [7, 0], [6, 0], [9, 0], [2, 0]], [[7, 1], [3, 0], [11, 1], [8, 1], [0, 1], [15, 0], [1, 1], [12, 1], [10, 0], [14, 0], [13, 1], [5, 1], [4, 1], [2, 0], [9, 0], [6, 1]], [[7, 1], [3, 0], [11, 1], [8, 1], [0, 1], [15, 0], [1, 1], [12, 1], [10, 0], [14, 0], [13, 1], [5, 1], [4, 1], [6, 0], [9, 0], [2, 0]], [[7, 1], [3, 0], [11, 1], [8, 1], [0, 1], [15, 0], [14, 0], [12, 1], [10, 0], [1, 1], [13, 1], [5, 1], [4, 1], [6, 0], [9, 0], [2, 0]], [[3, 2], [7, 1], [11, 1], [8, 1], [0, 1], [15, 0], [14, 0], [12, 1], [10, 0], [1, 1], [13, 1], [5, 1], [4, 1], [6, 0], [9, 0], [2, 0]], [[3, 2], [4, 0], [11, 1], [8, 1], [0, 1], [15, 0], [14, 0], [12, 1], [10, 0], [1, 1], [13, 1], [5, 1], [7, 0], [6, 0], [9, 0], [2, 0]], [[7, 1], [3, 0], [11, 1], [8, 1], [0, 1], [15, 0], [1, 1], [12, 1], [10, 0], [14, 0], [13, 1], [5, 1], [4, 1], [2, 0], [9, 0], [6, 1]], [[7, 1], [3, 0], [11, 1], [8, 1], [0, 1], [15, 0], [1, 1], [12, 1], [10, 0], [14, 0], [13, 1], [5, 1], [4, 1], [6, 0], [9, 0], [2, 0]], [[7, 1], [3, 0], [11, 1], [8, 1], [0, 1], [15, 0], [14, 0], [12, 1], [10, 0], [1, 1], [13, 1], [5, 1], [4, 1], [6, 0], [9, 0], [2, 0]], [[3, 2], [7, 1], [11, 1], [8, 1], [0, 1], [15, 0], [14, 0], [12, 1], [10, 0], [1, 1], [13, 1], [5, 1], [4, 1], [6, 0], [9, 0], [2, 0]], [[3, 2], [4, 0], [11, 1], [8, 1], [0, 1], [15, 0], [14, 0], [12, 1], [10, 0], [1, 1], [13, 1], [5, 1], [7, 0], [6, 0], [9, 0], [2, 0]], [[7, 1], [3, 0], [11, 1], [8, 1], [0, 1], [15, 0], [1, 1], [12, 1], [10, 0], [14, 0], [13, 1], [5, 1], [4, 1], [2, 0], [9, 0], [6, 1]], [[7, 1], [3, 0], [11, 1], [8, 1], [0, 1], [15, 0], [1, 1], [12, 1], [10, 0], [14, 0], [13, 1], [5, 1], [4, 1], [6, 0], [9, 0], [2, 0]], [[7, 1], [3, 0], [11, 1], [8, 1], [0, 1], [15, 0], [14, 0], [12, 1], [10, 0], [1, 1], [13, 1], [5, 1], [4, 1], [6, 0], [9, 0], [2, 0]], [[3, 2], [7, 1], [11, 1], [8, 1], [0, 1], [15, 0], [14, 0], [12, 1], [10, 0], [1, 1], [13, 1], [5, 1], [4, 1], [6, 0], [9, 0], [2, 0]], [[3, 2], [4, 0], [11, 1], [8, 1], [0, 1], [15, 0], [14, 0], [12, 1], [10, 0], [1, 1], [13, 1], [5, 1], [7, 0], [6, 0], [9, 0], [2, 0]], [[7, 1], [3, 0], [11, 1], [8, 1], [0, 1], [15, 0], [1, 1], [12, 1], [10, 0], [14, 0], [13, 1], [5, 1], [4, 1], [2, 0], [9, 0], [6, 1]], [[7, 1], [3, 0], [11, 1], [8, 1], [0, 1], [15, 0], [1, 1], [12, 1], [10, 0], [14, 0], [13, 1], [5, 1], [4, 1], [6, 0], [9, 0], [2, 0]], [[7, 1], [3, 0], [11, 1], [8, 1], [0, 1], [15, 0], [14, 0], [12, 1], [10, 0], [1, 1], [13, 1], [5, 1], [4, 1], [6, 0], [9, 0], [2, 0]], [[3, 2], [7, 1], [11, 1], [8, 1], [0, 1], [15, 0], [14, 0], [12, 1], [10, 0], [1, 1], [13, 1], [5, 1], [4, 1], [6, 0], [9, 0], [2, 0]], [[3, 2], [4, 0], [11, 1], [8, 1], [0, 1], [15, 0], [14, 0], [12, 1], [10, 0], [1, 1], [13, 1], [5, 1], [7, 0], [6, 0], [9, 0], [2, 0]], [[7, 1], [3, 0], [11, 1], [8, 1], [0, 1], [15, 0], [1, 1], [12, 1], [10, 0], [14, 0], [13, 1], [5, 1], [4, 1], [2, 0], [9, 0], [6, 1]], [[7, 1], [3, 0], [11, 1], [8, 1], [0, 1], [15, 0], [1, 1], [12, 1], [10, 0], [14, 0], [13, 1], [5, 1], [4, 1], [6, 0], [9, 0], [2, 0]], [[7, 1], [3, 0], [11, 1], [8, 1], [0, 1], [15, 0], [14, 0], [12, 1], [10, 0], [1, 1], [13, 1], [5, 1], [4, 1], [6, 0], [9, 0], [2, 0]], [[3, 2], [7, 1], [11, 1], [8, 1], [0, 1], [15, 0], [14, 0], [12, 1], [10, 0], [1, 1], [13, 1], [5, 1], [4, 1], [6, 0], [9, 0], [2, 0]], [[3, 2], [4, 0], [11, 1], [8, 1], [0, 1], [15, 0], [14, 0], [12, 1], [10, 0], [1, 1], [13, 1], [5, 1], [7, 0], [6, 0], [9, 0], [2, 0]], [[7, 1], [3, 0], [11, 1], [8, 1], [0, 1], [15, 0], [1, 1], [12, 1], [10, 0], [14, 0], [13, 1], [5, 1], [4, 1], [2, 0], [9, 0], [6, 1]], [[7, 1], [3, 0], [11, 1], [8, 1], [0, 1], [15, 0], [1, 1], [12, 1], [10, 0], [14, 0], [13, 1], [5, 1], [4, 1], [6, 0], [9, 0], [2, 0]], [[7, 1], [3, 0], [11, 1], [8, 1], [0, 1], [15, 0], [14, 0], [12, 1], [10, 0], [1, 1], [13, 1], [5, 1], [4, 1], [6, 0], [9, 0], [2, 0]], [[3, 2], [7, 1], [11, 1], [8, 1], [0, 1], [15, 0], [14, 0], [12, 1], [10, 0], [1, 1], [13, 1], [5, 1], [4, 1], [6, 0], [9, 0], [2, 0]], [[3, 2], [4, 0], [11, 1], [8, 1], [0, 1], [15, 0], [14, 0], [12, 1], [10, 0], [1, 1], [13, 1], [5, 1], [7, 0], [6, 0], [9, 0], [2, 0]], [[7, 1], [3, 0], [11, 1], [8, 1], [0, 1], [15, 0], [1, 1], [12, 1], [10, 0], [14, 0], [13, 1], [5, 1], [4, 1], [2, 0], [9, 0], [6, 1]], [[7, 1], [3, 0], [11, 1], [8, 1], [0, 1], [15, 0], [1, 1], [12, 1], [10, 0], [14, 0], [13, 1], [5, 1], [4, 1], [6, 0], [9, 0], [2, 0]], [[7, 1], [3, 0], [11, 1], [8, 1], [0, 1], [15, 0], [14, 0], [12, 1], [10, 0], [1, 1], [13, 1], [5, 1], [4, 1], [6, 0], [9, 0], [2, 0]], [[3, 2], [7, 1], [11, 1], [8, 1], [0, 1], [15, 0], [14, 0], [12, 1], [10, 0], [1, 1], [13, 1], [5, 1], [4, 1], [6, 0], [9, 0], [2, 0]], [[3, 2], [4, 0], [11, 1], [8, 1], [0, 1], [15, 0], [14, 0], [12, 1], [10, 0], [1, 1], [13, 1], [5, 1], [7, 0], [6, 0], [9, 0], [2, 0]], [[7, 1], [3, 0], [11, 1], [8, 1], [0, 1], [15, 0], [1, 1], [12, 1], [10, 0], [14, 0], [13, 1], [5, 1], [4, 1], [2, 0], [9, 0], [6, 1]], [[7, 1], [3, 0], [11, 1], [8, 1], [0, 1], [15, 0], [1, 1], [12, 1], [10, 0], [14, 0], [13, 1], [5, 1], [4, 1], [6, 0], [9, 0], [2, 0]], [[7, 1], [3, 0], [11, 1], [8, 1], [0, 1], [15, 0], [14, 0], [12, 1], [10, 0], [1, 1], [13, 1], [5, 1], [4, 1], [6, 0], [9, 0], [2, 0]], [[3, 2], [7, 1], [11, 1], [8, 1], [0, 1], [15, 0], [14, 0], [12, 1], [10, 0], [1, 1], [13, 1], [5, 1], [4, 1], [6, 0], [9, 0], [2, 0]], [[3, 2], [4, 0], [11, 1], [8, 1], [0, 1], [15, 0], [14, 0], [12, 1], [10, 0], [1, 1], [13, 1], [5, 1], [7, 0], [6, 0], [9, 0], [2, 0]], [[7, 1], [3, 0], [11, 1], [8, 1], [0, 1], [15, 0], [1, 1], [12, 1], [10, 0], [14, 0], [13, 1], [5, 1], [4, 1], [2, 0], [9, 0], [6, 1]], [[7, 1], [3, 0], [11, 1], [8, 1], [0, 1], [15, 0], [1, 1], [12, 1], [10, 0], [14, 0], [13, 1], [5, 1], [4, 1], [6, 0], [9, 0], [2, 0]], [[7, 1], [3, 0], [11, 1], [8, 1], [0, 1], [15, 0], [14, 0], [12, 1], [10, 0], [1, 1], [13, 1], [5, 1], [4, 1], [6, 0], [9, 0], [2, 0]], [[3, 2], [7, 1], [11, 1], [8, 1], [0, 1], [15, 0], [14, 0], [12, 1], [10, 0], [1, 1], [13, 1], [5, 1], [4, 1], [6, 0], [9, 0], [2, 0]], [[3, 2], [4, 0], [11, 1], [8, 1], [0, 1], [15, 0], [14, 0], [12, 1], [10, 0], [1, 1], [13, 1], [5, 1], [7, 0], [6, 0], [9, 0], [2, 0]], [[7, 1], [3, 0], [11, 1], [8, 1], [0, 1], [15, 0], [1, 1], [12, 1], [10, 0], [14, 0], [13, 1], [5, 1], [4, 1], [2, 0], [9, 0], [6, 1]], [[7, 1], [3, 0], [11, 1], [8, 1], [0, 1], [15, 0], [1, 1], [12, 1], [10, 0], [14, 0], [13, 1], [5, 1], [4, 1], [6, 0], [9, 0], [2, 0]], [[7, 1], [3, 0], [11, 1], [8, 1], [0, 1], [15, 0], [14, 0], [12, 1], [10, 0], [1, 1], [13, 1], [5, 1], [4, 1], [6, 0], [9, 0], [2, 0]], [[3, 2], [7, 1], [11, 1], [8, 1], [0, 1], [15, 0], [14, 0], [12, 1], [10, 0], [1, 1], [13, 1], [5, 1], [4, 1], [6, 0], [9, 0], [2, 0]], [[3, 2], [4, 0], [11, 1], [8, 1], [0, 1], [15, 0], [14, 0], [12, 1], [10, 0], [1, 1], [13, 1], [5, 1], [7, 0], [6, 0], [9, 0], [2, 0]], [[7, 1], [3, 0], [11, 1], [8, 1], [0, 1], [15, 0], [1, 1], [12, 1], [10, 0], [14, 0], [13, 1], [5, 1], [4, 1], [2, 0], [9, 0], [6, 1]], [[7, 1], [3, 0], [11, 1], [8, 1], [0, 1], [15, 0], [1, 1], [12, 1], [10, 0], [14, 0], [13, 1], [5, 1], [4, 1], [6, 0], [9, 0], [2, 0]], [[7, 1], [3, 0], [11, 1], [8, 1], [0, 1], [15, 0], [14, 0], [12, 1], [10, 0], [1, 1], [13, 1], [5, 1], [4, 1], [6, 0], [9, 0], [2, 0]], [[3, 2], [7, 1], [11, 1], [8, 1], [0, 1], [15, 0], [14, 0], [12, 1], [10, 0], [1, 1], [13, 1], [5, 1], [4, 1], [6, 0], [9, 0], [2, 0]], [[3, 2], [4, 0], [11, 1], [8, 1], [0, 1], [15, 0], [14, 0], [12, 1], [10, 0], [1, 1], [13, 1], [5, 1], [7, 0], [6, 0], [9, 0], [2, 0]], [[7, 1], [3, 0], [11, 1], [8, 1], [0, 1], [15, 0], [1, 1], [12, 1], [10, 0], [14, 0], [13, 1], [5, 1], [4, 1], [2, 0], [9, 0], [6, 1]], [[7, 1], [3, 0], [11, 1], [8, 1], [0, 1], [15, 0], [1, 1], [12, 1], [10, 0], [14, 0], [13, 1], [5, 1], [4, 1], [6, 0], [9, 0], [2, 0]], [[7, 1], [3, 0], [11, 1], [8, 1], [0, 1], [15, 0], [14, 0], [12, 1], [10, 0], [1, 1], [13, 1], [5, 1], [4, 1], [6, 0], [9, 0], [2, 0]], [[3, 2], [7, 1], [11, 1], [8, 1], [0, 1], [15, 0], [14, 0], [12, 1], [10, 0], [1, 1], [13, 1], [5, 1], [4, 1], [6, 0], [9, 0], [2, 0]], [[3, 2], [4, 0], [11, 1], [8, 1], [0, 1], [15, 0], [14, 0], [12, 1], [10, 0], [1, 1], [13, 1], [5, 1], [7, 0], [6, 0], [9, 0], [2, 0]], [[7, 1], [3, 0], [11, 1], [8, 1], [0, 1], [15, 0], [1, 1], [12, 1], [10, 0], [14, 0], [13, 1], [5, 1], [4, 1], [2, 0], [9, 0], [6, 1]], [[7, 1], [3, 0], [11, 1], [8, 1], [0, 1], [15, 0], [1, 1], [12, 1], [10, 0], [14, 0], [13, 1], [5, 1], [4, 1], [6, 0], [9, 0], [2, 0]], [[7, 1], [3, 0], [11, 1], [8, 1], [0, 1], [15, 0], [14, 0], [12, 1], [10, 0], [1, 1], [13, 1], [5, 1], [4, 1], [6, 0], [9, 0], [2, 0]], [[3, 2], [7, 1], [11, 1], [8, 1], [0, 1], [15, 0], [14, 0], [12, 1], [10, 0], [1, 1], [13, 1], [5, 1], [4, 1], [6, 0], [9, 0], [2, 0]], [[3, 2], [4, 0], [11, 1], [8, 1], [0, 1], [15, 0], [14, 0], [12, 1], [10, 0], [1, 1], [13, 1], [5, 1], [7, 0], [6, 0], [9, 0], [2, 0]], [[7, 1], [3, 0], [11, 1], [8, 1], [0, 1], [15, 0], [1, 1], [12, 1], [10, 0], [14, 0], [13, 1], [5, 1], [4, 1], [2, 0], [9, 0], [6, 1]], [[7, 1], [3, 0], [11, 1], [8, 1], [0, 1], [15, 0], [1, 1], [12, 1], [10, 0], [14, 0], [13, 1], [5, 1], [4, 1], [6, 0], [9, 0], [2, 0]], [[7, 1], [3, 0], [11, 1], [8, 1], [0, 1], [15, 0], [14, 0], [12, 1], [10, 0], [1, 1], [13, 1], [5, 1], [4, 1], [6, 0], [9, 0], [2, 0]], [[3, 2], [7, 1], [11, 1], [8, 1], [0, 1], [15, 0], [14, 0], [12, 1], [10, 0], [1, 1], [13, 1], [5, 1], [4, 1], [6, 0], [9, 0], [2, 0]], [[3, 2], [4, 0], [11, 1], [8, 1], [0, 1], [15, 0], [14, 0], [12, 1], [10, 0], [1, 1], [13, 1], [5, 1], [7, 0], [6, 0], [9, 0], [2, 0]], [[7, 1], [3, 0], [11, 1], [8, 1], [0, 1], [15, 0], [1, 1], [12, 1], [10, 0], [14, 0], [13, 1], [5, 1], [4, 1], [2, 0], [9, 0], [6, 1]], [[7, 1], [3, 0], [11, 1], [8, 1], [0, 1], [15, 0], [1, 1], [12, 1], [10, 0], [14, 0], [13, 1], [5, 1], [4, 1], [6, 0], [9, 0], [2, 0]], [[7, 1], [3, 0], [11, 1], [8, 1], [0, 1], [15, 0], [14, 0], [12, 1], [10, 0], [1, 1], [13, 1], [5, 1], [4, 1], [6, 0], [9, 0], [2, 0]], [[3, 2], [7, 1], [11, 1], [8, 1], [0, 1], [15, 0], [14, 0], [12, 1], [10, 0], [1, 1], [13, 1], [5, 1], [4, 1], [6, 0], [9, 0], [2, 0]], [[3, 2], [4, 0], [11, 1], [8, 1], [0, 1], [15, 0], [14, 0], [12, 1], [10, 0], [1, 1], [13, 1], [5, 1], [7, 0], [6, 0], [9, 0], [2, 0]], [[7, 1], [3, 0], [11, 1], [8, 1], [0, 1], [15, 0], [1, 1], [12, 1], [10, 0], [14, 0], [13, 1], [5, 1], [4, 1], [2, 0], [9, 0], [6, 1]], [[7, 1], [3, 0], [11, 1], [8, 1], [0, 1], [15, 0], [1, 1], [12, 1], [10, 0], [14, 0], [13, 1], [5, 1], [4, 1], [6, 0], [9, 0], [2, 0]], [[7, 1], [3, 0], [11, 1], [8, 1], [0, 1], [15, 0], [14, 0], [12, 1], [10, 0], [1, 1], [13, 1], [5, 1], [4, 1], [6, 0], [9, 0], [2, 0]], [[3, 2], [7, 1], [11, 1], [8, 1], [0, 1], [15, 0], [14, 0], [12, 1], [10, 0], [1, 1], [13, 1], [5, 1], [4, 1], [6, 0], [9, 0], [2, 0]], [[3, 2], [4, 0], [11, 1], [8, 1], [0, 1], [15, 0], [14, 0], [12, 1], [10, 0], [1, 1], [13, 1], [5, 1], [7, 0], [6, 0], [9, 0], [2, 0]], [[7, 1], [3, 0], [11, 1], [8, 1], [0, 1], [15, 0], [1, 1], [12, 1], [10, 0], [14, 0], [13, 1], [5, 1], [4, 1], [2, 0], [9, 0], [6, 1]], [[7, 1], [3, 0], [11, 1], [8, 1], [0, 1], [15, 0], [1, 1], [12, 1], [10, 0], [14, 0], [13, 1], [5, 1], [4, 1], [6, 0], [9, 0], [2, 0]], [[7, 1], [3, 0], [11, 1], [8, 1], [0, 1], [15, 0], [14, 0], [12, 1], [10, 0], [1, 1], [13, 1], [5, 1], [4, 1], [6, 0], [9, 0], [2, 0]], [[3, 2], [7, 1], [11, 1], [8, 1], [0, 1], [15, 0], [14, 0], [12, 1], [10, 0], [1, 1], [13, 1], [5, 1], [4, 1], [6, 0], [9, 0], [2, 0]], [[3, 2], [4, 0], [11, 1], [8, 1], [0, 1], [15, 0], [14, 0], [12, 1], [10, 0], [1, 1], [13, 1], [5, 1], [7, 0], [6, 0], [9, 0], [2, 0]], [[7, 1], [3, 0], [11, 1], [8, 1], [0, 1], [15, 0], [1, 1], [12, 1], [10, 0], [14, 0], [13, 1], [5, 1], [4, 1], [2, 0], [9, 0], [6, 1]], [[7, 1], [3, 0], [11, 1], [8, 1], [0, 1], [15, 0], [1, 1], [12, 1], [10, 0], [14, 0], [13, 1], [5, 1], [4, 1], [6, 0], [9, 0], [2, 0]], [[7, 1], [3, 0], [11, 1], [8, 1], [0, 1], [15, 0], [14, 0], [12, 1], [10, 0], [1, 1], [13, 1], [5, 1], [4, 1], [6, 0], [9, 0], [2, 0]], [[3, 2], [7, 1], [11, 1], [8, 1], [0, 1], [15, 0], [14, 0], [12, 1], [10, 0], [1, 1], [13, 1], [5, 1], [4, 1], [6, 0], [9, 0], [2, 0]], [[3, 2], [4, 0], [11, 1], [8, 1], [0, 1], [15, 0], [14, 0], [12, 1], [10, 0], [1, 1], [13, 1], [5, 1], [7, 0], [6, 0], [9, 0], [2, 0]], [[7, 1], [3, 0], [11, 1], [8, 1], [0, 1], [15, 0], [1, 1], [12, 1], [10, 0], [14, 0], [13, 1], [5, 1], [4, 1], [2, 0], [9, 0], [6, 1]], [[7, 1], [3, 0], [11, 1], [8, 1], [0, 1], [15, 0], [1, 1], [12, 1], [10, 0], [14, 0], [13, 1], [5, 1], [4, 1], [6, 0], [9, 0], [2, 0]], [[7, 1], [3, 0], [11, 1], [8, 1], [0, 1], [15, 0], [14, 0], [12, 1], [10, 0], [1, 1], [13, 1], [5, 1], [4, 1], [6, 0], [9, 0], [2, 0]], [[3, 2], [7, 1], [11, 1], [8, 1], [0, 1], [15, 0], [14, 0], [12, 1], [10, 0], [1, 1], [13, 1], [5, 1], [4, 1], [6, 0], [9, 0], [2, 0]], [[3, 2], [4, 0], [11, 1], [8, 1], [0, 1], [15, 0], [14, 0], [12, 1], [10, 0], [1, 1], [13, 1], [5, 1], [7, 0], [6, 0], [9, 0], [2, 0]], [[7, 1], [3, 0], [11, 1], [8, 1], [0, 1], [15, 0], [1, 1], [12, 1], [10, 0], [14, 0], [13, 1], [5, 1], [4, 1], [2, 0], [9, 0], [6, 1]], [[7, 1], [3, 0], [11, 1], [8, 1], [0, 1], [15, 0], [1, 1], [12, 1], [10, 0], [14, 0], [13, 1], [5, 1], [4, 1], [6, 0], [9, 0], [2, 0]], [[7, 1], [3, 0], [11, 1], [8, 1], [0, 1], [15, 0], [14, 0], [12, 1], [10, 0], [1, 1], [13, 1], [5, 1], [4, 1], [6, 0], [9, 0], [2, 0]], [[3, 2], [7, 1], [11, 1], [8, 1], [0, 1], [15, 0], [14, 0], [12, 1], [10, 0], [1, 1], [13, 1], [5, 1], [4, 1], [6, 0], [9, 0], [2, 0]], [[3, 2], [4, 0], [11, 1], [8, 1], [0, 1], [15, 0], [14, 0], [12, 1], [10, 0], [1, 1], [13, 1], [5, 1], [7, 0], [6, 0], [9, 0], [2, 0]], [[7, 1], [3, 0], [11, 1], [8, 1], [0, 1], [15, 0], [1, 1], [12, 1], [10, 0], [14, 0], [13, 1], [5, 1], [4, 1], [2, 0], [9, 0], [6, 1]], [[7, 1], [3, 0], [11, 1], [8, 1], [0, 1], [15, 0], [1, 1], [12, 1], [10, 0], [14, 0], [13, 1], [5, 1], [4, 1], [6, 0], [9, 0], [2, 0]], [[7, 1], [3, 0], [11, 1], [8, 1], [0, 1], [15, 0], [14, 0], [12, 1], [10, 0], [1, 1], [13, 1], [5, 1], [4, 1], [6, 0], [9, 0], [2, 0]], [[3, 2], [7, 1], [11, 1], [8, 1], [0, 1], [15, 0], [14, 0], [12, 1], [10, 0], [1, 1], [13, 1], [5, 1], [4, 1], [6, 0], [9, 0], [2, 0]], [[3, 2], [4, 0], [11, 1], [8, 1], [0, 1], [15, 0], [14, 0], [12, 1], [10, 0], [1, 1], [13, 1], [5, 1], [7, 0], [6, 0], [9, 0], [2, 0]], [[7, 1], [3, 0], [11, 1], [8, 1], [0, 1], [15, 0], [1, 1], [12, 1], [10, 0], [14, 0], [13, 1], [5, 1], [4, 1], [2, 0], [9, 0], [6, 1]], [[7, 1], [3, 0], [11, 1], [8, 1], [0, 1], [15, 0], [1, 1], [12, 1], [10, 0], [14, 0], [13, 1], [5, 1], [4, 1], [6, 0], [9, 0], [2, 0]], [[7, 1], [3, 0], [11, 1], [8, 1], [0, 1], [15, 0], [14, 0], [12, 1], [10, 0], [1, 1], [13, 1], [5, 1], [4, 1], [6, 0], [9, 0], [2, 0]], [[3, 2], [7, 1], [11, 1], [8, 1], [0, 1], [15, 0], [14, 0], [12, 1], [10, 0], [1, 1], [13, 1], [5, 1], [4, 1], [6, 0], [9, 0], [2, 0]], [[3, 2], [4, 0], [11, 1], [8, 1], [0, 1], [15, 0], [14, 0], [12, 1], [10, 0], [1, 1], [13, 1], [5, 1], [7, 0], [6, 0], [9, 0], [2, 0]], [[7, 1], [3, 0], [11, 1], [8, 1], [0, 1], [15, 0], [1, 1], [12, 1], [10, 0], [14, 0], [13, 1], [5, 1], [4, 1], [2, 0], [9, 0], [6, 1]], [[7, 1], [3, 0], [11, 1], [8, 1], [0, 1], [15, 0], [1, 1], [12, 1], [10, 0], [14, 0], [13, 1], [5, 1], [4, 1], [6, 0], [9, 0], [2, 0]], [[7, 1], [3, 0], [11, 1], [8, 1], [0, 1], [15, 0], [14, 0], [12, 1], [10, 0], [1, 1], [13, 1], [5, 1], [4, 1], [6, 0], [9, 0], [2, 0]], [[3, 2], [7, 1], [11, 1], [8, 1], [0, 1], [15, 0], [14, 0], [12, 1], [10, 0], [1, 1], [13, 1], [5, 1], [4, 1], [6, 0], [9, 0], [2, 0]], [[3, 2], [4, 0], [11, 1], [8, 1], [0, 1], [15, 0], [14, 0], [12, 1], [10, 0], [1, 1], [13, 1], [5, 1], [7, 0], [6, 0], [9, 0], [2, 0]], [[7, 1], [3, 0], [11, 1], [8, 1], [0, 1], [15, 0], [1, 1], [12, 1], [10, 0], [14, 0], [13, 1], [5, 1], [4, 1], [2, 0], [9, 0], [6, 1]], [[7, 1], [3, 0], [11, 1], [8, 1], [0, 1], [15, 0], [1, 1], [12, 1], [10, 0], [14, 0], [13, 1], [5, 1], [4, 1], [6, 0], [9, 0], [2, 0]], [[7, 1], [3, 0], [11, 1], [8, 1], [0, 1], [15, 0], [14, 0], [12, 1], [10, 0], [1, 1], [13, 1], [5, 1], [4, 1], [6, 0], [9, 0], [2, 0]], [[3, 2], [7, 1], [11, 1], [8, 1], [0, 1], [15, 0], [14, 0], [12, 1], [10, 0], [1, 1], [13, 1], [5, 1], [4, 1], [6, 0], [9, 0], [2, 0]], [[3, 2], [4, 0], [11, 1], [8, 1], [0, 1], [15, 0], [14, 0], [12, 1], [10, 0], [1, 1], [13, 1], [5, 1], [7, 0], [6, 0], [9, 0], [2, 0]], [[7, 1], [3, 0], [11, 1], [8, 1], [0, 1], [15, 0], [1, 1], [12, 1], [10, 0], [14, 0], [13, 1], [5, 1], [4, 1], [2, 0], [9, 0], [6, 1]], [[7, 1], [3, 0], [11, 1], [8, 1], [0, 1], [15, 0], [1, 1], [12, 1], [10, 0], [14, 0], [13, 1], [5, 1], [4, 1], [6, 0], [9, 0], [2, 0]], [[7, 1], [3, 0], [11, 1], [8, 1], [0, 1], [15, 0], [14, 0], [12, 1], [10, 0], [1, 1], [13, 1], [5, 1], [4, 1], [6, 0], [9, 0], [2, 0]], [[3, 2], [7, 1], [11, 1], [8, 1], [0, 1], [15, 0], [14, 0], [12, 1], [10, 0], [1, 1], [13, 1], [5, 1], [4, 1], [6, 0], [9, 0], [2, 0]], [[3, 2], [4, 0], [11, 1], [8, 1], [0, 1], [15, 0], [14, 0], [12, 1], [10, 0], [1, 1], [13, 1], [5, 1], [7, 0], [6, 0], [9, 0], [2, 0]], [[7, 1], [3, 0], [11, 1], [8, 1], [0, 1], [15, 0], [1, 1], [12, 1], [10, 0], [14, 0], [13, 1], [5, 1], [4, 1], [2, 0], [9, 0], [6, 1]], [[7, 1], [3, 0], [11, 1], [8, 1], [0, 1], [15, 0], [1, 1], [12, 1], [10, 0], [14, 0], [13, 1], [5, 1], [4, 1], [6, 0], [9, 0], [2, 0]], [[7, 1], [3, 0], [11, 1], [8, 1], [0, 1], [15, 0], [14, 0], [12, 1], [10, 0], [1, 1], [13, 1], [5, 1], [4, 1], [6, 0], [9, 0], [2, 0]], [[3, 2], [7, 1], [11, 1], [8, 1], [0, 1], [15, 0], [14, 0], [12, 1], [10, 0], [1, 1], [13, 1], [5, 1], [4, 1], [6, 0], [9, 0], [2, 0]], [[3, 2], [4, 0], [11, 1], [8, 1], [0, 1], [15, 0], [14, 0], [12, 1], [10, 0], [1, 1], [13, 1], [5, 1], [7, 0], [6, 0], [9, 0], [2, 0]], [[7, 1], [3, 0], [11, 1], [8, 1], [0, 1], [15, 0], [1, 1], [12, 1], [10, 0], [14, 0], [13, 1], [5, 1], [4, 1], [2, 0], [9, 0], [6, 1]], [[7, 1], [3, 0], [11, 1], [8, 1], [0, 1], [15, 0], [1, 1], [12, 1], [10, 0], [14, 0], [13, 1], [5, 1], [4, 1], [6, 0], [9, 0], [2, 0]], [[7, 1], [3, 0], [11, 1], [8, 1], [0, 1], [15, 0], [14, 0], [12, 1], [10, 0], [1, 1], [13, 1], [5, 1], [4, 1], [6, 0], [9, 0], [2, 0]], [[3, 2], [7, 1], [11, 1], [8, 1], [0, 1], [15, 0], [14, 0], [12, 1], [10, 0], [1, 1], [13, 1], [5, 1], [4, 1], [6, 0], [9, 0], [2, 0]], [[3, 2], [4, 0], [11, 1], [8, 1], [0, 1], [15, 0], [14, 0], [12, 1], [10, 0], [1, 1], [13, 1], [5, 1], [7, 0], [6, 0], [9, 0], [2, 0]], [[7, 1], [3, 0], [11, 1], [8, 1], [0, 1], [15, 0], [1, 1], [12, 1], [10, 0], [14, 0], [13, 1], [5, 1], [4, 1], [2, 0], [9, 0], [6, 1]], [[7, 1], [3, 0], [11, 1], [8, 1], [0, 1], [15, 0], [1, 1], [12, 1], [10, 0], [14, 0], [13, 1], [5, 1], [4, 1], [6, 0], [9, 0], [2, 0]], [[7, 1], [3, 0], [11, 1], [8, 1], [0, 1], [15, 0], [14, 0], [12, 1], [10, 0], [1, 1], [13, 1], [5, 1], [4, 1], [6, 0], [9, 0], [2, 0]], [[3, 2], [7, 1], [11, 1], [8, 1], [0, 1], [15, 0], [14, 0], [12, 1], [10, 0], [1, 1], [13, 1], [5, 1], [4, 1], [6, 0], [9, 0], [2, 0]], [[3, 2], [4, 0], [11, 1], [8, 1], [0, 1], [15, 0], [14, 0], [12, 1], [10, 0], [1, 1], [13, 1], [5, 1], [7, 0], [6, 0], [9, 0], [2, 0]], [[7, 1], [3, 0], [11, 1], [8, 1], [0, 1], [15, 0], [1, 1], [12, 1], [10, 0], [14, 0], [13, 1], [5, 1], [4, 1], [2, 0], [9, 0], [6, 1]], [[7, 1], [3, 0], [11, 1], [8, 1], [0, 1], [15, 0], [1, 1], [12, 1], [10, 0], [14, 0], [13, 1], [5, 1], [4, 1], [6, 0], [9, 0], [2, 0]], [[7, 1], [3, 0], [11, 1], [8, 1], [0, 1], [15, 0], [14, 0], [12, 1], [10, 0], [1, 1], [13, 1], [5, 1], [4, 1], [6, 0], [9, 0], [2, 0]], [[3, 2], [7, 1], [11, 1], [8, 1], [0, 1], [15, 0], [14, 0], [12, 1], [10, 0], [1, 1], [13, 1], [5, 1], [4, 1], [6, 0], [9, 0], [2, 0]], [[3, 2], [4, 0], [11, 1], [8, 1], [0, 1], [15, 0], [14, 0], [12, 1], [10, 0], [1, 1], [13, 1], [5, 1], [7, 0], [6, 0], [9, 0], [2, 0]], [[7, 1], [3, 0], [11, 1], [8, 1], [0, 1], [15, 0], [1, 1], [12, 1], [10, 0], [14, 0], [13, 1], [5, 1], [4, 1], [2, 0], [9, 0], [6, 1]], [[7, 1], [3, 0], [11, 1], [8, 1], [0, 1], [15, 0], [1, 1], [12, 1], [10, 0], [14, 0], [13, 1], [5, 1], [4, 1], [6, 0], [9, 0], [2, 0]], [[7, 1], [3, 0], [11, 1], [8, 1], [0, 1], [15, 0], [14, 0], [12, 1], [10, 0], [1, 1], [13, 1], [5, 1], [4, 1], [6, 0], [9, 0], [2, 0]], [[3, 2], [7, 1], [11, 1], [8, 1], [0, 1], [15, 0], [14, 0], [12, 1], [10, 0], [1, 1], [13, 1], [5, 1], [4, 1], [6, 0], [9, 0], [2, 0]], [[3, 2], [4, 0], [11, 1], [8, 1], [0, 1], [15, 0], [14, 0], [12, 1], [10, 0], [1, 1], [13, 1], [5, 1], [7, 0], [6, 0], [9, 0], [2, 0]], [[7, 1], [3, 0], [11, 1], [8, 1], [0, 1], [15, 0], [1, 1], [12, 1], [10, 0], [14, 0], [13, 1], [5, 1], [4, 1], [2, 0], [9, 0], [6, 1]], [[7, 1], [3, 0], [11, 1], [8, 1], [0, 1], [15, 0], [1, 1], [12, 1], [10, 0], [14, 0], [13, 1], [5, 1], [4, 1], [6, 0], [9, 0], [2, 0]], [[7, 1], [3, 0], [11, 1], [8, 1], [0, 1], [15, 0], [14, 0], [12, 1], [10, 0], [1, 1], [13, 1], [5, 1], [4, 1], [6, 0], [9, 0], [2, 0]], [[3, 2], [7, 1], [11, 1], [8, 1], [0, 1], [15, 0], [14, 0], [12, 1], [10, 0], [1, 1], [13, 1], [5, 1], [4, 1], [6, 0], [9, 0], [2, 0]], [[3, 2], [4, 0], [11, 1], [8, 1], [0, 1], [15, 0], [14, 0], [12, 1], [10, 0], [1, 1], [13, 1], [5, 1], [7, 0], [6, 0], [9, 0], [2, 0]], [[7, 1], [3, 0], [11, 1], [8, 1], [0, 1], [15, 0], [1, 1], [12, 1], [10, 0], [14, 0], [13, 1], [5, 1], [4, 1], [2, 0], [9, 0], [6, 1]], [[7, 1], [3, 0], [11, 1], [8, 1], [0, 1], [15, 0], [1, 1], [12, 1], [10, 0], [14, 0], [13, 1], [5, 1], [4, 1], [6, 0], [9, 0], [2, 0]], [[7, 1], [3, 0], [11, 1], [8, 1], [0, 1], [15, 0], [14, 0], [12, 1], [10, 0], [1, 1], [13, 1], [5, 1], [4, 1], [6, 0], [9, 0], [2, 0]], [[3, 2], [7, 1], [11, 1], [8, 1], [0, 1], [15, 0], [14, 0], [12, 1], [10, 0], [1, 1], [13, 1], [5, 1], [4, 1], [6, 0], [9, 0], [2, 0]], [[3, 2], [4, 0], [11, 1], [8, 1], [0, 1], [15, 0], [14, 0], [12, 1], [10, 0], [1, 1], [13, 1], [5, 1], [7, 0], [6, 0], [9, 0], [2, 0]], [[7, 1], [3, 0], [11, 1], [8, 1], [0, 1], [15, 0], [1, 1], [12, 1], [10, 0], [14, 0], [13, 1], [5, 1], [4, 1], [2, 0], [9, 0], [6, 1]], [[7, 1], [3, 0], [11, 1], [8, 1], [0, 1], [15, 0], [1, 1], [12, 1], [10, 0], [14, 0], [13, 1], [5, 1], [4, 1], [6, 0], [9, 0], [2, 0]], [[7, 1], [3, 0], [11, 1], [8, 1], [0, 1], [15, 0], [14, 0], [12, 1], [10, 0], [1, 1], [13, 1], [5, 1], [4, 1], [6, 0], [9, 0], [2, 0]], [[3, 2], [7, 1], [11, 1], [8, 1], [0, 1], [15, 0], [14, 0], [12, 1], [10, 0], [1, 1], [13, 1], [5, 1], [4, 1], [6, 0], [9, 0], [2, 0]], [[3, 2], [4, 0], [11, 1], [8, 1], [0, 1], [15, 0], [14, 0], [12, 1], [10, 0], [1, 1], [13, 1], [5, 1], [7, 0], [6, 0], [9, 0], [2, 0]], [[7, 1], [3, 0], [11, 1], [8, 1], [0, 1], [15, 0], [1, 1], [12, 1], [10, 0], [14, 0], [13, 1], [5, 1], [4, 1], [2, 0], [9, 0], [6, 1]], [[7, 1], [3, 0], [11, 1], [8, 1], [0, 1], [15, 0], [1, 1], [12, 1], [10, 0], [14, 0], [13, 1], [5, 1], [4, 1], [6, 0], [9, 0], [2, 0]], [[7, 1], [3, 0], [11, 1], [8, 1], [0, 1], [15, 0], [14, 0], [12, 1], [10, 0], [1, 1], [13, 1], [5, 1], [4, 1], [6, 0], [9, 0], [2, 0]], [[3, 2], [7, 1], [11, 1], [8, 1], [0, 1], [15, 0], [14, 0], [12, 1], [10, 0], [1, 1], [13, 1], [5, 1], [4, 1], [6, 0], [9, 0], [2, 0]], [[3, 2], [4, 0], [11, 1], [8, 1], [0, 1], [15, 0], [14, 0], [12, 1], [10, 0], [1, 1], [13, 1], [5, 1], [7, 0], [6, 0], [9, 0], [2, 0]], [[7, 1], [3, 0], [11, 1], [8, 1], [0, 1], [15, 0], [1, 1], [12, 1], [10, 0], [14, 0], [13, 1], [5, 1], [4, 1], [2, 0], [9, 0], [6, 1]], [[7, 1], [3, 0], [11, 1], [8, 1], [0, 1], [15, 0], [1, 1], [12, 1], [10, 0], [14, 0], [13, 1], [5, 1], [4, 1], [6, 0], [9, 0], [2, 0]], [[7, 1], [3, 0], [11, 1], [8, 1], [0, 1], [15, 0], [14, 0], [12, 1], [10, 0], [1, 1], [13, 1], [5, 1], [4, 1], [6, 0], [9, 0], [2, 0]], [[3, 2], [7, 1], [11, 1], [8, 1], [0, 1], [15, 0], [14, 0], [12, 1], [10, 0], [1, 1], [13, 1], [5, 1], [4, 1], [6, 0], [9, 0], [2, 0]], [[3, 2], [4, 0], [11, 1], [8, 1], [0, 1], [15, 0], [14, 0], [12, 1], [10, 0], [1, 1], [13, 1], [5, 1], [7, 0], [6, 0], [9, 0], [2, 0]], [[7, 1], [3, 0], [11, 1], [8, 1], [0, 1], [15, 0], [1, 1], [12, 1], [10, 0], [14, 0], [13, 1], [5, 1], [4, 1], [2, 0], [9, 0], [6, 1]], [[7, 1], [3, 0], [11, 1], [8, 1], [0, 1], [15, 0], [1, 1], [12, 1], [10, 0], [14, 0], [13, 1], [5, 1], [4, 1], [6, 0], [9, 0], [2, 0]], [[7, 1], [3, 0], [11, 1], [8, 1], [0, 1], [15, 0], [14, 0], [12, 1], [10, 0], [1, 1], [13, 1], [5, 1], [4, 1], [6, 0], [9, 0], [2, 0]], [[3, 2], [7, 1], [11, 1], [8, 1], [0, 1], [15, 0], [14, 0], [12, 1], [10, 0], [1, 1], [13, 1], [5, 1], [4, 1], [6, 0], [9, 0], [2, 0]], [[3, 2], [4, 0], [11, 1], [8, 1], [0, 1], [15, 0], [14, 0], [12, 1], [10, 0], [1, 1], [13, 1], [5, 1], [7, 0], [6, 0], [9, 0], [2, 0]], [[7, 1], [3, 0], [11, 1], [8, 1], [0, 1], [15, 0], [1, 1], [12, 1], [10, 0], [14, 0], [13, 1], [5, 1], [4, 1], [2, 0], [9, 0], [6, 1]], [[7, 1], [3, 0], [11, 1], [8, 1], [0, 1], [15, 0], [1, 1], [12, 1], [10, 0], [14, 0], [13, 1], [5, 1], [4, 1], [6, 0], [9, 0], [2, 0]], [[7, 1], [3, 0], [11, 1], [8, 1], [0, 1], [15, 0], [14, 0], [12, 1], [10, 0], [1, 1], [13, 1], [5, 1], [4, 1], [6, 0], [9, 0], [2, 0]], [[3, 2], [7, 1], [11, 1], [8, 1], [0, 1], [15, 0], [14, 0], [12, 1], [10, 0], [1, 1], [13, 1], [5, 1], [4, 1], [6, 0], [9, 0], [2, 0]], [[3, 2], [4, 0], [11, 1], [8, 1], [0, 1], [15, 0], [14, 0], [12, 1], [10, 0], [1, 1], [13, 1], [5, 1], [7, 0], [6, 0], [9, 0], [2, 0]], [[7, 1], [3, 0], [11, 1], [8, 1], [0, 1], [15, 0], [1, 1], [12, 1], [10, 0], [14, 0], [13, 1], [5, 1], [4, 1], [2, 0], [9, 0], [6, 1]], [[7, 1], [3, 0], [11, 1], [8, 1], [0, 1], [15, 0], [1, 1], [12, 1], [10, 0], [14, 0], [13, 1], [5, 1], [4, 1], [6, 0], [9, 0], [2, 0]], [[7, 1], [3, 0], [11, 1], [8, 1], [0, 1], [15, 0], [14, 0], [12, 1], [10, 0], [1, 1], [13, 1], [5, 1], [4, 1], [6, 0], [9, 0], [2, 0]], [[3, 2], [7, 1], [11, 1], [8, 1], [0, 1], [15, 0], [14, 0], [12, 1], [10, 0], [1, 1], [13, 1], [5, 1], [4, 1], [6, 0], [9, 0], [2, 0]], [[3, 2], [4, 0], [11, 1], [8, 1], [0, 1], [15, 0], [14, 0], [12, 1], [10, 0], [1, 1], [13, 1], [5, 1], [7, 0], [6, 0], [9, 0], [2, 0]], [[7, 1], [3, 0], [11, 1], [8, 1], [0, 1], [15, 0], [1, 1], [12, 1], [10, 0], [14, 0], [13, 1], [5, 1], [4, 1], [2, 0], [9, 0], [6, 1]], [[7, 1], [3, 0], [11, 1], [8, 1], [0, 1], [15, 0], [1, 1], [12, 1], [10, 0], [14, 0], [13, 1], [5, 1], [4, 1], [6, 0], [9, 0], [2, 0]], [[7, 1], [3, 0], [11, 1], [8, 1], [0, 1], [15, 0], [14, 0], [12, 1], [10, 0], [1, 1], [13, 1], [5, 1], [4, 1], [6, 0], [9, 0], [2, 0]], [[3, 2], [7, 1], [11, 1], [8, 1], [0, 1], [15, 0], [14, 0], [12, 1], [10, 0], [1, 1], [13, 1], [5, 1], [4, 1], [6, 0], [9, 0], [2, 0]], [[3, 2], [4, 0], [11, 1], [8, 1], [0, 1], [15, 0], [14, 0], [12, 1], [10, 0], [1, 1], [13, 1], [5, 1], [7, 0], [6, 0], [9, 0], [2, 0]], [[7, 1], [3, 0], [11, 1], [8, 1], [0, 1], [15, 0], [1, 1], [12, 1], [10, 0], [14, 0], [13, 1], [5, 1], [4, 1], [2, 0], [9, 0], [6, 1]], [[7, 1], [3, 0], [11, 1], [8, 1], [0, 1], [15, 0], [1, 1], [12, 1], [10, 0], [14, 0], [13, 1], [5, 1], [4, 1], [6, 0], [9, 0], [2, 0]], [[7, 1], [3, 0], [11, 1], [8, 1], [0, 1], [15, 0], [14, 0], [12, 1], [10, 0], [1, 1], [13, 1], [5, 1], [4, 1], [6, 0], [9, 0], [2, 0]], [[3, 2], [7, 1], [11, 1], [8, 1], [0, 1], [15, 0], [14, 0], [12, 1], [10, 0], [1, 1], [13, 1], [5, 1], [4, 1], [6, 0], [9, 0], [2, 0]], [[3, 2], [4, 0], [11, 1], [8, 1], [0, 1], [15, 0], [14, 0], [12, 1], [10, 0], [1, 1], [13, 1], [5, 1], [7, 0], [6, 0], [9, 0], [2, 0]], [[7, 1], [3, 0], [11, 1], [8, 1], [0, 1], [15, 0], [1, 1], [12, 1], [10, 0], [14, 0], [13, 1], [5, 1], [4, 1], [2, 0], [9, 0], [6, 1]], [[7, 1], [3, 0], [11, 1], [8, 1], [0, 1], [15, 0], [1, 1], [12, 1], [10, 0], [14, 0], [13, 1], [5, 1], [4, 1], [6, 0], [9, 0], [2, 0]], [[7, 1], [3, 0], [11, 1], [8, 1], [0, 1], [15, 0], [14, 0], [12, 1], [10, 0], [1, 1], [13, 1], [5, 1], [4, 1], [6, 0], [9, 0], [2, 0]], [[3, 2], [7, 1], [11, 1], [8, 1], [0, 1], [15, 0], [14, 0], [12, 1], [10, 0], [1, 1], [13, 1], [5, 1], [4, 1], [6, 0], [9, 0], [2, 0]], [[3, 2], [4, 0], [11, 1], [8, 1], [0, 1], [15, 0], [14, 0], [12, 1], [10, 0], [1, 1], [13, 1], [5, 1], [7, 0], [6, 0], [9, 0], [2, 0]], [[7, 1], [3, 0], [11, 1], [8, 1], [0, 1], [15, 0], [1, 1], [12, 1], [10, 0], [14, 0], [13, 1], [5, 1], [4, 1], [2, 0], [9, 0], [6, 1]], [[7, 1], [3, 0], [11, 1], [8, 1], [0, 1], [15, 0], [1, 1], [12, 1], [10, 0], [14, 0], [13, 1], [5, 1], [4, 1], [6, 0], [9, 0], [2, 0]], [[7, 1], [3, 0], [11, 1], [8, 1], [0, 1], [15, 0], [14, 0], [12, 1], [10, 0], [1, 1], [13, 1], [5, 1], [4, 1], [6, 0], [9, 0], [2, 0]], [[3, 2], [7, 1], [11, 1], [8, 1], [0, 1], [15, 0], [14, 0], [12, 1], [10, 0], [1, 1], [13, 1], [5, 1], [4, 1], [6, 0], [9, 0], [2, 0]], [[3, 2], [4, 0], [11, 1], [8, 1], [0, 1], [15, 0], [14, 0], [12, 1], [10, 0], [1, 1], [13, 1], [5, 1], [7, 0], [6, 0], [9, 0], [2, 0]], [[7, 1], [3, 0], [11, 1], [8, 1], [0, 1], [15, 0], [1, 1], [12, 1], [10, 0], [14, 0], [13, 1], [5, 1], [4, 1], [2, 0], [9, 0], [6, 1]], [[7, 1], [3, 0], [11, 1], [8, 1], [0, 1], [15, 0], [1, 1], [12, 1], [10, 0], [14, 0], [13, 1], [5, 1], [4, 1], [6, 0], [9, 0], [2, 0]], [[7, 1], [3, 0], [11, 1], [8, 1], [0, 1], [15, 0], [14, 0], [12, 1], [10, 0], [1, 1], [13, 1], [5, 1], [4, 1], [6, 0], [9, 0], [2, 0]], [[3, 2], [7, 1], [11, 1], [8, 1], [0, 1], [15, 0], [14, 0], [12, 1], [10, 0], [1, 1], [13, 1], [5, 1], [4, 1], [6, 0], [9, 0], [2, 0]], [[3, 2], [4, 0], [11, 1], [8, 1], [0, 1], [15, 0], [14, 0], [12, 1], [10, 0], [1, 1], [13, 1], [5, 1], [7, 0], [6, 0], [9, 0], [2, 0]], [[7, 1], [3, 0], [11, 1], [8, 1], [0, 1], [15, 0], [1, 1], [12, 1], [10, 0], [14, 0], [13, 1], [5, 1], [4, 1], [2, 0], [9, 0], [6, 1]], [[7, 1], [3, 0], [11, 1], [8, 1], [0, 1], [15, 0], [1, 1], [12, 1], [10, 0], [14, 0], [13, 1], [5, 1], [4, 1], [6, 0], [9, 0], [2, 0]], [[7, 1], [3, 0], [11, 1], [8, 1], [0, 1], [15, 0], [14, 0], [12, 1], [10, 0], [1, 1], [13, 1], [5, 1], [4, 1], [6, 0], [9, 0], [2, 0]], [[3, 2], [7, 1], [11, 1], [8, 1], [0, 1], [15, 0], [14, 0], [12, 1], [10, 0], [1, 1], [13, 1], [5, 1], [4, 1], [6, 0], [9, 0], [2, 0]], [[3, 2], [4, 0], [11, 1], [8, 1], [0, 1], [15, 0], [14, 0], [12, 1], [10, 0], [1, 1], [13, 1], [5, 1], [7, 0], [6, 0], [9, 0], [2, 0]], [[7, 1], [3, 0], [11, 1], [8, 1], [0, 1], [15, 0], [1, 1], [12, 1], [10, 0], [14, 0], [13, 1], [5, 1], [4, 1], [2, 0], [9, 0], [6, 1]], [[7, 1], [3, 0], [11, 1], [8, 1], [0, 1], [15, 0], [1, 1], [12, 1], [10, 0], [14, 0], [13, 1], [5, 1], [4, 1], [6, 0], [9, 0], [2, 0]], [[7, 1], [3, 0], [11, 1], [8, 1], [0, 1], [15, 0], [14, 0], [12, 1], [10, 0], [1, 1], [13, 1], [5, 1], [4, 1], [6, 0], [9, 0], [2, 0]], [[3, 2], [7, 1], [11, 1], [8, 1], [0, 1], [15, 0], [14, 0], [12, 1], [10, 0], [1, 1], [13, 1], [5, 1], [4, 1], [6, 0], [9, 0], [2, 0]], [[3, 2], [4, 0], [11, 1], [8, 1], [0, 1], [15, 0], [14, 0], [12, 1], [10, 0], [1, 1], [13, 1], [5, 1], [7, 0], [6, 0], [9, 0], [2, 0]], [[7, 1], [3, 0], [11, 1], [8, 1], [0, 1], [15, 0], [1, 1], [12, 1], [10, 0], [14, 0], [13, 1], [5, 1], [4, 1], [2, 0], [9, 0], [6, 1]], [[7, 1], [3, 0], [11, 1], [8, 1], [0, 1], [15, 0], [1, 1], [12, 1], [10, 0], [14, 0], [13, 1], [5, 1], [4, 1], [6, 0], [9, 0], [2, 0]], [[7, 1], [3, 0], [11, 1], [8, 1], [0, 1], [15, 0], [14, 0], [12, 1], [10, 0], [1, 1], [13, 1], [5, 1], [4, 1], [6, 0], [9, 0], [2, 0]], [[3, 2], [7, 1], [11, 1], [8, 1], [0, 1], [15, 0], [14, 0], [12, 1], [10, 0], [1, 1], [13, 1], [5, 1], [4, 1], [6, 0], [9, 0], [2, 0]], [[3, 2], [4, 0], [11, 1], [8, 1], [0, 1], [15, 0], [14, 0], [12, 1], [10, 0], [1, 1], [13, 1], [5, 1], [7, 0], [6, 0], [9, 0], [2, 0]], [[7, 1], [3, 0], [11, 1], [8, 1], [0, 1], [15, 0], [1, 1], [12, 1], [10, 0], [14, 0], [13, 1], [5, 1], [4, 1], [2, 0], [9, 0], [6, 1]], [[7, 1], [3, 0], [11, 1], [8, 1], [0, 1], [15, 0], [1, 1], [12, 1], [10, 0], [14, 0], [13, 1], [5, 1], [4, 1], [6, 0], [9, 0], [2, 0]], [[7, 1], [3, 0], [11, 1], [8, 1], [0, 1], [15, 0], [14, 0], [12, 1], [10, 0], [1, 1], [13, 1], [5, 1], [4, 1], [6, 0], [9, 0], [2, 0]], [[3, 2], [7, 1], [11, 1], [8, 1], [0, 1], [15, 0], [14, 0], [12, 1], [10, 0], [1, 1], [13, 1], [5, 1], [4, 1], [6, 0], [9, 0], [2, 0]], [[3, 2], [4, 0], [11, 1], [8, 1], [0, 1], [15, 0], [14, 0], [12, 1], [10, 0], [1, 1], [13, 1], [5, 1], [7, 0], [6, 0], [9, 0], [2, 0]], [[7, 1], [3, 0], [11, 1], [8, 1], [0, 1], [15, 0], [1, 1], [12, 1], [10, 0], [14, 0], [13, 1], [5, 1], [4, 1], [2, 0], [9, 0], [6, 1]], [[7, 1], [3, 0], [11, 1], [8, 1], [0, 1], [15, 0], [1, 1], [12, 1], [10, 0], [14, 0], [13, 1], [5, 1], [4, 1], [6, 0], [9, 0], [2, 0]], [[7, 1], [3, 0], [11, 1], [8, 1], [0, 1], [15, 0], [14, 0], [12, 1], [10, 0], [1, 1], [13, 1], [5, 1], [4, 1], [6, 0], [9, 0], [2, 0]], [[3, 2], [7, 1], [11, 1], [8, 1], [0, 1], [15, 0], [14, 0], [12, 1], [10, 0], [1, 1], [13, 1], [5, 1], [4, 1], [6, 0], [9, 0], [2, 0]], [[3, 2], [4, 0], [11, 1], [8, 1], [0, 1], [15, 0], [14, 0], [12, 1], [10, 0], [1, 1], [13, 1], [5, 1], [7, 0], [6, 0], [9, 0], [2, 0]], [[7, 1], [3, 0], [11, 1], [8, 1], [0, 1], [15, 0], [1, 1], [12, 1], [10, 0], [14, 0], [13, 1], [5, 1], [4, 1], [2, 0], [9, 0], [6, 1]], [[7, 1], [3, 0], [11, 1], [8, 1], [0, 1], [15, 0], [1, 1], [12, 1], [10, 0], [14, 0], [13, 1], [5, 1], [4, 1], [6, 0], [9, 0], [2, 0]], [[7, 1], [3, 0], [11, 1], [8, 1], [0, 1], [15, 0], [14, 0], [12, 1], [10, 0], [1, 1], [13, 1], [5, 1], [4, 1], [6, 0], [9, 0], [2, 0]], [[3, 2], [7, 1], [11, 1], [8, 1], [0, 1], [15, 0], [14, 0], [12, 1], [10, 0], [1, 1], [13, 1], [5, 1], [4, 1], [6, 0], [9, 0], [2, 0]], [[3, 2], [4, 0], [11, 1], [8, 1], [0, 1], [15, 0], [14, 0], [12, 1], [10, 0], [1, 1], [13, 1], [5, 1], [7, 0], [6, 0], [9, 0], [2, 0]], [[7, 1], [3, 0], [11, 1], [8, 1], [0, 1], [15, 0], [1, 1], [12, 1], [10, 0], [14, 0], [13, 1], [5, 1], [4, 1], [2, 0], [9, 0], [6, 1]], [[7, 1], [3, 0], [11, 1], [8, 1], [0, 1], [15, 0], [1, 1], [12, 1], [10, 0], [14, 0], [13, 1], [5, 1], [4, 1], [6, 0], [9, 0], [2, 0]], [[7, 1], [3, 0], [11, 1], [8, 1], [0, 1], [15, 0], [14, 0], [12, 1], [10, 0], [1, 1], [13, 1], [5, 1], [4, 1], [6, 0], [9, 0], [2, 0]], [[3, 2], [7, 1], [11, 1], [8, 1], [0, 1], [15, 0], [14, 0], [12, 1], [10, 0], [1, 1], [13, 1], [5, 1], [4, 1], [6, 0], [9, 0], [2, 0]], [[3, 2], [4, 0], [11, 1], [8, 1], [0, 1], [15, 0], [14, 0], [12, 1], [10, 0], [1, 1], [13, 1], [5, 1], [7, 0], [6, 0], [9, 0], [2, 0]], [[7, 1], [3, 0], [11, 1], [8, 1], [0, 1], [15, 0], [1, 1], [12, 1], [10, 0], [14, 0], [13, 1], [5, 1], [4, 1], [2, 0], [9, 0], [6, 1]], [[7, 1], [3, 0], [11, 1], [8, 1], [0, 1], [15, 0], [1, 1], [12, 1], [10, 0], [14, 0], [13, 1], [5, 1], [4, 1], [6, 0], [9, 0], [2, 0]], [[7, 1], [3, 0], [11, 1], [8, 1], [0, 1], [15, 0], [14, 0], [12, 1], [10, 0], [1, 1], [13, 1], [5, 1], [4, 1], [6, 0], [9, 0], [2, 0]], [[3, 2], [7, 1], [11, 1], [8, 1], [0, 1], [15, 0], [14, 0], [12, 1], [10, 0], [1, 1], [13, 1], [5, 1], [4, 1], [6, 0], [9, 0], [2, 0]], [[3, 2], [4, 0], [11, 1], [8, 1], [0, 1], [15, 0], [14, 0], [12, 1], [10, 0], [1, 1], [13, 1], [5, 1], [7, 0], [6, 0], [9, 0], [2, 0]], [[7, 1], [3, 0], [11, 1], [8, 1], [0, 1], [15, 0], [1, 1], [12, 1], [10, 0], [14, 0], [13, 1], [5, 1], [4, 1], [2, 0], [9, 0], [6, 1]], [[7, 1], [3, 0], [11, 1], [8, 1], [0, 1], [15, 0], [1, 1], [12, 1], [10, 0], [14, 0], [13, 1], [5, 1], [4, 1], [6, 0], [9, 0], [2, 0]], [[7, 1], [3, 0], [11, 1], [8, 1], [0, 1], [15, 0], [14, 0], [12, 1], [10, 0], [1, 1], [13, 1], [5, 1], [4, 1], [6, 0], [9, 0], [2, 0]], [[3, 2], [7, 1], [11, 1], [8, 1], [0, 1], [15, 0], [14, 0], [12, 1], [10, 0], [1, 1], [13, 1], [5, 1], [4, 1], [6, 0], [9, 0], [2, 0]], [[3, 2], [4, 0], [11, 1], [8, 1], [0, 1], [15, 0], [14, 0], [12, 1], [10, 0], [1, 1], [13, 1], [5, 1], [7, 0], [6, 0], [9, 0], [2, 0]], [[7, 1], [3, 0], [11, 1], [8, 1], [0, 1], [15, 0], [1, 1], [12, 1], [10, 0], [14, 0], [13, 1], [5, 1], [4, 1], [2, 0], [9, 0], [6, 1]], [[7, 1], [3, 0], [11, 1], [8, 1], [0, 1], [15, 0], [1, 1], [12, 1], [10, 0], [14, 0], [13, 1], [5, 1], [4, 1], [6, 0], [9, 0], [2, 0]], [[7, 1], [3, 0], [11, 1], [8, 1], [0, 1], [15, 0], [14, 0], [12, 1], [10, 0], [1, 1], [13, 1], [5, 1], [4, 1], [6, 0], [9, 0], [2, 0]], [[3, 2], [7, 1], [11, 1], [8, 1], [0, 1], [15, 0], [14, 0], [12, 1], [10, 0], [1, 1], [13, 1], [5, 1], [4, 1], [6, 0], [9, 0], [2, 0]], [[3, 2], [4, 0], [11, 1], [8, 1], [0, 1], [15, 0], [14, 0], [12, 1], [10, 0], [1, 1], [13, 1], [5, 1], [7, 0], [6, 0], [9, 0], [2, 0]], [[7, 1], [3, 0], [11, 1], [8, 1], [0, 1], [15, 0], [1, 1], [12, 1], [10, 0], [14, 0], [13, 1], [5, 1], [4, 1], [2, 0], [9, 0], [6, 1]], [[7, 1], [3, 0], [11, 1], [8, 1], [0, 1], [15, 0], [1, 1], [12, 1], [10, 0], [14, 0], [13, 1], [5, 1], [4, 1], [6, 0], [9, 0], [2, 0]], [[7, 1], [3, 0], [11, 1], [8, 1], [0, 1], [15, 0], [14, 0], [12, 1], [10, 0], [1, 1], [13, 1], [5, 1], [4, 1], [6, 0], [9, 0], [2, 0]], [[3, 2], [7, 1], [11, 1], [8, 1], [0, 1], [15, 0], [14, 0], [12, 1], [10, 0], [1, 1], [13, 1], [5, 1], [4, 1], [6, 0], [9, 0], [2, 0]], [[3, 2], [4, 0], [11, 1], [8, 1], [0, 1], [15, 0], [14, 0], [12, 1], [10, 0], [1, 1], [13, 1], [5, 1], [7, 0], [6, 0], [9, 0], [2, 0]], [[7, 1], [3, 0], [11, 1], [8, 1], [0, 1], [15, 0], [1, 1], [12, 1], [10, 0], [14, 0], [13, 1], [5, 1], [4, 1], [2, 0], [9, 0], [6, 1]], [[7, 1], [3, 0], [11, 1], [8, 1], [0, 1], [15, 0], [1, 1], [12, 1], [10, 0], [14, 0], [13, 1], [5, 1], [4, 1], [6, 0], [9, 0], [2, 0]], [[7, 1], [3, 0], [11, 1], [8, 1], [0, 1], [15, 0], [14, 0], [12, 1], [10, 0], [1, 1], [13, 1], [5, 1], [4, 1], [6, 0], [9, 0], [2, 0]], [[3, 2], [7, 1], [11, 1], [8, 1], [0, 1], [15, 0], [14, 0], [12, 1], [10, 0], [1, 1], [13, 1], [5, 1], [4, 1], [6, 0], [9, 0], [2, 0]], [[3, 2], [4, 0], [11, 1], [8, 1], [0, 1], [15, 0], [14, 0], [12, 1], [10, 0], [1, 1], [13, 1], [5, 1], [7, 0], [6, 0], [9, 0], [2, 0]], [[7, 1], [3, 0], [11, 1], [8, 1], [0, 1], [15, 0], [1, 1], [12, 1], [10, 0], [14, 0], [13, 1], [5, 1], [4, 1], [2, 0], [9, 0], [6, 1]], [[7, 1], [3, 0], [11, 1], [8, 1], [0, 1], [15, 0], [1, 1], [12, 1], [10, 0], [14, 0], [13, 1], [5, 1], [4, 1], [6, 0], [9, 0], [2, 0]], [[7, 1], [3, 0], [11, 1], [8, 1], [0, 1], [15, 0], [14, 0], [12, 1], [10, 0], [1, 1], [13, 1], [5, 1], [4, 1], [6, 0], [9, 0], [2, 0]], [[3, 2], [7, 1], [11, 1], [8, 1], [0, 1], [15, 0], [14, 0], [12, 1], [10, 0], [1, 1], [13, 1], [5, 1], [4, 1], [6, 0], [9, 0], [2, 0]], [[3, 2], [4, 0], [11, 1], [8, 1], [0, 1], [15, 0], [14, 0], [12, 1], [10, 0], [1, 1], [13, 1], [5, 1], [7, 0], [6, 0], [9, 0], [2, 0]], [[7, 1], [3, 0], [11, 1], [8, 1], [0, 1], [15, 0], [1, 1], [12, 1], [10, 0], [14, 0], [13, 1], [5, 1], [4, 1], [2, 0], [9, 0], [6, 1]], [[7, 1], [3, 0], [11, 1], [8, 1], [0, 1], [15, 0], [1, 1], [12, 1], [10, 0], [14, 0], [13, 1], [5, 1], [4, 1], [6, 0], [9, 0], [2, 0]], [[7, 1], [3, 0], [11, 1], [8, 1], [0, 1], [15, 0], [14, 0], [12, 1], [10, 0], [1, 1], [13, 1], [5, 1], [4, 1], [6, 0], [9, 0], [2, 0]], [[3, 2], [7, 1], [11, 1], [8, 1], [0, 1], [15, 0], [14, 0], [12, 1], [10, 0], [1, 1], [13, 1], [5, 1], [4, 1], [6, 0], [9, 0], [2, 0]], [[3, 2], [4, 0], [11, 1], [8, 1], [0, 1], [15, 0], [14, 0], [12, 1], [10, 0], [1, 1], [13, 1], [5, 1], [7, 0], [6, 0], [9, 0], [2, 0]], [[7, 1], [3, 0], [11, 1], [8, 1], [0, 1], [15, 0], [1, 1], [12, 1], [10, 0], [14, 0], [13, 1], [5, 1], [4, 1], [2, 0], [9, 0], [6, 1]], [[7, 1], [3, 0], [11, 1], [8, 1], [0, 1], [15, 0], [1, 1], [12, 1], [10, 0], [14, 0], [13, 1], [5, 1], [4, 1], [6, 0], [9, 0], [2, 0]], [[7, 1], [3, 0], [11, 1], [8, 1], [0, 1], [15, 0], [14, 0], [12, 1], [10, 0], [1, 1], [13, 1], [5, 1], [4, 1], [6, 0], [9, 0], [2, 0]], [[3, 2], [7, 1], [11, 1], [8, 1], [0, 1], [15, 0], [14, 0], [12, 1], [10, 0], [1, 1], [13, 1], [5, 1], [4, 1], [6, 0], [9, 0], [2, 0]], [[3, 2], [4, 0], [11, 1], [8, 1], [0, 1], [15, 0], [14, 0], [12, 1], [10, 0], [1, 1], [13, 1], [5, 1], [7, 0], [6, 0], [9, 0], [2, 0]], [[7, 1], [3, 0], [11, 1], [8, 1], [0, 1], [15, 0], [1, 1], [12, 1], [10, 0], [14, 0], [13, 1], [5, 1], [4, 1], [2, 0], [9, 0], [6, 1]], [[7, 1], [3, 0], [11, 1], [8, 1], [0, 1], [15, 0], [1, 1], [12, 1], [10, 0], [14, 0], [13, 1], [5, 1], [4, 1], [6, 0], [9, 0], [2, 0]], [[7, 1], [3, 0], [11, 1], [8, 1], [0, 1], [15, 0], [14, 0], [12, 1], [10, 0], [1, 1], [13, 1], [5, 1], [4, 1], [6, 0], [9, 0], [2, 0]], [[3, 2], [7, 1], [11, 1], [8, 1], [0, 1], [15, 0], [14, 0], [12, 1], [10, 0], [1, 1], [13, 1], [5, 1], [4, 1], [6, 0], [9, 0], [2, 0]], [[3, 2], [4, 0], [11, 1], [8, 1], [0, 1], [15, 0], [14, 0], [12, 1], [10, 0], [1, 1], [13, 1], [5, 1], [7, 0], [6, 0], [9, 0], [2, 0]], [[7, 1], [3, 0], [11, 1], [8, 1], [0, 1], [15, 0], [1, 1], [12, 1], [10, 0], [14, 0], [13, 1], [5, 1], [4, 1], [2, 0], [9, 0], [6, 1]], [[7, 1], [3, 0], [11, 1], [8, 1], [0, 1], [15, 0], [1, 1], [12, 1], [10, 0], [14, 0], [13, 1], [5, 1], [4, 1], [6, 0], [9, 0], [2, 0]], [[7, 1], [3, 0], [11, 1], [8, 1], [0, 1], [15, 0], [14, 0], [12, 1], [10, 0], [1, 1], [13, 1], [5, 1], [4, 1], [6, 0], [9, 0], [2, 0]], [[3, 2], [7, 1], [11, 1], [8, 1], [0, 1], [15, 0], [14, 0], [12, 1], [10, 0], [1, 1], [13, 1], [5, 1], [4, 1], [6, 0], [9, 0], [2, 0]], [[3, 2], [4, 0], [11, 1], [8, 1], [0, 1], [15, 0], [14, 0], [12, 1], [10, 0], [1, 1], [13, 1], [5, 1], [7, 0], [6, 0], [9, 0], [2, 0]], [[7, 1], [3, 0], [11, 1], [8, 1], [0, 1], [15, 0], [1, 1], [12, 1], [10, 0], [14, 0], [13, 1], [5, 1], [4, 1], [2, 0], [9, 0], [6, 1]], [[7, 1], [3, 0], [11, 1], [8, 1], [0, 1], [15, 0], [1, 1], [12, 1], [10, 0], [14, 0], [13, 1], [5, 1], [4, 1], [6, 0], [9, 0], [2, 0]], [[7, 1], [3, 0], [11, 1], [8, 1], [0, 1], [15, 0], [14, 0], [12, 1], [10, 0], [1, 1], [13, 1], [5, 1], [4, 1], [6, 0], [9, 0], [2, 0]], [[3, 2], [7, 1], [11, 1], [8, 1], [0, 1], [15, 0], [14, 0], [12, 1], [10, 0], [1, 1], [13, 1], [5, 1], [4, 1], [6, 0], [9, 0], [2, 0]], [[3, 2], [4, 0], [11, 1], [8, 1], [0, 1], [15, 0], [14, 0], [12, 1], [10, 0], [1, 1], [13, 1], [5, 1], [7, 0], [6, 0], [9, 0], [2, 0]], [[7, 1], [3, 0], [11, 1], [8, 1], [0, 1], [15, 0], [1, 1], [12, 1], [10, 0], [14, 0], [13, 1], [5, 1], [4, 1], [2, 0], [9, 0], [6, 1]], [[7, 1], [3, 0], [11, 1], [8, 1], [0, 1], [15, 0], [1, 1], [12, 1], [10, 0], [14, 0], [13, 1], [5, 1], [4, 1], [6, 0], [9, 0], [2, 0]], [[7, 1], [3, 0], [11, 1], [8, 1], [0, 1], [15, 0], [14, 0], [12, 1], [10, 0], [1, 1], [13, 1], [5, 1], [4, 1], [6, 0], [9, 0], [2, 0]], [[3, 2], [7, 1], [11, 1], [8, 1], [0, 1], [15, 0], [14, 0], [12, 1], [10, 0], [1, 1], [13, 1], [5, 1], [4, 1], [6, 0], [9, 0], [2, 0]], [[3, 2], [4, 0], [11, 1], [8, 1], [0, 1], [15, 0], [14, 0], [12, 1], [10, 0], [1, 1], [13, 1], [5, 1], [7, 0], [6, 0], [9, 0], [2, 0]], [[7, 1], [3, 0], [11, 1], [8, 1], [0, 1], [15, 0], [1, 1], [12, 1], [10, 0], [14, 0], [13, 1], [5, 1], [4, 1], [2, 0], [9, 0], [6, 1]], [[7, 1], [3, 0], [11, 1], [8, 1], [0, 1], [15, 0], [1, 1], [12, 1], [10, 0], [14, 0], [13, 1], [5, 1], [4, 1], [6, 0], [9, 0], [2, 0]], [[7, 1], [3, 0], [11, 1], [8, 1], [0, 1], [15, 0], [14, 0], [12, 1], [10, 0], [1, 1], [13, 1], [5, 1], [4, 1], [6, 0], [9, 0], [2, 0]], [[3, 2], [7, 1], [11, 1], [8, 1], [0, 1], [15, 0], [14, 0], [12, 1], [10, 0], [1, 1], [13, 1], [5, 1], [4, 1], [6, 0], [9, 0], [2, 0]], [[3, 2], [4, 0], [11, 1], [8, 1], [0, 1], [15, 0], [14, 0], [12, 1], [10, 0], [1, 1], [13, 1], [5, 1], [7, 0], [6, 0], [9, 0], [2, 0]], [[7, 1], [3, 0], [11, 1], [8, 1], [0, 1], [15, 0], [1, 1], [12, 1], [10, 0], [14, 0], [13, 1], [5, 1], [4, 1], [2, 0], [9, 0], [6, 1]], [[7, 1], [3, 0], [11, 1], [8, 1], [0, 1], [15, 0], [1, 1], [12, 1], [10, 0], [14, 0], [13, 1], [5, 1], [4, 1], [6, 0], [9, 0], [2, 0]], [[7, 1], [3, 0], [11, 1], [8, 1], [0, 1], [15, 0], [14, 0], [12, 1], [10, 0], [1, 1], [13, 1], [5, 1], [4, 1], [6, 0], [9, 0], [2, 0]], [[3, 2], [7, 1], [11, 1], [8, 1], [0, 1], [15, 0], [14, 0], [12, 1], [10, 0], [1, 1], [13, 1], [5, 1], [4, 1], [6, 0], [9, 0], [2, 0]], [[3, 2], [4, 0], [11, 1], [8, 1], [0, 1], [15, 0], [14, 0], [12, 1], [10, 0], [1, 1], [13, 1], [5, 1], [7, 0], [6, 0], [9, 0], [2, 0]], [[7, 1], [3, 0], [11, 1], [8, 1], [0, 1], [15, 0], [1, 1], [12, 1], [10, 0], [14, 0], [13, 1], [5, 1], [4, 1], [2, 0], [9, 0], [6, 1]], [[7, 1], [3, 0], [11, 1], [8, 1], [0, 1], [15, 0], [1, 1], [12, 1], [10, 0], [14, 0], [13, 1], [5, 1], [4, 1], [6, 0], [9, 0], [2, 0]], [[7, 1], [3, 0], [11, 1], [8, 1], [0, 1], [15, 0], [14, 0], [12, 1], [10, 0], [1, 1], [13, 1], [5, 1], [4, 1], [6, 0], [9, 0], [2, 0]], [[3, 2], [7, 1], [11, 1], [8, 1], [0, 1], [15, 0], [14, 0], [12, 1], [10, 0], [1, 1], [13, 1], [5, 1], [4, 1], [6, 0], [9, 0], [2, 0]], [[3, 2], [4, 0], [11, 1], [8, 1], [0, 1], [15, 0], [14, 0], [12, 1], [10, 0], [1, 1], [13, 1], [5, 1], [7, 0], [6, 0], [9, 0], [2, 0]], [[7, 1], [3, 0], [11, 1], [8, 1], [0, 1], [15, 0], [1, 1], [12, 1], [10, 0], [14, 0], [13, 1], [5, 1], [4, 1], [2, 0], [9, 0], [6, 1]], [[7, 1], [3, 0], [11, 1], [8, 1], [0, 1], [15, 0], [1, 1], [12, 1], [10, 0], [14, 0], [13, 1], [5, 1], [4, 1], [6, 0], [9, 0], [2, 0]], [[7, 1], [3, 0], [11, 1], [8, 1], [0, 1], [15, 0], [14, 0], [12, 1], [10, 0], [1, 1], [13, 1], [5, 1], [4, 1], [6, 0], [9, 0], [2, 0]], [[3, 2], [7, 1], [11, 1], [8, 1], [0, 1], [15, 0], [14, 0], [12, 1], [10, 0], [1, 1], [13, 1], [5, 1], [4, 1], [6, 0], [9, 0], [2, 0]], [[3, 2], [4, 0], [11, 1], [8, 1], [0, 1], [15, 0], [14, 0], [12, 1], [10, 0], [1, 1], [13, 1], [5, 1], [7, 0], [6, 0], [9, 0], [2, 0]], [[7, 1], [3, 0], [11, 1], [8, 1], [0, 1], [15, 0], [1, 1], [12, 1], [10, 0], [14, 0], [13, 1], [5, 1], [4, 1], [2, 0], [9, 0], [6, 1]], [[7, 1], [3, 0], [11, 1], [8, 1], [0, 1], [15, 0], [1, 1], [12, 1], [10, 0], [14, 0], [13, 1], [5, 1], [4, 1], [6, 0], [9, 0], [2, 0]], [[7, 1], [3, 0], [11, 1], [8, 1], [0, 1], [15, 0], [14, 0], [12, 1], [10, 0], [1, 1], [13, 1], [5, 1], [4, 1], [6, 0], [9, 0], [2, 0]], [[3, 2], [7, 1], [11, 1], [8, 1], [0, 1], [15, 0], [14, 0], [12, 1], [10, 0], [1, 1], [13, 1], [5, 1], [4, 1], [6, 0], [9, 0], [2, 0]], [[3, 2], [4, 0], [11, 1], [8, 1], [0, 1], [15, 0], [14, 0], [12, 1], [10, 0], [1, 1], [13, 1], [5, 1], [7, 0], [6, 0], [9, 0], [2, 0]], [[7, 1], [3, 0], [11, 1], [8, 1], [0, 1], [15, 0], [1, 1], [12, 1], [10, 0], [14, 0], [13, 1], [5, 1], [4, 1], [2, 0], [9, 0], [6, 1]], [[7, 1], [3, 0], [11, 1], [8, 1], [0, 1], [15, 0], [1, 1], [12, 1], [10, 0], [14, 0], [13, 1], [5, 1], [4, 1], [6, 0], [9, 0], [2, 0]], [[7, 1], [3, 0], [11, 1], [8, 1], [0, 1], [15, 0], [14, 0], [12, 1], [10, 0], [1, 1], [13, 1], [5, 1], [4, 1], [6, 0], [9, 0], [2, 0]], [[3, 2], [7, 1], [11, 1], [8, 1], [0, 1], [15, 0], [14, 0], [12, 1], [10, 0], [1, 1], [13, 1], [5, 1], [4, 1], [6, 0], [9, 0], [2, 0]], [[3, 2], [4, 0], [11, 1], [8, 1], [0, 1], [15, 0], [14, 0], [12, 1], [10, 0], [1, 1], [13, 1], [5, 1], [7, 0], [6, 0], [9, 0], [2, 0]], [[7, 1], [3, 0], [11, 1], [8, 1], [0, 1], [15, 0], [1, 1], [12, 1], [10, 0], [14, 0], [13, 1], [5, 1], [4, 1], [2, 0], [9, 0], [6, 1]], [[7, 1], [3, 0], [11, 1], [8, 1], [0, 1], [15, 0], [1, 1], [12, 1], [10, 0], [14, 0], [13, 1], [5, 1], [4, 1], [6, 0], [9, 0], [2, 0]], [[7, 1], [3, 0], [11, 1], [8, 1], [0, 1], [15, 0], [14, 0], [12, 1], [10, 0], [1, 1], [13, 1], [5, 1], [4, 1], [6, 0], [9, 0], [2, 0]], [[3, 2], [7, 1], [11, 1], [8, 1], [0, 1], [15, 0], [14, 0], [12, 1], [10, 0], [1, 1], [13, 1], [5, 1], [4, 1], [6, 0], [9, 0], [2, 0]], [[3, 2], [4, 0], [11, 1], [8, 1], [0, 1], [15, 0], [14, 0], [12, 1], [10, 0], [1, 1], [13, 1], [5, 1], [7, 0], [6, 0], [9, 0], [2, 0]], [[7, 1], [3, 0], [11, 1], [8, 1], [0, 1], [15, 0], [1, 1], [12, 1], [10, 0], [14, 0], [13, 1], [5, 1], [4, 1], [2, 0], [9, 0], [6, 1]], [[7, 1], [3, 0], [11, 1], [8, 1], [0, 1], [15, 0], [1, 1], [12, 1], [10, 0], [14, 0], [13, 1], [5, 1], [4, 1], [6, 0], [9, 0], [2, 0]], [[7, 1], [3, 0], [11, 1], [8, 1], [0, 1], [15, 0], [14, 0], [12, 1], [10, 0], [1, 1], [13, 1], [5, 1], [4, 1], [6, 0], [9, 0], [2, 0]], [[3, 2], [7, 1], [11, 1], [8, 1], [0, 1], [15, 0], [14, 0], [12, 1], [10, 0], [1, 1], [13, 1], [5, 1], [4, 1], [6, 0], [9, 0], [2, 0]], [[3, 2], [4, 0], [11, 1], [8, 1], [0, 1], [15, 0], [14, 0], [12, 1], [10, 0], [1, 1], [13, 1], [5, 1], [7, 0], [6, 0], [9, 0], [2, 0]], [[7, 1], [3, 0], [11, 1], [8, 1], [0, 1], [15, 0], [1, 1], [12, 1], [10, 0], [14, 0], [13, 1], [5, 1], [4, 1], [2, 0], [9, 0], [6, 1]], [[7, 1], [3, 0], [11, 1], [8, 1], [0, 1], [15, 0], [1, 1], [12, 1], [10, 0], [14, 0], [13, 1], [5, 1], [4, 1], [6, 0], [9, 0], [2, 0]], [[7, 1], [3, 0], [11, 1], [8, 1], [0, 1], [15, 0], [14, 0], [12, 1], [10, 0], [1, 1], [13, 1], [5, 1], [4, 1], [6, 0], [9, 0], [2, 0]], [[3, 2], [7, 1], [11, 1], [8, 1], [0, 1], [15, 0], [14, 0], [12, 1], [10, 0], [1, 1], [13, 1], [5, 1], [4, 1], [6, 0], [9, 0], [2, 0]], [[3, 2], [4, 0], [11, 1], [8, 1], [0, 1], [15, 0], [14, 0], [12, 1], [10, 0], [1, 1], [13, 1], [5, 1], [7, 0], [6, 0], [9, 0], [2, 0]], [[7, 1], [3, 0], [11, 1], [8, 1], [0, 1], [15, 0], [1, 1], [12, 1], [10, 0], [14, 0], [13, 1], [5, 1], [4, 1], [2, 0], [9, 0], [6, 1]], [[7, 1], [3, 0], [11, 1], [8, 1], [0, 1], [15, 0], [1, 1], [12, 1], [10, 0], [14, 0], [13, 1], [5, 1], [4, 1], [6, 0], [9, 0], [2, 0]], [[7, 1], [3, 0], [11, 1], [8, 1], [0, 1], [15, 0], [14, 0], [12, 1], [10, 0], [1, 1], [13, 1], [5, 1], [4, 1], [6, 0], [9, 0], [2, 0]], [[3, 2], [7, 1], [11, 1], [8, 1], [0, 1], [15, 0], [14, 0], [12, 1], [10, 0], [1, 1], [13, 1], [5, 1], [4, 1], [6, 0], [9, 0], [2, 0]], [[3, 2], [4, 0], [11, 1], [8, 1], [0, 1], [15, 0], [14, 0], [12, 1], [10, 0], [1, 1], [13, 1], [5, 1], [7, 0], [6, 0], [9, 0], [2, 0]], [[7, 1], [3, 0], [11, 1], [8, 1], [0, 1], [15, 0], [1, 1], [12, 1], [10, 0], [14, 0], [13, 1], [5, 1], [4, 1], [2, 0], [9, 0], [6, 1]], [[7, 1], [3, 0], [11, 1], [8, 1], [0, 1], [15, 0], [1, 1], [12, 1], [10, 0], [14, 0], [13, 1], [5, 1], [4, 1], [6, 0], [9, 0], [2, 0]], [[7, 1], [3, 0], [11, 1], [8, 1], [0, 1], [15, 0], [14, 0], [12, 1], [10, 0], [1, 1], [13, 1], [5, 1], [4, 1], [6, 0], [9, 0], [2, 0]], [[3, 2], [7, 1], [11, 1], [8, 1], [0, 1], [15, 0], [14, 0], [12, 1], [10, 0], [1, 1], [13, 1], [5, 1], [4, 1], [6, 0], [9, 0], [2, 0]], [[3, 2], [4, 0], [11, 1], [8, 1], [0, 1], [15, 0], [14, 0], [12, 1], [10, 0], [1, 1], [13, 1], [5, 1], [7, 0], [6, 0], [9, 0], [2, 0]], [[7, 1], [3, 0], [11, 1], [8, 1], [0, 1], [15, 0], [1, 1], [12, 1], [10, 0], [14, 0], [13, 1], [5, 1], [4, 1], [2, 0], [9, 0], [6, 1]], [[7, 1], [3, 0], [11, 1], [8, 1], [0, 1], [15, 0], [1, 1], [12, 1], [10, 0], [14, 0], [13, 1], [5, 1], [4, 1], [6, 0], [9, 0], [2, 0]], [[7, 1], [3, 0], [11, 1], [8, 1], [0, 1], [15, 0], [14, 0], [12, 1], [10, 0], [1, 1], [13, 1], [5, 1], [4, 1], [6, 0], [9, 0], [2, 0]], [[3, 2], [7, 1], [11, 1], [8, 1], [0, 1], [15, 0], [14, 0], [12, 1], [10, 0], [1, 1], [13, 1], [5, 1], [4, 1], [6, 0], [9, 0], [2, 0]], [[3, 2], [4, 0], [11, 1], [8, 1], [0, 1], [15, 0], [14, 0], [12, 1], [10, 0], [1, 1], [13, 1], [5, 1], [7, 0], [6, 0], [9, 0], [2, 0]], [[7, 1], [3, 0], [11, 1], [8, 1], [0, 1], [15, 0], [1, 1], [12, 1], [10, 0], [14, 0], [13, 1], [5, 1], [4, 1], [2, 0], [9, 0], [6, 1]], [[7, 1], [3, 0], [11, 1], [8, 1], [0, 1], [15, 0], [1, 1], [12, 1], [10, 0], [14, 0], [13, 1], [5, 1], [4, 1], [6, 0], [9, 0], [2, 0]], [[7, 1], [3, 0], [11, 1], [8, 1], [0, 1], [15, 0], [14, 0], [12, 1], [10, 0], [1, 1], [13, 1], [5, 1], [4, 1], [6, 0], [9, 0], [2, 0]], [[3, 2], [7, 1], [11, 1], [8, 1], [0, 1], [15, 0], [14, 0], [12, 1], [10, 0], [1, 1], [13, 1], [5, 1], [4, 1], [6, 0], [9, 0], [2, 0]], [[3, 2], [4, 0], [11, 1], [8, 1], [0, 1], [15, 0], [14, 0], [12, 1], [10, 0], [1, 1], [13, 1], [5, 1], [7, 0], [6, 0], [9, 0], [2, 0]], [[7, 1], [3, 0], [11, 1], [8, 1], [0, 1], [15, 0], [1, 1], [12, 1], [10, 0], [14, 0], [13, 1], [5, 1], [4, 1], [2, 0], [9, 0], [6, 1]], [[7, 1], [3, 0], [11, 1], [8, 1], [0, 1], [15, 0], [1, 1], [12, 1], [10, 0], [14, 0], [13, 1], [5, 1], [4, 1], [6, 0], [9, 0], [2, 0]], [[7, 1], [3, 0], [11, 1], [8, 1], [0, 1], [15, 0], [14, 0], [12, 1], [10, 0], [1, 1], [13, 1], [5, 1], [4, 1], [6, 0], [9, 0], [2, 0]], [[3, 2], [7, 1], [11, 1], [8, 1], [0, 1], [15, 0], [14, 0], [12, 1], [10, 0], [1, 1], [13, 1], [5, 1], [4, 1], [6, 0], [9, 0], [2, 0]], [[3, 2], [4, 0], [11, 1], [8, 1], [0, 1], [15, 0], [14, 0], [12, 1], [10, 0], [1, 1], [13, 1], [5, 1], [7, 0], [6, 0], [9, 0], [2, 0]], [[7, 1], [3, 0], [11, 1], [8, 1], [0, 1], [15, 0], [1, 1], [12, 1], [10, 0], [14, 0], [13, 1], [5, 1], [4, 1], [2, 0], [9, 0], [6, 1]], [[7, 1], [3, 0], [11, 1], [8, 1], [0, 1], [15, 0], [1, 1], [12, 1], [10, 0], [14, 0], [13, 1], [5, 1], [4, 1], [6, 0], [9, 0], [2, 0]], [[7, 1], [3, 0], [11, 1], [8, 1], [0, 1], [15, 0], [14, 0], [12, 1], [10, 0], [1, 1], [13, 1], [5, 1], [4, 1], [6, 0], [9, 0], [2, 0]], [[3, 2], [7, 1], [11, 1], [8, 1], [0, 1], [15, 0], [14, 0], [12, 1], [10, 0], [1, 1], [13, 1], [5, 1], [4, 1], [6, 0], [9, 0], [2, 0]], [[3, 2], [4, 0], [11, 1], [8, 1], [0, 1], [15, 0], [14, 0], [12, 1], [10, 0], [1, 1], [13, 1], [5, 1], [7, 0], [6, 0], [9, 0], [2, 0]], [[7, 1], [3, 0], [11, 1], [8, 1], [0, 1], [15, 0], [1, 1], [12, 1], [10, 0], [14, 0], [13, 1], [5, 1], [4, 1], [2, 0], [9, 0], [6, 1]], [[7, 1], [3, 0], [11, 1], [8, 1], [0, 1], [15, 0], [1, 1], [12, 1], [10, 0], [14, 0], [13, 1], [5, 1], [4, 1], [6, 0], [9, 0], [2, 0]], [[7, 1], [3, 0], [11, 1], [8, 1], [0, 1], [15, 0], [14, 0], [12, 1], [10, 0], [1, 1], [13, 1], [5, 1], [4, 1], [6, 0], [9, 0], [2, 0]], [[3, 2], [7, 1], [11, 1], [8, 1], [0, 1], [15, 0], [14, 0], [12, 1], [10, 0], [1, 1], [13, 1], [5, 1], [4, 1], [6, 0], [9, 0], [2, 0]], [[3, 2], [4, 0], [11, 1], [8, 1], [0, 1], [15, 0], [14, 0], [12, 1], [10, 0], [1, 1], [13, 1], [5, 1], [7, 0], [6, 0], [9, 0], [2, 0]], [[7, 1], [3, 0], [11, 1], [8, 1], [0, 1], [15, 0], [1, 1], [12, 1], [10, 0], [14, 0], [13, 1], [5, 1], [4, 1], [2, 0], [9, 0], [6, 1]], [[7, 1], [3, 0], [11, 1], [8, 1], [0, 1], [15, 0], [1, 1], [12, 1], [10, 0], [14, 0], [13, 1], [5, 1], [4, 1], [6, 0], [9, 0], [2, 0]], [[7, 1], [3, 0], [11, 1], [8, 1], [0, 1], [15, 0], [14, 0], [12, 1], [10, 0], [1, 1], [13, 1], [5, 1], [4, 1], [6, 0], [9, 0], [2, 0]], [[3, 2], [7, 1], [11, 1], [8, 1], [0, 1], [15, 0], [14, 0], [12, 1], [10, 0], [1, 1], [13, 1], [5, 1], [4, 1], [6, 0], [9, 0], [2, 0]], [[3, 2], [4, 0], [11, 1], [8, 1], [0, 1], [15, 0], [14, 0], [12, 1], [10, 0], [1, 1], [13, 1], [5, 1], [7, 0], [6, 0], [9, 0], [2, 0]], [[7, 1], [3, 0], [11, 1], [8, 1], [0, 1], [15, 0], [1, 1], [12, 1], [10, 0], [14, 0], [13, 1], [5, 1], [4, 1], [2, 0], [9, 0], [6, 1]], [[7, 1], [3, 0], [11, 1], [8, 1], [0, 1], [15, 0], [1, 1], [12, 1], [10, 0], [14, 0], [13, 1], [5, 1], [4, 1], [6, 0], [9, 0], [2, 0]], [[7, 1], [3, 0], [11, 1], [8, 1], [0, 1], [15, 0], [14, 0], [12, 1], [10, 0], [1, 1], [13, 1], [5, 1], [4, 1], [6, 0], [9, 0], [2, 0]], [[3, 2], [7, 1], [11, 1], [8, 1], [0, 1], [15, 0], [14, 0], [12, 1], [10, 0], [1, 1], [13, 1], [5, 1], [4, 1], [6, 0], [9, 0], [2, 0]], [[3, 2], [4, 0], [11, 1], [8, 1], [0, 1], [15, 0], [14, 0], [12, 1], [10, 0], [1, 1], [13, 1], [5, 1], [7, 0], [6, 0], [9, 0], [2, 0]], [[7, 1], [3, 0], [11, 1], [8, 1], [0, 1], [15, 0], [1, 1], [12, 1], [10, 0], [14, 0], [13, 1], [5, 1], [4, 1], [2, 0], [9, 0], [6, 1]], [[7, 1], [3, 0], [11, 1], [8, 1], [0, 1], [15, 0], [1, 1], [12, 1], [10, 0], [14, 0], [13, 1], [5, 1], [4, 1], [6, 0], [9, 0], [2, 0]], [[7, 1], [3, 0], [11, 1], [8, 1], [0, 1], [15, 0], [14, 0], [12, 1], [10, 0], [1, 1], [13, 1], [5, 1], [4, 1], [6, 0], [9, 0], [2, 0]], [[3, 2], [7, 1], [11, 1], [8, 1], [0, 1], [15, 0], [14, 0], [12, 1], [10, 0], [1, 1], [13, 1], [5, 1], [4, 1], [6, 0], [9, 0], [2, 0]], [[3, 2], [4, 0], [11, 1], [8, 1], [0, 1], [15, 0], [14, 0], [12, 1], [10, 0], [1, 1], [13, 1], [5, 1], [7, 0], [6, 0], [9, 0], [2, 0]]]};"
      ],
      "text/plain": [
       "<IPython.core.display.Javascript object>"
      ]
     },
     "metadata": {},
     "output_type": "display_data"
    }
   ],
   "source": [
    "board = Permutation(\n",
    "    [[i, 0] for i in range(N_TRIANGLES)],\n",
    "    (\n",
    "        ((7,1),(3,0),(11,1),(8,1),(0,1),(15,0),(1,1),(12,1),(10,0),(14,0),(13,1),(5,1),(4,1),(2,0),(9,0),(6,1)),\n",
    "        ((7,1),(3,0),(11,1),(8,1),(0,1),(15,0),(1,1),(12,1),(10,0),(14,0),(13,1),(5,1),(4,1),(6,0),(9,0),(2,0)),\n",
    "        ((7,1),(3,0),(11,1),(8,1),(0,1),(15,0),(14,0),(12,1),(10,0),(1,1),(13,1),(5,1),(4,1),(6,0),(9,0),(2,0)),\n",
    "        ((3,2),(7,1),(11,1),(8,1),(0,1),(15,0),(14,0),(12,1),(10,0),(1,1),(13,1),(5,1),(4,1),(6,0),(9,0),(2,0)),\n",
    "        ((3,2),(4,0),(11,1),(8,1),(0,1),(15,0),(14,0),(12,1),(10,0),(1,1),(13,1),(5,1),(7,0),(6,0),(9,0),(2,0))\n",
    "    ) * 100\n",
    ")\n",
    "send_to_js('testAnimatedBoard', board)"
   ]
  },
  {
   "cell_type": "code",
   "execution_count": 20,
   "metadata": {},
   "outputs": [
    {
     "data": {
      "application/javascript": [
       "\n",
       "animateBoard('animatedBoard', 'testAnimatedBoard', element, 0, 5000)"
      ],
      "text/plain": [
       "<IPython.core.display.Javascript object>"
      ]
     },
     "metadata": {},
     "output_type": "display_data"
    }
   ],
   "source": [
    "%%javascript\n",
    "\n",
    "animateBoard('animatedBoard', 'testAnimatedBoard', element, 0, 5000)"
   ]
  },
  {
   "cell_type": "markdown",
   "metadata": {},
   "source": [
    "## Stochastic Search"
   ]
  },
  {
   "cell_type": "markdown",
   "metadata": {},
   "source": [
    "### Scoring function\n",
    "\n",
    "The key part when using a stochastic search approach (Genetic Algorithms, Simulated Annealing) is the **scoring function** (also called fitness function). The function should return a score for a given state, to rate the quality of the current solution.\n",
    "\n",
    "For this puzzle, there can be more than one valid scoring function. A simple one can be defined as the number of triangles correctly placed on the board. To know if a triangle is correctly placed, all its colors must match the ones from the adjacent neighbors."
   ]
  },
  {
   "cell_type": "markdown",
   "metadata": {},
   "source": [
    "#### Generating the function\n",
    "\n",
    "Similar to one of the previous puzzles (see [Aristote Number Puzzle](https://jtp.io/2017/01/12/aristotle-number-puzzle.html)), we can generate the scoring function instead of going through the logic every time.\n",
    "\n",
    "The scoring function should give a good indication of how good the placement of the triangles is."
   ]
  },
  {
   "cell_type": "code",
   "execution_count": 21,
   "metadata": {},
   "outputs": [
    {
     "data": {
      "text/plain": [
       "array([ 1,  4,  9, 16])"
      ]
     },
     "execution_count": 21,
     "metadata": {},
     "output_type": "execute_result"
    }
   ],
   "source": [
    "import numpy as np\n",
    "\n",
    "cumsum = np.cumsum([2 * k + 1 for k in range(4)])\n",
    "cumsum"
   ]
  },
  {
   "cell_type": "code",
   "execution_count": 22,
   "metadata": {},
   "outputs": [],
   "source": [
    "def pack(j, i, c):\n",
    "    return sum(2 * k + 1 for k in range(j)) + i\n",
    "\n",
    "def tri(j, i, c):\n",
    "    n = pack(j, i, c)\n",
    "    return f'triangles[p[{n}][0]][{c}-p[{n}][1]]'\n",
    "\n",
    "def unpack(triangle_id):\n",
    "    j = next(i for i, s in enumerate(cumsum) if s > triangle_id)\n",
    "    i = 2 * j + 1\n",
    "    k = max(0, triangle_id - cumsum[max(0, j - 1)] )\n",
    "    return (j, i, k)"
   ]
  },
  {
   "cell_type": "code",
   "execution_count": 23,
   "metadata": {},
   "outputs": [
    {
     "data": {
      "text/plain": [
       "['triangles[p[2][0]][0-p[2][1]] == triangles[p[0][0]][0-p[0][1]]',\n",
       " 'triangles[p[2][0]][2-p[2][1]] == triangles[p[1][0]][2-p[1][1]]',\n",
       " 'triangles[p[2][0]][1-p[2][1]] == triangles[p[3][0]][1-p[3][1]]']"
      ]
     },
     "execution_count": 23,
     "metadata": {},
     "output_type": "execute_result"
    }
   ],
   "source": [
    "def generate_score_triangle(triangle_id, reverse=False):\n",
    "    j, i, k = unpack(triangle_id)\n",
    "    code = []\n",
    "    if k == 0:\n",
    "        # on the left edge\n",
    "        code.append(f'{tri(j, k, 2)} == Board.LEFT[{j}]')\n",
    "\n",
    "    if k == i - 1:\n",
    "        # on the right edge\n",
    "        code.append(f'{tri(j, k, 1)} == Board.RIGHT[{j}]')\n",
    "\n",
    "    if j == 3 and k % 2 == 0:\n",
    "        # on the bottom edge\n",
    "        code.append(f'{tri(j, k, 0)} == Board.BOTTOM[{k//2}]')\n",
    "\n",
    "    if k % 2 == 0:\n",
    "        # normal orientation (facing up)\n",
    "        if j < 3:\n",
    "            # match with line below\n",
    "            code.append(f'{tri(j, k, 0)} == {tri(j + 1, k + 1, 0)}')\n",
    "        if k > 0:\n",
    "            # match with triangle on the left\n",
    "            code.append(f'{tri(j, k, 2)} == {tri(j, k - 1, 2)}')\n",
    "        if k < i - 1:\n",
    "            # match with triangle on the right\n",
    "            code.append(f'{tri(j, k, 1)} == {tri(j, k + 1, 1)}')\n",
    "            \n",
    "    if k % 2 == 1 and reverse:\n",
    "        # reverse orientation (facing down)\n",
    "        # match with line above\n",
    "        code.append(f'{tri(j, k, 0)} == {tri(j - 1, k - 1, 0)}')\n",
    "        # match with triangle on the left\n",
    "        code.append(f'{tri(j, k, 2)} == {tri(j, k - 1, 2)}')\n",
    "        # match with triangle on the right\n",
    "        code.append(f'{tri(j, k, 1)} == {tri(j, k + 1, 1)}')\n",
    "        \n",
    "    return code\n",
    "\n",
    "generate_score_triangle(2, True)"
   ]
  },
  {
   "cell_type": "code",
   "execution_count": 24,
   "metadata": {},
   "outputs": [
    {
     "name": "stdout",
     "output_type": "stream",
     "text": [
      "Code:\n",
      "triangle_scoring = [\n",
      "\t\tlambda p: sum((triangles[p[0][0]][2-p[0][1]] == Board.LEFT[0], triangles[p[0][0]][1-p[0][1]] == Board.RIGHT[0], triangles[p[0][0]][0-p[0][1]] == triangles[p[2][0]][0-p[2][1]])),\n",
      "\t\tlambda p: sum((triangles[p[1][0]][2-p[1][1]] == Board.LEFT[1], triangles[p[1][0]][0-p[1][1]] == triangles[p[5][0]][0-p[5][1]], triangles[p[1][0]][1-p[1][1]] == triangles[p[2][0]][1-p[2][1]])),\n",
      "\t\tlambda p: sum((triangles[p[2][0]][0-p[2][1]] == triangles[p[0][0]][0-p[0][1]], triangles[p[2][0]][2-p[2][1]] == triangles[p[1][0]][2-p[1][1]], triangles[p[2][0]][1-p[2][1]] == triangles[p[3][0]][1-p[3][1]])),\n",
      "\t\tlambda p: sum((triangles[p[3][0]][1-p[3][1]] == Board.RIGHT[1], triangles[p[3][0]][0-p[3][1]] == triangles[p[7][0]][0-p[7][1]], triangles[p[3][0]][2-p[3][1]] == triangles[p[2][0]][2-p[2][1]])),\n",
      "\t\tlambda p: sum((triangles[p[4][0]][2-p[4][1]] == Board.LEFT[2], triangles[p[4][0]][0-p[4][1]] == triangles[p[10][0]][0-p[10][1]], triangles[p[4][0]][1-p[4][1]] == triangles[p[5][0]][1-p[5][1]])),\n",
      "\n",
      "Evaluating the code...\n",
      "done.\n"
     ]
    }
   ],
   "source": [
    "def generate_all_triangle_scoring():\n",
    "    code = []\n",
    "    for n in range(N_TRIANGLES):\n",
    "        code += [f'lambda p: sum(({\", \".join(generate_score_triangle(n, True))}))']\n",
    "        \n",
    "    return 'triangle_scoring = [\\n\\t\\t' + ',\\n\\t\\t'.join(code) + ']'\n",
    "\n",
    "code = generate_all_triangle_scoring()\n",
    "print('Code:')\n",
    "print(code[:1000])\n",
    "print('Evaluating the code...')\n",
    "exec(code)\n",
    "assert 'triangle_scoring' in globals()\n",
    "print('done.')"
   ]
  },
  {
   "cell_type": "code",
   "execution_count": 25,
   "metadata": {},
   "outputs": [
    {
     "name": "stdout",
     "output_type": "stream",
     "text": [
      "Code:\n",
      "def scoring (p):\n",
      "\treturn sum((\n",
      "\t\ttriangles[p[0][0]][2-p[0][1]] == Board.LEFT[0],\n",
      "\t\ttriangles[p[0][0]][1-p[0][1]] == Board.RIGHT[0],\n",
      "\t\ttriangles[p[0][0]][0-p[0][1]] == triangles[p[2][0]][0-p[2][1]],\n",
      "\t\ttriangles[p[1][0]][2-p[1][1]] == Board.LEFT[1],\n",
      "\t\ttriangles[p[1][0]][0-p[1][1]] == triangles[p[5][0]][0-p[5][1]],\n",
      "\t\ttriangles[p[1][0]][1-p[1][1]] == triangles[p[2][0]][1-p[2][1]],\n",
      "\t\ttriangles[p[3][0]][1-p[3][1]] == Board.RIGHT[1],\n",
      "\t\ttriangles[p[3][0]][0-p[3][1]] == triangles[p[7][0]][0-p[7][1]],\n",
      "\t\ttriangles[p[3][0]][2-p[3][1]] == triangles[p[2][0]][2-p[2][1]],\n",
      "\t\ttriangles[p[4][0]][2-p[4][1]] == Board.LEFT[2],\n",
      "\t\ttriangles[p[4][0]][0-p[4][1]] == triangles[p[10][0]][0-p[10][1]],\n",
      "\t\ttriangles[p[4][0]][1-p[4][1]] == triangles[p[5][0]][1-p[5][1]],\n",
      "\t\ttriangles[p[6][0]][0-p[6][1]] == triangles[p[12][0]][0-p[12][1]],\n",
      "\t\ttriangles[p[6][0]][2-p[6][1]] == triangles[p[5][0]][2-p[5][1]],\n",
      "\t\ttriangles[p[6][0]][1-p[6][1]] == triangles[p[7][0]][1-p[7][1]],\n",
      "\t\ttriangles[p[8][0]][1-p[8][1]] == Board.RIGHT[2],\n",
      "\t\t\n",
      "Evaluating the code...\n",
      "done.\n"
     ]
    }
   ],
   "source": [
    "def generate_scoring_function():\n",
    "    code = []\n",
    "    for n in range(N_TRIANGLES):\n",
    "        _, _, k = unpack(n)\n",
    "        if k % 2 != 0:\n",
    "            continue\n",
    "        code += [',\\n\\t\\t'.join(generate_score_triangle(n))]\n",
    "    return 'def scoring (p):\\n\\treturn sum((\\n\\t\\t' + ',\\n\\t\\t'.join(code) + '\\n\\t))'\n",
    "\n",
    "\n",
    "code = generate_scoring_function()\n",
    "print('Code:')\n",
    "print(code[:1000])\n",
    "print('Evaluating the code...')\n",
    "exec(code)\n",
    "assert 'scoring' in globals()\n",
    "print('done.')"
   ]
  },
  {
   "cell_type": "code",
   "execution_count": 26,
   "metadata": {
    "scrolled": false
   },
   "outputs": [
    {
     "name": "stdout",
     "output_type": "stream",
     "text": [
      "Code:\n",
      "def scoring (p):\n",
      "\treturn sum((\n",
      "\t\ttriangles[p[0][0]][2-p[0][1]] == Board.LEFT[0],\n",
      "\t\ttriangles[p[0][0]][1-p[0][1]] == Board.RIGHT[0],\n",
      "\t\ttriangles[p[0][0]][0-p[0][1]] == triangles[p[2][0]][0-p[2][1]],\n",
      "\t\ttriangles[p[1][0]][2-p[1][1]] == Board.LEFT[1],\n",
      "\t\ttriangles[p[1][0]][0-p[1][1]] == triangles[p[5][0]][0-p[5][1]],\n",
      "\t\ttriangles[p[1][0]][1-p[1][1]] == triangles[p[2][0]][1-p[2][1]],\n",
      "\t\ttriangles[p[3][0]][1-p[3][1]] == Board.RIGHT[1],\n",
      "\t\ttriangles[p[3][0]][0-p[3][1]] == triangles[p[7][0]][0-p[7][1]],\n",
      "\t\ttriangles[p[3][0]][2-p[3][1]] == triangles[p[2][0]][2-p[2][1]],\n",
      "\t\ttriangles[p[4][0]][2-p[4][1]] == Board.LEFT[2],\n",
      "\t\ttriangles[p[4][0]][0-p[4][1]] == triangles[p[10][0]][0-p[10][1]],\n",
      "\t\ttriangles[p[4][0]][1-p[4][1]] == triangles[p[5][0]][1-p[5][1]],\n",
      "\t\ttriangles[p[6][0]][0-p[6][1]] == triangles[p[12][0]][0-p[12][1]],\n",
      "\t\ttriangles[p[6][0]][2-p[6][1]] == triangles[p[5][0]][2-p[5][1]],\n",
      "\t\ttriangles[p[6][0]][1-p[6][1]] == triangles[p[7][0]][1-p[7][1]],\n",
      "\t\ttriangles[p[8][0]][1-p[8][1]] == Board.RIGHT[2],\n",
      "\t\t\n",
      "Evaluating the code...\n",
      "done.\n"
     ]
    }
   ],
   "source": [
    "def generate_scoring_function():\n",
    "    \n",
    "    def tri(j, i, c):\n",
    "        n = sum(2 * k + 1 for k in range(j)) + i\n",
    "        return f'triangles[p[{n}][0]][{c}-p[{n}][1]]'\n",
    "    \n",
    "    code = []\n",
    "    for j in range(4):\n",
    "        i = 2 * j + 1\n",
    "        for k in range(i):\n",
    "            if k == 0:\n",
    "                # on the left edge\n",
    "                code.append(f'{tri(j, k, 2)} == Board.LEFT[{j}]')\n",
    "                \n",
    "            if k == i - 1:\n",
    "                # on the right edge\n",
    "                code.append(f'{tri(j, k, 1)} == Board.RIGHT[{j}]')\n",
    "        \n",
    "            if j == 3 and k % 2 == 0:\n",
    "                # on the bottom edge\n",
    "                code.append(f'{tri(j, k, 0)} == Board.BOTTOM[{k//2}]')\n",
    "                \n",
    "            if k % 2 == 0:\n",
    "                # normal orientation (facing up)\n",
    "                if j < 3:\n",
    "                    # match with line below\n",
    "                    code.append(f'{tri(j, k, 0)} == {tri(j + 1, k + 1, 0)}')\n",
    "                if k > 0:\n",
    "                    # match with triangle on the left\n",
    "                    code.append(f'{tri(j, k, 2)} == {tri(j, k - 1, 2)}')\n",
    "                if k < i - 1:\n",
    "                    # match with triangle on the right\n",
    "                    code.append(f'{tri(j, k, 1)} == {tri(j, k + 1, 1)}')\n",
    "        \n",
    "    return 'def scoring (p):\\n\\treturn sum((\\n\\t\\t' + ',\\n\\t\\t'.join(code) + '\\n\\t))'\n",
    "\n",
    "code = generate_scoring_function()\n",
    "print('Code:')\n",
    "print(code[:1000])\n",
    "print('Evaluating the code...')\n",
    "exec(code)\n",
    "assert 'scoring' in globals()\n",
    "print('done.')"
   ]
  },
  {
   "cell_type": "code",
   "execution_count": 27,
   "metadata": {},
   "outputs": [
    {
     "name": "stdout",
     "output_type": "stream",
     "text": [
      "30 equalities to solve\n"
     ]
    }
   ],
   "source": [
    "MAX_SCORING = 30\n",
    "print(f'{MAX_SCORING} equalities to solve')"
   ]
  },
  {
   "cell_type": "markdown",
   "metadata": {},
   "source": [
    "We can now evaluate the scoring function on a real state, and manually count the number of matches to see if they are equali"
   ]
  },
  {
   "cell_type": "code",
   "execution_count": 28,
   "metadata": {},
   "outputs": [
    {
     "data": {
      "text/plain": [
       "7"
      ]
     },
     "execution_count": 28,
     "metadata": {},
     "output_type": "execute_result"
    }
   ],
   "source": [
    "state = [[i, 0] for i in range(N_TRIANGLES)]\n",
    "np.random.shuffle(state)\n",
    "scoring(state)"
   ]
  },
  {
   "cell_type": "code",
   "execution_count": 29,
   "metadata": {},
   "outputs": [
    {
     "data": {
      "application/javascript": [
       "window.kv.randomBoard = {\"TRIANGLES\": [[0, 1, 1], [0, 2, 3], [0, 2, 3], [0, 4, 1], [0, 4, 1], [0, 3, 5], [0, 5, 2], [0, 0, 1], [4, 3, 5], [4, 5, 3], [4, 5, 3], [4, 4, 3], [4, 3, 2], [4, 2, 1], [3, 5, 2], [1, 3, 2]], \"LEFT\": [0, 5, 0, 2], \"RIGHT\": [1, 5, 3, 4], \"BOTTOM\": [3, 3, 0, 3], \"repr\": [[4, 4, 3, 0], [0, 2, 3, 0], [0, 4, 1, 0], [4, 5, 3, 0], [4, 3, 5, 0], [4, 2, 1, 0], [0, 2, 3, 0], [1, 3, 2, 0], [4, 5, 3, 0], [0, 4, 1, 0], [4, 3, 2, 0], [3, 5, 2, 0], [0, 5, 2, 0], [0, 1, 1, 0], [0, 0, 1, 0], [0, 3, 5, 0]], \"permutation\": [[11, 0], [1, 0], [4, 0], [10, 0], [8, 0], [13, 0], [2, 0], [15, 0], [9, 0], [3, 0], [12, 0], [14, 0], [6, 0], [0, 0], [7, 0], [5, 0]], \"states\": []};"
      ],
      "text/plain": [
       "<IPython.core.display.Javascript object>"
      ]
     },
     "metadata": {},
     "output_type": "display_data"
    },
    {
     "data": {
      "text/plain": [
       "[[11, 0],\n",
       " [1, 0],\n",
       " [4, 0],\n",
       " [10, 0],\n",
       " [8, 0],\n",
       " [13, 0],\n",
       " [2, 0],\n",
       " [15, 0],\n",
       " [9, 0],\n",
       " [3, 0],\n",
       " [12, 0],\n",
       " [14, 0],\n",
       " [6, 0],\n",
       " [0, 0],\n",
       " [7, 0],\n",
       " [5, 0]]"
      ]
     },
     "execution_count": 29,
     "metadata": {},
     "output_type": "execute_result"
    }
   ],
   "source": [
    "send_to_js('randomBoard', Permutation(state))\n",
    "state"
   ]
  },
  {
   "cell_type": "code",
   "execution_count": 30,
   "metadata": {},
   "outputs": [
    {
     "data": {
      "application/javascript": [
       "\n",
       "drawStaticBoard('testPermutations', 'randomBoard', element)"
      ],
      "text/plain": [
       "<IPython.core.display.Javascript object>"
      ]
     },
     "metadata": {},
     "output_type": "display_data"
    }
   ],
   "source": [
    "%%javascript\n",
    "\n",
    "drawStaticBoard('testPermutations', 'randomBoard', element)"
   ]
  },
  {
   "cell_type": "markdown",
   "metadata": {},
   "source": [
    "## Simulated Annealing\n",
    "\n",
    "I you happen to read some of the [previous](https://jtp.io/2017/05/10/nine-color-cube.html) [articles](https://jtp.io/2017/01/12/aristotle-number-puzzle.html), you will notice that I am quite a big fan of a technique called **Simulated Annealing**, mostly because of its simple implementation."
   ]
  },
  {
   "cell_type": "code",
   "execution_count": 31,
   "metadata": {
    "scrolled": true
   },
   "outputs": [],
   "source": [
    "import math\n",
    "from copy import deepcopy\n",
    "\n",
    "class SimulatedAnnealingSolver:\n",
    "    \n",
    "    def __init__(self, seed=0):\n",
    "        self.seed = seed\n",
    "        self.rng = np.random.RandomState()\n",
    "        self.reset_state()\n",
    "        \n",
    "    def reset_state(self):\n",
    "        self.it = 0\n",
    "        self.rng.seed(self.seed)\n",
    "        self.log = []\n",
    "        \n",
    "    def _cost(self, permutation):\n",
    "        return MAX_SCORING - scoring(permutation)\n",
    "\n",
    "    def _neighbor(self, permutation):\n",
    "        neighbor = deepcopy(permutation)\n",
    "        i, j = self.rng.choice(IDS, 2)\n",
    "        neighbor[i], neighbor[j] = neighbor[j], neighbor[i]\n",
    "        \n",
    "        for k in [i, j]:\n",
    "            original_rot = neighbor[k][1]\n",
    "            best_rot = 0\n",
    "            best_score = 0\n",
    "            for rot in range(3):\n",
    "                neighbor[k][1] = rot\n",
    "                score = scoring(neighbor)\n",
    "                if score > best_score:\n",
    "                    best_score = score\n",
    "                    best_rot = rot\n",
    "\n",
    "            neighbor[k][1] = best_rot\n",
    "\n",
    "        return neighbor\n",
    "\n",
    "    def run(self, start_solution=None, max_it=50000, verbose=False):\n",
    "        self.reset_state()\n",
    "        solution = start_solution or self.rng.permutation([[i, self.rng.randint(0, 2)] for i in IDS]).tolist()\n",
    "        curr_cost = self._cost(solution)\n",
    "        temp, alpha = 1.0, 0.992\n",
    "        while curr_cost > 0 and self.it < max_it:\n",
    "            new_solution = self._neighbor(solution)\n",
    "            new_cost = self._cost(new_solution)\n",
    "            diff = new_cost - curr_cost\n",
    "            if diff <= 0 or math.exp(-2*diff / temp) > self.rng.rand():\n",
    "                solution = new_solution\n",
    "                curr_cost = new_cost\n",
    "                self.log.append(deepcopy(new_solution))\n",
    "\n",
    "            if self.it % 500 == 0:\n",
    "                if temp > 0.4:\n",
    "                    temp *= alpha\n",
    "            \n",
    "            if verbose and self.it % 1000 == 0:\n",
    "                print(curr_cost)\n",
    "                \n",
    "            self.it += 1\n",
    "\n",
    "        return solution"
   ]
  },
  {
   "cell_type": "code",
   "execution_count": 32,
   "metadata": {
    "scrolled": true
   },
   "outputs": [
    {
     "name": "stdout",
     "output_type": "stream",
     "text": [
      "Solution found after 6593 iterations\n",
      "[[3, 2], [14, 1], [11, 2], [8, 2], [0, 2], [15, 1], [9, 0], [5, 2], [2, 2], [1, 1], [4, 1], [12, 2], [13, 0], [7, 0], [6, 1], [10, 1]]\n",
      "Actions:\n"
     ]
    },
    {
     "data": {
      "application/javascript": [
       "window.kv.simulatedAnnealing = {\"TRIANGLES\": [[0, 1, 1], [0, 2, 3], [0, 2, 3], [0, 4, 1], [0, 4, 1], [0, 3, 5], [0, 5, 2], [0, 0, 1], [4, 3, 5], [4, 5, 3], [4, 5, 3], [4, 4, 3], [4, 3, 2], [4, 2, 1], [3, 5, 2], [1, 3, 2]], \"LEFT\": [0, 5, 0, 2], \"RIGHT\": [1, 5, 3, 4], \"BOTTOM\": [3, 3, 0, 3], \"repr\": [[0, 4, 1, 2], [3, 5, 2, 1], [4, 4, 3, 2], [4, 3, 5, 2], [0, 1, 1, 2], [1, 3, 2, 1], [4, 5, 3, 0], [0, 3, 5, 2], [0, 2, 3, 2], [0, 2, 3, 1], [0, 4, 1, 1], [4, 3, 2, 2], [4, 2, 1, 0], [0, 0, 1, 0], [0, 5, 2, 1], [4, 5, 3, 1]], \"permutation\": [[3, 2], [14, 1], [11, 2], [8, 2], [0, 2], [15, 1], [9, 0], [5, 2], [2, 2], [1, 1], [4, 1], [12, 2], [13, 0], [7, 0], [6, 1], [10, 1]], \"states\": [[[7, 1], [3, 0], [11, 1], [8, 1], [0, 1], [15, 0], [1, 1], [12, 1], [10, 0], [14, 0], [13, 1], [5, 1], [4, 1], [2, 0], [9, 0], [6, 1]], [[7, 1], [3, 0], [11, 1], [8, 1], [0, 1], [15, 0], [1, 1], [12, 1], [10, 0], [14, 0], [13, 1], [5, 1], [4, 1], [6, 0], [9, 0], [2, 0]], [[7, 1], [3, 0], [11, 1], [8, 1], [0, 1], [15, 0], [14, 0], [12, 1], [10, 0], [1, 1], [13, 1], [5, 1], [4, 1], [6, 0], [9, 0], [2, 0]], [[3, 2], [7, 1], [11, 1], [8, 1], [0, 1], [15, 0], [14, 0], [12, 1], [10, 0], [1, 1], [13, 1], [5, 1], [4, 1], [6, 0], [9, 0], [2, 0]], [[3, 2], [4, 0], [11, 1], [8, 1], [0, 1], [15, 0], [14, 0], [12, 1], [10, 0], [1, 1], [13, 1], [5, 1], [7, 0], [6, 0], [9, 0], [2, 0]], [[3, 2], [4, 0], [11, 1], [8, 1], [0, 1], [15, 0], [14, 0], [12, 1], [10, 0], [1, 1], [13, 1], [5, 1], [7, 0], [6, 0], [9, 0], [2, 0]], [[3, 2], [4, 0], [11, 1], [6, 0], [0, 1], [15, 0], [14, 0], [12, 1], [10, 0], [1, 1], [13, 1], [5, 1], [7, 0], [8, 2], [9, 0], [2, 0]], [[3, 2], [4, 0], [11, 1], [6, 0], [0, 1], [15, 0], [14, 0], [12, 1], [10, 0], [1, 1], [2, 0], [5, 1], [7, 0], [8, 2], [9, 0], [13, 1]], [[3, 2], [4, 0], [11, 1], [14, 0], [0, 1], [15, 0], [6, 0], [12, 1], [10, 0], [1, 1], [2, 0], [5, 1], [7, 0], [8, 2], [9, 0], [13, 1]], [[3, 2], [15, 0], [11, 1], [14, 0], [0, 1], [4, 1], [6, 0], [12, 1], [10, 0], [1, 1], [2, 0], [5, 1], [7, 0], [8, 2], [9, 0], [13, 1]], [[3, 2], [15, 0], [11, 1], [1, 2], [0, 1], [4, 1], [6, 0], [12, 1], [10, 0], [14, 0], [2, 0], [5, 1], [7, 0], [8, 2], [9, 0], [13, 1]], [[3, 2], [15, 0], [11, 1], [8, 2], [0, 1], [4, 1], [6, 0], [12, 1], [10, 0], [14, 0], [2, 0], [5, 1], [7, 0], [1, 0], [9, 0], [13, 1]], [[3, 2], [15, 0], [11, 1], [8, 2], [0, 1], [4, 1], [6, 0], [12, 1], [10, 0], [14, 0], [2, 0], [5, 1], [7, 0], [1, 0], [9, 0], [13, 1]], [[3, 2], [15, 0], [11, 1], [8, 2], [0, 1], [4, 1], [6, 0], [12, 1], [10, 0], [2, 1], [14, 2], [5, 1], [7, 0], [1, 0], [9, 0], [13, 1]], [[3, 2], [15, 0], [11, 1], [8, 2], [0, 1], [4, 1], [6, 0], [9, 0], [10, 0], [2, 1], [14, 2], [5, 1], [7, 0], [1, 0], [12, 0], [13, 1]], [[3, 2], [15, 0], [11, 1], [8, 2], [0, 1], [4, 1], [6, 0], [1, 0], [10, 0], [2, 1], [14, 2], [5, 1], [7, 0], [9, 2], [12, 0], [13, 1]], [[3, 2], [15, 0], [11, 1], [8, 2], [0, 1], [4, 1], [6, 0], [13, 0], [10, 0], [2, 1], [14, 2], [5, 1], [7, 0], [9, 2], [12, 0], [1, 1]], [[3, 2], [15, 0], [11, 1], [8, 2], [0, 1], [4, 1], [6, 0], [2, 0], [10, 0], [13, 0], [14, 2], [5, 1], [7, 0], [9, 2], [12, 0], [1, 1]], [[3, 2], [15, 0], [11, 1], [8, 2], [0, 1], [4, 1], [9, 2], [2, 0], [10, 0], [13, 0], [14, 2], [5, 1], [7, 0], [6, 0], [12, 0], [1, 1]], [[3, 2], [15, 0], [11, 1], [8, 2], [0, 1], [4, 1], [9, 2], [2, 0], [10, 0], [13, 0], [14, 2], [7, 0], [5, 1], [6, 0], [12, 0], [1, 1]], [[3, 2], [15, 0], [11, 1], [8, 2], [0, 1], [4, 1], [9, 2], [6, 0], [10, 0], [13, 0], [14, 2], [7, 0], [5, 1], [2, 0], [12, 0], [1, 1]], [[3, 2], [15, 0], [11, 1], [8, 2], [0, 1], [4, 1], [9, 2], [6, 0], [13, 0], [10, 1], [14, 2], [7, 0], [5, 1], [2, 0], [12, 0], [1, 1]], [[3, 2], [15, 0], [11, 1], [8, 2], [0, 1], [4, 1], [9, 2], [6, 0], [10, 0], [13, 0], [14, 2], [7, 0], [5, 1], [2, 0], [12, 0], [1, 1]], [[3, 2], [15, 0], [8, 0], [11, 0], [0, 1], [4, 1], [9, 2], [6, 0], [10, 0], [13, 0], [14, 2], [7, 0], [5, 1], [2, 0], [12, 0], [1, 1]], [[3, 2], [8, 0], [15, 0], [11, 0], [0, 1], [4, 1], [9, 2], [6, 0], [10, 0], [13, 0], [14, 2], [7, 0], [5, 1], [2, 0], [12, 0], [1, 1]], [[3, 2], [8, 0], [6, 0], [11, 0], [0, 1], [4, 1], [9, 2], [15, 0], [10, 0], [13, 0], [14, 2], [7, 0], [5, 1], [2, 0], [12, 0], [1, 1]], [[3, 2], [8, 0], [9, 0], [11, 0], [0, 1], [4, 1], [6, 2], [15, 0], [10, 0], [13, 0], [14, 2], [7, 0], [5, 1], [2, 0], [12, 0], [1, 1]], [[3, 2], [8, 0], [6, 0], [11, 0], [0, 1], [4, 1], [9, 2], [15, 0], [10, 0], [13, 0], [14, 2], [7, 0], [5, 1], [2, 0], [12, 0], [1, 1]], [[3, 2], [8, 0], [6, 0], [11, 0], [0, 1], [4, 1], [9, 2], [15, 0], [10, 0], [13, 0], [14, 2], [7, 0], [5, 1], [2, 0], [12, 0], [1, 1]], [[3, 2], [6, 1], [8, 0], [11, 0], [0, 1], [4, 1], [9, 2], [15, 0], [10, 0], [13, 0], [14, 2], [7, 0], [5, 1], [2, 0], [12, 0], [1, 1]], [[3, 2], [6, 1], [8, 0], [13, 1], [0, 1], [4, 1], [9, 2], [15, 0], [10, 0], [11, 1], [14, 2], [7, 0], [5, 1], [2, 0], [12, 0], [1, 1]], [[3, 2], [11, 2], [8, 0], [13, 1], [0, 1], [4, 1], [9, 2], [15, 0], [10, 0], [6, 0], [14, 2], [7, 0], [5, 1], [2, 0], [12, 0], [1, 1]], [[3, 2], [11, 2], [6, 0], [13, 1], [0, 1], [4, 1], [9, 2], [15, 0], [10, 0], [8, 2], [14, 2], [7, 0], [5, 1], [2, 0], [12, 0], [1, 1]], [[3, 2], [11, 2], [6, 0], [13, 1], [4, 1], [0, 1], [9, 2], [15, 0], [10, 0], [8, 2], [14, 2], [7, 0], [5, 1], [2, 0], [12, 0], [1, 1]], [[3, 2], [11, 0], [6, 0], [13, 1], [4, 1], [0, 1], [9, 2], [15, 0], [10, 0], [8, 2], [14, 2], [7, 0], [5, 1], [2, 0], [12, 0], [1, 1]], [[3, 2], [11, 0], [6, 0], [13, 1], [4, 1], [0, 1], [9, 2], [15, 0], [10, 0], [8, 2], [14, 2], [7, 0], [5, 1], [1, 0], [12, 0], [2, 1]], [[3, 2], [11, 0], [6, 0], [13, 1], [4, 1], [0, 1], [9, 2], [15, 0], [12, 0], [8, 2], [14, 2], [7, 0], [5, 1], [1, 0], [10, 0], [2, 1]], [[3, 2], [11, 0], [10, 0], [13, 1], [4, 1], [0, 1], [9, 2], [15, 0], [12, 0], [8, 2], [14, 2], [7, 0], [5, 1], [1, 0], [6, 0], [2, 1]], [[3, 2], [10, 1], [11, 0], [13, 1], [4, 1], [0, 1], [9, 2], [15, 0], [12, 0], [8, 2], [14, 2], [7, 0], [5, 1], [1, 0], [6, 0], [2, 1]], [[3, 2], [10, 1], [2, 1], [13, 1], [4, 1], [0, 1], [9, 2], [15, 0], [12, 0], [8, 2], [14, 2], [7, 0], [5, 1], [1, 0], [6, 0], [11, 1]], [[3, 2], [10, 1], [2, 1], [13, 1], [4, 1], [0, 1], [9, 2], [15, 0], [14, 0], [8, 2], [12, 0], [7, 0], [5, 1], [1, 0], [6, 0], [11, 1]], [[3, 2], [10, 1], [11, 0], [13, 1], [4, 1], [0, 1], [9, 2], [15, 0], [14, 0], [8, 2], [12, 0], [7, 0], [5, 1], [1, 0], [6, 0], [2, 1]], [[3, 2], [10, 1], [11, 0], [6, 0], [4, 1], [0, 1], [9, 2], [15, 0], [14, 0], [8, 2], [12, 0], [7, 0], [5, 1], [1, 0], [13, 0], [2, 1]], [[3, 2], [10, 1], [11, 0], [7, 1], [4, 1], [0, 1], [9, 2], [15, 0], [14, 0], [8, 2], [12, 0], [6, 0], [5, 1], [1, 0], [13, 0], [2, 1]], [[3, 2], [10, 1], [11, 0], [7, 1], [4, 1], [0, 1], [9, 2], [15, 0], [14, 0], [8, 2], [6, 0], [12, 0], [5, 1], [1, 0], [13, 0], [2, 1]], [[3, 2], [10, 1], [11, 0], [7, 1], [4, 1], [0, 1], [9, 2], [15, 0], [14, 0], [8, 2], [6, 0], [12, 0], [5, 1], [1, 0], [2, 1], [13, 1]], [[4, 2], [10, 1], [11, 0], [7, 1], [3, 0], [0, 1], [9, 2], [15, 0], [14, 0], [8, 2], [6, 0], [12, 0], [5, 1], [1, 0], [2, 1], [13, 1]], [[4, 2], [10, 1], [11, 0], [7, 1], [3, 0], [0, 1], [9, 2], [15, 0], [14, 0], [8, 2], [6, 0], [12, 0], [5, 1], [1, 0], [2, 1], [13, 1]], [[4, 2], [10, 1], [11, 0], [7, 1], [3, 0], [0, 1], [9, 2], [15, 0], [14, 0], [8, 2], [6, 0], [12, 0], [5, 1], [1, 0], [2, 1], [13, 1]], [[4, 2], [10, 1], [11, 0], [7, 1], [3, 0], [0, 1], [9, 2], [15, 0], [14, 0], [8, 2], [6, 0], [12, 0], [5, 1], [1, 0], [2, 1], [13, 1]], [[4, 2], [10, 1], [11, 0], [7, 1], [3, 0], [8, 2], [9, 2], [15, 0], [14, 0], [0, 0], [6, 0], [12, 0], [5, 1], [1, 0], [2, 1], [13, 1]], [[4, 2], [10, 1], [11, 0], [7, 1], [0, 0], [8, 2], [9, 2], [15, 0], [14, 0], [3, 0], [6, 0], [12, 0], [5, 1], [1, 0], [2, 1], [13, 1]], [[4, 2], [10, 1], [11, 0], [7, 1], [0, 0], [8, 2], [9, 2], [15, 0], [12, 0], [3, 0], [6, 0], [14, 0], [5, 1], [1, 0], [2, 1], [13, 1]], [[4, 2], [10, 1], [11, 0], [7, 1], [3, 0], [8, 2], [9, 2], [15, 0], [12, 0], [0, 0], [6, 0], [14, 0], [5, 1], [1, 0], [2, 1], [13, 1]], [[4, 2], [10, 1], [11, 0], [7, 1], [3, 0], [8, 2], [9, 2], [15, 0], [12, 0], [14, 0], [6, 0], [0, 1], [5, 1], [1, 0], [2, 1], [13, 1]], [[4, 2], [10, 1], [11, 0], [7, 1], [1, 0], [8, 2], [9, 2], [15, 0], [12, 0], [14, 0], [6, 0], [0, 1], [5, 1], [3, 0], [2, 1], [13, 1]], [[4, 2], [10, 1], [11, 0], [7, 1], [1, 0], [8, 2], [9, 2], [15, 0], [12, 0], [14, 0], [6, 0], [0, 1], [5, 1], [3, 0], [2, 1], [13, 1]], [[4, 2], [10, 1], [11, 0], [7, 1], [5, 2], [8, 2], [9, 2], [15, 0], [12, 0], [14, 0], [6, 0], [0, 1], [1, 1], [3, 0], [2, 1], [13, 1]], [[4, 2], [10, 1], [6, 2], [7, 1], [5, 2], [8, 2], [9, 2], [15, 0], [12, 0], [14, 0], [11, 1], [0, 1], [1, 1], [3, 0], [2, 1], [13, 1]], [[4, 2], [10, 1], [6, 2], [11, 0], [5, 2], [8, 2], [9, 2], [15, 0], [12, 0], [14, 0], [7, 0], [0, 1], [1, 1], [3, 0], [2, 1], [13, 1]], [[4, 2], [10, 1], [6, 2], [14, 0], [5, 2], [8, 2], [9, 2], [15, 0], [12, 0], [11, 1], [7, 0], [0, 1], [1, 1], [3, 0], [2, 1], [13, 1]], [[4, 2], [6, 1], [10, 0], [14, 0], [5, 2], [8, 2], [9, 2], [15, 0], [12, 0], [11, 1], [7, 0], [0, 1], [1, 1], [3, 0], [2, 1], [13, 1]], [[4, 2], [6, 1], [1, 1], [14, 0], [5, 2], [8, 2], [9, 2], [15, 0], [12, 0], [11, 1], [7, 0], [0, 1], [10, 2], [3, 0], [2, 1], [13, 1]], [[4, 2], [6, 1], [1, 1], [14, 0], [5, 2], [8, 2], [9, 2], [15, 0], [12, 0], [11, 1], [7, 0], [0, 1], [10, 2], [3, 0], [2, 1], [13, 1]], [[4, 2], [6, 1], [12, 0], [14, 0], [5, 2], [8, 2], [9, 2], [15, 0], [1, 1], [11, 1], [7, 0], [0, 1], [10, 2], [3, 0], [2, 1], [13, 1]], [[4, 2], [6, 1], [12, 0], [14, 0], [5, 2], [8, 2], [9, 2], [15, 0], [2, 1], [11, 1], [7, 0], [0, 1], [10, 2], [3, 0], [1, 1], [13, 1]], [[4, 2], [6, 1], [12, 0], [14, 0], [5, 2], [8, 2], [9, 2], [15, 0], [2, 1], [3, 1], [7, 0], [0, 1], [10, 2], [11, 1], [1, 1], [13, 1]], [[4, 2], [6, 1], [12, 0], [14, 0], [5, 2], [8, 2], [9, 2], [15, 0], [2, 1], [3, 1], [7, 0], [11, 1], [10, 2], [0, 0], [1, 1], [13, 1]], [[4, 2], [6, 1], [12, 0], [14, 0], [5, 2], [8, 2], [9, 2], [15, 0], [1, 1], [3, 1], [7, 0], [11, 1], [10, 2], [0, 0], [2, 1], [13, 1]], [[4, 2], [10, 1], [12, 0], [14, 0], [5, 2], [8, 2], [9, 2], [15, 0], [1, 1], [3, 1], [7, 0], [11, 1], [6, 2], [0, 0], [2, 1], [13, 1]], [[4, 2], [10, 1], [12, 0], [14, 0], [5, 2], [8, 2], [9, 2], [15, 0], [1, 1], [11, 1], [7, 0], [3, 0], [6, 2], [0, 0], [2, 1], [13, 1]], [[4, 2], [8, 0], [12, 0], [14, 0], [5, 2], [10, 0], [9, 2], [15, 0], [1, 1], [11, 1], [7, 0], [3, 0], [6, 2], [0, 0], [2, 1], [13, 1]], [[4, 2], [8, 0], [12, 0], [14, 0], [5, 2], [11, 2], [9, 2], [15, 0], [1, 1], [10, 1], [7, 0], [3, 0], [6, 2], [0, 0], [2, 1], [13, 1]], [[4, 2], [8, 0], [12, 0], [14, 0], [5, 2], [11, 2], [9, 2], [15, 0], [2, 1], [10, 1], [7, 0], [3, 0], [6, 2], [0, 0], [1, 1], [13, 1]], [[4, 2], [8, 0], [12, 0], [6, 0], [5, 2], [11, 2], [9, 2], [15, 0], [2, 1], [10, 1], [7, 0], [3, 0], [14, 2], [0, 0], [1, 1], [13, 1]], [[4, 2], [8, 0], [12, 0], [6, 0], [5, 2], [11, 2], [9, 2], [15, 0], [2, 1], [0, 1], [7, 0], [3, 0], [14, 2], [10, 0], [1, 1], [13, 1]], [[4, 2], [8, 0], [12, 0], [6, 0], [5, 2], [11, 2], [9, 2], [15, 0], [2, 1], [0, 1], [7, 0], [3, 0], [14, 2], [10, 0], [1, 1], [13, 1]], [[4, 2], [8, 0], [12, 0], [6, 0], [5, 2], [11, 2], [9, 2], [15, 0], [2, 1], [0, 1], [7, 0], [13, 0], [14, 2], [10, 0], [1, 1], [3, 0]], [[4, 2], [8, 0], [12, 0], [6, 0], [5, 2], [3, 1], [9, 2], [15, 0], [2, 1], [0, 1], [7, 0], [13, 0], [14, 2], [10, 0], [1, 1], [11, 1]], [[4, 2], [8, 0], [12, 0], [6, 0], [5, 2], [3, 1], [9, 2], [15, 0], [2, 1], [0, 1], [7, 0], [13, 0], [14, 2], [10, 0], [1, 1], [11, 1]], [[4, 2], [8, 0], [12, 0], [6, 0], [5, 2], [3, 1], [9, 2], [15, 0], [2, 1], [0, 1], [7, 0], [13, 0], [14, 2], [10, 0], [1, 1], [11, 1]], [[4, 2], [1, 2], [12, 0], [6, 0], [5, 2], [3, 1], [9, 2], [15, 0], [2, 1], [0, 1], [7, 0], [13, 0], [14, 2], [10, 0], [8, 2], [11, 1]], [[4, 2], [1, 2], [12, 0], [6, 0], [5, 2], [3, 1], [9, 2], [15, 0], [2, 1], [0, 1], [7, 0], [13, 0], [14, 2], [10, 0], [8, 2], [11, 1]], [[4, 2], [1, 2], [12, 0], [6, 0], [5, 2], [3, 1], [10, 2], [15, 0], [2, 1], [0, 1], [7, 0], [13, 0], [14, 2], [9, 0], [8, 2], [11, 1]], [[4, 2], [1, 2], [12, 0], [6, 0], [5, 2], [3, 1], [10, 2], [15, 0], [2, 1], [0, 1], [7, 0], [13, 0], [14, 2], [9, 0], [8, 2], [11, 1]], [[4, 2], [14, 1], [12, 0], [6, 0], [5, 2], [3, 1], [10, 2], [15, 0], [2, 1], [0, 1], [7, 0], [13, 0], [1, 0], [9, 0], [8, 2], [11, 1]], [[4, 2], [14, 1], [12, 0], [6, 0], [5, 2], [3, 1], [10, 2], [13, 1], [2, 1], [0, 1], [7, 0], [15, 2], [1, 0], [9, 0], [8, 2], [11, 1]], [[4, 2], [14, 1], [12, 0], [6, 0], [5, 2], [10, 0], [3, 0], [13, 1], [2, 1], [0, 1], [7, 0], [15, 2], [1, 0], [9, 0], [8, 2], [11, 1]], [[4, 2], [14, 1], [12, 0], [6, 0], [5, 2], [10, 0], [3, 0], [13, 1], [2, 1], [0, 1], [7, 0], [15, 2], [1, 0], [9, 0], [8, 2], [11, 1]], [[4, 2], [14, 1], [12, 0], [6, 0], [5, 2], [10, 0], [3, 0], [13, 1], [2, 1], [0, 1], [7, 0], [15, 2], [1, 0], [9, 0], [8, 2], [11, 1]], [[4, 2], [14, 1], [12, 0], [6, 0], [5, 2], [10, 0], [3, 0], [13, 1], [2, 1], [0, 1], [7, 0], [15, 2], [1, 0], [9, 0], [8, 2], [11, 1]], [[4, 2], [8, 0], [12, 0], [6, 0], [5, 2], [10, 0], [3, 0], [13, 1], [2, 1], [0, 1], [7, 0], [15, 2], [1, 0], [9, 0], [14, 0], [11, 1]], [[4, 2], [8, 0], [12, 0], [6, 0], [5, 2], [10, 0], [3, 0], [13, 1], [2, 1], [0, 1], [7, 0], [15, 2], [1, 0], [9, 0], [14, 0], [11, 1]], [[4, 2], [8, 0], [12, 0], [6, 0], [5, 2], [10, 0], [3, 0], [13, 1], [2, 1], [0, 1], [7, 0], [15, 2], [11, 0], [9, 0], [14, 0], [1, 1]], [[4, 2], [8, 0], [12, 0], [6, 0], [5, 2], [10, 0], [3, 0], [13, 1], [2, 1], [0, 1], [7, 0], [15, 2], [11, 0], [1, 0], [14, 0], [9, 1]], [[4, 2], [8, 0], [12, 0], [14, 0], [5, 2], [10, 0], [3, 0], [13, 1], [2, 1], [0, 1], [7, 0], [15, 2], [11, 0], [1, 0], [6, 1], [9, 1]], [[4, 2], [8, 0], [12, 0], [14, 0], [5, 2], [10, 0], [3, 0], [13, 1], [6, 0], [0, 1], [7, 0], [15, 2], [11, 0], [1, 0], [2, 0], [9, 1]], [[4, 2], [8, 0], [12, 0], [14, 0], [5, 2], [3, 2], [10, 0], [13, 1], [6, 0], [0, 1], [7, 0], [15, 2], [11, 0], [1, 0], [2, 0], [9, 1]], [[4, 2], [8, 0], [12, 0], [14, 0], [5, 2], [3, 2], [10, 0], [13, 1], [6, 0], [0, 1], [7, 0], [15, 2], [11, 0], [1, 0], [2, 0], [9, 1]], [[4, 2], [8, 0], [12, 0], [0, 1], [5, 2], [3, 2], [10, 0], [13, 1], [6, 0], [14, 0], [7, 0], [15, 2], [11, 0], [1, 0], [2, 0], [9, 1]], [[4, 2], [8, 0], [12, 0], [0, 1], [5, 2], [3, 2], [11, 0], [13, 1], [6, 0], [14, 0], [7, 0], [15, 2], [10, 0], [1, 0], [2, 0], [9, 1]], [[4, 2], [8, 0], [12, 0], [0, 1], [5, 0], [3, 2], [11, 0], [13, 1], [6, 0], [14, 0], [7, 0], [15, 2], [10, 0], [1, 0], [2, 0], [9, 1]], [[4, 2], [3, 2], [12, 0], [0, 1], [5, 0], [8, 0], [11, 0], [13, 1], [6, 0], [14, 0], [7, 0], [15, 2], [10, 0], [1, 0], [2, 0], [9, 1]], [[4, 2], [3, 2], [9, 0], [0, 1], [5, 0], [8, 0], [11, 0], [13, 1], [6, 0], [14, 0], [7, 0], [15, 2], [10, 0], [1, 0], [2, 0], [12, 1]], [[4, 2], [3, 2], [9, 0], [0, 1], [5, 0], [12, 0], [11, 0], [13, 1], [6, 0], [14, 0], [7, 0], [15, 2], [10, 0], [1, 0], [2, 0], [8, 1]], [[4, 2], [3, 2], [9, 0], [0, 1], [5, 0], [12, 0], [11, 0], [13, 1], [6, 0], [14, 0], [7, 0], [15, 2], [10, 0], [1, 0], [2, 0], [8, 1]], [[4, 2], [3, 2], [9, 0], [0, 1], [5, 0], [12, 0], [11, 0], [13, 1], [6, 0], [14, 0], [7, 0], [15, 2], [10, 0], [1, 0], [2, 0], [8, 1]], [[4, 2], [3, 2], [8, 0], [0, 1], [5, 0], [12, 0], [11, 0], [13, 1], [6, 0], [14, 0], [7, 0], [15, 2], [10, 0], [1, 0], [2, 0], [9, 1]], [[4, 2], [3, 2], [8, 0], [15, 0], [5, 0], [12, 0], [11, 0], [13, 1], [6, 0], [14, 0], [7, 0], [0, 0], [10, 0], [1, 0], [2, 0], [9, 1]], [[4, 2], [3, 2], [8, 0], [15, 0], [5, 0], [9, 0], [11, 0], [13, 1], [6, 0], [14, 0], [7, 0], [0, 0], [10, 0], [1, 0], [2, 0], [12, 1]], [[4, 2], [3, 2], [8, 0], [15, 0], [5, 0], [9, 0], [11, 0], [13, 1], [6, 0], [2, 1], [7, 0], [0, 0], [10, 0], [1, 0], [14, 2], [12, 1]], [[4, 2], [3, 2], [8, 0], [15, 0], [0, 0], [9, 0], [11, 0], [13, 1], [6, 0], [2, 1], [7, 0], [5, 2], [10, 0], [1, 0], [14, 2], [12, 1]], [[4, 2], [12, 0], [8, 0], [15, 0], [0, 0], [9, 0], [11, 0], [13, 1], [6, 0], [2, 1], [7, 0], [5, 2], [10, 0], [1, 0], [14, 2], [3, 0]], [[4, 2], [12, 0], [8, 0], [15, 0], [0, 0], [9, 0], [11, 0], [13, 1], [6, 0], [2, 1], [7, 0], [5, 2], [10, 0], [14, 2], [1, 0], [3, 0]], [[4, 2], [12, 0], [8, 0], [15, 0], [0, 0], [9, 0], [11, 0], [13, 1], [6, 0], [2, 1], [7, 0], [5, 2], [10, 0], [14, 2], [1, 0], [3, 0]], [[4, 2], [12, 0], [8, 0], [5, 0], [0, 0], [9, 0], [11, 0], [13, 1], [6, 0], [2, 1], [7, 0], [15, 2], [10, 0], [14, 2], [1, 0], [3, 0]], [[4, 2], [12, 0], [8, 0], [6, 0], [0, 0], [9, 0], [11, 0], [13, 1], [5, 0], [2, 1], [7, 0], [15, 2], [10, 0], [14, 2], [1, 0], [3, 0]], [[4, 2], [12, 0], [8, 0], [5, 0], [0, 0], [9, 0], [11, 0], [13, 1], [6, 0], [2, 1], [7, 0], [15, 2], [10, 0], [14, 2], [1, 0], [3, 0]], [[4, 2], [12, 0], [8, 0], [5, 0], [0, 0], [9, 0], [11, 0], [13, 1], [3, 0], [2, 1], [7, 0], [15, 2], [10, 0], [14, 2], [1, 0], [6, 0]], [[4, 2], [12, 0], [8, 0], [5, 0], [0, 0], [9, 0], [11, 0], [13, 1], [6, 0], [2, 1], [7, 0], [15, 2], [10, 0], [14, 2], [1, 0], [3, 0]], [[4, 2], [12, 0], [8, 0], [15, 0], [0, 0], [9, 0], [11, 0], [13, 1], [6, 0], [2, 1], [7, 0], [5, 2], [10, 0], [14, 2], [1, 0], [3, 0]], [[4, 2], [12, 0], [8, 0], [6, 0], [0, 0], [9, 0], [11, 0], [13, 1], [15, 0], [2, 1], [7, 0], [5, 2], [10, 0], [14, 2], [1, 0], [3, 0]], [[4, 2], [12, 0], [8, 0], [6, 0], [0, 0], [3, 2], [11, 0], [13, 1], [15, 0], [2, 1], [7, 0], [5, 2], [10, 0], [14, 2], [1, 0], [9, 1]], [[4, 2], [12, 0], [8, 0], [6, 0], [0, 0], [3, 2], [11, 0], [13, 1], [15, 0], [2, 1], [7, 0], [5, 2], [10, 0], [14, 2], [1, 0], [9, 1]], [[4, 2], [12, 0], [8, 0], [6, 0], [0, 0], [3, 2], [11, 0], [13, 1], [14, 0], [2, 1], [7, 0], [5, 2], [10, 0], [15, 1], [1, 0], [9, 1]], [[4, 2], [12, 0], [8, 0], [6, 0], [15, 1], [3, 2], [11, 0], [13, 1], [14, 0], [2, 1], [7, 0], [5, 2], [10, 0], [0, 0], [1, 0], [9, 1]], [[4, 2], [12, 0], [8, 0], [6, 0], [7, 2], [3, 2], [11, 0], [13, 1], [14, 0], [2, 1], [15, 0], [5, 2], [10, 0], [0, 0], [1, 0], [9, 1]], [[4, 2], [12, 0], [8, 0], [1, 0], [7, 2], [3, 2], [11, 0], [13, 1], [14, 0], [2, 1], [15, 0], [5, 2], [10, 0], [0, 0], [6, 1], [9, 1]], [[15, 1], [12, 0], [8, 0], [1, 0], [7, 2], [3, 2], [11, 0], [13, 1], [14, 0], [2, 1], [4, 0], [5, 2], [10, 0], [0, 0], [6, 1], [9, 1]], [[5, 2], [12, 0], [8, 0], [1, 0], [7, 2], [3, 2], [11, 0], [13, 1], [14, 0], [2, 1], [4, 0], [15, 2], [10, 0], [0, 0], [6, 1], [9, 1]], [[5, 2], [12, 0], [8, 0], [1, 0], [7, 2], [3, 2], [11, 0], [13, 1], [14, 0], [2, 1], [4, 0], [15, 2], [10, 0], [0, 0], [6, 1], [9, 1]], [[5, 2], [12, 0], [10, 0], [1, 0], [7, 2], [3, 2], [11, 0], [13, 1], [14, 0], [2, 1], [4, 0], [15, 2], [8, 0], [0, 0], [6, 1], [9, 1]], [[5, 2], [12, 0], [10, 0], [1, 0], [7, 2], [3, 2], [11, 0], [13, 1], [14, 1], [2, 1], [4, 0], [15, 2], [8, 0], [0, 0], [6, 1], [9, 1]], [[5, 2], [12, 0], [10, 0], [1, 0], [7, 2], [3, 2], [11, 0], [2, 0], [14, 1], [13, 1], [4, 0], [15, 2], [8, 0], [0, 0], [6, 1], [9, 1]], [[5, 2], [12, 0], [10, 0], [1, 0], [7, 2], [3, 2], [11, 0], [2, 0], [14, 1], [13, 1], [4, 0], [15, 2], [8, 0], [0, 0], [6, 1], [9, 1]], [[5, 2], [12, 0], [10, 0], [1, 0], [7, 2], [3, 2], [13, 0], [2, 0], [14, 1], [11, 1], [4, 0], [15, 2], [8, 0], [0, 0], [6, 1], [9, 1]], [[3, 2], [12, 0], [10, 0], [1, 0], [7, 2], [5, 0], [13, 0], [2, 0], [14, 1], [11, 1], [4, 0], [15, 2], [8, 0], [0, 0], [6, 1], [9, 1]], [[3, 2], [12, 0], [10, 0], [1, 0], [7, 2], [5, 0], [13, 0], [14, 2], [2, 2], [11, 1], [4, 0], [15, 2], [8, 0], [0, 0], [6, 1], [9, 1]], [[3, 2], [12, 0], [10, 0], [1, 0], [7, 2], [5, 0], [13, 0], [6, 2], [2, 2], [11, 1], [4, 0], [15, 2], [8, 0], [0, 0], [14, 1], [9, 1]], [[3, 2], [12, 0], [10, 0], [5, 1], [7, 2], [1, 0], [13, 0], [6, 2], [2, 2], [11, 1], [4, 0], [15, 2], [8, 0], [0, 0], [14, 1], [9, 1]], [[3, 2], [12, 0], [10, 0], [5, 1], [7, 2], [4, 2], [13, 0], [6, 2], [2, 2], [11, 1], [1, 0], [15, 2], [8, 0], [0, 0], [14, 1], [9, 1]], [[3, 2], [12, 0], [10, 0], [5, 1], [7, 2], [4, 2], [13, 0], [6, 2], [2, 2], [11, 1], [1, 0], [15, 2], [8, 0], [0, 0], [14, 1], [9, 1]], [[3, 2], [12, 0], [10, 0], [5, 1], [7, 2], [4, 2], [13, 0], [6, 2], [2, 2], [11, 1], [1, 0], [15, 2], [8, 0], [0, 0], [14, 1], [9, 1]], [[3, 2], [12, 0], [10, 0], [5, 1], [7, 2], [4, 2], [13, 0], [6, 2], [1, 2], [11, 1], [2, 0], [15, 2], [8, 0], [0, 0], [14, 1], [9, 1]], [[3, 2], [12, 0], [10, 0], [5, 1], [7, 2], [4, 2], [13, 0], [6, 2], [1, 2], [11, 1], [0, 0], [15, 2], [8, 0], [2, 0], [14, 1], [9, 1]], [[3, 2], [12, 0], [10, 0], [5, 1], [7, 2], [4, 2], [13, 0], [6, 2], [1, 2], [11, 1], [0, 0], [15, 2], [8, 0], [2, 0], [14, 1], [9, 1]], [[3, 2], [12, 0], [10, 0], [5, 1], [7, 2], [4, 2], [13, 0], [6, 2], [1, 2], [11, 1], [0, 0], [15, 2], [8, 0], [2, 0], [14, 1], [9, 1]], [[3, 2], [12, 0], [10, 0], [5, 1], [7, 2], [4, 2], [13, 0], [14, 2], [1, 2], [11, 1], [0, 0], [15, 2], [8, 0], [2, 0], [6, 1], [9, 1]], [[3, 2], [12, 0], [10, 0], [5, 1], [7, 2], [4, 2], [13, 0], [8, 1], [1, 2], [11, 1], [0, 0], [15, 2], [14, 2], [2, 0], [6, 1], [9, 1]], [[3, 2], [12, 0], [8, 0], [5, 1], [7, 2], [4, 2], [13, 0], [10, 2], [1, 2], [11, 1], [0, 0], [15, 2], [14, 2], [2, 0], [6, 1], [9, 1]], [[3, 2], [12, 0], [8, 0], [5, 1], [7, 2], [0, 0], [13, 0], [10, 2], [1, 2], [11, 1], [4, 0], [15, 2], [14, 2], [2, 0], [6, 1], [9, 1]], [[3, 2], [10, 1], [8, 0], [5, 1], [7, 2], [0, 0], [13, 0], [12, 2], [1, 2], [11, 1], [4, 0], [15, 2], [14, 2], [2, 0], [6, 1], [9, 1]], [[3, 2], [6, 0], [8, 0], [5, 1], [7, 2], [0, 0], [13, 0], [12, 2], [1, 2], [11, 1], [4, 0], [15, 2], [14, 2], [2, 0], [10, 1], [9, 1]], [[3, 2], [6, 0], [8, 0], [5, 1], [7, 2], [0, 0], [13, 0], [12, 2], [1, 2], [11, 1], [4, 0], [15, 2], [14, 2], [2, 0], [10, 1], [9, 1]], [[3, 2], [6, 0], [8, 0], [5, 1], [7, 2], [0, 0], [13, 0], [12, 2], [1, 2], [11, 1], [4, 0], [15, 2], [14, 2], [2, 0], [10, 1], [9, 1]], [[3, 2], [6, 0], [8, 0], [12, 2], [7, 2], [0, 0], [13, 0], [5, 2], [1, 2], [11, 1], [4, 0], [15, 2], [14, 2], [2, 0], [10, 1], [9, 1]], [[3, 2], [12, 0], [8, 0], [6, 0], [7, 2], [0, 0], [13, 0], [5, 2], [1, 2], [11, 1], [4, 0], [15, 2], [14, 2], [2, 0], [10, 1], [9, 1]], [[3, 2], [12, 0], [8, 0], [6, 0], [7, 2], [0, 0], [13, 0], [5, 2], [1, 2], [11, 1], [4, 0], [15, 2], [14, 2], [2, 0], [10, 1], [9, 1]], [[3, 2], [8, 0], [12, 0], [6, 0], [7, 2], [0, 0], [13, 0], [5, 2], [1, 2], [11, 1], [4, 0], [15, 2], [14, 2], [2, 0], [10, 1], [9, 1]], [[3, 2], [8, 0], [12, 0], [14, 0], [7, 2], [0, 0], [13, 0], [5, 2], [1, 2], [11, 1], [4, 0], [15, 2], [6, 2], [2, 0], [10, 1], [9, 1]], [[3, 2], [8, 0], [12, 0], [14, 0], [7, 2], [0, 0], [13, 0], [5, 2], [1, 2], [11, 1], [4, 0], [15, 2], [6, 2], [2, 0], [10, 1], [9, 1]], [[3, 2], [8, 0], [12, 0], [14, 0], [7, 2], [0, 0], [10, 0], [5, 2], [1, 2], [11, 1], [4, 0], [15, 2], [6, 2], [2, 0], [13, 0], [9, 1]], [[3, 2], [8, 0], [12, 0], [11, 1], [7, 2], [0, 0], [10, 0], [5, 2], [1, 2], [14, 0], [4, 0], [15, 2], [6, 2], [2, 0], [13, 0], [9, 1]], [[3, 2], [8, 0], [12, 0], [9, 0], [7, 2], [0, 0], [10, 0], [5, 2], [1, 2], [14, 0], [4, 0], [15, 2], [6, 2], [2, 0], [13, 0], [11, 1]], [[3, 2], [14, 1], [12, 0], [9, 0], [7, 2], [0, 0], [10, 0], [5, 2], [1, 2], [8, 1], [4, 0], [15, 2], [6, 2], [2, 0], [13, 0], [11, 1]], [[3, 2], [5, 0], [12, 0], [9, 0], [7, 2], [0, 0], [10, 0], [14, 0], [1, 2], [8, 1], [4, 0], [15, 2], [6, 2], [2, 0], [13, 0], [11, 1]], [[3, 2], [5, 0], [12, 0], [2, 1], [7, 2], [0, 0], [10, 0], [14, 0], [1, 2], [8, 1], [4, 0], [15, 2], [6, 2], [9, 0], [13, 0], [11, 1]], [[3, 2], [5, 0], [12, 0], [2, 1], [7, 2], [0, 0], [10, 0], [14, 0], [8, 0], [1, 1], [4, 0], [15, 2], [6, 2], [9, 0], [13, 0], [11, 1]], [[3, 2], [5, 0], [12, 0], [2, 1], [4, 2], [0, 0], [10, 0], [14, 0], [8, 0], [1, 1], [7, 0], [15, 2], [6, 2], [9, 0], [13, 0], [11, 1]], [[3, 2], [5, 0], [12, 0], [2, 1], [4, 2], [0, 0], [10, 0], [14, 0], [13, 0], [1, 1], [7, 0], [15, 2], [6, 2], [9, 0], [8, 2], [11, 1]], [[3, 2], [5, 0], [12, 0], [2, 1], [4, 2], [0, 0], [10, 0], [14, 0], [7, 0], [1, 1], [13, 0], [15, 2], [6, 2], [9, 0], [8, 2], [11, 1]], [[3, 2], [5, 0], [12, 0], [2, 1], [4, 2], [0, 0], [10, 0], [14, 0], [7, 0], [1, 1], [13, 0], [15, 2], [6, 2], [8, 2], [9, 0], [11, 1]], [[3, 2], [5, 0], [12, 0], [2, 1], [4, 2], [0, 0], [7, 0], [14, 0], [10, 0], [1, 1], [13, 0], [15, 2], [6, 2], [8, 2], [9, 0], [11, 1]], [[3, 2], [5, 0], [12, 0], [2, 1], [4, 2], [0, 0], [7, 0], [14, 0], [8, 0], [1, 1], [13, 0], [15, 2], [6, 2], [10, 0], [9, 0], [11, 1]], [[3, 2], [5, 0], [12, 0], [2, 1], [4, 2], [0, 0], [7, 0], [14, 0], [8, 0], [1, 1], [13, 0], [15, 2], [6, 2], [10, 0], [9, 0], [11, 1]], [[3, 2], [5, 0], [12, 0], [2, 1], [4, 2], [0, 0], [7, 0], [14, 0], [9, 1], [1, 1], [13, 0], [15, 2], [6, 2], [10, 0], [8, 2], [11, 1]], [[3, 2], [5, 0], [12, 0], [2, 1], [4, 2], [0, 0], [13, 0], [14, 0], [9, 1], [1, 1], [7, 0], [15, 2], [6, 2], [10, 0], [8, 2], [11, 1]], [[4, 2], [5, 0], [12, 0], [2, 1], [3, 2], [0, 0], [13, 0], [14, 0], [9, 1], [1, 1], [7, 0], [15, 2], [6, 2], [10, 0], [8, 2], [11, 1]], [[4, 2], [5, 0], [12, 0], [2, 1], [3, 2], [0, 0], [13, 0], [14, 0], [9, 1], [1, 1], [7, 0], [15, 2], [6, 2], [10, 0], [8, 2], [11, 1]], [[0, 2], [5, 0], [12, 0], [2, 1], [3, 2], [4, 0], [13, 0], [14, 0], [9, 1], [1, 1], [7, 0], [15, 2], [6, 2], [10, 0], [8, 2], [11, 1]], [[0, 2], [5, 0], [12, 0], [2, 1], [3, 2], [4, 0], [13, 0], [14, 0], [6, 0], [1, 1], [7, 0], [15, 2], [9, 0], [10, 0], [8, 2], [11, 1]], [[0, 2], [5, 0], [12, 0], [2, 1], [3, 2], [4, 0], [13, 0], [14, 0], [6, 0], [1, 1], [7, 0], [15, 2], [11, 0], [10, 0], [8, 2], [9, 1]], [[4, 2], [5, 0], [12, 0], [2, 1], [3, 2], [0, 0], [13, 0], [14, 0], [6, 0], [1, 1], [7, 0], [15, 2], [11, 0], [10, 0], [8, 2], [9, 1]], [[4, 2], [5, 0], [12, 0], [2, 1], [3, 2], [0, 0], [13, 0], [14, 0], [6, 0], [1, 1], [7, 0], [15, 2], [11, 0], [10, 0], [8, 2], [9, 1]], [[4, 2], [5, 0], [12, 0], [2, 1], [3, 2], [0, 0], [13, 0], [14, 0], [8, 0], [1, 1], [7, 0], [15, 2], [11, 0], [10, 0], [6, 0], [9, 1]], [[4, 2], [5, 0], [12, 0], [2, 1], [3, 2], [0, 0], [13, 0], [14, 0], [8, 0], [1, 1], [7, 0], [15, 2], [11, 0], [6, 0], [10, 0], [9, 1]], [[4, 2], [5, 0], [12, 0], [14, 0], [3, 2], [0, 0], [13, 0], [2, 0], [8, 0], [1, 1], [7, 0], [15, 2], [11, 0], [6, 0], [10, 0], [9, 1]], [[4, 2], [5, 0], [12, 0], [14, 0], [3, 2], [0, 0], [13, 0], [11, 1], [8, 0], [1, 1], [7, 0], [15, 2], [2, 0], [6, 0], [10, 0], [9, 1]], [[4, 2], [5, 0], [12, 0], [14, 0], [3, 2], [0, 0], [13, 0], [8, 2], [11, 2], [1, 1], [7, 0], [15, 2], [2, 0], [6, 0], [10, 0], [9, 1]], [[4, 2], [5, 0], [12, 0], [14, 0], [3, 2], [0, 0], [13, 0], [8, 2], [11, 2], [1, 1], [7, 0], [15, 2], [2, 0], [6, 0], [10, 0], [9, 1]], [[4, 2], [5, 0], [8, 0], [14, 0], [3, 2], [0, 0], [13, 0], [12, 2], [11, 2], [1, 1], [7, 0], [15, 2], [2, 0], [6, 0], [10, 0], [9, 1]], [[4, 2], [5, 0], [8, 0], [14, 0], [3, 2], [0, 0], [13, 0], [12, 2], [11, 2], [1, 1], [7, 0], [15, 2], [2, 0], [6, 0], [10, 0], [9, 1]], [[4, 2], [5, 0], [8, 0], [14, 0], [3, 2], [0, 0], [13, 0], [12, 2], [11, 2], [1, 1], [7, 0], [15, 2], [2, 0], [6, 0], [10, 0], [9, 1]], [[4, 2], [5, 0], [8, 0], [14, 0], [3, 2], [0, 0], [13, 0], [12, 2], [11, 2], [1, 1], [7, 0], [15, 2], [2, 0], [6, 0], [10, 0], [9, 1]], [[4, 2], [5, 0], [8, 0], [14, 0], [3, 2], [0, 0], [13, 0], [12, 2], [11, 2], [1, 1], [7, 0], [15, 2], [2, 0], [6, 0], [10, 0], [9, 1]], [[4, 2], [5, 0], [2, 1], [14, 0], [3, 2], [0, 0], [13, 0], [12, 2], [11, 2], [1, 1], [7, 0], [15, 2], [8, 0], [6, 0], [10, 0], [9, 1]], [[3, 2], [5, 0], [2, 1], [14, 0], [4, 2], [0, 0], [13, 0], [12, 2], [11, 2], [1, 1], [7, 0], [15, 2], [8, 0], [6, 0], [10, 0], [9, 1]], [[3, 2], [5, 0], [2, 1], [14, 0], [4, 2], [0, 0], [13, 0], [12, 2], [11, 2], [1, 1], [7, 0], [15, 2], [8, 0], [6, 0], [10, 0], [9, 1]], [[4, 2], [5, 0], [2, 1], [14, 0], [3, 2], [0, 0], [13, 0], [12, 2], [11, 2], [1, 1], [7, 0], [15, 2], [8, 0], [6, 0], [10, 0], [9, 1]], [[4, 2], [5, 0], [2, 1], [14, 0], [7, 2], [0, 0], [13, 0], [12, 2], [11, 2], [1, 1], [3, 0], [15, 2], [8, 0], [6, 0], [10, 0], [9, 1]], [[4, 2], [5, 0], [2, 1], [14, 0], [7, 2], [0, 0], [13, 0], [12, 2], [11, 2], [1, 1], [3, 0], [15, 2], [8, 0], [6, 0], [10, 0], [9, 1]], [[4, 2], [5, 0], [8, 0], [14, 0], [7, 2], [0, 0], [13, 0], [12, 2], [11, 2], [1, 1], [3, 0], [15, 2], [2, 0], [6, 0], [10, 0], [9, 1]], [[4, 2], [5, 0], [8, 0], [14, 0], [7, 2], [0, 0], [13, 0], [12, 2], [11, 2], [1, 1], [3, 0], [15, 2], [2, 0], [6, 0], [10, 0], [9, 1]], [[4, 2], [5, 0], [8, 0], [14, 0], [7, 2], [0, 0], [13, 0], [12, 2], [11, 2], [2, 1], [3, 0], [15, 2], [1, 0], [6, 0], [10, 0], [9, 1]], [[4, 2], [5, 0], [8, 0], [14, 0], [7, 2], [0, 0], [2, 0], [12, 2], [11, 2], [13, 1], [3, 0], [15, 2], [1, 0], [6, 0], [10, 0], [9, 1]], [[4, 2], [5, 0], [8, 0], [14, 0], [2, 0], [0, 0], [7, 0], [12, 2], [11, 2], [13, 1], [3, 0], [15, 2], [1, 0], [6, 0], [10, 0], [9, 1]], [[4, 2], [5, 0], [8, 0], [14, 0], [2, 0], [0, 0], [7, 0], [12, 2], [11, 2], [13, 1], [3, 0], [15, 2], [1, 0], [6, 0], [10, 0], [9, 1]], [[4, 2], [5, 0], [8, 0], [14, 0], [2, 0], [1, 0], [7, 0], [12, 2], [11, 2], [13, 1], [3, 0], [15, 2], [0, 0], [6, 0], [10, 0], [9, 1]], [[4, 2], [5, 0], [8, 0], [14, 0], [6, 2], [1, 0], [7, 0], [12, 2], [11, 2], [13, 1], [3, 0], [15, 2], [0, 0], [2, 0], [10, 0], [9, 1]], [[4, 2], [5, 0], [8, 0], [14, 0], [6, 2], [1, 0], [7, 0], [12, 2], [11, 2], [10, 1], [3, 0], [15, 2], [0, 0], [2, 0], [13, 0], [9, 1]], [[4, 2], [5, 0], [8, 0], [14, 0], [6, 2], [1, 0], [0, 0], [12, 2], [11, 2], [10, 1], [3, 0], [15, 2], [7, 0], [2, 0], [13, 0], [9, 1]], [[4, 2], [5, 0], [8, 0], [14, 0], [6, 2], [1, 0], [0, 0], [12, 2], [11, 2], [10, 1], [3, 0], [2, 1], [7, 0], [15, 2], [13, 0], [9, 1]], [[4, 2], [5, 0], [8, 0], [14, 0], [6, 2], [1, 0], [0, 0], [12, 2], [11, 2], [10, 1], [15, 0], [2, 1], [7, 0], [3, 0], [13, 0], [9, 1]], [[4, 2], [5, 0], [8, 0], [14, 0], [6, 2], [1, 0], [0, 0], [12, 2], [11, 2], [10, 1], [15, 0], [2, 1], [7, 0], [3, 0], [13, 0], [9, 1]], [[4, 2], [5, 0], [8, 0], [14, 0], [6, 2], [1, 0], [0, 0], [12, 2], [11, 2], [10, 1], [15, 0], [2, 1], [7, 0], [3, 0], [13, 0], [9, 1]], [[4, 2], [5, 0], [8, 0], [14, 0], [6, 2], [15, 2], [0, 0], [12, 2], [11, 2], [10, 1], [1, 1], [2, 1], [7, 0], [3, 0], [13, 0], [9, 1]], [[4, 2], [5, 0], [8, 0], [14, 0], [6, 2], [15, 2], [0, 0], [12, 2], [11, 2], [10, 1], [1, 1], [2, 1], [7, 0], [3, 0], [9, 0], [13, 1]], [[4, 2], [5, 0], [8, 0], [14, 0], [6, 2], [15, 2], [0, 0], [12, 2], [11, 2], [10, 1], [1, 1], [2, 1], [7, 0], [3, 0], [9, 0], [13, 1]], [[4, 2], [5, 0], [8, 0], [14, 0], [6, 2], [15, 2], [3, 0], [12, 2], [11, 2], [10, 1], [1, 1], [2, 1], [7, 0], [0, 0], [9, 0], [13, 1]], [[4, 2], [5, 0], [8, 0], [14, 0], [6, 2], [15, 2], [3, 0], [12, 2], [11, 2], [10, 1], [1, 1], [2, 1], [7, 0], [0, 0], [9, 0], [13, 1]], [[4, 2], [5, 0], [8, 0], [14, 0], [6, 2], [15, 2], [3, 0], [12, 2], [11, 2], [10, 1], [1, 1], [2, 1], [7, 0], [0, 0], [9, 0], [13, 1]], [[4, 2], [5, 0], [8, 0], [14, 0], [6, 2], [1, 0], [3, 0], [12, 2], [11, 2], [10, 1], [15, 0], [2, 1], [7, 0], [0, 0], [9, 0], [13, 1]], [[4, 2], [5, 0], [8, 0], [14, 0], [6, 2], [1, 0], [3, 0], [12, 2], [11, 2], [9, 1], [15, 0], [2, 1], [7, 0], [0, 0], [10, 0], [13, 1]], [[4, 2], [5, 0], [8, 0], [14, 0], [6, 2], [1, 0], [3, 0], [15, 2], [11, 2], [9, 1], [12, 0], [2, 1], [7, 0], [0, 0], [10, 0], [13, 1]], [[4, 2], [5, 0], [8, 0], [14, 0], [6, 2], [1, 0], [3, 0], [15, 2], [11, 2], [9, 1], [10, 1], [2, 1], [7, 0], [0, 0], [12, 0], [13, 1]], [[4, 2], [5, 0], [8, 0], [14, 0], [6, 2], [1, 0], [3, 0], [15, 2], [11, 2], [9, 1], [10, 1], [2, 1], [7, 0], [0, 0], [12, 0], [13, 1]], [[4, 2], [5, 0], [8, 0], [9, 1], [6, 2], [1, 0], [3, 0], [15, 2], [11, 2], [14, 0], [10, 1], [2, 1], [7, 0], [0, 0], [12, 0], [13, 1]], [[4, 2], [5, 0], [8, 0], [9, 1], [6, 2], [1, 0], [10, 0], [15, 2], [11, 2], [14, 0], [3, 0], [2, 1], [7, 0], [0, 0], [12, 0], [13, 1]], [[4, 2], [5, 0], [8, 0], [9, 1], [6, 2], [1, 0], [10, 0], [15, 2], [11, 2], [14, 0], [3, 0], [2, 1], [7, 0], [0, 0], [12, 0], [13, 1]], [[4, 2], [5, 0], [8, 0], [9, 1], [6, 2], [1, 0], [10, 0], [12, 2], [11, 2], [14, 0], [3, 0], [2, 1], [7, 0], [0, 0], [15, 0], [13, 1]], [[4, 2], [5, 0], [9, 2], [8, 2], [6, 2], [1, 0], [10, 0], [12, 2], [11, 2], [14, 0], [3, 0], [2, 1], [7, 0], [0, 0], [15, 0], [13, 1]], [[4, 2], [5, 0], [9, 2], [8, 2], [6, 2], [1, 0], [10, 0], [3, 1], [11, 2], [14, 0], [12, 0], [2, 1], [7, 0], [0, 0], [15, 0], [13, 1]], [[4, 2], [5, 0], [9, 2], [8, 2], [6, 2], [1, 0], [10, 0], [11, 1], [3, 1], [14, 0], [12, 0], [2, 1], [7, 0], [0, 0], [15, 0], [13, 1]], [[4, 2], [5, 0], [9, 2], [8, 2], [6, 2], [2, 0], [10, 0], [11, 1], [3, 1], [14, 0], [12, 0], [1, 1], [7, 0], [0, 0], [15, 0], [13, 1]], [[10, 2], [5, 0], [9, 2], [8, 2], [6, 2], [2, 0], [4, 0], [11, 1], [3, 1], [14, 0], [12, 0], [1, 1], [7, 0], [0, 0], [15, 0], [13, 1]], [[4, 2], [5, 0], [9, 2], [8, 2], [6, 2], [2, 0], [10, 0], [11, 1], [3, 1], [14, 0], [12, 0], [1, 1], [7, 0], [0, 0], [15, 0], [13, 1]], [[4, 2], [5, 0], [9, 2], [8, 2], [6, 2], [10, 0], [2, 0], [11, 1], [3, 1], [14, 0], [12, 0], [1, 1], [7, 0], [0, 0], [15, 0], [13, 1]], [[4, 2], [5, 0], [9, 2], [8, 2], [6, 2], [10, 0], [14, 2], [11, 1], [3, 1], [2, 1], [12, 0], [1, 1], [7, 0], [0, 0], [15, 0], [13, 1]], [[4, 2], [5, 0], [9, 2], [8, 2], [6, 2], [10, 0], [1, 0], [11, 1], [3, 1], [2, 1], [12, 0], [14, 0], [7, 0], [0, 0], [15, 0], [13, 1]], [[4, 2], [5, 0], [9, 2], [8, 2], [6, 2], [10, 0], [1, 0], [11, 1], [3, 1], [14, 0], [12, 0], [2, 1], [7, 0], [0, 0], [15, 0], [13, 1]], [[4, 2], [5, 0], [9, 2], [8, 2], [6, 2], [3, 0], [1, 0], [11, 1], [10, 2], [14, 0], [12, 0], [2, 1], [7, 0], [0, 0], [15, 0], [13, 1]], [[4, 2], [5, 0], [9, 2], [8, 2], [6, 2], [3, 0], [15, 2], [11, 1], [10, 2], [14, 0], [12, 0], [2, 1], [7, 0], [0, 0], [1, 1], [13, 1]], [[4, 2], [5, 0], [9, 2], [8, 2], [6, 2], [3, 0], [15, 2], [12, 2], [10, 2], [14, 0], [11, 0], [2, 1], [7, 0], [0, 0], [1, 1], [13, 1]], [[4, 2], [5, 0], [9, 2], [8, 2], [6, 2], [3, 0], [15, 2], [12, 2], [10, 2], [14, 0], [11, 0], [2, 1], [7, 0], [0, 0], [1, 1], [13, 1]], [[4, 2], [5, 0], [9, 2], [8, 2], [11, 0], [3, 0], [15, 2], [12, 2], [10, 2], [14, 0], [6, 0], [2, 1], [7, 0], [0, 0], [1, 1], [13, 1]], [[4, 2], [5, 0], [11, 2], [8, 2], [9, 1], [3, 0], [15, 2], [12, 2], [10, 2], [14, 0], [6, 0], [2, 1], [7, 0], [0, 0], [1, 1], [13, 1]], [[4, 2], [5, 0], [11, 2], [8, 2], [10, 1], [3, 0], [15, 2], [12, 2], [9, 2], [14, 0], [6, 0], [2, 1], [7, 0], [0, 0], [1, 1], [13, 1]], [[4, 2], [5, 0], [11, 2], [8, 2], [10, 1], [3, 0], [15, 2], [12, 2], [9, 2], [14, 0], [6, 0], [2, 1], [7, 0], [0, 0], [1, 1], [13, 1]], [[4, 2], [5, 0], [11, 2], [8, 2], [10, 1], [3, 0], [15, 2], [12, 2], [9, 2], [14, 0], [6, 0], [2, 1], [7, 0], [0, 0], [1, 1], [13, 1]], [[4, 2], [5, 0], [11, 2], [8, 2], [9, 1], [3, 0], [15, 2], [12, 2], [10, 2], [14, 0], [6, 0], [2, 1], [7, 0], [0, 0], [1, 1], [13, 1]], [[4, 2], [5, 0], [11, 2], [8, 2], [9, 1], [3, 0], [1, 0], [12, 2], [10, 2], [14, 0], [6, 0], [2, 1], [7, 0], [0, 0], [15, 0], [13, 1]], [[4, 2], [5, 0], [11, 2], [8, 2], [9, 1], [3, 0], [1, 0], [12, 2], [10, 2], [14, 0], [15, 0], [2, 1], [7, 0], [0, 0], [6, 0], [13, 1]], [[4, 2], [5, 0], [11, 2], [8, 2], [9, 1], [3, 0], [15, 2], [12, 2], [10, 2], [14, 0], [1, 1], [2, 1], [7, 0], [0, 0], [6, 0], [13, 1]], [[4, 2], [5, 0], [11, 2], [8, 2], [10, 1], [3, 0], [15, 2], [12, 2], [9, 2], [14, 0], [1, 1], [2, 1], [7, 0], [0, 0], [6, 0], [13, 1]], [[4, 2], [5, 0], [11, 2], [8, 2], [10, 1], [3, 0], [15, 2], [12, 2], [9, 2], [14, 0], [1, 1], [2, 1], [0, 1], [7, 0], [6, 0], [13, 1]], [[4, 2], [5, 0], [11, 2], [8, 2], [10, 1], [3, 0], [15, 2], [12, 2], [9, 2], [14, 0], [1, 1], [2, 1], [0, 1], [7, 0], [6, 0], [13, 1]], [[4, 2], [5, 0], [11, 2], [8, 2], [10, 1], [3, 0], [15, 2], [12, 2], [9, 2], [14, 0], [1, 1], [2, 1], [0, 1], [7, 0], [6, 0], [13, 1]], [[4, 2], [5, 0], [11, 2], [8, 2], [10, 1], [3, 0], [15, 2], [12, 2], [9, 2], [14, 0], [1, 1], [6, 0], [0, 1], [7, 0], [2, 1], [13, 1]], [[4, 2], [5, 0], [11, 2], [8, 2], [10, 1], [3, 0], [15, 2], [12, 2], [9, 2], [14, 0], [1, 1], [6, 0], [0, 1], [7, 0], [2, 1], [13, 1]], [[4, 2], [5, 0], [11, 2], [8, 2], [10, 1], [3, 0], [15, 2], [12, 2], [9, 2], [14, 0], [1, 1], [6, 0], [0, 1], [7, 0], [2, 1], [13, 1]], [[4, 2], [5, 0], [11, 2], [8, 2], [10, 1], [3, 0], [15, 2], [12, 2], [9, 2], [14, 0], [1, 1], [6, 0], [0, 1], [7, 0], [2, 1], [13, 1]], [[4, 2], [5, 0], [11, 2], [8, 2], [10, 1], [3, 0], [15, 2], [12, 2], [9, 2], [14, 0], [6, 0], [1, 1], [0, 1], [7, 0], [2, 1], [13, 1]], [[4, 2], [5, 0], [11, 2], [8, 2], [10, 1], [3, 0], [15, 2], [12, 2], [9, 2], [14, 0], [6, 0], [1, 1], [0, 1], [7, 0], [2, 1], [13, 1]], [[4, 2], [5, 0], [11, 2], [8, 2], [10, 1], [3, 0], [15, 2], [12, 2], [9, 2], [6, 0], [14, 0], [1, 1], [0, 1], [7, 0], [2, 1], [13, 1]], [[4, 2], [5, 0], [11, 2], [8, 2], [10, 1], [3, 0], [15, 2], [12, 2], [9, 2], [6, 0], [14, 0], [1, 1], [0, 1], [7, 0], [2, 1], [13, 1]], [[4, 2], [5, 0], [11, 2], [8, 2], [10, 1], [3, 0], [15, 2], [12, 2], [9, 2], [6, 0], [14, 0], [1, 1], [0, 1], [7, 0], [2, 1], [13, 1]], [[4, 2], [5, 0], [11, 2], [8, 2], [10, 1], [3, 0], [15, 2], [12, 2], [9, 2], [6, 0], [14, 0], [1, 1], [0, 1], [7, 0], [2, 1], [13, 1]], [[4, 2], [5, 0], [11, 2], [8, 2], [10, 1], [3, 0], [15, 2], [12, 2], [9, 2], [6, 0], [14, 0], [1, 1], [0, 1], [7, 0], [2, 1], [13, 1]], [[4, 2], [5, 0], [11, 2], [8, 2], [10, 1], [3, 0], [15, 2], [12, 2], [9, 2], [6, 0], [14, 0], [1, 1], [0, 1], [7, 0], [2, 1], [13, 1]], [[4, 2], [5, 0], [11, 2], [8, 2], [10, 1], [3, 0], [15, 2], [12, 2], [9, 2], [6, 0], [14, 0], [1, 1], [0, 1], [7, 0], [2, 1], [13, 1]], [[4, 2], [5, 0], [11, 2], [8, 2], [10, 1], [3, 0], [15, 2], [12, 2], [9, 2], [6, 0], [14, 0], [1, 1], [0, 1], [7, 0], [2, 1], [13, 1]], [[4, 2], [5, 0], [11, 2], [8, 2], [10, 1], [3, 0], [15, 2], [12, 2], [9, 2], [6, 0], [14, 0], [1, 1], [0, 1], [7, 0], [2, 1], [13, 1]], [[4, 2], [5, 0], [11, 2], [8, 2], [10, 1], [3, 0], [15, 2], [12, 2], [9, 2], [6, 0], [14, 0], [1, 1], [0, 1], [7, 0], [2, 1], [13, 1]], [[4, 2], [5, 0], [11, 2], [8, 2], [10, 1], [3, 0], [15, 2], [12, 2], [9, 2], [6, 0], [14, 0], [1, 1], [0, 1], [7, 0], [2, 1], [13, 1]], [[4, 2], [5, 0], [11, 2], [8, 2], [10, 1], [3, 0], [15, 2], [12, 2], [9, 2], [6, 0], [14, 0], [1, 1], [0, 1], [7, 0], [2, 1], [13, 1]], [[4, 2], [5, 0], [11, 2], [8, 2], [10, 1], [3, 0], [15, 2], [12, 2], [9, 2], [6, 0], [2, 1], [1, 1], [0, 1], [7, 0], [14, 0], [13, 1]], [[4, 2], [5, 0], [11, 2], [8, 2], [10, 1], [3, 0], [15, 2], [12, 2], [9, 2], [6, 0], [2, 1], [1, 1], [0, 1], [7, 0], [14, 0], [13, 1]], [[3, 2], [5, 0], [11, 2], [8, 2], [10, 1], [4, 0], [15, 2], [12, 2], [9, 2], [6, 0], [2, 1], [1, 1], [0, 1], [7, 0], [14, 0], [13, 1]], [[3, 2], [5, 0], [11, 2], [8, 2], [10, 1], [4, 0], [15, 2], [12, 2], [9, 2], [6, 0], [2, 1], [1, 1], [0, 1], [7, 0], [14, 0], [13, 1]], [[3, 2], [5, 0], [11, 2], [8, 2], [10, 1], [4, 0], [15, 2], [12, 2], [9, 2], [6, 0], [2, 1], [1, 1], [0, 1], [7, 0], [14, 0], [13, 1]], [[3, 2], [5, 0], [11, 2], [8, 2], [10, 1], [4, 0], [15, 2], [12, 2], [9, 2], [6, 0], [2, 1], [1, 1], [0, 1], [7, 0], [14, 0], [13, 1]], [[3, 2], [5, 0], [11, 2], [8, 2], [10, 1], [4, 0], [15, 2], [12, 2], [9, 2], [6, 0], [2, 1], [1, 1], [0, 1], [7, 0], [14, 0], [13, 1]], [[3, 2], [5, 0], [11, 2], [8, 2], [10, 1], [4, 0], [15, 2], [12, 2], [9, 2], [7, 0], [2, 1], [1, 1], [0, 1], [6, 0], [14, 0], [13, 1]], [[3, 2], [5, 0], [11, 2], [8, 2], [10, 1], [4, 0], [15, 2], [12, 2], [9, 2], [6, 0], [2, 1], [1, 1], [0, 1], [7, 0], [14, 0], [13, 1]], [[3, 2], [5, 0], [11, 2], [8, 2], [10, 1], [4, 0], [15, 2], [12, 2], [9, 2], [6, 0], [2, 1], [14, 0], [0, 1], [7, 0], [1, 1], [13, 1]], [[3, 2], [5, 0], [11, 2], [8, 2], [10, 1], [4, 0], [15, 2], [12, 2], [9, 2], [6, 0], [2, 1], [14, 0], [0, 1], [7, 0], [1, 1], [13, 1]], [[3, 2], [5, 0], [11, 2], [8, 2], [10, 1], [0, 0], [15, 2], [12, 2], [9, 2], [6, 0], [2, 1], [14, 0], [4, 0], [7, 0], [1, 1], [13, 1]], [[3, 2], [5, 0], [11, 2], [8, 2], [10, 1], [0, 0], [15, 2], [12, 2], [9, 2], [6, 0], [2, 1], [13, 1], [4, 0], [7, 0], [1, 1], [14, 0]], [[3, 2], [5, 0], [11, 2], [8, 2], [10, 1], [0, 0], [15, 2], [12, 2], [9, 2], [2, 1], [6, 0], [13, 1], [4, 0], [7, 0], [1, 1], [14, 0]], [[3, 2], [5, 0], [11, 2], [8, 2], [10, 1], [0, 0], [15, 2], [12, 2], [9, 2], [2, 1], [14, 0], [13, 1], [4, 0], [7, 0], [1, 1], [6, 0]], [[4, 2], [5, 0], [11, 2], [8, 2], [10, 1], [0, 0], [15, 2], [12, 2], [9, 2], [2, 1], [14, 0], [13, 1], [3, 0], [7, 0], [1, 1], [6, 0]], [[4, 2], [5, 0], [11, 2], [8, 2], [10, 1], [0, 0], [15, 2], [12, 2], [9, 2], [2, 1], [14, 0], [13, 1], [3, 0], [7, 0], [1, 1], [6, 0]], [[4, 2], [5, 0], [11, 2], [8, 2], [10, 1], [0, 0], [15, 2], [12, 2], [9, 2], [2, 1], [14, 0], [6, 0], [3, 0], [7, 0], [1, 1], [13, 1]], [[4, 2], [5, 0], [11, 2], [8, 2], [10, 1], [0, 0], [15, 2], [12, 2], [9, 2], [2, 1], [3, 1], [6, 0], [14, 0], [7, 0], [1, 1], [13, 1]], [[4, 2], [5, 0], [11, 2], [8, 2], [0, 2], [10, 0], [15, 2], [12, 2], [9, 2], [2, 1], [3, 1], [6, 0], [14, 0], [7, 0], [1, 1], [13, 1]], [[4, 2], [5, 0], [11, 2], [8, 2], [0, 2], [10, 0], [15, 2], [12, 2], [9, 2], [2, 1], [3, 1], [6, 0], [14, 0], [7, 0], [1, 1], [13, 1]], [[4, 2], [5, 0], [11, 2], [8, 2], [0, 2], [7, 0], [15, 2], [12, 2], [9, 2], [2, 1], [3, 1], [6, 0], [14, 0], [10, 0], [1, 1], [13, 1]], [[4, 2], [5, 0], [11, 2], [8, 2], [0, 2], [7, 0], [15, 2], [12, 2], [9, 2], [2, 1], [3, 1], [6, 0], [14, 0], [10, 0], [1, 1], [13, 1]], [[4, 2], [5, 0], [11, 2], [8, 2], [0, 2], [7, 0], [15, 2], [12, 2], [9, 2], [2, 1], [3, 1], [6, 0], [14, 0], [10, 0], [1, 1], [13, 1]], [[4, 2], [5, 0], [11, 2], [8, 2], [0, 2], [7, 0], [15, 2], [12, 2], [9, 2], [2, 1], [3, 1], [1, 1], [14, 0], [10, 0], [6, 0], [13, 1]], [[4, 2], [9, 1], [11, 2], [8, 2], [0, 2], [7, 0], [15, 2], [12, 2], [5, 0], [2, 1], [3, 1], [1, 1], [14, 0], [10, 0], [6, 0], [13, 1]], [[4, 2], [9, 1], [11, 2], [8, 2], [0, 2], [7, 0], [15, 2], [12, 2], [1, 0], [2, 1], [3, 1], [5, 2], [14, 0], [10, 0], [6, 0], [13, 1]], [[4, 2], [9, 1], [11, 2], [8, 2], [0, 2], [7, 0], [15, 2], [12, 2], [3, 0], [2, 1], [1, 1], [5, 2], [14, 0], [10, 0], [6, 0], [13, 1]], [[4, 2], [9, 1], [11, 2], [8, 2], [0, 2], [7, 0], [15, 2], [12, 2], [3, 0], [2, 1], [1, 1], [5, 2], [14, 0], [10, 0], [6, 0], [13, 1]], [[4, 2], [9, 1], [11, 2], [8, 2], [0, 2], [7, 0], [15, 2], [12, 2], [3, 0], [2, 1], [1, 1], [5, 2], [14, 0], [10, 0], [6, 0], [13, 1]], [[4, 2], [9, 1], [11, 2], [8, 2], [0, 2], [7, 0], [15, 2], [12, 2], [3, 0], [2, 1], [1, 1], [5, 2], [14, 0], [10, 0], [6, 0], [13, 1]], [[4, 2], [9, 1], [11, 2], [8, 2], [0, 2], [10, 1], [15, 2], [12, 2], [3, 0], [2, 1], [1, 1], [5, 2], [14, 0], [7, 0], [6, 0], [13, 1]], [[4, 2], [9, 1], [11, 2], [8, 2], [0, 2], [10, 1], [5, 0], [12, 2], [3, 0], [2, 1], [1, 1], [15, 0], [14, 0], [7, 0], [6, 0], [13, 1]], [[4, 2], [9, 1], [11, 2], [8, 2], [0, 2], [10, 1], [5, 0], [12, 2], [3, 0], [2, 1], [1, 1], [15, 0], [14, 0], [7, 0], [6, 0], [13, 1]], [[4, 2], [9, 1], [3, 0], [8, 2], [0, 2], [10, 1], [5, 0], [12, 2], [11, 2], [2, 1], [1, 1], [15, 0], [14, 0], [7, 0], [6, 0], [13, 1]], [[4, 2], [9, 1], [3, 0], [8, 2], [0, 2], [10, 1], [5, 0], [12, 2], [11, 2], [2, 1], [15, 0], [1, 1], [14, 0], [7, 0], [6, 0], [13, 1]], [[4, 2], [9, 1], [3, 0], [8, 2], [0, 2], [10, 1], [5, 0], [12, 2], [11, 2], [2, 1], [15, 0], [6, 0], [14, 0], [7, 0], [1, 1], [13, 1]], [[4, 2], [9, 1], [3, 0], [8, 2], [0, 2], [10, 1], [5, 0], [12, 2], [11, 2], [2, 1], [15, 0], [6, 0], [14, 0], [7, 0], [1, 1], [13, 1]], [[4, 2], [9, 1], [3, 0], [8, 2], [14, 0], [10, 1], [5, 0], [12, 2], [11, 2], [2, 1], [15, 0], [6, 0], [0, 0], [7, 0], [1, 1], [13, 1]], [[4, 2], [9, 1], [3, 0], [8, 2], [14, 0], [10, 1], [5, 0], [12, 2], [11, 2], [1, 1], [15, 0], [6, 0], [0, 0], [7, 0], [2, 1], [13, 1]], [[4, 2], [9, 1], [3, 0], [8, 2], [14, 0], [10, 1], [5, 0], [12, 2], [11, 2], [1, 1], [15, 0], [6, 0], [0, 0], [7, 0], [2, 1], [13, 1]], [[4, 2], [9, 1], [3, 0], [8, 2], [15, 2], [10, 1], [5, 0], [12, 2], [11, 2], [1, 1], [14, 0], [6, 0], [0, 0], [7, 0], [2, 1], [13, 1]], [[4, 2], [9, 1], [3, 0], [5, 2], [15, 2], [10, 1], [8, 0], [12, 2], [11, 2], [1, 1], [14, 0], [6, 0], [0, 0], [7, 0], [2, 1], [13, 1]], [[4, 2], [9, 1], [3, 0], [8, 2], [15, 2], [10, 1], [5, 0], [12, 2], [11, 2], [1, 1], [14, 0], [6, 0], [0, 0], [7, 0], [2, 1], [13, 1]], [[4, 2], [9, 1], [3, 0], [8, 2], [11, 1], [10, 1], [5, 0], [12, 2], [15, 0], [1, 1], [14, 0], [6, 0], [0, 0], [7, 0], [2, 1], [13, 1]], [[6, 0], [9, 1], [3, 0], [8, 2], [11, 1], [10, 1], [5, 0], [12, 2], [15, 0], [1, 1], [14, 0], [4, 2], [0, 0], [7, 0], [2, 1], [13, 1]], [[6, 0], [9, 1], [3, 0], [8, 2], [11, 1], [10, 1], [5, 0], [12, 2], [15, 0], [1, 1], [14, 0], [4, 2], [0, 0], [7, 0], [2, 1], [13, 1]], [[3, 2], [9, 1], [6, 0], [8, 2], [11, 1], [10, 1], [5, 0], [12, 2], [15, 0], [1, 1], [14, 0], [4, 2], [0, 0], [7, 0], [2, 1], [13, 1]], [[3, 2], [14, 0], [6, 0], [8, 2], [11, 1], [10, 1], [5, 0], [12, 2], [15, 0], [1, 1], [9, 1], [4, 2], [0, 0], [7, 0], [2, 1], [13, 1]], [[4, 2], [14, 0], [6, 0], [8, 2], [11, 1], [10, 1], [5, 0], [12, 2], [15, 0], [1, 1], [9, 1], [3, 2], [0, 0], [7, 0], [2, 1], [13, 1]], [[3, 2], [14, 0], [6, 0], [8, 2], [11, 1], [10, 1], [5, 0], [12, 2], [15, 0], [1, 1], [9, 1], [4, 2], [0, 0], [7, 0], [2, 1], [13, 1]], [[3, 2], [14, 0], [6, 0], [8, 2], [11, 1], [10, 1], [5, 0], [12, 2], [15, 0], [1, 1], [2, 1], [4, 2], [0, 0], [7, 0], [9, 0], [13, 1]], [[3, 2], [14, 0], [6, 0], [15, 0], [11, 1], [10, 1], [5, 0], [12, 2], [8, 0], [1, 1], [2, 1], [4, 2], [0, 0], [7, 0], [9, 0], [13, 1]], [[3, 2], [14, 0], [6, 0], [15, 0], [11, 1], [10, 1], [5, 0], [12, 2], [8, 0], [1, 1], [2, 1], [4, 2], [0, 0], [7, 0], [9, 0], [13, 1]], [[3, 2], [14, 0], [6, 0], [15, 0], [11, 1], [10, 1], [5, 0], [12, 2], [8, 0], [1, 1], [2, 1], [4, 2], [0, 0], [7, 0], [9, 0], [13, 1]], [[3, 2], [14, 0], [6, 0], [15, 0], [11, 1], [10, 1], [5, 0], [12, 2], [8, 0], [1, 1], [2, 1], [4, 2], [0, 0], [7, 0], [9, 0], [13, 1]], [[3, 2], [14, 0], [6, 0], [15, 0], [11, 1], [10, 1], [5, 0], [12, 2], [8, 0], [1, 1], [2, 1], [4, 2], [0, 0], [7, 0], [9, 0], [13, 1]], [[3, 2], [14, 0], [6, 0], [15, 0], [11, 1], [10, 1], [5, 0], [9, 1], [8, 0], [1, 1], [2, 1], [4, 2], [0, 0], [7, 0], [12, 0], [13, 1]], [[3, 2], [14, 0], [6, 0], [15, 0], [11, 1], [10, 1], [5, 0], [9, 1], [8, 0], [1, 1], [2, 1], [4, 2], [0, 0], [7, 0], [12, 0], [13, 1]], [[3, 2], [14, 0], [6, 0], [15, 0], [11, 1], [10, 1], [5, 0], [9, 1], [8, 0], [1, 1], [2, 1], [4, 2], [0, 0], [7, 0], [12, 0], [13, 1]], [[3, 2], [14, 0], [12, 0], [15, 0], [11, 1], [10, 1], [5, 0], [9, 1], [8, 0], [1, 1], [2, 1], [4, 2], [0, 0], [7, 0], [6, 0], [13, 1]], [[3, 2], [14, 0], [12, 0], [15, 0], [11, 1], [10, 1], [5, 0], [9, 1], [8, 0], [1, 1], [2, 1], [4, 2], [0, 0], [7, 0], [6, 0], [13, 1]], [[3, 2], [14, 0], [12, 0], [15, 0], [11, 1], [10, 1], [2, 0], [9, 1], [8, 0], [1, 1], [5, 2], [4, 2], [0, 0], [7, 0], [6, 0], [13, 1]], [[3, 2], [15, 0], [12, 0], [14, 0], [11, 1], [10, 1], [2, 0], [9, 1], [8, 0], [1, 1], [5, 2], [4, 2], [0, 0], [7, 0], [6, 0], [13, 1]], [[3, 2], [12, 0], [15, 0], [14, 0], [11, 1], [10, 1], [2, 0], [9, 1], [8, 0], [1, 1], [5, 2], [4, 2], [0, 0], [7, 0], [6, 0], [13, 1]], [[3, 2], [12, 0], [15, 0], [14, 0], [11, 1], [10, 1], [2, 0], [9, 1], [8, 0], [1, 1], [5, 2], [4, 2], [0, 0], [7, 0], [6, 0], [13, 1]], [[3, 2], [12, 0], [15, 0], [14, 0], [11, 1], [10, 1], [6, 0], [9, 1], [8, 0], [1, 1], [5, 2], [4, 2], [0, 0], [7, 0], [2, 1], [13, 1]], [[0, 2], [12, 0], [15, 0], [14, 0], [11, 1], [10, 1], [6, 0], [9, 1], [8, 0], [1, 1], [5, 2], [4, 2], [3, 0], [7, 0], [2, 1], [13, 1]], [[0, 2], [12, 0], [15, 0], [14, 0], [10, 1], [11, 0], [6, 0], [9, 1], [8, 0], [1, 1], [5, 2], [4, 2], [3, 0], [7, 0], [2, 1], [13, 1]], [[0, 2], [12, 0], [15, 0], [14, 0], [10, 1], [1, 1], [6, 0], [9, 1], [8, 0], [11, 1], [5, 2], [4, 2], [3, 0], [7, 0], [2, 1], [13, 1]], [[0, 2], [12, 0], [15, 0], [14, 0], [10, 1], [3, 0], [6, 0], [9, 1], [8, 0], [11, 1], [5, 2], [4, 2], [1, 0], [7, 0], [2, 1], [13, 1]], [[0, 2], [12, 0], [15, 0], [14, 0], [10, 1], [3, 0], [11, 0], [9, 1], [8, 0], [6, 0], [5, 2], [4, 2], [1, 0], [7, 0], [2, 1], [13, 1]], [[0, 2], [12, 0], [15, 0], [14, 0], [10, 1], [4, 0], [11, 0], [9, 1], [8, 0], [6, 0], [5, 2], [3, 2], [1, 0], [7, 0], [2, 1], [13, 1]], [[0, 2], [12, 0], [15, 0], [14, 0], [10, 1], [4, 0], [13, 0], [9, 1], [8, 0], [6, 0], [5, 2], [3, 2], [1, 0], [7, 0], [2, 1], [11, 1]], [[0, 2], [12, 0], [15, 0], [14, 0], [10, 1], [4, 0], [13, 0], [9, 1], [1, 1], [6, 0], [5, 2], [3, 2], [8, 0], [7, 0], [2, 1], [11, 1]], [[0, 2], [12, 0], [15, 0], [14, 0], [10, 1], [4, 0], [13, 0], [9, 1], [1, 1], [6, 0], [5, 2], [3, 2], [8, 0], [7, 0], [2, 1], [11, 1]], [[0, 2], [9, 1], [15, 0], [14, 0], [10, 1], [4, 0], [13, 0], [12, 2], [1, 1], [6, 0], [5, 2], [3, 2], [8, 0], [7, 0], [2, 1], [11, 1]], [[0, 2], [9, 1], [15, 0], [14, 0], [10, 1], [4, 0], [13, 0], [12, 2], [1, 1], [6, 0], [5, 2], [3, 2], [8, 0], [7, 0], [2, 1], [11, 1]], [[0, 2], [9, 1], [15, 0], [14, 0], [10, 1], [4, 0], [13, 0], [12, 2], [1, 1], [6, 0], [5, 2], [8, 2], [3, 0], [7, 0], [2, 1], [11, 1]], [[0, 2], [9, 1], [15, 0], [14, 0], [10, 1], [1, 1], [13, 0], [12, 2], [4, 1], [6, 0], [5, 2], [8, 2], [3, 0], [7, 0], [2, 1], [11, 1]], [[0, 2], [9, 1], [15, 0], [14, 0], [10, 1], [1, 1], [13, 0], [12, 2], [4, 1], [6, 0], [5, 2], [2, 1], [3, 0], [7, 0], [8, 2], [11, 1]], [[0, 2], [9, 1], [15, 0], [14, 0], [10, 1], [1, 1], [4, 0], [12, 2], [13, 2], [6, 0], [5, 2], [2, 1], [3, 0], [7, 0], [8, 2], [11, 1]], [[0, 2], [9, 1], [15, 0], [14, 0], [10, 1], [1, 1], [4, 0], [12, 2], [13, 2], [8, 2], [5, 2], [2, 1], [3, 0], [7, 0], [6, 1], [11, 1]], [[0, 2], [9, 1], [15, 0], [14, 0], [2, 1], [1, 1], [4, 0], [12, 2], [13, 2], [8, 2], [5, 2], [10, 1], [3, 0], [7, 0], [6, 1], [11, 1]], [[0, 2], [9, 1], [15, 0], [14, 0], [1, 1], [2, 1], [4, 0], [12, 2], [13, 2], [8, 2], [5, 2], [10, 1], [3, 0], [7, 0], [6, 1], [11, 1]], [[0, 2], [9, 1], [15, 0], [14, 0], [1, 1], [2, 1], [4, 0], [12, 2], [13, 2], [8, 2], [5, 2], [10, 1], [3, 0], [7, 0], [6, 1], [11, 1]], [[0, 2], [10, 1], [15, 0], [14, 0], [1, 1], [2, 1], [4, 0], [12, 2], [13, 2], [8, 2], [5, 2], [9, 1], [3, 0], [7, 0], [6, 1], [11, 1]], [[0, 2], [10, 1], [15, 0], [14, 0], [1, 1], [2, 1], [4, 0], [12, 2], [13, 2], [5, 2], [8, 2], [9, 1], [3, 0], [7, 0], [6, 1], [11, 1]], [[0, 2], [10, 1], [15, 0], [14, 0], [1, 1], [2, 1], [4, 0], [12, 2], [13, 2], [5, 2], [8, 2], [9, 1], [3, 0], [7, 0], [6, 1], [11, 1]], [[0, 2], [10, 1], [15, 0], [14, 0], [1, 1], [2, 1], [4, 0], [12, 2], [13, 2], [5, 2], [8, 2], [9, 1], [3, 0], [7, 0], [6, 1], [11, 1]], [[0, 2], [10, 1], [15, 0], [14, 0], [1, 1], [2, 1], [4, 0], [12, 2], [13, 2], [5, 2], [8, 2], [9, 1], [3, 0], [7, 0], [6, 1], [11, 1]], [[0, 2], [10, 1], [15, 0], [5, 2], [1, 1], [2, 1], [4, 0], [12, 2], [13, 2], [14, 0], [8, 2], [9, 1], [3, 0], [7, 0], [6, 1], [11, 1]], [[0, 2], [10, 1], [13, 1], [5, 2], [1, 1], [2, 1], [4, 0], [12, 2], [15, 0], [14, 0], [8, 2], [9, 1], [3, 0], [7, 0], [6, 1], [11, 1]], [[0, 2], [10, 1], [13, 1], [5, 2], [6, 1], [2, 1], [4, 0], [12, 2], [15, 0], [14, 0], [8, 2], [9, 1], [3, 0], [7, 0], [1, 1], [11, 1]], [[0, 2], [10, 1], [1, 2], [5, 2], [6, 1], [2, 1], [4, 0], [12, 2], [15, 0], [14, 0], [8, 2], [9, 1], [3, 0], [7, 0], [13, 1], [11, 1]], [[0, 2], [10, 1], [1, 2], [5, 2], [4, 1], [2, 1], [6, 0], [12, 2], [15, 0], [14, 0], [8, 2], [9, 1], [3, 0], [7, 0], [13, 1], [11, 1]], [[0, 2], [10, 1], [2, 2], [5, 2], [4, 1], [1, 1], [6, 0], [12, 2], [15, 0], [14, 0], [8, 2], [9, 1], [3, 0], [7, 0], [13, 1], [11, 1]], [[0, 2], [9, 1], [2, 2], [5, 2], [4, 1], [1, 1], [6, 0], [12, 2], [15, 0], [14, 0], [8, 2], [10, 1], [3, 0], [7, 0], [13, 1], [11, 1]], [[0, 2], [9, 1], [2, 2], [5, 2], [4, 1], [1, 1], [6, 0], [12, 2], [15, 0], [14, 0], [8, 2], [10, 1], [3, 0], [7, 0], [13, 1], [11, 1]], [[0, 2], [9, 1], [1, 2], [5, 2], [4, 1], [2, 1], [6, 0], [12, 2], [15, 0], [14, 0], [8, 2], [10, 1], [3, 0], [7, 0], [13, 1], [11, 1]], [[0, 2], [9, 1], [1, 2], [5, 2], [4, 1], [2, 1], [6, 0], [12, 2], [15, 0], [14, 0], [8, 2], [10, 1], [3, 0], [7, 0], [13, 1], [11, 1]], [[1, 2], [9, 1], [0, 2], [5, 2], [4, 1], [2, 1], [6, 0], [12, 2], [15, 0], [14, 0], [8, 2], [10, 1], [3, 0], [7, 0], [13, 1], [11, 1]], [[1, 2], [9, 1], [0, 2], [5, 2], [4, 1], [2, 1], [6, 0], [14, 0], [15, 0], [12, 0], [8, 2], [10, 1], [3, 0], [7, 0], [13, 1], [11, 1]], [[1, 2], [9, 1], [0, 2], [5, 2], [4, 1], [2, 1], [6, 0], [14, 0], [15, 0], [12, 0], [8, 2], [10, 1], [3, 0], [7, 0], [13, 1], [11, 1]], [[1, 2], [9, 1], [0, 2], [5, 2], [4, 1], [2, 1], [6, 0], [14, 0], [15, 0], [12, 0], [8, 2], [10, 1], [3, 0], [7, 0], [13, 1], [11, 1]], [[1, 2], [9, 1], [0, 2], [5, 2], [4, 1], [2, 1], [6, 0], [14, 0], [15, 0], [12, 0], [11, 2], [10, 1], [3, 0], [7, 0], [13, 1], [8, 1]], [[1, 2], [8, 0], [0, 2], [5, 2], [4, 1], [2, 1], [6, 0], [14, 0], [15, 0], [12, 0], [11, 2], [10, 1], [3, 0], [7, 0], [13, 1], [9, 1]], [[1, 2], [8, 0], [7, 1], [5, 2], [4, 1], [2, 1], [6, 0], [14, 0], [15, 0], [12, 0], [11, 2], [10, 1], [3, 0], [0, 0], [13, 1], [9, 1]], [[2, 2], [8, 0], [7, 1], [5, 2], [4, 1], [1, 1], [6, 0], [14, 0], [15, 0], [12, 0], [11, 2], [10, 1], [3, 0], [0, 0], [13, 1], [9, 1]], [[2, 2], [8, 0], [11, 2], [5, 2], [4, 1], [1, 1], [6, 0], [14, 0], [15, 0], [12, 0], [7, 1], [10, 1], [3, 0], [0, 0], [13, 1], [9, 1]], [[2, 2], [8, 0], [11, 2], [5, 2], [4, 1], [1, 1], [6, 0], [14, 0], [15, 0], [12, 0], [7, 1], [10, 1], [3, 0], [0, 0], [13, 1], [9, 1]], [[2, 2], [8, 0], [11, 2], [5, 2], [4, 1], [1, 1], [6, 0], [14, 0], [15, 0], [12, 0], [0, 1], [10, 1], [3, 0], [7, 0], [13, 1], [9, 1]], [[2, 2], [8, 0], [1, 2], [5, 2], [4, 1], [11, 0], [6, 0], [14, 0], [15, 0], [12, 0], [0, 1], [10, 1], [3, 0], [7, 0], [13, 1], [9, 1]], [[2, 2], [8, 0], [1, 2], [5, 2], [4, 1], [11, 0], [6, 0], [14, 0], [12, 0], [15, 0], [0, 1], [10, 1], [3, 0], [7, 0], [13, 1], [9, 1]], [[2, 2], [8, 0], [1, 2], [5, 2], [4, 1], [11, 0], [6, 0], [14, 0], [12, 0], [15, 0], [0, 1], [3, 0], [10, 1], [7, 0], [13, 1], [9, 1]], [[2, 2], [8, 0], [1, 2], [5, 2], [4, 1], [11, 0], [15, 1], [14, 0], [12, 0], [6, 0], [0, 1], [3, 0], [10, 1], [7, 0], [13, 1], [9, 1]], [[2, 2], [8, 0], [1, 2], [5, 2], [15, 0], [11, 0], [4, 0], [14, 0], [12, 0], [6, 0], [0, 1], [3, 0], [10, 1], [7, 0], [13, 1], [9, 1]], [[2, 2], [8, 0], [1, 2], [5, 2], [15, 0], [11, 0], [4, 0], [14, 0], [12, 0], [6, 0], [0, 1], [3, 0], [10, 1], [7, 0], [13, 1], [9, 1]], [[2, 2], [8, 0], [1, 2], [5, 2], [15, 0], [11, 0], [4, 0], [14, 0], [12, 0], [6, 0], [0, 1], [3, 0], [10, 1], [7, 0], [13, 1], [9, 1]], [[2, 2], [8, 0], [1, 2], [5, 2], [15, 0], [4, 1], [11, 1], [14, 0], [12, 0], [6, 0], [0, 1], [3, 0], [10, 1], [7, 0], [13, 1], [9, 1]], [[2, 2], [8, 0], [1, 2], [5, 2], [15, 0], [4, 1], [11, 1], [14, 0], [12, 0], [6, 0], [0, 1], [3, 0], [10, 1], [9, 1], [13, 1], [7, 0]], [[2, 2], [7, 1], [1, 2], [5, 2], [15, 0], [4, 1], [11, 1], [14, 0], [12, 0], [6, 0], [0, 1], [3, 0], [10, 1], [9, 1], [13, 1], [8, 1]], [[2, 2], [7, 1], [1, 2], [5, 2], [15, 0], [4, 1], [11, 1], [14, 0], [12, 0], [6, 0], [0, 1], [3, 0], [10, 1], [9, 1], [13, 0], [8, 1]], [[2, 2], [7, 1], [1, 2], [5, 2], [15, 0], [9, 2], [11, 1], [14, 0], [12, 0], [6, 0], [0, 1], [3, 0], [10, 1], [4, 0], [13, 0], [8, 1]], [[2, 2], [7, 1], [1, 2], [8, 2], [15, 0], [9, 2], [11, 1], [14, 0], [12, 0], [6, 0], [0, 1], [3, 0], [10, 1], [4, 0], [13, 0], [5, 2]], [[2, 2], [7, 1], [1, 2], [8, 2], [15, 0], [3, 1], [11, 1], [14, 0], [12, 0], [6, 0], [0, 1], [9, 1], [10, 1], [4, 0], [13, 0], [5, 2]], [[2, 2], [7, 1], [1, 2], [8, 2], [15, 0], [3, 1], [11, 1], [14, 0], [12, 0], [4, 1], [0, 1], [9, 1], [10, 1], [6, 0], [13, 0], [5, 2]], [[2, 2], [7, 1], [1, 2], [8, 2], [15, 0], [3, 1], [11, 1], [14, 0], [12, 0], [5, 1], [0, 1], [9, 1], [10, 1], [6, 0], [13, 0], [4, 0]], [[2, 2], [7, 1], [1, 2], [5, 2], [15, 0], [3, 1], [11, 1], [14, 0], [12, 0], [8, 2], [0, 1], [9, 1], [10, 1], [6, 0], [13, 0], [4, 0]], [[2, 2], [7, 1], [1, 2], [5, 2], [15, 0], [3, 1], [11, 1], [14, 0], [12, 0], [8, 2], [0, 1], [9, 1], [10, 1], [6, 0], [13, 0], [4, 0]], [[15, 1], [7, 1], [1, 2], [5, 2], [2, 1], [3, 1], [11, 1], [14, 0], [12, 0], [8, 2], [0, 1], [9, 1], [10, 1], [6, 0], [13, 0], [4, 0]], [[4, 2], [7, 1], [1, 2], [5, 2], [2, 1], [3, 1], [11, 1], [14, 0], [12, 0], [8, 2], [0, 1], [9, 1], [10, 1], [6, 0], [13, 0], [15, 2]], [[4, 2], [7, 1], [1, 2], [5, 2], [14, 0], [3, 1], [11, 1], [2, 1], [12, 0], [8, 2], [0, 1], [9, 1], [10, 1], [6, 0], [13, 0], [15, 2]], [[4, 2], [7, 1], [10, 0], [5, 2], [14, 0], [3, 1], [11, 1], [2, 1], [12, 0], [8, 2], [0, 1], [9, 1], [1, 1], [6, 0], [13, 0], [15, 2]], [[4, 2], [10, 1], [7, 1], [5, 2], [14, 0], [3, 1], [11, 1], [2, 1], [12, 0], [8, 2], [0, 1], [9, 1], [1, 1], [6, 0], [13, 0], [15, 2]], [[4, 2], [10, 1], [7, 1], [5, 2], [14, 0], [9, 0], [11, 1], [2, 1], [12, 0], [8, 2], [0, 1], [3, 0], [1, 1], [6, 0], [13, 0], [15, 2]], [[4, 2], [10, 1], [7, 1], [5, 2], [14, 0], [2, 1], [11, 1], [9, 1], [12, 0], [8, 2], [0, 1], [3, 0], [1, 1], [6, 0], [13, 0], [15, 2]], [[4, 2], [9, 1], [7, 1], [5, 2], [14, 0], [2, 1], [11, 1], [10, 1], [12, 0], [8, 2], [0, 1], [3, 0], [1, 1], [6, 0], [13, 0], [15, 2]], [[4, 2], [9, 1], [7, 1], [5, 2], [14, 0], [2, 1], [11, 1], [10, 1], [12, 0], [8, 2], [0, 1], [3, 0], [1, 1], [6, 0], [13, 0], [15, 2]], [[4, 2], [9, 1], [7, 1], [5, 2], [14, 0], [2, 1], [11, 1], [10, 1], [12, 0], [8, 2], [0, 1], [3, 0], [6, 0], [1, 0], [13, 0], [15, 2]], [[4, 2], [9, 1], [7, 1], [5, 2], [14, 0], [2, 1], [11, 1], [10, 1], [12, 0], [8, 2], [15, 2], [3, 0], [6, 0], [1, 0], [13, 0], [0, 0]], [[4, 2], [9, 1], [7, 1], [5, 2], [3, 1], [2, 1], [11, 1], [10, 1], [12, 0], [8, 2], [15, 2], [14, 0], [6, 0], [1, 0], [13, 0], [0, 0]], [[4, 2], [9, 1], [0, 2], [5, 2], [3, 1], [2, 1], [11, 1], [10, 1], [12, 0], [8, 2], [15, 2], [14, 0], [6, 0], [1, 0], [13, 0], [7, 0]], [[4, 2], [9, 1], [0, 2], [5, 2], [3, 1], [2, 1], [11, 1], [10, 1], [12, 0], [6, 0], [15, 2], [14, 0], [8, 2], [1, 0], [13, 0], [7, 0]], [[4, 2], [9, 1], [0, 2], [5, 2], [3, 1], [1, 1], [11, 1], [10, 1], [12, 0], [6, 0], [15, 2], [14, 0], [8, 2], [2, 0], [13, 0], [7, 0]], [[3, 2], [9, 1], [0, 2], [5, 2], [4, 1], [1, 1], [11, 1], [10, 1], [12, 0], [6, 0], [15, 2], [14, 0], [8, 2], [2, 0], [13, 0], [7, 0]], [[3, 2], [9, 1], [0, 2], [5, 2], [4, 1], [1, 1], [10, 1], [11, 1], [12, 0], [6, 0], [15, 2], [14, 0], [8, 2], [2, 0], [13, 0], [7, 0]], [[3, 2], [9, 1], [0, 2], [5, 2], [4, 1], [7, 0], [10, 1], [11, 1], [12, 0], [6, 0], [15, 2], [14, 0], [8, 2], [2, 0], [13, 0], [1, 1]], [[3, 2], [9, 1], [0, 2], [5, 2], [4, 1], [7, 0], [15, 2], [11, 1], [12, 0], [6, 0], [10, 0], [14, 0], [8, 2], [2, 0], [13, 0], [1, 1]], [[3, 2], [1, 0], [0, 2], [5, 2], [4, 1], [7, 0], [15, 2], [11, 1], [12, 0], [6, 0], [10, 0], [14, 0], [8, 2], [2, 0], [13, 0], [9, 1]], [[3, 2], [1, 0], [0, 2], [5, 2], [7, 1], [4, 0], [15, 2], [11, 1], [12, 0], [6, 0], [10, 0], [14, 0], [8, 2], [2, 0], [13, 0], [9, 1]], [[3, 2], [1, 0], [0, 2], [5, 2], [7, 1], [4, 0], [9, 1], [11, 1], [12, 0], [6, 0], [10, 0], [14, 0], [8, 2], [2, 0], [13, 0], [15, 2]], [[3, 2], [1, 0], [4, 2], [5, 2], [7, 1], [0, 0], [9, 1], [11, 1], [12, 0], [6, 0], [10, 0], [14, 0], [8, 2], [2, 0], [13, 0], [15, 2]], [[3, 2], [1, 0], [4, 2], [5, 2], [7, 1], [0, 0], [10, 1], [11, 1], [12, 0], [6, 0], [9, 0], [14, 0], [8, 2], [2, 0], [13, 0], [15, 2]], [[3, 2], [1, 0], [4, 2], [5, 2], [7, 1], [6, 1], [10, 1], [11, 1], [12, 0], [0, 0], [9, 0], [14, 0], [8, 2], [2, 0], [13, 0], [15, 2]], [[3, 2], [1, 0], [4, 2], [5, 2], [7, 1], [6, 1], [10, 1], [11, 1], [12, 0], [0, 0], [8, 0], [14, 0], [9, 0], [2, 0], [13, 0], [15, 2]], [[3, 2], [14, 1], [4, 2], [5, 2], [7, 1], [6, 1], [10, 1], [11, 1], [12, 0], [0, 0], [8, 0], [1, 1], [9, 0], [2, 0], [13, 0], [15, 2]], [[3, 2], [14, 1], [4, 2], [5, 2], [7, 1], [6, 1], [10, 1], [11, 1], [12, 0], [0, 0], [8, 0], [1, 1], [9, 0], [2, 0], [13, 0], [15, 2]], [[3, 2], [14, 1], [12, 0], [5, 2], [7, 1], [6, 1], [10, 1], [11, 1], [4, 1], [0, 0], [8, 0], [1, 1], [9, 0], [2, 0], [13, 0], [15, 2]], [[3, 2], [14, 1], [12, 0], [5, 2], [7, 1], [6, 1], [10, 1], [11, 1], [4, 1], [13, 1], [8, 0], [1, 1], [9, 0], [2, 0], [0, 1], [15, 2]], [[3, 2], [14, 1], [12, 0], [5, 2], [7, 1], [6, 1], [9, 1], [11, 1], [4, 1], [13, 1], [8, 0], [1, 1], [10, 0], [2, 0], [0, 1], [15, 2]], [[3, 2], [14, 1], [12, 0], [5, 2], [7, 1], [6, 1], [11, 0], [9, 1], [4, 1], [13, 1], [8, 0], [1, 1], [10, 0], [2, 0], [0, 1], [15, 2]], [[3, 2], [14, 1], [12, 0], [5, 2], [7, 1], [6, 1], [9, 1], [11, 1], [4, 1], [13, 1], [8, 0], [1, 1], [10, 0], [2, 0], [0, 1], [15, 2]], [[3, 2], [14, 1], [12, 0], [2, 1], [7, 1], [6, 1], [9, 1], [11, 1], [4, 1], [13, 1], [8, 0], [1, 1], [10, 0], [5, 1], [0, 1], [15, 2]], [[3, 2], [14, 1], [12, 0], [2, 1], [7, 1], [6, 1], [8, 0], [11, 1], [4, 1], [13, 1], [9, 1], [1, 1], [10, 0], [5, 1], [0, 1], [15, 2]], [[3, 2], [14, 1], [12, 0], [2, 1], [7, 1], [6, 1], [10, 1], [11, 1], [4, 1], [13, 1], [9, 1], [1, 1], [8, 1], [5, 1], [0, 1], [15, 2]], [[3, 2], [14, 1], [12, 0], [2, 1], [7, 1], [6, 1], [10, 1], [11, 1], [4, 1], [13, 1], [9, 1], [8, 0], [1, 0], [5, 1], [0, 1], [15, 2]], [[3, 2], [14, 1], [12, 0], [2, 1], [7, 1], [6, 1], [10, 1], [11, 1], [4, 1], [13, 1], [9, 1], [1, 1], [8, 1], [5, 1], [0, 1], [15, 2]], [[3, 2], [14, 1], [12, 0], [2, 1], [7, 1], [6, 1], [10, 1], [11, 1], [4, 1], [13, 1], [9, 1], [1, 1], [5, 1], [8, 1], [0, 1], [15, 2]], [[3, 2], [14, 1], [12, 0], [2, 1], [7, 1], [6, 1], [10, 1], [11, 1], [15, 0], [13, 1], [9, 1], [1, 1], [5, 1], [8, 1], [0, 1], [4, 0]], [[3, 2], [14, 1], [12, 0], [2, 1], [7, 1], [6, 1], [10, 1], [11, 1], [15, 0], [13, 1], [9, 1], [1, 1], [5, 1], [8, 1], [0, 1], [4, 0]], [[3, 2], [14, 1], [12, 0], [2, 1], [7, 1], [6, 1], [10, 1], [11, 1], [9, 2], [13, 1], [15, 0], [1, 1], [5, 1], [8, 1], [0, 1], [4, 0]], [[3, 2], [14, 1], [12, 0], [8, 2], [7, 1], [6, 1], [10, 1], [11, 1], [9, 2], [13, 1], [15, 0], [1, 1], [5, 1], [2, 0], [0, 1], [4, 0]], [[3, 2], [14, 1], [11, 2], [8, 2], [7, 1], [6, 1], [10, 1], [12, 2], [9, 2], [13, 1], [15, 0], [1, 1], [5, 1], [2, 0], [0, 1], [4, 0]], [[3, 2], [14, 1], [11, 2], [8, 2], [7, 1], [6, 1], [10, 1], [12, 2], [9, 2], [0, 0], [15, 0], [1, 1], [5, 1], [2, 0], [13, 0], [4, 0]], [[3, 2], [14, 1], [11, 2], [8, 2], [7, 1], [6, 1], [10, 1], [12, 2], [9, 2], [0, 0], [15, 0], [1, 1], [5, 1], [2, 0], [13, 0], [4, 0]], [[0, 2], [14, 1], [11, 2], [8, 2], [7, 1], [6, 1], [10, 1], [12, 2], [9, 2], [3, 0], [15, 0], [1, 1], [5, 1], [2, 0], [13, 0], [4, 0]], [[0, 2], [14, 1], [11, 2], [8, 2], [7, 1], [6, 1], [3, 0], [12, 2], [9, 2], [10, 1], [15, 0], [1, 1], [5, 1], [2, 0], [13, 0], [4, 0]], [[0, 2], [14, 1], [11, 2], [8, 2], [7, 1], [6, 1], [3, 0], [12, 2], [9, 2], [10, 1], [15, 0], [1, 1], [5, 1], [2, 0], [13, 0], [4, 0]], [[0, 2], [14, 1], [10, 2], [8, 2], [7, 1], [6, 1], [3, 0], [12, 2], [9, 2], [11, 1], [15, 0], [1, 1], [5, 1], [2, 0], [13, 0], [4, 0]], [[0, 2], [14, 1], [11, 2], [8, 2], [7, 1], [6, 1], [3, 0], [12, 2], [9, 2], [10, 1], [15, 0], [1, 1], [5, 1], [2, 0], [13, 0], [4, 0]], [[3, 2], [14, 1], [11, 2], [8, 2], [7, 1], [6, 1], [0, 0], [12, 2], [9, 2], [10, 1], [15, 0], [1, 1], [5, 1], [2, 0], [13, 0], [4, 0]], [[3, 2], [14, 1], [11, 2], [8, 2], [7, 1], [6, 1], [10, 1], [12, 2], [9, 2], [0, 0], [15, 0], [1, 1], [5, 1], [2, 0], [13, 0], [4, 0]], [[3, 2], [14, 1], [11, 2], [8, 2], [7, 1], [6, 1], [10, 1], [12, 2], [9, 2], [0, 0], [15, 0], [1, 1], [5, 1], [2, 0], [13, 0], [4, 0]], [[3, 2], [14, 1], [11, 2], [8, 2], [7, 1], [6, 1], [10, 1], [12, 2], [9, 2], [0, 0], [15, 0], [1, 1], [5, 1], [2, 0], [13, 0], [4, 0]], [[3, 2], [14, 1], [11, 2], [8, 2], [7, 1], [6, 1], [9, 1], [12, 2], [10, 2], [0, 0], [15, 0], [1, 1], [5, 1], [2, 0], [13, 0], [4, 0]], [[3, 2], [14, 1], [12, 0], [8, 2], [7, 1], [6, 1], [9, 1], [11, 1], [10, 2], [0, 0], [15, 0], [1, 1], [5, 1], [2, 0], [13, 0], [4, 0]], [[3, 2], [14, 1], [12, 0], [8, 2], [7, 1], [6, 1], [9, 1], [11, 1], [10, 2], [2, 1], [15, 0], [1, 1], [5, 1], [0, 0], [13, 0], [4, 0]], [[3, 2], [14, 1], [12, 0], [8, 2], [7, 1], [6, 1], [9, 1], [11, 1], [10, 2], [2, 1], [15, 0], [1, 1], [5, 1], [0, 0], [13, 0], [4, 0]], [[3, 2], [14, 1], [12, 0], [8, 2], [7, 1], [6, 1], [9, 1], [11, 1], [10, 2], [2, 1], [15, 0], [1, 1], [5, 1], [0, 0], [13, 0], [4, 0]], [[3, 2], [14, 1], [12, 0], [8, 2], [7, 1], [6, 1], [9, 1], [11, 1], [10, 2], [2, 1], [15, 0], [1, 1], [5, 1], [0, 0], [13, 0], [4, 0]], [[3, 2], [14, 1], [12, 0], [8, 2], [7, 1], [6, 1], [9, 1], [11, 1], [10, 2], [2, 1], [15, 0], [1, 1], [5, 1], [0, 0], [13, 0], [4, 0]], [[3, 2], [14, 1], [12, 0], [8, 2], [7, 1], [6, 1], [9, 1], [11, 1], [10, 2], [2, 1], [15, 0], [1, 1], [13, 0], [0, 0], [5, 1], [4, 0]], [[3, 2], [14, 1], [12, 0], [8, 2], [7, 1], [6, 1], [9, 1], [11, 1], [10, 2], [2, 1], [15, 0], [1, 1], [13, 0], [0, 0], [5, 1], [4, 0]], [[3, 2], [14, 1], [12, 0], [8, 2], [7, 1], [6, 1], [9, 1], [11, 1], [10, 2], [2, 1], [15, 0], [1, 1], [0, 1], [13, 0], [5, 1], [4, 0]], [[3, 2], [14, 1], [12, 0], [8, 2], [7, 1], [6, 1], [4, 0], [11, 1], [10, 2], [2, 1], [15, 0], [1, 1], [0, 1], [13, 0], [5, 1], [9, 1]], [[3, 2], [14, 1], [12, 0], [8, 2], [7, 1], [6, 1], [4, 0], [11, 1], [10, 2], [2, 1], [15, 0], [1, 1], [13, 0], [0, 0], [5, 1], [9, 1]], [[3, 2], [14, 1], [12, 0], [8, 2], [7, 1], [6, 1], [9, 1], [11, 1], [10, 2], [2, 1], [15, 0], [1, 1], [13, 0], [0, 0], [5, 1], [4, 0]], [[3, 2], [14, 1], [12, 0], [8, 2], [7, 1], [6, 1], [9, 1], [11, 1], [10, 2], [2, 1], [15, 0], [1, 1], [13, 0], [0, 0], [5, 1], [4, 0]], [[3, 2], [14, 1], [1, 2], [8, 2], [7, 1], [6, 1], [9, 1], [11, 1], [10, 2], [2, 1], [15, 0], [12, 2], [13, 0], [0, 0], [5, 1], [4, 0]], [[3, 2], [14, 1], [1, 2], [8, 2], [7, 1], [6, 1], [9, 1], [11, 1], [10, 2], [2, 1], [15, 0], [12, 2], [5, 2], [0, 0], [13, 0], [4, 0]], [[13, 2], [14, 1], [1, 2], [8, 2], [7, 1], [6, 1], [9, 1], [11, 1], [10, 2], [2, 1], [15, 0], [12, 2], [5, 2], [0, 0], [3, 0], [4, 0]], [[13, 2], [14, 1], [1, 2], [8, 2], [7, 1], [6, 1], [9, 1], [11, 1], [10, 2], [2, 1], [15, 0], [12, 2], [5, 2], [3, 2], [0, 0], [4, 0]], [[13, 2], [14, 1], [1, 2], [8, 2], [7, 1], [6, 1], [9, 1], [11, 1], [10, 2], [2, 1], [4, 1], [12, 2], [5, 2], [3, 2], [0, 0], [15, 2]], [[13, 2], [14, 1], [1, 2], [8, 2], [3, 1], [6, 1], [9, 1], [11, 1], [10, 2], [2, 1], [4, 1], [12, 2], [5, 2], [7, 2], [0, 0], [15, 2]], [[13, 2], [14, 1], [2, 2], [8, 2], [3, 1], [6, 1], [9, 1], [11, 1], [10, 2], [1, 1], [4, 1], [12, 2], [5, 2], [7, 2], [0, 0], [15, 2]], [[13, 2], [14, 1], [2, 2], [8, 2], [3, 1], [6, 1], [9, 1], [11, 1], [10, 2], [1, 1], [4, 1], [12, 2], [5, 2], [7, 2], [0, 0], [15, 2]], [[13, 2], [14, 1], [2, 2], [8, 2], [3, 1], [6, 1], [9, 1], [11, 1], [10, 2], [1, 1], [4, 1], [12, 2], [5, 2], [7, 2], [0, 0], [15, 2]], [[13, 2], [14, 1], [2, 2], [8, 2], [3, 1], [6, 1], [9, 1], [11, 1], [10, 2], [1, 1], [4, 1], [12, 2], [5, 2], [7, 2], [0, 0], [15, 2]], [[13, 2], [14, 1], [2, 2], [12, 2], [3, 1], [6, 1], [9, 1], [11, 1], [10, 2], [1, 1], [4, 1], [8, 2], [5, 2], [7, 2], [0, 0], [15, 2]], [[13, 2], [14, 1], [2, 2], [12, 2], [4, 1], [6, 1], [9, 1], [11, 1], [10, 2], [1, 1], [3, 1], [8, 2], [5, 2], [7, 2], [0, 0], [15, 2]], [[13, 2], [14, 1], [2, 2], [5, 2], [4, 1], [6, 1], [9, 1], [11, 1], [10, 2], [1, 1], [3, 1], [8, 2], [12, 2], [7, 2], [0, 0], [15, 2]], [[13, 2], [14, 1], [2, 2], [5, 2], [4, 1], [6, 1], [10, 1], [11, 1], [9, 2], [1, 1], [3, 1], [8, 2], [12, 2], [7, 2], [0, 0], [15, 2]], [[13, 2], [14, 1], [2, 2], [5, 2], [4, 1], [6, 1], [10, 1], [11, 1], [9, 2], [1, 1], [3, 1], [8, 2], [12, 2], [0, 0], [7, 0], [15, 2]], [[13, 2], [14, 1], [2, 2], [5, 2], [4, 1], [6, 1], [10, 1], [11, 1], [9, 2], [1, 1], [3, 1], [8, 2], [12, 2], [0, 0], [7, 0], [15, 2]], [[13, 2], [14, 1], [2, 2], [5, 2], [4, 1], [6, 1], [9, 1], [11, 1], [10, 2], [1, 1], [3, 1], [8, 2], [12, 2], [0, 0], [7, 0], [15, 2]], [[7, 2], [14, 1], [2, 2], [5, 2], [4, 1], [6, 1], [9, 1], [11, 1], [10, 2], [1, 1], [3, 1], [8, 2], [12, 2], [0, 0], [13, 0], [15, 2]], [[7, 2], [14, 1], [2, 2], [5, 2], [4, 1], [6, 1], [9, 1], [11, 1], [10, 2], [1, 1], [3, 1], [8, 2], [12, 2], [0, 0], [13, 0], [15, 2]], [[7, 2], [14, 1], [2, 2], [5, 2], [4, 1], [6, 1], [9, 1], [11, 1], [10, 2], [1, 1], [3, 1], [8, 2], [12, 2], [0, 0], [13, 0], [15, 2]], [[7, 2], [14, 1], [2, 2], [5, 2], [4, 1], [6, 1], [9, 1], [11, 1], [10, 2], [1, 1], [3, 1], [8, 2], [12, 2], [13, 2], [0, 0], [15, 2]], [[7, 2], [14, 1], [2, 2], [5, 2], [4, 1], [6, 1], [9, 1], [11, 1], [10, 2], [1, 1], [3, 1], [8, 2], [12, 2], [13, 2], [0, 0], [15, 2]], [[7, 2], [14, 1], [1, 2], [5, 2], [4, 1], [6, 1], [9, 1], [11, 1], [10, 2], [2, 1], [3, 1], [8, 2], [12, 2], [13, 2], [0, 0], [15, 2]], [[7, 2], [14, 1], [1, 2], [5, 2], [4, 1], [6, 1], [9, 1], [11, 1], [10, 2], [2, 1], [3, 1], [8, 2], [12, 2], [13, 2], [0, 0], [15, 2]], [[7, 2], [14, 1], [2, 2], [5, 2], [4, 1], [6, 1], [9, 1], [11, 1], [10, 2], [1, 1], [3, 1], [8, 2], [12, 2], [13, 2], [0, 0], [15, 2]], [[7, 2], [14, 1], [2, 2], [5, 2], [4, 1], [6, 1], [9, 1], [11, 1], [10, 2], [1, 1], [3, 1], [12, 2], [8, 2], [13, 2], [0, 0], [15, 2]], [[7, 2], [14, 1], [2, 2], [5, 2], [4, 1], [6, 1], [9, 1], [11, 1], [10, 2], [1, 1], [3, 1], [8, 2], [12, 2], [13, 2], [0, 0], [15, 2]], [[7, 2], [14, 1], [2, 2], [5, 2], [4, 1], [6, 1], [9, 1], [11, 1], [10, 2], [1, 1], [3, 1], [8, 2], [12, 2], [13, 2], [0, 0], [15, 2]], [[7, 2], [14, 1], [2, 2], [5, 2], [4, 1], [6, 1], [9, 1], [11, 1], [10, 2], [1, 1], [3, 1], [8, 2], [12, 2], [13, 2], [0, 0], [15, 2]], [[7, 2], [14, 1], [2, 2], [5, 2], [4, 1], [6, 1], [9, 1], [11, 1], [10, 2], [1, 1], [3, 1], [8, 2], [12, 2], [13, 2], [0, 0], [15, 2]], [[7, 2], [14, 1], [2, 2], [5, 2], [4, 1], [6, 1], [9, 1], [11, 1], [10, 2], [1, 1], [3, 1], [8, 2], [12, 2], [13, 2], [0, 0], [15, 2]], [[7, 2], [14, 1], [2, 2], [5, 2], [4, 1], [6, 1], [9, 1], [11, 1], [10, 2], [1, 1], [3, 1], [8, 2], [12, 2], [13, 2], [0, 0], [15, 2]], [[7, 2], [14, 1], [2, 2], [5, 2], [4, 1], [6, 1], [9, 1], [11, 1], [10, 2], [1, 1], [3, 1], [8, 2], [12, 2], [13, 2], [0, 0], [15, 2]], [[13, 2], [14, 1], [2, 2], [5, 2], [4, 1], [6, 1], [9, 1], [11, 1], [10, 2], [1, 1], [3, 1], [8, 2], [12, 2], [7, 2], [0, 0], [15, 2]], [[13, 2], [14, 1], [2, 2], [5, 2], [4, 1], [6, 1], [9, 1], [11, 1], [10, 2], [1, 1], [3, 1], [8, 2], [12, 2], [7, 2], [0, 0], [15, 2]], [[13, 2], [14, 1], [2, 2], [5, 2], [4, 1], [6, 1], [9, 1], [11, 1], [10, 2], [1, 1], [3, 1], [12, 2], [8, 2], [7, 2], [0, 0], [15, 2]], [[13, 2], [14, 1], [2, 2], [5, 2], [4, 1], [6, 1], [9, 1], [11, 1], [10, 2], [1, 1], [3, 1], [12, 2], [8, 2], [7, 2], [0, 0], [15, 2]], [[13, 2], [14, 1], [2, 2], [5, 2], [4, 1], [6, 1], [9, 1], [11, 1], [10, 2], [1, 1], [3, 1], [8, 2], [12, 2], [7, 2], [0, 0], [15, 2]], [[13, 2], [14, 1], [2, 2], [5, 2], [4, 1], [6, 1], [9, 1], [11, 1], [10, 2], [1, 1], [3, 1], [12, 2], [8, 2], [7, 2], [0, 0], [15, 2]], [[13, 2], [14, 1], [2, 2], [5, 2], [4, 1], [6, 1], [10, 1], [11, 1], [9, 2], [1, 1], [3, 1], [12, 2], [8, 2], [7, 2], [0, 0], [15, 2]], [[13, 2], [14, 1], [2, 2], [5, 2], [4, 1], [6, 1], [10, 1], [11, 1], [9, 2], [1, 1], [3, 1], [12, 2], [15, 2], [7, 2], [0, 0], [8, 1]], [[13, 2], [14, 1], [2, 2], [5, 2], [4, 1], [6, 1], [10, 1], [11, 1], [9, 2], [1, 1], [3, 1], [12, 2], [15, 2], [7, 2], [0, 0], [8, 1]], [[13, 2], [14, 1], [2, 2], [5, 2], [4, 1], [6, 1], [10, 1], [11, 1], [9, 2], [1, 1], [3, 1], [12, 2], [15, 2], [7, 2], [0, 0], [8, 1]], [[13, 2], [14, 1], [2, 2], [5, 2], [4, 1], [6, 1], [10, 1], [11, 1], [9, 2], [1, 1], [3, 1], [12, 2], [15, 2], [7, 2], [0, 0], [8, 1]], [[13, 2], [14, 1], [2, 2], [5, 2], [4, 1], [6, 1], [10, 1], [11, 1], [9, 2], [1, 1], [3, 1], [12, 2], [15, 2], [7, 2], [0, 0], [8, 1]], [[0, 2], [14, 1], [2, 2], [5, 2], [4, 1], [6, 1], [10, 1], [11, 1], [9, 2], [1, 1], [3, 1], [12, 2], [15, 2], [7, 2], [13, 2], [8, 1]], [[0, 2], [14, 1], [2, 2], [8, 2], [4, 1], [6, 1], [10, 1], [11, 1], [9, 2], [1, 1], [3, 1], [12, 2], [15, 2], [7, 2], [13, 2], [5, 2]], [[0, 2], [14, 1], [2, 2], [8, 2], [4, 1], [6, 1], [10, 1], [11, 1], [9, 2], [1, 1], [3, 1], [12, 2], [15, 2], [13, 0], [7, 1], [5, 2]], [[0, 2], [14, 1], [2, 2], [8, 2], [4, 1], [6, 1], [10, 1], [11, 1], [9, 2], [1, 1], [3, 1], [12, 2], [15, 2], [13, 0], [7, 1], [5, 2]], [[0, 2], [14, 1], [7, 1], [8, 2], [4, 1], [6, 1], [10, 1], [11, 1], [9, 2], [1, 1], [3, 1], [12, 2], [15, 2], [13, 0], [2, 0], [5, 2]], [[0, 2], [14, 1], [4, 1], [8, 2], [7, 1], [6, 1], [10, 1], [11, 1], [9, 2], [1, 1], [3, 1], [12, 2], [15, 2], [13, 0], [2, 0], [5, 2]], [[0, 2], [14, 1], [13, 1], [8, 2], [7, 1], [6, 1], [10, 1], [11, 1], [9, 2], [1, 1], [3, 1], [12, 2], [15, 2], [4, 0], [2, 0], [5, 2]], [[0, 2], [14, 1], [13, 1], [8, 2], [7, 1], [2, 1], [10, 1], [11, 1], [9, 2], [1, 1], [3, 1], [12, 2], [15, 2], [4, 0], [6, 2], [5, 2]], [[0, 2], [14, 1], [13, 1], [8, 2], [7, 1], [2, 1], [9, 1], [11, 1], [10, 2], [1, 1], [3, 1], [12, 2], [15, 2], [4, 0], [6, 2], [5, 2]], [[0, 2], [14, 1], [13, 1], [8, 2], [7, 1], [2, 1], [9, 1], [11, 1], [10, 2], [1, 1], [3, 1], [12, 2], [15, 2], [4, 0], [6, 2], [5, 2]], [[0, 2], [14, 1], [13, 1], [8, 2], [7, 1], [2, 1], [9, 1], [11, 1], [10, 2], [1, 1], [3, 1], [12, 2], [15, 2], [4, 0], [6, 2], [5, 2]], [[0, 2], [14, 1], [13, 1], [8, 2], [7, 1], [4, 1], [9, 1], [11, 1], [10, 2], [1, 1], [3, 1], [12, 2], [15, 2], [2, 0], [6, 2], [5, 2]], [[0, 2], [9, 1], [13, 1], [8, 2], [7, 1], [4, 1], [14, 0], [11, 1], [10, 2], [1, 1], [3, 1], [12, 2], [15, 2], [2, 0], [6, 2], [5, 2]], [[0, 2], [9, 1], [13, 1], [8, 2], [7, 1], [4, 1], [14, 0], [11, 1], [10, 2], [2, 1], [3, 1], [12, 2], [15, 2], [1, 0], [6, 2], [5, 2]], [[0, 2], [9, 1], [13, 1], [8, 2], [7, 1], [4, 1], [1, 1], [11, 1], [10, 2], [2, 1], [3, 1], [12, 2], [15, 2], [14, 2], [6, 2], [5, 2]], [[0, 2], [9, 1], [13, 1], [8, 2], [7, 1], [1, 1], [4, 0], [11, 1], [10, 2], [2, 1], [3, 1], [12, 2], [15, 2], [14, 2], [6, 2], [5, 2]], [[0, 2], [9, 1], [13, 1], [8, 2], [7, 1], [14, 0], [4, 0], [11, 1], [10, 2], [2, 1], [3, 1], [12, 2], [15, 2], [1, 0], [6, 2], [5, 2]], [[0, 2], [9, 1], [13, 1], [8, 2], [7, 1], [14, 0], [3, 0], [11, 1], [10, 2], [2, 1], [4, 1], [12, 2], [15, 2], [1, 0], [6, 2], [5, 2]], [[0, 2], [9, 1], [13, 1], [8, 2], [7, 1], [14, 0], [3, 0], [11, 1], [10, 2], [2, 1], [4, 1], [12, 2], [15, 2], [1, 0], [6, 2], [5, 2]], [[0, 2], [9, 1], [13, 1], [8, 2], [7, 1], [14, 0], [3, 0], [11, 1], [10, 2], [15, 0], [4, 1], [12, 2], [2, 0], [1, 0], [6, 2], [5, 2]], [[0, 2], [9, 1], [13, 1], [8, 2], [7, 1], [14, 0], [3, 0], [11, 1], [10, 2], [15, 0], [4, 1], [12, 2], [2, 0], [1, 0], [6, 2], [5, 2]], [[0, 2], [9, 1], [3, 1], [8, 2], [7, 1], [14, 0], [13, 1], [11, 1], [10, 2], [15, 0], [4, 1], [12, 2], [2, 0], [1, 0], [6, 2], [5, 2]], [[0, 2], [9, 1], [4, 1], [8, 2], [7, 1], [14, 0], [13, 1], [11, 1], [10, 2], [15, 0], [3, 1], [12, 2], [2, 0], [1, 0], [6, 2], [5, 2]], [[0, 2], [9, 1], [13, 1], [8, 2], [7, 1], [14, 0], [4, 0], [11, 1], [10, 2], [15, 0], [3, 1], [12, 2], [2, 0], [1, 0], [6, 2], [5, 2]], [[0, 2], [9, 1], [13, 1], [8, 2], [7, 1], [14, 0], [4, 0], [11, 1], [10, 2], [15, 0], [3, 1], [12, 2], [2, 0], [1, 0], [6, 2], [5, 2]], [[0, 2], [9, 1], [13, 1], [8, 2], [7, 1], [14, 0], [4, 0], [11, 1], [10, 2], [12, 0], [3, 1], [15, 2], [2, 0], [1, 0], [6, 2], [5, 2]], [[0, 2], [9, 1], [13, 1], [8, 2], [7, 1], [12, 2], [4, 0], [11, 1], [10, 2], [14, 0], [3, 1], [15, 2], [2, 0], [1, 0], [6, 2], [5, 2]], [[0, 2], [9, 1], [13, 1], [12, 0], [7, 1], [8, 2], [4, 0], [11, 1], [10, 2], [14, 0], [3, 1], [15, 2], [2, 0], [1, 0], [6, 2], [5, 2]], [[0, 2], [9, 1], [13, 1], [12, 0], [7, 1], [15, 2], [4, 0], [11, 1], [10, 2], [14, 0], [3, 1], [8, 2], [2, 0], [1, 0], [6, 2], [5, 2]], [[0, 2], [9, 1], [13, 1], [8, 2], [7, 1], [15, 2], [4, 0], [11, 1], [10, 2], [14, 0], [3, 1], [12, 2], [2, 0], [1, 0], [6, 2], [5, 2]], [[0, 2], [9, 1], [13, 1], [8, 2], [7, 1], [15, 2], [4, 0], [11, 1], [10, 2], [14, 0], [3, 1], [12, 2], [2, 0], [1, 0], [6, 2], [5, 2]], [[0, 2], [10, 1], [13, 1], [8, 2], [7, 1], [15, 2], [4, 0], [11, 1], [9, 2], [14, 0], [3, 1], [12, 2], [2, 0], [1, 0], [6, 2], [5, 2]], [[0, 2], [10, 1], [13, 1], [8, 2], [7, 1], [15, 2], [4, 0], [11, 1], [9, 2], [1, 1], [3, 1], [12, 2], [2, 0], [14, 2], [6, 2], [5, 2]], [[0, 2], [10, 1], [13, 1], [8, 2], [7, 1], [15, 2], [4, 0], [11, 1], [9, 2], [1, 1], [3, 1], [12, 2], [2, 0], [14, 2], [6, 2], [5, 2]], [[0, 2], [10, 1], [13, 1], [8, 2], [7, 1], [15, 2], [4, 0], [11, 1], [9, 2], [1, 1], [3, 1], [12, 2], [2, 0], [14, 2], [6, 2], [5, 2]], [[0, 2], [10, 1], [13, 1], [8, 2], [7, 1], [15, 2], [4, 0], [11, 1], [9, 2], [14, 0], [3, 1], [12, 2], [2, 0], [1, 0], [6, 2], [5, 2]], [[0, 2], [9, 1], [13, 1], [8, 2], [7, 1], [15, 2], [4, 0], [11, 1], [10, 2], [14, 0], [3, 1], [12, 2], [2, 0], [1, 0], [6, 2], [5, 2]], [[0, 2], [9, 1], [13, 1], [8, 2], [7, 1], [15, 2], [4, 0], [11, 1], [10, 2], [14, 0], [3, 1], [12, 2], [2, 0], [1, 0], [6, 2], [5, 2]], [[0, 2], [9, 1], [13, 1], [14, 0], [7, 1], [15, 2], [4, 0], [11, 1], [10, 2], [8, 2], [3, 1], [12, 2], [2, 0], [1, 0], [6, 2], [5, 2]], [[0, 2], [9, 1], [13, 1], [14, 0], [7, 1], [15, 2], [4, 0], [11, 1], [10, 2], [2, 1], [3, 1], [12, 2], [8, 1], [1, 0], [6, 2], [5, 2]], [[0, 2], [9, 1], [13, 1], [14, 0], [7, 1], [15, 2], [4, 0], [11, 1], [10, 2], [2, 1], [3, 1], [12, 2], [8, 1], [1, 0], [6, 2], [5, 2]], [[0, 2], [9, 1], [13, 1], [14, 0], [7, 1], [15, 2], [4, 0], [11, 1], [10, 2], [2, 1], [3, 1], [12, 2], [8, 1], [1, 0], [6, 2], [5, 2]], [[0, 2], [9, 1], [13, 1], [14, 0], [7, 1], [15, 2], [4, 0], [11, 1], [10, 2], [2, 1], [3, 1], [12, 2], [8, 1], [1, 0], [6, 2], [5, 2]], [[0, 2], [9, 1], [13, 1], [14, 0], [7, 1], [15, 2], [4, 0], [11, 1], [10, 2], [2, 1], [3, 1], [12, 2], [8, 1], [1, 0], [6, 2], [5, 2]], [[0, 2], [9, 1], [13, 1], [14, 0], [7, 1], [15, 2], [4, 0], [11, 1], [10, 2], [2, 1], [3, 1], [12, 2], [8, 1], [1, 0], [6, 2], [5, 2]], [[0, 2], [10, 1], [13, 1], [14, 0], [7, 1], [15, 2], [4, 0], [11, 1], [9, 2], [2, 1], [3, 1], [12, 2], [8, 1], [1, 0], [6, 2], [5, 2]], [[0, 2], [10, 1], [13, 1], [14, 0], [7, 1], [15, 2], [4, 0], [11, 1], [9, 2], [2, 1], [3, 1], [12, 2], [8, 1], [1, 0], [6, 2], [5, 2]], [[0, 2], [10, 1], [13, 1], [14, 0], [7, 1], [15, 2], [4, 0], [11, 1], [9, 2], [2, 1], [3, 1], [12, 2], [8, 1], [1, 0], [6, 2], [5, 2]], [[0, 2], [10, 1], [13, 1], [14, 0], [7, 1], [15, 2], [4, 0], [11, 1], [9, 2], [1, 1], [3, 1], [12, 2], [8, 1], [2, 0], [6, 2], [5, 2]], [[0, 2], [10, 1], [13, 1], [14, 0], [7, 1], [15, 2], [4, 0], [11, 1], [9, 2], [1, 1], [3, 1], [12, 2], [8, 1], [2, 0], [6, 2], [5, 2]], [[0, 2], [10, 1], [13, 1], [14, 0], [7, 1], [15, 2], [4, 0], [11, 1], [9, 2], [1, 1], [3, 1], [12, 2], [8, 1], [2, 0], [6, 2], [5, 2]], [[0, 2], [10, 1], [13, 1], [14, 0], [7, 1], [15, 2], [4, 0], [11, 1], [9, 2], [1, 1], [3, 1], [12, 2], [8, 1], [2, 0], [6, 2], [5, 2]], [[0, 2], [10, 1], [13, 1], [8, 2], [7, 1], [15, 2], [4, 0], [11, 1], [9, 2], [1, 1], [3, 1], [12, 2], [14, 2], [2, 0], [6, 2], [5, 2]], [[0, 2], [10, 1], [13, 1], [8, 2], [7, 1], [15, 2], [4, 0], [11, 1], [9, 2], [1, 1], [3, 1], [12, 2], [14, 2], [2, 0], [6, 2], [5, 2]], [[0, 2], [10, 1], [13, 1], [8, 2], [7, 1], [15, 2], [4, 0], [11, 1], [9, 2], [1, 1], [3, 1], [12, 2], [14, 2], [2, 0], [6, 2], [5, 2]], [[0, 2], [10, 1], [13, 1], [8, 2], [7, 1], [15, 2], [4, 0], [11, 1], [9, 2], [1, 1], [3, 1], [12, 2], [14, 2], [2, 0], [6, 2], [5, 2]], [[0, 2], [10, 1], [13, 1], [8, 2], [7, 1], [15, 2], [4, 0], [11, 1], [9, 2], [14, 0], [3, 1], [12, 2], [1, 0], [2, 0], [6, 2], [5, 2]], [[0, 2], [10, 1], [13, 1], [8, 2], [7, 1], [15, 2], [4, 0], [11, 1], [9, 2], [14, 0], [3, 1], [12, 2], [1, 0], [2, 0], [6, 2], [5, 2]], [[0, 2], [9, 1], [13, 1], [8, 2], [7, 1], [15, 2], [4, 0], [11, 1], [10, 2], [14, 0], [3, 1], [12, 2], [1, 0], [2, 0], [6, 2], [5, 2]], [[0, 2], [9, 1], [13, 1], [8, 2], [7, 1], [15, 2], [4, 0], [11, 1], [10, 2], [1, 1], [3, 1], [12, 2], [14, 2], [2, 0], [6, 2], [5, 2]], [[0, 2], [9, 1], [13, 1], [8, 2], [7, 1], [15, 2], [4, 0], [11, 1], [10, 2], [1, 1], [3, 1], [12, 2], [14, 2], [2, 0], [6, 2], [5, 2]], [[0, 2], [9, 1], [13, 1], [8, 2], [7, 1], [15, 2], [4, 0], [11, 1], [10, 2], [1, 1], [3, 1], [12, 2], [14, 2], [2, 0], [6, 2], [5, 2]], [[0, 2], [9, 1], [13, 1], [8, 2], [7, 1], [15, 2], [4, 0], [11, 1], [10, 2], [1, 1], [3, 1], [12, 2], [14, 2], [2, 0], [6, 2], [5, 2]], [[0, 2], [9, 1], [13, 1], [8, 2], [7, 1], [15, 2], [4, 0], [11, 1], [10, 2], [1, 1], [3, 1], [12, 2], [14, 2], [2, 0], [6, 2], [5, 2]], [[0, 2], [10, 1], [13, 1], [8, 2], [7, 1], [15, 2], [4, 0], [11, 1], [9, 2], [1, 1], [3, 1], [12, 2], [14, 2], [2, 0], [6, 2], [5, 2]], [[0, 2], [10, 1], [13, 1], [8, 2], [7, 1], [15, 2], [3, 0], [11, 1], [9, 2], [1, 1], [4, 1], [12, 2], [14, 2], [2, 0], [6, 2], [5, 2]], [[0, 2], [10, 1], [13, 1], [8, 2], [7, 1], [15, 2], [3, 0], [11, 1], [9, 2], [14, 0], [4, 1], [12, 2], [1, 0], [2, 0], [6, 2], [5, 2]], [[0, 2], [10, 1], [13, 1], [14, 0], [7, 1], [15, 2], [3, 0], [11, 1], [9, 2], [8, 2], [4, 1], [12, 2], [1, 0], [2, 0], [6, 2], [5, 2]], [[0, 2], [10, 1], [13, 1], [14, 0], [7, 1], [15, 2], [3, 0], [11, 1], [9, 2], [8, 2], [4, 1], [12, 2], [1, 0], [2, 0], [6, 2], [5, 2]], [[0, 2], [10, 1], [13, 1], [8, 2], [7, 1], [15, 2], [3, 0], [11, 1], [9, 2], [14, 0], [4, 1], [12, 2], [1, 0], [2, 0], [6, 2], [5, 2]], [[0, 2], [10, 1], [13, 1], [8, 2], [7, 1], [15, 2], [3, 0], [11, 1], [9, 2], [1, 1], [4, 1], [12, 2], [14, 2], [2, 0], [6, 2], [5, 2]], [[0, 2], [10, 1], [13, 1], [8, 2], [7, 1], [15, 2], [3, 0], [11, 1], [9, 2], [1, 1], [4, 1], [12, 2], [14, 2], [2, 0], [6, 2], [5, 2]], [[0, 2], [10, 1], [13, 1], [6, 0], [7, 1], [15, 2], [3, 0], [11, 1], [9, 2], [1, 1], [4, 1], [12, 2], [14, 2], [2, 0], [8, 1], [5, 2]], [[0, 2], [10, 1], [13, 1], [6, 0], [7, 1], [15, 2], [3, 0], [11, 1], [9, 2], [1, 1], [4, 1], [12, 2], [14, 2], [2, 0], [8, 1], [5, 2]], [[0, 2], [9, 1], [13, 1], [6, 0], [7, 1], [15, 2], [3, 0], [11, 1], [10, 2], [1, 1], [4, 1], [12, 2], [14, 2], [2, 0], [8, 1], [5, 2]], [[0, 2], [9, 1], [13, 1], [6, 0], [7, 1], [15, 2], [3, 0], [11, 1], [10, 2], [1, 1], [4, 1], [12, 2], [14, 2], [2, 0], [8, 1], [5, 2]], [[0, 2], [10, 1], [13, 1], [6, 0], [7, 1], [15, 2], [3, 0], [11, 1], [9, 2], [1, 1], [4, 1], [12, 2], [14, 2], [2, 0], [8, 1], [5, 2]], [[0, 2], [10, 1], [13, 1], [6, 0], [7, 1], [15, 2], [3, 0], [11, 1], [9, 2], [1, 1], [4, 1], [12, 2], [14, 2], [2, 0], [8, 1], [5, 2]], [[0, 2], [10, 1], [13, 1], [6, 0], [7, 1], [15, 2], [3, 0], [11, 1], [9, 2], [1, 1], [4, 1], [12, 2], [2, 0], [14, 2], [8, 1], [5, 2]], [[0, 2], [10, 1], [13, 1], [14, 0], [7, 1], [15, 2], [3, 0], [11, 1], [9, 2], [1, 1], [4, 1], [12, 2], [2, 0], [6, 0], [8, 1], [5, 2]], [[0, 2], [10, 1], [13, 1], [14, 0], [6, 2], [15, 2], [3, 0], [11, 1], [9, 2], [1, 1], [4, 1], [12, 2], [2, 0], [7, 0], [8, 1], [5, 2]], [[0, 2], [10, 1], [13, 1], [14, 0], [6, 2], [15, 2], [4, 0], [11, 1], [9, 2], [1, 1], [3, 1], [12, 2], [2, 0], [7, 0], [8, 1], [5, 2]], [[0, 2], [10, 1], [13, 1], [14, 0], [6, 2], [15, 2], [4, 0], [11, 1], [9, 2], [1, 1], [3, 1], [12, 2], [2, 0], [7, 0], [8, 1], [5, 2]], [[0, 2], [10, 1], [13, 1], [14, 0], [6, 2], [15, 2], [4, 0], [11, 1], [9, 2], [1, 1], [3, 1], [12, 2], [2, 0], [7, 0], [8, 1], [5, 2]], [[0, 2], [10, 1], [13, 1], [14, 0], [6, 2], [15, 2], [4, 0], [11, 1], [9, 2], [1, 1], [3, 1], [12, 2], [2, 0], [7, 0], [8, 1], [5, 2]], [[0, 2], [9, 1], [13, 1], [14, 0], [6, 2], [15, 2], [4, 0], [11, 1], [10, 2], [1, 1], [3, 1], [12, 2], [2, 0], [7, 0], [8, 1], [5, 2]], [[0, 2], [9, 1], [13, 1], [14, 0], [6, 2], [15, 2], [4, 0], [11, 1], [10, 2], [1, 1], [8, 1], [12, 2], [2, 0], [7, 0], [3, 1], [5, 2]], [[0, 2], [9, 1], [13, 1], [14, 0], [6, 2], [15, 2], [4, 0], [11, 1], [10, 2], [1, 1], [8, 1], [12, 2], [2, 0], [7, 0], [3, 1], [5, 2]], [[0, 2], [9, 1], [13, 1], [14, 0], [6, 2], [15, 2], [4, 0], [11, 1], [10, 2], [1, 1], [8, 1], [12, 2], [2, 0], [5, 1], [3, 1], [7, 0]], [[0, 2], [9, 1], [13, 1], [14, 0], [6, 2], [15, 2], [4, 0], [11, 1], [10, 2], [3, 0], [8, 1], [12, 2], [2, 0], [5, 1], [1, 1], [7, 0]], [[0, 2], [9, 1], [13, 1], [14, 0], [6, 2], [15, 2], [4, 0], [11, 1], [10, 2], [3, 0], [8, 1], [12, 2], [2, 0], [5, 1], [1, 1], [7, 0]], [[0, 2], [9, 1], [13, 1], [14, 0], [6, 2], [15, 2], [4, 0], [11, 1], [7, 0], [3, 0], [8, 1], [12, 2], [2, 0], [5, 1], [1, 1], [10, 1]], [[0, 2], [9, 1], [13, 1], [14, 0], [6, 2], [15, 2], [4, 0], [11, 1], [5, 0], [3, 0], [8, 1], [12, 2], [2, 0], [7, 0], [1, 1], [10, 1]], [[0, 2], [9, 1], [13, 1], [14, 0], [6, 2], [15, 2], [4, 0], [11, 1], [12, 2], [3, 0], [8, 1], [5, 1], [2, 0], [7, 0], [1, 1], [10, 1]], [[0, 2], [9, 1], [13, 1], [14, 0], [6, 2], [15, 2], [4, 0], [11, 1], [12, 2], [3, 0], [8, 1], [5, 1], [2, 0], [7, 0], [1, 1], [10, 1]], [[0, 2], [9, 1], [13, 1], [14, 0], [6, 2], [15, 2], [4, 0], [11, 1], [12, 2], [3, 0], [8, 1], [5, 1], [7, 0], [2, 0], [1, 1], [10, 1]], [[0, 2], [9, 1], [13, 1], [14, 0], [6, 2], [15, 2], [4, 0], [11, 1], [12, 2], [3, 0], [8, 1], [5, 1], [7, 0], [2, 0], [1, 1], [10, 1]], [[0, 2], [9, 1], [13, 1], [14, 0], [6, 2], [15, 2], [4, 0], [11, 1], [12, 2], [1, 1], [8, 1], [5, 1], [7, 0], [2, 0], [3, 0], [10, 1]], [[0, 2], [9, 1], [13, 1], [14, 0], [6, 2], [15, 2], [4, 0], [11, 1], [12, 2], [1, 1], [8, 1], [3, 1], [7, 0], [2, 0], [5, 0], [10, 1]], [[0, 2], [10, 1], [13, 1], [14, 0], [6, 2], [15, 2], [4, 0], [11, 1], [12, 2], [1, 1], [8, 1], [3, 1], [7, 0], [2, 0], [5, 0], [9, 1]], [[0, 2], [10, 1], [13, 1], [14, 0], [6, 2], [15, 2], [4, 0], [11, 1], [12, 2], [1, 1], [8, 1], [3, 1], [7, 0], [2, 0], [5, 0], [9, 1]], [[0, 2], [10, 1], [13, 1], [14, 0], [6, 2], [15, 2], [4, 0], [11, 1], [12, 2], [1, 1], [8, 1], [3, 1], [7, 0], [2, 0], [5, 0], [9, 1]], [[0, 2], [10, 1], [13, 1], [14, 0], [6, 2], [15, 2], [4, 0], [11, 1], [12, 2], [1, 1], [8, 1], [3, 1], [7, 0], [2, 0], [5, 0], [9, 1]], [[0, 2], [10, 1], [13, 1], [14, 0], [6, 2], [15, 2], [4, 0], [11, 1], [12, 2], [1, 1], [8, 1], [3, 1], [7, 0], [2, 0], [5, 0], [9, 1]], [[0, 2], [10, 1], [13, 1], [14, 0], [6, 2], [15, 2], [4, 0], [11, 1], [12, 2], [1, 1], [8, 1], [5, 1], [7, 0], [2, 0], [3, 0], [9, 1]], [[0, 2], [10, 1], [13, 1], [14, 0], [6, 2], [15, 2], [4, 0], [11, 1], [12, 2], [1, 1], [8, 1], [2, 1], [7, 0], [5, 0], [3, 0], [9, 1]], [[0, 2], [10, 1], [13, 1], [14, 0], [6, 2], [15, 2], [4, 0], [11, 1], [12, 2], [1, 1], [8, 1], [2, 1], [7, 0], [5, 0], [3, 0], [9, 1]], [[0, 2], [10, 1], [13, 1], [14, 0], [6, 2], [15, 2], [4, 0], [11, 1], [12, 2], [2, 1], [8, 1], [1, 1], [7, 0], [5, 0], [3, 0], [9, 1]], [[0, 2], [10, 1], [13, 1], [14, 0], [6, 2], [15, 2], [4, 0], [11, 1], [12, 2], [2, 1], [8, 1], [1, 1], [7, 0], [5, 0], [3, 0], [9, 1]], [[0, 2], [10, 1], [13, 1], [14, 0], [6, 2], [15, 2], [4, 0], [11, 1], [12, 2], [2, 1], [8, 1], [1, 1], [7, 0], [5, 0], [3, 0], [9, 1]], [[0, 2], [10, 1], [13, 1], [14, 0], [6, 2], [15, 2], [4, 0], [11, 1], [9, 2], [2, 1], [8, 1], [1, 1], [7, 0], [5, 0], [3, 0], [12, 1]], [[0, 2], [10, 1], [13, 1], [14, 0], [6, 2], [12, 2], [4, 0], [11, 1], [9, 2], [2, 1], [8, 1], [1, 1], [7, 0], [5, 0], [3, 0], [15, 2]], [[0, 2], [10, 1], [13, 1], [14, 0], [6, 2], [12, 2], [5, 0], [11, 1], [9, 2], [2, 1], [8, 1], [1, 1], [7, 0], [4, 0], [3, 0], [15, 2]], [[0, 2], [10, 1], [13, 1], [14, 0], [6, 2], [12, 2], [5, 0], [11, 1], [9, 2], [2, 1], [8, 1], [1, 1], [7, 0], [3, 0], [4, 0], [15, 2]], [[0, 2], [10, 1], [13, 1], [14, 0], [6, 2], [12, 2], [5, 0], [11, 1], [9, 2], [1, 1], [8, 1], [2, 1], [7, 0], [3, 0], [4, 0], [15, 2]], [[0, 2], [10, 1], [13, 1], [14, 0], [6, 2], [12, 2], [5, 0], [11, 1], [9, 2], [1, 1], [8, 1], [2, 1], [7, 0], [4, 0], [3, 0], [15, 2]], [[0, 2], [10, 1], [13, 1], [14, 0], [6, 2], [12, 2], [5, 0], [11, 1], [9, 2], [1, 1], [3, 1], [2, 1], [7, 0], [4, 0], [8, 1], [15, 2]], [[0, 2], [10, 1], [13, 1], [14, 0], [6, 2], [12, 2], [3, 0], [11, 1], [9, 2], [1, 1], [5, 1], [2, 1], [7, 0], [4, 0], [8, 1], [15, 2]], [[0, 2], [10, 1], [13, 1], [14, 0], [6, 2], [12, 2], [3, 0], [11, 1], [9, 2], [1, 1], [5, 1], [2, 1], [7, 0], [4, 0], [8, 1], [15, 2]], [[0, 2], [10, 1], [13, 1], [14, 0], [6, 2], [12, 2], [3, 0], [11, 1], [9, 2], [1, 1], [5, 1], [2, 1], [7, 0], [4, 0], [8, 1], [15, 2]], [[0, 2], [10, 1], [13, 1], [14, 0], [6, 2], [12, 2], [3, 0], [11, 1], [9, 2], [1, 1], [5, 1], [2, 1], [7, 0], [4, 0], [8, 1], [15, 2]], [[0, 2], [10, 1], [13, 1], [14, 0], [6, 2], [12, 2], [3, 0], [11, 1], [9, 2], [1, 1], [5, 1], [2, 1], [7, 0], [4, 0], [8, 1], [15, 2]], [[0, 2], [10, 1], [13, 1], [14, 0], [6, 2], [12, 2], [3, 0], [11, 1], [9, 2], [1, 1], [5, 1], [2, 1], [7, 0], [4, 0], [8, 1], [15, 2]], [[0, 2], [10, 1], [13, 1], [14, 0], [6, 2], [12, 2], [4, 0], [11, 1], [9, 2], [1, 1], [5, 1], [2, 1], [7, 0], [3, 0], [8, 1], [15, 2]], [[0, 2], [10, 1], [13, 1], [14, 0], [6, 2], [15, 2], [4, 0], [11, 1], [9, 2], [1, 1], [5, 1], [2, 1], [7, 0], [3, 0], [8, 1], [12, 1]], [[0, 2], [10, 1], [13, 1], [14, 0], [6, 2], [15, 2], [4, 0], [11, 1], [9, 2], [1, 1], [5, 1], [2, 1], [7, 0], [3, 0], [8, 1], [12, 1]], [[0, 2], [10, 1], [13, 1], [14, 0], [6, 2], [15, 2], [4, 0], [11, 1], [9, 2], [1, 1], [5, 1], [2, 1], [7, 0], [3, 0], [8, 1], [12, 1]], [[0, 2], [10, 1], [13, 1], [14, 0], [6, 2], [15, 2], [4, 0], [11, 1], [9, 2], [1, 1], [5, 1], [2, 1], [7, 0], [3, 0], [8, 1], [12, 1]], [[0, 2], [10, 1], [13, 1], [14, 0], [6, 2], [15, 2], [4, 0], [11, 1], [9, 2], [5, 1], [1, 1], [2, 1], [7, 0], [3, 0], [8, 1], [12, 1]], [[0, 2], [10, 1], [13, 1], [14, 0], [6, 2], [15, 2], [4, 0], [11, 1], [9, 2], [5, 1], [1, 1], [2, 1], [7, 0], [3, 0], [8, 1], [12, 1]], [[0, 2], [10, 1], [13, 1], [14, 0], [6, 2], [15, 2], [4, 0], [11, 1], [9, 2], [5, 1], [1, 1], [2, 1], [7, 0], [3, 0], [8, 1], [12, 1]], [[0, 2], [10, 1], [13, 1], [14, 0], [6, 2], [15, 2], [4, 0], [11, 1], [9, 2], [5, 1], [1, 1], [2, 1], [7, 0], [3, 0], [8, 1], [12, 1]], [[0, 2], [10, 1], [13, 1], [14, 0], [6, 2], [15, 2], [4, 0], [11, 1], [9, 2], [5, 1], [2, 1], [1, 1], [7, 0], [3, 0], [8, 1], [12, 1]], [[0, 2], [10, 1], [13, 1], [14, 0], [6, 2], [15, 2], [4, 0], [11, 1], [9, 2], [5, 1], [2, 1], [1, 1], [7, 0], [3, 0], [8, 1], [12, 1]], [[0, 2], [10, 1], [13, 1], [14, 0], [6, 2], [15, 2], [4, 0], [11, 1], [9, 2], [5, 1], [2, 1], [1, 1], [7, 0], [3, 0], [8, 1], [12, 1]], [[0, 2], [10, 1], [13, 1], [14, 0], [6, 2], [15, 2], [4, 0], [11, 1], [9, 2], [5, 1], [2, 1], [1, 1], [7, 0], [3, 0], [8, 1], [12, 1]], [[0, 2], [10, 1], [13, 1], [14, 0], [6, 2], [15, 2], [4, 0], [11, 1], [9, 2], [2, 1], [5, 1], [1, 1], [7, 0], [3, 0], [8, 1], [12, 1]], [[0, 2], [10, 1], [13, 1], [14, 0], [6, 2], [15, 2], [4, 0], [11, 1], [9, 2], [2, 1], [5, 1], [1, 1], [7, 0], [3, 0], [8, 1], [12, 1]], [[0, 2], [9, 1], [13, 1], [14, 0], [6, 2], [15, 2], [4, 0], [11, 1], [10, 2], [2, 1], [5, 1], [1, 1], [7, 0], [3, 0], [8, 1], [12, 1]], [[0, 2], [9, 1], [13, 1], [14, 0], [6, 2], [15, 2], [4, 0], [11, 1], [10, 2], [2, 1], [5, 1], [1, 1], [7, 0], [3, 0], [12, 1], [8, 1]], [[0, 2], [9, 1], [13, 1], [14, 0], [6, 2], [15, 2], [4, 0], [11, 1], [10, 2], [2, 1], [5, 1], [1, 1], [7, 0], [3, 0], [12, 1], [8, 1]], [[0, 2], [9, 1], [13, 1], [14, 0], [6, 2], [15, 2], [4, 0], [11, 1], [10, 2], [2, 1], [5, 1], [1, 1], [7, 0], [3, 0], [12, 1], [8, 1]], [[0, 2], [9, 1], [13, 1], [14, 0], [6, 2], [15, 2], [4, 0], [11, 1], [10, 2], [2, 1], [5, 1], [1, 1], [7, 0], [3, 0], [8, 1], [12, 1]], [[0, 2], [9, 1], [13, 1], [14, 0], [6, 2], [15, 2], [4, 0], [11, 1], [10, 2], [2, 1], [5, 1], [1, 1], [7, 0], [3, 0], [8, 1], [12, 1]], [[0, 2], [9, 1], [13, 1], [14, 0], [6, 2], [15, 2], [4, 0], [11, 1], [10, 2], [1, 1], [5, 1], [2, 1], [7, 0], [3, 0], [8, 1], [12, 1]], [[0, 2], [9, 1], [13, 1], [14, 0], [6, 2], [15, 2], [4, 0], [11, 1], [10, 2], [1, 1], [5, 1], [2, 1], [7, 0], [3, 0], [8, 1], [12, 1]], [[0, 2], [9, 1], [13, 1], [14, 0], [6, 2], [15, 2], [4, 0], [11, 1], [10, 2], [1, 1], [5, 1], [2, 1], [7, 0], [3, 0], [8, 1], [12, 1]], [[0, 2], [9, 1], [13, 1], [14, 0], [6, 2], [15, 2], [4, 0], [11, 1], [10, 2], [1, 1], [5, 1], [2, 1], [7, 0], [3, 0], [8, 1], [12, 1]], [[0, 2], [9, 1], [13, 1], [14, 0], [6, 2], [15, 2], [3, 0], [11, 1], [10, 2], [1, 1], [5, 1], [2, 1], [7, 0], [4, 0], [8, 1], [12, 1]], [[0, 2], [9, 1], [13, 1], [14, 0], [6, 2], [15, 2], [3, 0], [11, 1], [10, 2], [1, 1], [5, 1], [2, 1], [7, 0], [4, 0], [8, 1], [12, 1]], [[0, 2], [9, 1], [13, 1], [14, 0], [6, 2], [15, 2], [3, 0], [11, 1], [10, 2], [1, 1], [5, 1], [2, 1], [7, 0], [4, 0], [8, 1], [12, 1]], [[0, 2], [9, 1], [13, 1], [14, 0], [6, 2], [15, 2], [3, 0], [11, 1], [10, 2], [1, 1], [5, 1], [2, 1], [7, 0], [4, 0], [8, 1], [12, 1]], [[0, 2], [9, 1], [13, 1], [14, 0], [6, 2], [15, 2], [3, 0], [11, 1], [10, 2], [1, 1], [5, 1], [2, 1], [7, 0], [4, 0], [8, 1], [12, 1]], [[0, 2], [9, 1], [13, 1], [14, 0], [6, 2], [15, 2], [3, 0], [11, 1], [10, 2], [1, 1], [5, 1], [2, 1], [7, 0], [4, 0], [8, 1], [12, 1]], [[0, 2], [9, 1], [13, 1], [14, 0], [6, 2], [15, 2], [3, 0], [11, 1], [10, 2], [1, 1], [5, 1], [2, 1], [7, 0], [4, 0], [8, 1], [12, 1]], [[0, 2], [9, 1], [13, 1], [14, 0], [6, 2], [15, 2], [3, 0], [11, 1], [10, 2], [1, 1], [5, 1], [2, 1], [7, 0], [4, 0], [8, 1], [12, 1]], [[0, 2], [9, 1], [13, 1], [14, 0], [6, 2], [15, 2], [3, 0], [11, 1], [10, 2], [1, 1], [5, 1], [2, 1], [7, 0], [4, 0], [8, 1], [12, 1]], [[0, 2], [9, 1], [13, 1], [14, 0], [6, 2], [15, 2], [3, 0], [11, 1], [10, 2], [1, 1], [5, 1], [2, 1], [7, 0], [4, 0], [8, 1], [12, 1]], [[0, 2], [9, 1], [13, 1], [14, 0], [6, 2], [15, 2], [3, 0], [11, 1], [10, 2], [1, 1], [5, 1], [2, 1], [7, 0], [4, 0], [8, 1], [12, 1]], [[0, 2], [9, 1], [13, 1], [14, 0], [6, 2], [15, 2], [3, 0], [11, 1], [10, 2], [1, 1], [5, 1], [2, 1], [7, 0], [4, 0], [8, 1], [12, 1]], [[0, 2], [9, 1], [13, 1], [14, 0], [6, 2], [15, 2], [3, 0], [11, 1], [10, 2], [1, 1], [5, 1], [2, 1], [7, 0], [4, 0], [8, 1], [12, 1]], [[0, 2], [9, 1], [13, 1], [14, 0], [6, 2], [15, 2], [3, 0], [11, 1], [10, 2], [1, 1], [5, 1], [2, 1], [7, 0], [4, 0], [8, 1], [12, 1]], [[0, 2], [9, 1], [13, 1], [14, 0], [6, 2], [15, 2], [3, 0], [11, 1], [10, 2], [1, 1], [5, 1], [2, 1], [7, 0], [4, 0], [8, 1], [12, 1]], [[0, 2], [9, 1], [13, 1], [14, 0], [6, 2], [15, 2], [3, 0], [11, 1], [10, 2], [1, 1], [5, 1], [2, 1], [7, 0], [4, 0], [8, 1], [12, 1]], [[0, 2], [9, 1], [13, 1], [14, 0], [6, 2], [15, 2], [3, 0], [11, 1], [10, 2], [1, 1], [5, 1], [2, 1], [7, 0], [4, 0], [8, 1], [12, 1]], [[0, 2], [9, 1], [13, 1], [14, 0], [6, 2], [15, 2], [3, 0], [11, 1], [10, 2], [1, 1], [5, 1], [2, 1], [7, 0], [4, 0], [8, 1], [12, 1]], [[0, 2], [9, 1], [13, 1], [14, 0], [6, 2], [15, 2], [3, 0], [11, 1], [10, 2], [1, 1], [5, 1], [2, 1], [7, 0], [4, 0], [8, 1], [12, 1]], [[0, 2], [9, 1], [13, 1], [14, 0], [6, 2], [15, 2], [3, 0], [11, 1], [10, 2], [1, 1], [5, 1], [2, 1], [7, 0], [4, 0], [8, 1], [12, 1]], [[0, 2], [9, 1], [13, 1], [14, 0], [6, 2], [15, 2], [3, 0], [11, 1], [10, 2], [1, 1], [5, 1], [2, 1], [7, 0], [4, 0], [8, 1], [12, 1]], [[0, 2], [9, 1], [13, 1], [14, 0], [6, 2], [15, 2], [3, 0], [11, 1], [10, 2], [1, 1], [5, 1], [2, 1], [7, 0], [4, 0], [8, 1], [12, 1]], [[0, 2], [9, 1], [13, 1], [14, 0], [6, 2], [15, 2], [3, 0], [11, 1], [10, 2], [1, 1], [5, 1], [2, 1], [7, 0], [4, 0], [8, 1], [12, 1]], [[0, 2], [9, 1], [13, 1], [14, 0], [6, 2], [15, 2], [3, 0], [11, 1], [10, 2], [1, 1], [5, 1], [2, 1], [7, 0], [4, 0], [8, 1], [12, 1]], [[0, 2], [9, 1], [13, 1], [14, 0], [6, 2], [15, 2], [3, 0], [11, 1], [10, 2], [1, 1], [5, 1], [2, 1], [7, 0], [4, 0], [8, 1], [12, 1]], [[0, 2], [9, 1], [13, 1], [14, 0], [6, 2], [15, 2], [3, 0], [11, 1], [10, 2], [1, 1], [5, 1], [2, 1], [7, 0], [4, 0], [8, 1], [12, 1]], [[0, 2], [9, 1], [13, 1], [14, 0], [6, 2], [15, 2], [3, 0], [11, 1], [10, 2], [1, 1], [5, 1], [2, 1], [7, 0], [4, 0], [8, 1], [12, 1]], [[0, 2], [9, 1], [13, 1], [14, 0], [6, 2], [15, 2], [4, 0], [11, 1], [10, 2], [1, 1], [5, 1], [2, 1], [7, 0], [3, 0], [8, 1], [12, 1]], [[0, 2], [9, 1], [13, 1], [14, 0], [6, 2], [15, 2], [4, 0], [11, 1], [10, 2], [2, 1], [5, 1], [1, 1], [7, 0], [3, 0], [8, 1], [12, 1]], [[0, 2], [9, 1], [13, 1], [14, 0], [6, 2], [15, 2], [4, 0], [11, 1], [10, 2], [2, 1], [5, 1], [1, 1], [7, 0], [3, 0], [8, 1], [12, 1]], [[0, 2], [9, 1], [13, 1], [14, 0], [6, 2], [15, 2], [4, 0], [11, 1], [10, 2], [2, 1], [5, 1], [1, 1], [7, 0], [3, 0], [8, 1], [12, 1]], [[0, 2], [9, 1], [13, 1], [14, 0], [6, 2], [15, 2], [4, 0], [11, 1], [10, 2], [2, 1], [5, 1], [1, 1], [7, 0], [3, 0], [8, 1], [12, 1]], [[0, 2], [9, 1], [13, 1], [14, 0], [6, 2], [15, 2], [4, 0], [11, 1], [10, 2], [2, 1], [5, 1], [1, 1], [7, 0], [3, 0], [8, 1], [12, 1]], [[0, 2], [9, 1], [13, 1], [14, 0], [6, 2], [15, 2], [4, 0], [11, 1], [10, 2], [2, 1], [5, 1], [1, 1], [7, 0], [3, 0], [8, 1], [12, 1]], [[0, 2], [9, 1], [13, 1], [14, 0], [6, 2], [15, 2], [4, 0], [11, 1], [10, 2], [2, 1], [5, 1], [1, 1], [7, 0], [3, 0], [8, 1], [12, 1]], [[0, 2], [9, 1], [13, 1], [14, 0], [6, 2], [15, 2], [4, 0], [11, 1], [10, 2], [2, 1], [5, 1], [1, 1], [7, 0], [3, 0], [8, 1], [12, 1]], [[0, 2], [9, 1], [13, 1], [14, 0], [6, 2], [15, 2], [4, 0], [11, 1], [10, 2], [2, 1], [5, 1], [1, 1], [7, 0], [3, 0], [8, 1], [12, 1]], [[0, 2], [9, 1], [13, 1], [14, 0], [6, 2], [15, 2], [4, 0], [12, 2], [10, 2], [2, 1], [5, 1], [1, 1], [7, 0], [3, 0], [8, 1], [11, 0]], [[0, 2], [9, 1], [13, 1], [14, 0], [6, 2], [15, 2], [4, 0], [12, 2], [10, 2], [2, 1], [5, 1], [1, 1], [7, 0], [3, 0], [8, 1], [11, 0]], [[0, 2], [9, 1], [13, 1], [14, 0], [6, 2], [15, 2], [4, 0], [12, 2], [10, 2], [2, 1], [5, 1], [1, 1], [7, 0], [3, 0], [8, 1], [11, 0]], [[0, 2], [9, 1], [13, 1], [14, 0], [6, 2], [15, 2], [4, 0], [11, 1], [10, 2], [2, 1], [5, 1], [1, 1], [7, 0], [3, 0], [8, 1], [12, 1]], [[0, 2], [10, 1], [13, 1], [14, 0], [6, 2], [15, 2], [4, 0], [11, 1], [9, 2], [2, 1], [5, 1], [1, 1], [7, 0], [3, 0], [8, 1], [12, 1]], [[0, 2], [10, 1], [13, 1], [14, 0], [6, 2], [15, 2], [4, 0], [11, 1], [9, 2], [2, 1], [5, 1], [1, 1], [7, 0], [3, 0], [8, 1], [12, 1]], [[0, 2], [10, 1], [13, 1], [14, 0], [6, 2], [15, 2], [4, 0], [11, 1], [9, 2], [2, 1], [5, 1], [1, 1], [7, 0], [3, 0], [8, 1], [12, 1]], [[0, 2], [10, 1], [13, 1], [14, 0], [6, 2], [15, 2], [4, 0], [11, 1], [9, 2], [2, 1], [5, 1], [1, 1], [7, 0], [3, 0], [8, 1], [12, 1]], [[0, 2], [10, 1], [13, 1], [14, 0], [6, 2], [15, 2], [4, 0], [11, 1], [9, 2], [1, 1], [5, 1], [2, 1], [7, 0], [3, 0], [8, 1], [12, 1]], [[0, 2], [10, 1], [13, 1], [14, 0], [6, 2], [15, 2], [4, 0], [11, 1], [9, 2], [1, 1], [5, 1], [2, 1], [7, 0], [3, 0], [8, 1], [12, 1]], [[0, 2], [10, 1], [13, 1], [14, 0], [6, 2], [15, 2], [4, 0], [11, 1], [9, 2], [1, 1], [5, 1], [2, 1], [7, 0], [3, 0], [8, 1], [12, 1]], [[0, 2], [9, 1], [13, 1], [14, 0], [6, 2], [15, 2], [4, 0], [11, 1], [10, 2], [1, 1], [5, 1], [2, 1], [7, 0], [3, 0], [8, 1], [12, 1]], [[0, 2], [10, 1], [13, 1], [14, 0], [6, 2], [15, 2], [4, 0], [11, 1], [9, 2], [1, 1], [5, 1], [2, 1], [7, 0], [3, 0], [8, 1], [12, 1]], [[0, 2], [10, 1], [13, 1], [14, 0], [6, 2], [15, 2], [4, 0], [11, 1], [9, 2], [1, 1], [5, 1], [2, 1], [7, 0], [3, 0], [8, 1], [12, 1]], [[0, 2], [9, 1], [13, 1], [14, 0], [6, 2], [15, 2], [4, 0], [11, 1], [10, 2], [1, 1], [5, 1], [2, 1], [7, 0], [3, 0], [8, 1], [12, 1]], [[0, 2], [9, 1], [13, 1], [14, 0], [6, 2], [15, 2], [4, 0], [11, 1], [10, 2], [1, 1], [5, 1], [2, 1], [7, 0], [3, 0], [8, 1], [12, 1]], [[0, 2], [9, 1], [13, 1], [14, 0], [6, 2], [15, 2], [4, 0], [11, 1], [10, 2], [1, 1], [5, 1], [2, 1], [7, 0], [3, 0], [8, 1], [12, 1]], [[0, 2], [9, 1], [13, 1], [14, 0], [6, 2], [15, 2], [4, 0], [11, 1], [10, 2], [1, 1], [5, 1], [2, 1], [7, 0], [3, 0], [8, 1], [12, 1]], [[0, 2], [9, 1], [13, 1], [14, 0], [6, 2], [15, 2], [3, 0], [11, 1], [10, 2], [1, 1], [5, 1], [2, 1], [7, 0], [4, 0], [8, 1], [12, 1]], [[0, 2], [9, 1], [13, 1], [14, 0], [6, 2], [15, 2], [3, 0], [11, 1], [10, 2], [1, 1], [5, 1], [2, 1], [7, 0], [4, 0], [8, 1], [12, 1]], [[0, 2], [9, 1], [13, 1], [14, 0], [6, 2], [15, 2], [3, 0], [11, 1], [10, 2], [1, 1], [5, 1], [2, 1], [7, 0], [4, 0], [8, 1], [12, 1]], [[0, 2], [9, 1], [13, 1], [14, 0], [6, 2], [15, 2], [3, 0], [11, 1], [10, 2], [1, 1], [5, 1], [2, 1], [7, 0], [4, 0], [8, 1], [12, 1]], [[0, 2], [9, 1], [13, 1], [14, 0], [6, 2], [15, 2], [4, 0], [11, 1], [10, 2], [1, 1], [5, 1], [2, 1], [7, 0], [3, 0], [8, 1], [12, 1]], [[0, 2], [10, 1], [13, 1], [14, 0], [6, 2], [15, 2], [4, 0], [11, 1], [9, 2], [1, 1], [5, 1], [2, 1], [7, 0], [3, 0], [8, 1], [12, 1]], [[0, 2], [10, 1], [13, 1], [14, 0], [6, 2], [15, 2], [4, 0], [11, 1], [9, 2], [1, 1], [5, 1], [2, 1], [7, 0], [3, 0], [8, 1], [12, 1]], [[0, 2], [9, 1], [13, 1], [14, 0], [6, 2], [15, 2], [4, 0], [11, 1], [10, 2], [1, 1], [5, 1], [2, 1], [7, 0], [3, 0], [8, 1], [12, 1]], [[0, 2], [9, 1], [13, 1], [6, 0], [14, 2], [15, 2], [4, 0], [11, 1], [10, 2], [1, 1], [5, 1], [2, 1], [7, 0], [3, 0], [8, 1], [12, 1]], [[0, 2], [9, 1], [13, 1], [6, 0], [14, 2], [15, 2], [4, 0], [11, 1], [10, 2], [1, 1], [5, 1], [2, 1], [7, 0], [3, 0], [8, 1], [12, 1]], [[0, 2], [9, 1], [13, 1], [6, 0], [14, 2], [15, 2], [3, 0], [11, 1], [10, 2], [1, 1], [5, 1], [2, 1], [7, 0], [4, 0], [8, 1], [12, 1]], [[0, 2], [9, 1], [13, 1], [6, 0], [14, 2], [15, 2], [3, 0], [11, 1], [10, 2], [1, 1], [5, 1], [2, 1], [7, 0], [4, 0], [8, 1], [12, 1]], [[0, 2], [9, 1], [13, 1], [6, 0], [14, 2], [15, 2], [3, 0], [11, 1], [10, 2], [1, 1], [5, 1], [2, 1], [7, 0], [4, 0], [8, 1], [12, 1]], [[0, 2], [9, 1], [13, 1], [6, 0], [14, 2], [15, 2], [3, 0], [11, 1], [10, 2], [1, 1], [5, 1], [2, 1], [7, 0], [4, 0], [8, 1], [12, 1]], [[0, 2], [9, 1], [13, 1], [6, 0], [14, 2], [15, 2], [3, 0], [11, 1], [10, 2], [1, 1], [5, 1], [2, 1], [7, 0], [4, 0], [8, 1], [12, 1]], [[0, 2], [9, 1], [13, 1], [6, 0], [14, 2], [15, 2], [4, 0], [11, 1], [10, 2], [1, 1], [5, 1], [2, 1], [7, 0], [3, 0], [8, 1], [12, 1]], [[0, 2], [9, 1], [13, 1], [6, 0], [14, 2], [15, 2], [4, 0], [11, 1], [10, 2], [1, 1], [5, 1], [2, 1], [7, 0], [3, 0], [8, 1], [12, 1]], [[0, 2], [9, 1], [13, 1], [6, 0], [14, 2], [15, 2], [3, 0], [11, 1], [10, 2], [1, 1], [5, 1], [2, 1], [7, 0], [4, 0], [8, 1], [12, 1]], [[0, 2], [9, 1], [13, 1], [6, 0], [14, 2], [15, 2], [3, 0], [11, 1], [10, 2], [1, 1], [5, 1], [2, 1], [7, 0], [4, 0], [8, 1], [12, 1]], [[0, 2], [9, 1], [15, 0], [6, 0], [14, 2], [13, 0], [3, 0], [11, 1], [10, 2], [1, 1], [5, 1], [2, 1], [7, 0], [4, 0], [8, 1], [12, 1]], [[0, 2], [5, 0], [15, 0], [6, 0], [14, 2], [13, 0], [3, 0], [11, 1], [10, 2], [1, 1], [9, 2], [2, 1], [7, 0], [4, 0], [8, 1], [12, 1]], [[0, 2], [5, 0], [15, 0], [6, 0], [14, 2], [13, 0], [4, 0], [11, 1], [10, 2], [1, 1], [9, 2], [2, 1], [7, 0], [3, 0], [8, 1], [12, 1]], [[0, 2], [5, 0], [15, 0], [6, 0], [14, 2], [13, 0], [4, 0], [11, 1], [10, 2], [1, 1], [9, 2], [2, 1], [7, 0], [3, 0], [8, 1], [12, 1]], [[0, 2], [5, 0], [15, 0], [6, 0], [14, 2], [13, 0], [4, 0], [11, 1], [10, 2], [1, 1], [9, 2], [2, 1], [7, 0], [3, 0], [8, 1], [12, 1]], [[0, 2], [5, 0], [13, 1], [6, 0], [14, 2], [15, 2], [4, 0], [11, 1], [10, 2], [1, 1], [9, 2], [2, 1], [7, 0], [3, 0], [8, 1], [12, 1]], [[0, 2], [5, 0], [13, 1], [6, 0], [14, 2], [12, 2], [4, 0], [11, 1], [10, 2], [1, 1], [9, 2], [2, 1], [7, 0], [3, 0], [8, 1], [15, 1]], [[0, 2], [5, 0], [15, 0], [6, 0], [14, 2], [12, 2], [4, 0], [11, 1], [10, 2], [1, 1], [9, 2], [2, 1], [7, 0], [3, 0], [8, 1], [13, 1]], [[0, 2], [5, 0], [15, 0], [6, 0], [14, 2], [12, 2], [4, 0], [11, 1], [10, 2], [1, 1], [9, 2], [2, 1], [7, 0], [3, 0], [8, 1], [13, 1]], [[0, 2], [5, 0], [15, 0], [6, 0], [14, 2], [12, 2], [11, 1], [4, 0], [10, 2], [1, 1], [9, 2], [2, 1], [7, 0], [3, 0], [8, 1], [13, 1]], [[0, 2], [5, 0], [15, 0], [6, 0], [14, 2], [12, 2], [11, 1], [4, 0], [10, 2], [2, 1], [9, 2], [1, 1], [7, 0], [3, 0], [8, 1], [13, 1]], [[0, 2], [5, 0], [15, 0], [6, 0], [14, 2], [12, 2], [11, 1], [4, 0], [10, 2], [2, 1], [9, 2], [1, 1], [7, 0], [3, 0], [8, 1], [13, 1]], [[0, 2], [5, 0], [15, 0], [14, 0], [6, 2], [12, 2], [11, 1], [4, 0], [10, 2], [2, 1], [9, 2], [1, 1], [7, 0], [3, 0], [8, 1], [13, 1]], [[0, 2], [5, 0], [15, 0], [6, 0], [14, 2], [12, 2], [11, 1], [4, 0], [10, 2], [2, 1], [9, 2], [1, 1], [7, 0], [3, 0], [8, 1], [13, 1]], [[0, 2], [5, 0], [15, 0], [14, 0], [6, 2], [12, 2], [11, 1], [4, 0], [10, 2], [2, 1], [9, 2], [1, 1], [7, 0], [3, 0], [8, 1], [13, 1]], [[0, 2], [5, 0], [15, 0], [6, 0], [14, 2], [12, 2], [11, 1], [4, 0], [10, 2], [2, 1], [9, 2], [1, 1], [7, 0], [3, 0], [8, 1], [13, 1]], [[0, 2], [5, 0], [15, 0], [6, 0], [14, 2], [12, 2], [11, 1], [4, 0], [10, 2], [2, 1], [9, 2], [1, 1], [7, 0], [3, 0], [8, 1], [13, 1]], [[0, 2], [5, 0], [15, 0], [6, 0], [14, 2], [12, 2], [11, 1], [4, 0], [9, 2], [2, 1], [10, 2], [1, 1], [7, 0], [3, 0], [8, 1], [13, 1]], [[0, 2], [5, 0], [15, 0], [6, 0], [14, 2], [12, 2], [4, 0], [11, 1], [9, 2], [2, 1], [10, 2], [1, 1], [7, 0], [3, 0], [8, 1], [13, 1]], [[0, 2], [5, 0], [15, 0], [6, 0], [14, 2], [12, 2], [4, 0], [13, 1], [9, 2], [2, 1], [10, 2], [1, 1], [7, 0], [3, 0], [8, 1], [11, 0]], [[0, 2], [5, 0], [15, 0], [6, 0], [14, 2], [12, 2], [4, 0], [2, 0], [9, 2], [13, 1], [10, 2], [1, 1], [7, 0], [3, 0], [8, 1], [11, 0]], [[0, 2], [5, 0], [15, 0], [6, 0], [14, 2], [12, 2], [4, 0], [2, 0], [9, 2], [13, 1], [10, 2], [1, 1], [7, 0], [3, 0], [8, 1], [11, 0]], [[0, 2], [5, 0], [15, 0], [6, 0], [14, 2], [13, 0], [4, 0], [2, 0], [9, 2], [12, 0], [10, 2], [1, 1], [7, 0], [3, 0], [8, 1], [11, 0]], [[0, 2], [5, 0], [15, 0], [6, 0], [14, 2], [13, 0], [4, 0], [2, 0], [10, 2], [12, 0], [9, 2], [1, 1], [7, 0], [3, 0], [8, 1], [11, 0]], [[0, 2], [12, 0], [15, 0], [6, 0], [14, 2], [13, 0], [4, 0], [2, 0], [10, 2], [5, 0], [9, 2], [1, 1], [7, 0], [3, 0], [8, 1], [11, 0]], [[0, 2], [8, 0], [15, 0], [6, 0], [14, 2], [13, 0], [4, 0], [2, 0], [10, 2], [5, 0], [9, 2], [1, 1], [7, 0], [3, 0], [12, 1], [11, 0]], [[0, 2], [8, 0], [15, 0], [6, 0], [14, 2], [13, 0], [4, 0], [2, 0], [10, 2], [5, 0], [9, 2], [1, 1], [7, 0], [3, 0], [12, 1], [11, 0]], [[0, 2], [8, 0], [15, 0], [6, 0], [14, 2], [13, 0], [4, 0], [2, 0], [10, 2], [5, 0], [9, 2], [1, 1], [7, 0], [3, 0], [12, 1], [11, 0]], [[0, 2], [8, 0], [15, 0], [6, 0], [14, 2], [13, 0], [4, 0], [2, 0], [5, 0], [10, 1], [9, 2], [1, 1], [7, 0], [3, 0], [12, 1], [11, 0]], [[0, 2], [8, 0], [15, 0], [6, 0], [14, 2], [13, 0], [4, 0], [1, 0], [5, 0], [10, 1], [9, 2], [2, 1], [7, 0], [3, 0], [12, 1], [11, 0]], [[0, 2], [8, 0], [15, 0], [6, 0], [14, 2], [13, 0], [4, 0], [5, 0], [1, 2], [10, 1], [9, 2], [2, 1], [7, 0], [3, 0], [12, 1], [11, 0]], [[0, 2], [8, 0], [15, 0], [6, 0], [14, 2], [13, 0], [9, 2], [5, 0], [1, 2], [10, 1], [4, 0], [2, 1], [7, 0], [3, 0], [12, 1], [11, 0]], [[0, 2], [8, 0], [15, 0], [6, 0], [14, 2], [13, 0], [9, 2], [5, 0], [2, 2], [10, 1], [4, 0], [1, 1], [7, 0], [3, 0], [12, 1], [11, 0]], [[0, 2], [8, 0], [15, 0], [6, 0], [14, 2], [13, 0], [9, 2], [7, 2], [2, 2], [10, 1], [4, 0], [1, 1], [5, 1], [3, 0], [12, 1], [11, 0]], [[0, 2], [8, 0], [15, 0], [6, 0], [14, 2], [13, 0], [9, 2], [1, 2], [2, 2], [10, 1], [4, 0], [7, 0], [5, 1], [3, 0], [12, 1], [11, 0]], [[0, 2], [8, 0], [15, 0], [6, 0], [14, 2], [13, 0], [9, 2], [1, 2], [2, 2], [10, 1], [4, 0], [7, 0], [5, 1], [3, 0], [12, 1], [11, 0]], [[0, 2], [8, 0], [15, 0], [6, 0], [7, 2], [13, 0], [9, 2], [1, 2], [2, 2], [10, 1], [4, 0], [14, 0], [5, 1], [3, 0], [12, 1], [11, 0]], [[0, 2], [8, 0], [15, 0], [6, 0], [7, 2], [13, 0], [9, 2], [1, 2], [2, 2], [14, 0], [4, 0], [10, 1], [5, 1], [3, 0], [12, 1], [11, 0]], [[0, 2], [8, 0], [15, 0], [6, 0], [7, 2], [13, 2], [9, 2], [1, 2], [2, 2], [14, 0], [4, 0], [10, 1], [5, 1], [3, 0], [12, 1], [11, 0]], [[0, 2], [8, 0], [15, 0], [6, 0], [7, 2], [13, 2], [9, 2], [1, 2], [2, 2], [14, 0], [4, 0], [10, 1], [5, 1], [3, 0], [12, 1], [11, 0]], [[0, 2], [8, 0], [15, 0], [6, 0], [7, 2], [13, 2], [9, 2], [1, 2], [2, 2], [14, 0], [4, 0], [10, 1], [5, 1], [3, 0], [12, 1], [11, 0]], [[0, 2], [8, 0], [15, 0], [6, 0], [7, 2], [13, 2], [9, 2], [1, 2], [2, 2], [14, 0], [3, 0], [10, 1], [5, 1], [4, 0], [12, 1], [11, 0]], [[0, 2], [8, 0], [15, 0], [6, 0], [7, 2], [13, 2], [9, 2], [10, 2], [2, 2], [14, 0], [3, 0], [1, 1], [5, 1], [4, 0], [12, 1], [11, 0]], [[0, 2], [8, 0], [15, 0], [3, 0], [7, 2], [13, 2], [9, 2], [10, 2], [2, 2], [14, 0], [6, 0], [1, 1], [5, 1], [4, 0], [12, 1], [11, 0]], [[0, 2], [8, 0], [15, 0], [6, 0], [7, 2], [13, 2], [9, 2], [10, 2], [2, 2], [14, 0], [3, 0], [1, 1], [5, 1], [4, 0], [12, 1], [11, 0]], [[0, 2], [8, 0], [15, 0], [6, 0], [7, 2], [13, 2], [9, 2], [10, 2], [2, 2], [1, 1], [3, 0], [14, 0], [5, 1], [4, 0], [12, 1], [11, 0]], [[0, 2], [8, 0], [15, 0], [6, 0], [7, 2], [13, 2], [10, 2], [9, 2], [2, 2], [1, 1], [3, 0], [14, 0], [5, 1], [4, 0], [12, 1], [11, 0]], [[0, 2], [8, 0], [15, 0], [6, 0], [7, 2], [13, 2], [10, 2], [9, 2], [14, 1], [1, 1], [3, 0], [2, 1], [5, 1], [4, 0], [12, 1], [11, 0]], [[0, 2], [8, 0], [15, 0], [14, 0], [7, 2], [13, 2], [10, 2], [9, 2], [6, 1], [1, 1], [3, 0], [2, 1], [5, 1], [4, 0], [12, 1], [11, 0]], [[0, 2], [6, 1], [15, 0], [14, 0], [7, 2], [13, 2], [10, 2], [9, 2], [8, 0], [1, 1], [3, 0], [2, 1], [5, 1], [4, 0], [12, 1], [11, 0]], [[0, 2], [6, 1], [15, 0], [14, 0], [7, 2], [13, 2], [10, 2], [9, 2], [8, 0], [1, 1], [3, 0], [2, 1], [5, 1], [4, 0], [12, 1], [11, 0]], [[0, 2], [6, 1], [15, 0], [14, 0], [7, 2], [13, 2], [10, 2], [9, 2], [8, 0], [1, 1], [3, 0], [2, 1], [5, 1], [4, 0], [12, 1], [11, 0]], [[0, 2], [6, 1], [15, 0], [14, 0], [7, 2], [13, 2], [10, 2], [9, 2], [1, 2], [8, 1], [3, 0], [2, 1], [5, 1], [4, 0], [12, 1], [11, 0]], [[0, 2], [6, 1], [15, 0], [14, 0], [7, 2], [13, 2], [10, 2], [5, 2], [1, 2], [8, 1], [3, 0], [2, 1], [9, 2], [4, 0], [12, 1], [11, 0]], [[0, 2], [6, 1], [15, 0], [14, 0], [7, 2], [13, 2], [10, 2], [5, 2], [2, 2], [8, 1], [3, 0], [1, 1], [9, 2], [4, 0], [12, 1], [11, 0]], [[0, 2], [6, 1], [15, 0], [14, 0], [7, 2], [13, 2], [10, 2], [5, 2], [2, 2], [8, 1], [3, 0], [1, 1], [9, 2], [4, 0], [12, 1], [11, 0]], [[0, 2], [6, 1], [15, 0], [14, 0], [7, 2], [13, 2], [10, 2], [5, 2], [2, 2], [8, 1], [3, 0], [1, 1], [9, 2], [4, 0], [12, 1], [11, 0]], [[0, 2], [6, 1], [15, 0], [14, 0], [7, 2], [13, 2], [10, 2], [5, 2], [2, 2], [8, 1], [3, 0], [1, 1], [9, 2], [4, 0], [12, 1], [11, 0]], [[0, 2], [8, 0], [15, 0], [14, 0], [7, 2], [13, 2], [10, 2], [5, 2], [2, 2], [6, 0], [3, 0], [1, 1], [9, 2], [4, 0], [12, 1], [11, 0]], [[0, 2], [8, 0], [15, 0], [14, 0], [7, 2], [13, 2], [10, 2], [5, 2], [2, 2], [1, 1], [3, 0], [6, 0], [9, 2], [4, 0], [12, 1], [11, 0]], [[0, 2], [6, 1], [15, 0], [14, 0], [7, 2], [13, 2], [10, 2], [5, 2], [2, 2], [1, 1], [3, 0], [8, 0], [9, 2], [4, 0], [12, 1], [11, 0]], [[0, 2], [6, 1], [15, 0], [14, 0], [3, 2], [13, 2], [10, 2], [5, 2], [2, 2], [1, 1], [7, 0], [8, 0], [9, 2], [4, 0], [12, 1], [11, 0]], [[0, 2], [6, 1], [15, 0], [14, 0], [3, 2], [13, 2], [10, 2], [5, 2], [2, 2], [1, 1], [7, 0], [8, 0], [9, 2], [4, 0], [12, 1], [11, 0]], [[0, 2], [6, 1], [15, 0], [14, 0], [3, 2], [13, 2], [10, 2], [5, 2], [1, 2], [2, 1], [7, 0], [8, 0], [9, 2], [4, 0], [12, 1], [11, 0]], [[0, 2], [14, 1], [15, 0], [6, 0], [3, 2], [13, 2], [10, 2], [5, 2], [1, 2], [2, 1], [7, 0], [8, 0], [9, 2], [4, 0], [12, 1], [11, 0]], [[0, 2], [14, 1], [15, 0], [6, 0], [4, 2], [13, 2], [10, 2], [5, 2], [1, 2], [2, 1], [7, 0], [8, 0], [9, 2], [3, 0], [12, 1], [11, 0]], [[0, 2], [14, 1], [15, 0], [6, 0], [4, 2], [13, 2], [10, 2], [5, 2], [1, 2], [2, 1], [7, 0], [8, 0], [9, 2], [3, 0], [12, 1], [11, 0]], [[0, 2], [14, 1], [15, 0], [6, 0], [4, 2], [13, 2], [10, 2], [5, 2], [1, 2], [2, 1], [7, 0], [9, 1], [8, 1], [3, 0], [12, 1], [11, 0]], [[0, 2], [14, 1], [15, 0], [6, 0], [4, 2], [13, 2], [10, 2], [5, 2], [1, 2], [2, 1], [7, 0], [9, 1], [8, 1], [3, 0], [12, 1], [11, 0]], [[0, 2], [14, 1], [15, 0], [6, 0], [7, 2], [13, 2], [10, 2], [5, 2], [1, 2], [2, 1], [4, 0], [9, 1], [8, 1], [3, 0], [12, 1], [11, 0]], [[0, 2], [14, 1], [15, 0], [6, 0], [7, 2], [13, 2], [10, 2], [5, 2], [1, 2], [2, 1], [4, 0], [9, 1], [8, 1], [3, 0], [12, 1], [11, 0]], [[0, 2], [14, 1], [15, 0], [8, 2], [7, 2], [13, 2], [10, 2], [5, 2], [1, 2], [2, 1], [4, 0], [9, 1], [6, 2], [3, 0], [12, 1], [11, 0]], [[0, 2], [14, 1], [15, 0], [8, 2], [7, 2], [13, 2], [10, 2], [5, 2], [1, 2], [2, 1], [4, 0], [9, 1], [6, 2], [3, 0], [12, 1], [11, 0]], [[0, 2], [14, 1], [15, 0], [6, 0], [7, 2], [13, 2], [10, 2], [5, 2], [1, 2], [2, 1], [4, 0], [9, 1], [8, 1], [3, 0], [12, 1], [11, 0]], [[0, 2], [14, 1], [15, 0], [6, 0], [7, 2], [13, 2], [9, 2], [5, 2], [1, 2], [2, 1], [4, 0], [10, 1], [8, 1], [3, 0], [12, 1], [11, 0]], [[0, 2], [6, 1], [15, 0], [14, 0], [7, 2], [13, 2], [9, 2], [5, 2], [1, 2], [2, 1], [4, 0], [10, 1], [8, 1], [3, 0], [12, 1], [11, 0]], [[0, 2], [14, 1], [15, 0], [6, 0], [7, 2], [13, 2], [9, 2], [5, 2], [1, 2], [2, 1], [4, 0], [10, 1], [8, 1], [3, 0], [12, 1], [11, 0]], [[0, 2], [14, 1], [15, 0], [6, 0], [7, 2], [13, 2], [9, 2], [5, 2], [2, 2], [1, 1], [4, 0], [10, 1], [8, 1], [3, 0], [12, 1], [11, 0]], [[0, 2], [14, 1], [15, 0], [6, 0], [7, 2], [13, 2], [9, 2], [5, 2], [2, 2], [1, 1], [4, 0], [10, 1], [8, 1], [3, 0], [12, 1], [11, 0]], [[0, 2], [14, 1], [15, 0], [6, 0], [7, 2], [13, 2], [9, 2], [4, 0], [2, 2], [1, 1], [5, 0], [10, 1], [8, 1], [3, 0], [12, 1], [11, 0]], [[0, 2], [14, 1], [15, 0], [6, 0], [7, 2], [13, 2], [9, 2], [8, 0], [2, 2], [1, 1], [5, 0], [10, 1], [4, 0], [3, 0], [12, 1], [11, 0]], [[0, 2], [14, 1], [15, 0], [6, 0], [7, 2], [13, 2], [9, 2], [11, 2], [2, 2], [1, 1], [5, 0], [10, 1], [4, 0], [3, 0], [12, 1], [8, 1]], [[0, 2], [14, 1], [15, 0], [6, 0], [7, 2], [13, 2], [11, 2], [9, 2], [2, 2], [1, 1], [5, 0], [10, 1], [4, 0], [3, 0], [12, 1], [8, 1]], [[0, 2], [14, 1], [15, 0], [6, 0], [7, 2], [13, 2], [11, 2], [9, 2], [2, 2], [1, 1], [5, 0], [10, 1], [4, 0], [3, 0], [12, 1], [8, 1]], [[0, 2], [14, 1], [15, 0], [6, 0], [7, 2], [13, 2], [11, 2], [1, 2], [2, 2], [9, 1], [5, 0], [10, 1], [4, 0], [3, 0], [12, 1], [8, 1]], [[0, 2], [14, 1], [15, 0], [6, 0], [7, 2], [13, 2], [11, 2], [2, 2], [1, 2], [9, 1], [5, 0], [10, 1], [4, 0], [3, 0], [12, 1], [8, 1]], [[0, 2], [14, 1], [15, 0], [6, 0], [7, 2], [13, 2], [11, 2], [2, 2], [1, 2], [10, 1], [5, 0], [9, 1], [4, 0], [3, 0], [12, 1], [8, 1]], [[0, 2], [14, 1], [15, 0], [6, 0], [7, 2], [13, 2], [11, 2], [2, 2], [1, 2], [10, 1], [5, 0], [9, 1], [3, 0], [4, 0], [12, 1], [8, 1]], [[0, 2], [14, 1], [15, 0], [6, 0], [7, 2], [13, 2], [11, 2], [2, 2], [1, 2], [8, 0], [5, 0], [9, 1], [3, 0], [4, 0], [12, 1], [10, 1]], [[0, 2], [14, 1], [15, 0], [6, 0], [7, 2], [13, 2], [11, 2], [2, 2], [1, 2], [8, 0], [5, 0], [9, 1], [3, 0], [4, 0], [12, 1], [10, 1]], [[0, 2], [14, 1], [15, 0], [6, 0], [7, 2], [13, 2], [11, 2], [2, 2], [1, 2], [8, 0], [5, 0], [9, 1], [3, 0], [4, 0], [12, 1], [10, 1]], [[0, 2], [8, 0], [15, 0], [6, 0], [7, 2], [13, 2], [11, 2], [2, 2], [1, 2], [14, 0], [5, 0], [9, 1], [3, 0], [4, 0], [12, 1], [10, 1]], [[0, 2], [8, 0], [15, 0], [6, 0], [7, 2], [13, 2], [10, 2], [2, 2], [1, 2], [14, 0], [5, 0], [9, 1], [3, 0], [4, 0], [12, 1], [11, 0]], [[0, 2], [8, 0], [15, 0], [6, 0], [7, 2], [13, 2], [9, 2], [2, 2], [1, 2], [14, 0], [5, 0], [10, 1], [3, 0], [4, 0], [12, 1], [11, 0]], [[0, 2], [8, 0], [15, 0], [6, 0], [7, 2], [13, 2], [5, 0], [2, 2], [1, 2], [14, 0], [9, 0], [10, 1], [3, 0], [4, 0], [12, 1], [11, 0]], [[0, 2], [8, 0], [15, 0], [6, 0], [7, 2], [13, 2], [5, 0], [2, 2], [1, 2], [14, 0], [9, 0], [10, 1], [3, 0], [4, 0], [12, 1], [11, 0]], [[0, 2], [8, 0], [15, 0], [6, 0], [7, 2], [13, 2], [5, 0], [2, 2], [1, 2], [14, 0], [9, 0], [10, 1], [3, 0], [4, 0], [12, 1], [11, 0]], [[0, 2], [8, 0], [15, 0], [6, 0], [7, 2], [13, 2], [5, 0], [2, 2], [1, 2], [14, 0], [9, 0], [10, 1], [3, 0], [4, 0], [12, 1], [11, 0]], [[0, 2], [8, 0], [15, 0], [6, 0], [4, 2], [13, 2], [5, 0], [2, 2], [1, 2], [14, 0], [9, 0], [10, 1], [3, 0], [7, 0], [12, 1], [11, 0]], [[0, 2], [8, 0], [15, 0], [6, 0], [4, 2], [13, 2], [5, 0], [2, 2], [1, 2], [14, 0], [11, 0], [10, 1], [3, 0], [7, 0], [12, 1], [9, 1]], [[0, 2], [8, 0], [15, 0], [6, 0], [4, 2], [13, 2], [5, 0], [2, 2], [1, 2], [14, 0], [11, 0], [10, 1], [3, 0], [7, 0], [12, 1], [9, 1]], [[0, 2], [8, 0], [15, 0], [6, 0], [4, 2], [13, 2], [5, 0], [1, 2], [2, 2], [14, 0], [11, 0], [10, 1], [3, 0], [7, 0], [12, 1], [9, 1]], [[0, 2], [8, 0], [15, 0], [6, 0], [4, 2], [13, 2], [5, 0], [1, 2], [2, 2], [14, 0], [11, 0], [10, 1], [3, 0], [7, 0], [12, 1], [9, 1]], [[0, 2], [8, 0], [15, 0], [6, 0], [4, 2], [13, 2], [5, 0], [1, 2], [2, 2], [12, 0], [11, 0], [10, 1], [3, 0], [7, 0], [14, 1], [9, 1]], [[0, 2], [10, 1], [15, 0], [6, 0], [4, 2], [13, 2], [5, 0], [1, 2], [2, 2], [12, 0], [11, 0], [8, 1], [3, 0], [7, 0], [14, 1], [9, 1]], [[0, 2], [10, 1], [15, 0], [6, 0], [4, 2], [13, 2], [5, 0], [2, 2], [1, 2], [12, 0], [11, 0], [8, 1], [3, 0], [7, 0], [14, 1], [9, 1]], [[0, 2], [8, 0], [15, 0], [6, 0], [4, 2], [13, 2], [5, 0], [2, 2], [1, 2], [12, 0], [11, 0], [10, 1], [3, 0], [7, 0], [14, 1], [9, 1]], [[0, 2], [8, 0], [15, 0], [6, 0], [4, 2], [13, 2], [7, 0], [2, 2], [1, 2], [12, 0], [11, 0], [10, 1], [3, 0], [5, 0], [14, 1], [9, 1]], [[0, 2], [8, 0], [15, 0], [6, 0], [4, 2], [13, 2], [7, 0], [2, 2], [1, 2], [11, 1], [12, 0], [10, 1], [3, 0], [5, 0], [14, 1], [9, 1]], [[0, 2], [8, 0], [15, 0], [6, 0], [4, 2], [13, 2], [3, 0], [2, 2], [1, 2], [11, 1], [12, 0], [10, 1], [7, 0], [5, 0], [14, 1], [9, 1]], [[0, 2], [8, 0], [15, 0], [6, 0], [4, 2], [13, 2], [3, 0], [2, 2], [1, 2], [11, 1], [12, 0], [10, 1], [7, 0], [5, 0], [14, 1], [9, 1]], [[0, 2], [8, 0], [15, 0], [6, 0], [4, 2], [11, 0], [3, 0], [2, 2], [1, 2], [13, 1], [12, 0], [10, 1], [7, 0], [5, 0], [14, 1], [9, 1]], [[0, 2], [8, 0], [15, 0], [6, 0], [4, 2], [11, 0], [2, 0], [3, 0], [1, 2], [13, 1], [12, 0], [10, 1], [7, 0], [5, 0], [14, 1], [9, 1]], [[0, 2], [8, 0], [15, 0], [6, 0], [4, 2], [11, 0], [2, 0], [3, 0], [1, 2], [5, 0], [12, 0], [10, 1], [7, 0], [13, 0], [14, 1], [9, 1]], [[0, 2], [8, 0], [15, 0], [6, 0], [4, 2], [11, 0], [2, 0], [3, 0], [1, 2], [5, 0], [12, 0], [10, 1], [13, 0], [7, 0], [14, 1], [9, 1]], [[0, 2], [8, 0], [15, 0], [6, 0], [4, 2], [11, 0], [12, 1], [3, 0], [1, 2], [5, 0], [2, 2], [10, 1], [13, 0], [7, 0], [14, 1], [9, 1]], [[0, 2], [8, 0], [15, 0], [6, 0], [4, 2], [11, 0], [12, 1], [3, 0], [1, 2], [5, 0], [2, 2], [10, 1], [13, 0], [7, 0], [14, 1], [9, 1]], [[0, 2], [8, 0], [15, 0], [6, 0], [4, 2], [11, 0], [12, 1], [3, 0], [5, 0], [1, 1], [2, 2], [10, 1], [13, 0], [7, 0], [14, 1], [9, 1]], [[0, 2], [8, 0], [15, 0], [6, 0], [4, 2], [11, 0], [10, 0], [3, 0], [5, 0], [1, 1], [2, 2], [12, 2], [13, 0], [7, 0], [14, 1], [9, 1]], [[0, 2], [8, 0], [15, 0], [14, 0], [4, 2], [11, 0], [10, 0], [3, 0], [5, 0], [1, 1], [2, 2], [12, 2], [13, 0], [7, 0], [6, 1], [9, 1]], [[0, 2], [8, 0], [15, 0], [14, 0], [4, 2], [11, 0], [10, 0], [12, 2], [5, 0], [1, 1], [2, 2], [3, 2], [13, 0], [7, 0], [6, 1], [9, 1]], [[0, 2], [8, 0], [15, 0], [1, 1], [4, 2], [11, 0], [10, 0], [12, 2], [5, 0], [14, 0], [2, 2], [3, 2], [13, 0], [7, 0], [6, 1], [9, 1]], [[0, 2], [8, 0], [15, 0], [1, 1], [4, 2], [12, 0], [10, 0], [11, 1], [5, 0], [14, 0], [2, 2], [3, 2], [13, 0], [7, 0], [6, 1], [9, 1]], [[0, 2], [8, 0], [15, 0], [1, 1], [4, 2], [12, 0], [10, 0], [5, 2], [11, 2], [14, 0], [2, 2], [3, 2], [13, 0], [7, 0], [6, 1], [9, 1]], [[0, 2], [8, 0], [15, 0], [1, 1], [4, 2], [12, 0], [10, 0], [5, 2], [11, 2], [14, 0], [2, 2], [3, 2], [13, 0], [7, 0], [6, 1], [9, 1]], [[0, 2], [8, 0], [15, 0], [1, 1], [4, 2], [12, 0], [10, 0], [5, 2], [11, 2], [14, 0], [2, 2], [3, 2], [13, 0], [7, 0], [6, 1], [9, 1]], [[0, 2], [8, 0], [15, 0], [1, 1], [4, 2], [12, 0], [10, 0], [5, 2], [14, 1], [11, 1], [2, 2], [3, 2], [13, 0], [7, 0], [6, 1], [9, 1]], [[0, 2], [8, 0], [15, 0], [2, 1], [4, 2], [12, 0], [10, 0], [5, 2], [14, 1], [11, 1], [1, 2], [3, 2], [13, 0], [7, 0], [6, 1], [9, 1]], [[0, 2], [8, 0], [15, 0], [2, 1], [4, 2], [12, 0], [10, 0], [5, 2], [14, 1], [11, 1], [1, 2], [3, 2], [13, 0], [7, 0], [6, 1], [9, 1]], [[0, 2], [8, 0], [15, 0], [2, 1], [4, 2], [12, 0], [10, 0], [5, 2], [14, 1], [11, 1], [1, 2], [3, 2], [13, 0], [7, 0], [6, 1], [9, 1]], [[0, 2], [8, 0], [15, 0], [2, 1], [1, 2], [12, 0], [10, 0], [5, 2], [14, 1], [11, 1], [4, 0], [3, 2], [13, 0], [7, 0], [6, 1], [9, 1]], [[0, 2], [8, 0], [3, 1], [2, 1], [1, 2], [12, 0], [10, 0], [5, 2], [14, 1], [11, 1], [4, 0], [15, 2], [13, 0], [7, 0], [6, 1], [9, 1]], [[0, 2], [8, 0], [3, 1], [12, 2], [1, 2], [2, 0], [10, 0], [5, 2], [14, 1], [11, 1], [4, 0], [15, 2], [13, 0], [7, 0], [6, 1], [9, 1]], [[0, 2], [8, 0], [3, 1], [12, 2], [1, 0], [2, 0], [10, 0], [5, 2], [14, 1], [11, 1], [4, 0], [15, 2], [13, 0], [7, 0], [6, 1], [9, 1]], [[0, 2], [8, 0], [3, 1], [12, 2], [14, 2], [2, 0], [10, 0], [5, 2], [1, 2], [11, 1], [4, 0], [15, 2], [13, 0], [7, 0], [6, 1], [9, 1]], [[0, 2], [8, 0], [3, 1], [12, 2], [14, 2], [11, 0], [10, 0], [5, 2], [1, 2], [2, 1], [4, 0], [15, 2], [13, 0], [7, 0], [6, 1], [9, 1]], [[4, 2], [8, 0], [3, 1], [12, 2], [14, 2], [11, 0], [10, 0], [5, 2], [1, 2], [2, 1], [0, 1], [15, 2], [13, 0], [7, 0], [6, 1], [9, 1]], [[4, 2], [14, 1], [3, 1], [12, 2], [8, 1], [11, 0], [10, 0], [5, 2], [1, 2], [2, 1], [0, 1], [15, 2], [13, 0], [7, 0], [6, 1], [9, 1]], [[4, 2], [14, 1], [8, 0], [12, 2], [3, 0], [11, 0], [10, 0], [5, 2], [1, 2], [2, 1], [0, 1], [15, 2], [13, 0], [7, 0], [6, 1], [9, 1]], [[4, 2], [14, 1], [8, 0], [12, 2], [3, 0], [11, 0], [10, 0], [5, 2], [1, 2], [2, 1], [0, 1], [15, 2], [13, 0], [7, 0], [6, 1], [9, 1]], [[4, 2], [14, 1], [8, 0], [12, 2], [3, 0], [11, 0], [10, 0], [5, 2], [1, 2], [2, 1], [0, 1], [15, 2], [13, 0], [7, 0], [6, 1], [9, 1]], [[4, 2], [14, 1], [8, 0], [12, 2], [3, 0], [11, 0], [10, 0], [5, 2], [1, 2], [2, 1], [0, 1], [15, 2], [13, 0], [7, 0], [6, 1], [9, 1]], [[4, 2], [14, 1], [8, 0], [12, 2], [3, 0], [11, 0], [10, 0], [5, 2], [1, 2], [2, 1], [0, 1], [15, 2], [13, 0], [7, 0], [6, 1], [9, 1]], [[4, 2], [14, 1], [11, 2], [12, 2], [3, 0], [8, 1], [10, 0], [5, 2], [1, 2], [2, 1], [0, 1], [15, 2], [13, 0], [7, 0], [6, 1], [9, 1]], [[4, 2], [14, 1], [11, 2], [12, 2], [3, 0], [8, 1], [10, 0], [5, 2], [1, 2], [2, 1], [0, 0], [15, 2], [13, 0], [7, 0], [6, 1], [9, 1]], [[4, 2], [14, 1], [11, 2], [12, 2], [3, 0], [8, 1], [10, 0], [5, 2], [1, 2], [2, 1], [7, 0], [15, 2], [13, 0], [0, 0], [6, 1], [9, 1]], [[4, 2], [14, 1], [11, 2], [12, 2], [3, 0], [8, 1], [10, 0], [5, 2], [1, 2], [2, 1], [0, 0], [15, 2], [13, 0], [7, 0], [6, 1], [9, 1]], [[4, 2], [14, 1], [11, 2], [12, 2], [3, 0], [8, 1], [10, 0], [5, 2], [2, 2], [1, 1], [0, 0], [15, 2], [13, 0], [7, 0], [6, 1], [9, 1]], [[4, 2], [14, 1], [11, 2], [12, 2], [3, 0], [8, 1], [10, 0], [5, 2], [1, 2], [2, 1], [0, 0], [15, 2], [13, 0], [7, 0], [6, 1], [9, 1]], [[4, 2], [14, 1], [11, 2], [12, 2], [3, 0], [8, 1], [9, 0], [5, 2], [1, 2], [2, 1], [0, 0], [15, 2], [13, 0], [7, 0], [6, 1], [10, 1]], [[4, 2], [14, 1], [11, 2], [12, 2], [3, 0], [8, 1], [9, 0], [5, 2], [1, 2], [2, 1], [0, 0], [15, 2], [13, 0], [7, 0], [6, 1], [10, 1]], [[4, 2], [14, 1], [11, 2], [12, 2], [3, 0], [8, 1], [9, 0], [5, 2], [1, 2], [2, 1], [0, 0], [15, 2], [13, 0], [7, 0], [6, 1], [10, 1]], [[4, 2], [14, 1], [11, 2], [12, 2], [3, 0], [8, 1], [9, 0], [5, 2], [1, 2], [2, 1], [0, 0], [15, 2], [13, 0], [7, 0], [6, 1], [10, 1]], [[4, 2], [14, 1], [11, 2], [12, 2], [3, 0], [8, 1], [9, 0], [5, 2], [1, 2], [2, 1], [0, 0], [15, 2], [13, 0], [7, 0], [6, 1], [10, 1]], [[4, 2], [14, 1], [11, 2], [12, 2], [3, 0], [8, 1], [9, 0], [5, 2], [1, 2], [2, 1], [7, 0], [15, 2], [13, 0], [0, 0], [6, 1], [10, 1]], [[4, 2], [14, 1], [11, 2], [12, 2], [3, 0], [8, 1], [9, 0], [5, 2], [1, 2], [2, 1], [7, 0], [15, 2], [13, 0], [0, 0], [6, 1], [10, 1]], [[4, 2], [14, 1], [11, 2], [8, 2], [3, 0], [12, 1], [9, 0], [5, 2], [1, 2], [2, 1], [7, 0], [15, 2], [13, 0], [0, 0], [6, 1], [10, 1]], [[4, 2], [14, 1], [11, 2], [8, 2], [3, 0], [12, 1], [9, 0], [5, 2], [1, 2], [2, 1], [7, 0], [15, 2], [13, 0], [0, 0], [6, 1], [10, 1]], [[4, 2], [14, 1], [11, 2], [8, 2], [3, 0], [12, 1], [9, 0], [5, 2], [1, 2], [2, 1], [7, 0], [15, 2], [13, 0], [0, 0], [6, 1], [10, 1]], [[4, 2], [14, 1], [11, 2], [8, 2], [3, 0], [12, 1], [9, 0], [5, 2], [1, 2], [2, 1], [7, 0], [15, 2], [13, 0], [0, 0], [6, 1], [10, 1]], [[4, 2], [14, 1], [11, 2], [8, 2], [3, 0], [12, 1], [9, 0], [5, 2], [1, 2], [2, 1], [7, 0], [15, 2], [13, 0], [0, 0], [6, 1], [10, 1]], [[4, 2], [14, 1], [11, 2], [8, 2], [3, 0], [12, 1], [9, 0], [5, 2], [1, 2], [2, 1], [7, 0], [15, 2], [13, 0], [0, 0], [6, 1], [10, 1]], [[4, 2], [14, 1], [11, 2], [8, 2], [3, 0], [12, 1], [9, 0], [5, 2], [1, 2], [2, 1], [7, 0], [15, 2], [13, 0], [0, 0], [6, 1], [10, 1]], [[4, 2], [14, 1], [11, 2], [8, 2], [3, 0], [12, 1], [9, 0], [5, 2], [2, 2], [1, 1], [7, 0], [15, 2], [13, 0], [0, 0], [6, 1], [10, 1]], [[4, 2], [14, 1], [11, 2], [8, 2], [3, 0], [12, 1], [9, 0], [5, 2], [2, 2], [1, 1], [7, 0], [15, 2], [13, 0], [0, 0], [6, 1], [10, 1]], [[4, 2], [14, 1], [11, 2], [8, 2], [3, 0], [12, 1], [9, 0], [5, 2], [2, 2], [1, 1], [7, 0], [15, 2], [13, 0], [0, 0], [6, 1], [10, 1]], [[4, 2], [14, 1], [11, 2], [8, 2], [3, 0], [12, 1], [10, 0], [5, 2], [2, 2], [1, 1], [7, 0], [15, 2], [13, 0], [0, 0], [6, 1], [9, 1]], [[4, 2], [14, 1], [11, 2], [8, 2], [3, 0], [12, 1], [10, 0], [5, 2], [2, 2], [1, 1], [7, 0], [15, 2], [13, 0], [0, 0], [6, 1], [9, 1]], [[4, 2], [14, 1], [11, 2], [8, 2], [3, 0], [12, 1], [10, 0], [5, 2], [1, 2], [2, 1], [7, 0], [15, 2], [13, 0], [0, 0], [6, 1], [9, 1]], [[4, 2], [14, 1], [11, 2], [8, 2], [3, 0], [12, 1], [10, 0], [5, 2], [1, 2], [2, 1], [7, 0], [15, 2], [13, 0], [0, 0], [6, 1], [9, 1]], [[4, 2], [8, 0], [11, 2], [14, 0], [3, 0], [12, 1], [10, 0], [5, 2], [1, 2], [2, 1], [7, 0], [15, 2], [13, 0], [0, 0], [6, 1], [9, 1]], [[4, 2], [8, 0], [11, 2], [14, 0], [3, 0], [12, 1], [10, 0], [5, 2], [1, 2], [2, 1], [7, 0], [15, 2], [13, 0], [0, 0], [6, 1], [9, 1]], [[4, 2], [8, 0], [11, 2], [14, 0], [3, 0], [12, 1], [10, 0], [5, 2], [1, 2], [2, 1], [7, 0], [15, 2], [13, 0], [0, 0], [6, 1], [9, 1]], [[4, 2], [8, 0], [11, 2], [14, 0], [3, 0], [12, 1], [10, 0], [5, 2], [1, 2], [2, 1], [7, 0], [15, 2], [13, 0], [0, 0], [6, 1], [9, 1]], [[4, 2], [14, 1], [11, 2], [8, 2], [3, 0], [12, 1], [10, 0], [5, 2], [1, 2], [2, 1], [7, 0], [15, 2], [13, 0], [0, 0], [6, 1], [9, 1]], [[4, 2], [14, 1], [11, 2], [8, 2], [3, 0], [12, 1], [10, 0], [5, 2], [1, 2], [2, 1], [7, 0], [15, 2], [13, 0], [0, 0], [6, 1], [9, 1]], [[4, 2], [14, 1], [11, 2], [8, 2], [3, 0], [12, 1], [10, 0], [5, 2], [1, 2], [2, 1], [7, 0], [15, 2], [13, 0], [0, 0], [6, 1], [9, 1]], [[4, 2], [14, 1], [11, 2], [5, 2], [3, 0], [12, 1], [10, 0], [8, 2], [1, 2], [2, 1], [7, 0], [15, 2], [13, 0], [0, 0], [6, 1], [9, 1]], [[4, 2], [14, 1], [11, 2], [8, 2], [3, 0], [12, 1], [10, 0], [5, 2], [1, 2], [2, 1], [7, 0], [15, 2], [13, 0], [0, 0], [6, 1], [9, 1]], [[4, 2], [14, 1], [11, 2], [8, 2], [3, 0], [12, 1], [10, 0], [5, 2], [1, 2], [2, 1], [7, 0], [15, 2], [13, 0], [0, 0], [6, 1], [9, 1]], [[4, 2], [14, 1], [11, 2], [8, 2], [3, 0], [12, 1], [10, 0], [5, 2], [1, 2], [2, 1], [7, 0], [15, 2], [13, 0], [0, 0], [6, 1], [9, 1]], [[4, 2], [14, 1], [11, 2], [8, 2], [3, 0], [12, 1], [10, 0], [5, 2], [1, 2], [2, 1], [7, 0], [15, 2], [13, 0], [0, 0], [6, 1], [9, 1]], [[3, 2], [14, 1], [11, 2], [8, 2], [4, 0], [12, 1], [10, 0], [5, 2], [1, 2], [2, 1], [7, 0], [15, 2], [13, 0], [0, 0], [6, 1], [9, 1]], [[3, 2], [14, 1], [11, 2], [8, 2], [4, 0], [12, 1], [10, 0], [5, 2], [1, 2], [2, 1], [7, 0], [15, 2], [13, 0], [0, 0], [6, 1], [9, 1]], [[3, 2], [14, 1], [11, 2], [8, 2], [4, 0], [12, 1], [10, 0], [5, 2], [1, 2], [2, 1], [7, 0], [15, 2], [13, 0], [0, 0], [6, 1], [9, 1]], [[4, 2], [14, 1], [11, 2], [8, 2], [3, 0], [12, 1], [10, 0], [5, 2], [1, 2], [2, 1], [7, 0], [15, 2], [13, 0], [0, 0], [6, 1], [9, 1]], [[4, 2], [14, 1], [11, 2], [8, 2], [3, 0], [12, 1], [9, 0], [5, 2], [1, 2], [2, 1], [7, 0], [15, 2], [13, 0], [0, 0], [6, 1], [10, 1]], [[4, 2], [14, 1], [11, 2], [8, 2], [3, 0], [12, 1], [9, 0], [5, 2], [2, 2], [1, 1], [7, 0], [15, 2], [13, 0], [0, 0], [6, 1], [10, 1]], [[4, 2], [14, 1], [11, 2], [8, 2], [3, 0], [12, 1], [9, 0], [5, 2], [2, 2], [1, 1], [7, 0], [15, 2], [13, 0], [0, 0], [6, 1], [10, 1]], [[4, 2], [14, 1], [11, 2], [8, 2], [3, 0], [12, 1], [9, 0], [5, 2], [1, 2], [2, 1], [7, 0], [15, 2], [13, 0], [0, 0], [6, 1], [10, 1]], [[4, 2], [14, 1], [11, 2], [8, 2], [3, 0], [12, 1], [9, 0], [5, 2], [1, 2], [2, 1], [7, 0], [15, 2], [13, 0], [0, 0], [6, 1], [10, 1]], [[4, 2], [14, 1], [11, 2], [8, 2], [3, 0], [12, 1], [9, 0], [5, 2], [1, 2], [2, 1], [7, 0], [15, 2], [13, 0], [0, 0], [6, 1], [10, 1]], [[4, 2], [14, 1], [11, 2], [8, 2], [7, 2], [12, 1], [9, 0], [5, 2], [1, 2], [2, 1], [3, 0], [15, 2], [13, 0], [0, 0], [6, 1], [10, 1]], [[4, 2], [14, 1], [11, 2], [8, 2], [7, 2], [12, 1], [9, 0], [5, 2], [2, 2], [1, 1], [3, 0], [15, 2], [13, 0], [0, 0], [6, 1], [10, 1]], [[4, 2], [14, 1], [11, 2], [8, 2], [7, 2], [12, 1], [9, 0], [5, 2], [2, 2], [1, 1], [3, 0], [15, 2], [13, 0], [0, 0], [6, 1], [10, 1]], [[4, 2], [14, 1], [11, 2], [8, 2], [0, 0], [12, 1], [9, 0], [5, 2], [2, 2], [1, 1], [3, 0], [15, 2], [13, 0], [7, 0], [6, 1], [10, 1]], [[4, 2], [14, 1], [11, 2], [8, 2], [0, 0], [12, 1], [10, 0], [5, 2], [2, 2], [1, 1], [3, 0], [15, 2], [13, 0], [7, 0], [6, 1], [9, 1]], [[4, 2], [14, 1], [11, 2], [8, 2], [3, 0], [12, 1], [10, 0], [5, 2], [2, 2], [1, 1], [0, 0], [15, 2], [13, 0], [7, 0], [6, 1], [9, 1]], [[4, 2], [14, 1], [11, 2], [8, 2], [3, 0], [12, 1], [10, 0], [5, 2], [2, 2], [1, 1], [0, 0], [15, 2], [13, 0], [7, 0], [6, 1], [9, 1]], [[4, 2], [14, 1], [11, 2], [8, 2], [3, 0], [12, 1], [10, 0], [5, 2], [1, 2], [2, 1], [0, 0], [15, 2], [13, 0], [7, 0], [6, 1], [9, 1]], [[4, 2], [14, 1], [11, 2], [8, 2], [3, 0], [12, 1], [10, 0], [5, 2], [1, 2], [2, 1], [0, 0], [15, 2], [13, 0], [7, 0], [6, 1], [9, 1]], [[4, 2], [14, 1], [11, 2], [8, 2], [3, 0], [12, 1], [10, 0], [5, 2], [1, 2], [2, 1], [0, 0], [15, 2], [13, 0], [7, 0], [6, 1], [9, 1]], [[4, 2], [14, 1], [11, 2], [8, 2], [3, 0], [12, 1], [10, 0], [5, 2], [1, 2], [2, 1], [0, 0], [15, 2], [13, 0], [7, 0], [6, 1], [9, 1]], [[4, 2], [14, 1], [11, 2], [8, 2], [3, 0], [12, 1], [10, 0], [5, 2], [1, 2], [2, 1], [0, 0], [15, 2], [13, 0], [7, 0], [6, 1], [9, 1]], [[4, 2], [14, 1], [11, 2], [8, 2], [3, 0], [12, 1], [10, 0], [5, 2], [1, 2], [2, 1], [0, 0], [15, 2], [13, 0], [7, 0], [6, 1], [9, 1]], [[4, 2], [14, 1], [11, 2], [8, 2], [3, 0], [12, 1], [10, 0], [5, 2], [1, 2], [2, 1], [0, 0], [15, 2], [13, 0], [7, 0], [6, 1], [9, 1]], [[4, 2], [14, 1], [11, 2], [8, 2], [3, 0], [12, 1], [10, 0], [5, 2], [1, 2], [2, 1], [0, 0], [15, 2], [13, 0], [7, 0], [6, 1], [9, 1]], [[4, 2], [14, 1], [11, 2], [8, 2], [3, 0], [12, 1], [10, 0], [5, 2], [1, 2], [2, 1], [0, 0], [15, 2], [13, 0], [7, 0], [6, 1], [9, 1]], [[4, 2], [14, 1], [11, 2], [8, 2], [3, 0], [12, 1], [10, 0], [5, 2], [1, 2], [2, 1], [0, 0], [15, 2], [13, 0], [7, 0], [6, 1], [9, 1]], [[4, 2], [14, 1], [11, 2], [8, 2], [3, 0], [12, 1], [10, 0], [5, 2], [1, 2], [2, 1], [0, 0], [15, 2], [13, 0], [7, 0], [6, 1], [9, 1]], [[0, 2], [14, 1], [11, 2], [8, 2], [3, 0], [12, 1], [10, 0], [5, 2], [1, 2], [2, 1], [4, 0], [15, 2], [13, 0], [7, 0], [6, 1], [9, 1]], [[0, 2], [14, 1], [11, 2], [8, 2], [4, 0], [12, 1], [10, 0], [5, 2], [1, 2], [2, 1], [3, 0], [15, 2], [13, 0], [7, 0], [6, 1], [9, 1]], [[0, 2], [14, 1], [11, 2], [8, 2], [4, 0], [12, 1], [10, 0], [5, 2], [1, 2], [2, 1], [3, 0], [15, 2], [13, 0], [7, 0], [6, 1], [9, 1]], [[0, 2], [14, 1], [11, 2], [8, 2], [4, 0], [12, 1], [10, 0], [5, 2], [1, 2], [2, 1], [3, 0], [15, 2], [13, 0], [7, 0], [6, 1], [9, 1]], [[0, 2], [14, 1], [11, 2], [8, 2], [4, 0], [12, 1], [9, 0], [5, 2], [1, 2], [2, 1], [3, 0], [15, 2], [13, 0], [7, 0], [6, 1], [10, 1]], [[0, 2], [14, 1], [11, 2], [8, 2], [4, 0], [12, 1], [9, 0], [5, 2], [1, 2], [2, 1], [3, 0], [15, 2], [13, 0], [7, 0], [6, 1], [10, 1]], [[0, 2], [14, 1], [11, 2], [8, 2], [4, 0], [12, 1], [9, 0], [5, 2], [1, 2], [2, 1], [3, 0], [15, 2], [13, 0], [7, 0], [6, 1], [10, 1]], [[0, 2], [14, 1], [11, 2], [8, 2], [4, 0], [12, 1], [9, 0], [5, 2], [1, 2], [2, 1], [3, 0], [15, 2], [13, 0], [7, 0], [6, 1], [10, 1]], [[0, 2], [14, 1], [11, 2], [8, 2], [4, 0], [12, 1], [9, 0], [5, 2], [1, 2], [2, 1], [3, 0], [15, 2], [13, 0], [7, 0], [6, 1], [10, 1]], [[4, 2], [14, 1], [11, 2], [8, 2], [0, 0], [12, 1], [9, 0], [5, 2], [1, 2], [2, 1], [3, 0], [15, 2], [13, 0], [7, 0], [6, 1], [10, 1]], [[4, 2], [14, 1], [11, 2], [8, 2], [0, 0], [12, 1], [9, 0], [5, 2], [1, 2], [2, 1], [3, 0], [15, 2], [13, 0], [7, 0], [6, 1], [10, 1]], [[4, 2], [14, 1], [11, 2], [8, 2], [3, 0], [12, 1], [9, 0], [5, 2], [1, 2], [2, 1], [0, 0], [15, 2], [13, 0], [7, 0], [6, 1], [10, 1]], [[3, 2], [14, 1], [11, 2], [8, 2], [4, 0], [12, 1], [9, 0], [5, 2], [1, 2], [2, 1], [0, 0], [15, 2], [13, 0], [7, 0], [6, 1], [10, 1]], [[3, 2], [14, 1], [11, 2], [8, 2], [4, 0], [12, 1], [9, 0], [5, 2], [1, 2], [2, 1], [0, 0], [15, 2], [13, 0], [7, 0], [6, 1], [10, 1]], [[3, 2], [14, 1], [11, 2], [8, 2], [4, 0], [12, 1], [9, 0], [5, 2], [1, 2], [2, 1], [0, 0], [15, 2], [13, 0], [7, 0], [6, 1], [10, 1]], [[3, 2], [14, 1], [11, 2], [8, 2], [4, 0], [12, 1], [9, 0], [5, 2], [2, 2], [1, 1], [0, 0], [15, 2], [13, 0], [7, 0], [6, 1], [10, 1]], [[3, 2], [14, 1], [11, 2], [8, 2], [4, 0], [12, 1], [9, 0], [5, 2], [2, 2], [1, 1], [0, 0], [15, 2], [13, 0], [7, 0], [6, 1], [10, 1]], [[3, 2], [14, 1], [11, 2], [8, 2], [4, 0], [12, 1], [10, 0], [5, 2], [2, 2], [1, 1], [0, 0], [15, 2], [13, 0], [7, 0], [6, 1], [9, 1]], [[3, 2], [14, 1], [11, 2], [8, 2], [4, 0], [12, 1], [9, 0], [5, 2], [2, 2], [1, 1], [0, 0], [15, 2], [13, 0], [7, 0], [6, 1], [10, 1]], [[3, 2], [14, 1], [11, 2], [8, 2], [4, 0], [12, 1], [9, 0], [5, 2], [2, 2], [1, 1], [0, 0], [15, 2], [13, 0], [7, 0], [6, 1], [10, 1]], [[3, 2], [14, 1], [11, 2], [8, 2], [4, 0], [12, 1], [10, 0], [5, 2], [2, 2], [1, 1], [0, 0], [15, 2], [13, 0], [7, 0], [6, 1], [9, 1]], [[3, 2], [14, 1], [11, 2], [8, 2], [4, 0], [12, 1], [10, 0], [5, 2], [2, 2], [1, 1], [0, 0], [15, 2], [13, 0], [7, 0], [6, 1], [9, 1]], [[3, 2], [14, 1], [11, 2], [8, 2], [4, 0], [12, 1], [10, 0], [5, 2], [2, 2], [1, 1], [0, 0], [15, 2], [13, 0], [7, 0], [6, 1], [9, 1]], [[3, 2], [14, 1], [11, 2], [8, 2], [4, 0], [12, 1], [10, 0], [5, 2], [2, 2], [1, 1], [0, 0], [15, 2], [13, 0], [7, 0], [6, 1], [9, 1]], [[4, 2], [14, 1], [11, 2], [8, 2], [3, 0], [12, 1], [10, 0], [5, 2], [2, 2], [1, 1], [0, 0], [15, 2], [13, 0], [7, 0], [6, 1], [9, 1]], [[4, 2], [14, 1], [11, 2], [8, 2], [3, 0], [12, 1], [10, 0], [5, 2], [2, 2], [1, 1], [0, 0], [15, 2], [13, 0], [7, 0], [6, 1], [9, 1]], [[4, 2], [14, 1], [11, 2], [8, 2], [3, 0], [12, 1], [10, 0], [5, 2], [1, 2], [2, 1], [0, 0], [15, 2], [13, 0], [7, 0], [6, 1], [9, 1]], [[4, 2], [14, 1], [11, 2], [8, 2], [3, 0], [12, 1], [10, 0], [5, 2], [1, 2], [2, 1], [0, 0], [15, 2], [13, 0], [7, 0], [6, 1], [9, 1]], [[4, 2], [14, 1], [11, 2], [8, 2], [3, 0], [12, 1], [10, 0], [5, 2], [1, 2], [2, 1], [0, 0], [15, 2], [13, 0], [7, 0], [6, 1], [9, 1]], [[3, 2], [14, 1], [11, 2], [8, 2], [4, 0], [12, 1], [10, 0], [5, 2], [1, 2], [2, 1], [0, 0], [15, 2], [13, 0], [7, 0], [6, 1], [9, 1]], [[3, 2], [14, 1], [11, 2], [8, 2], [4, 0], [12, 1], [10, 0], [5, 2], [1, 2], [2, 1], [0, 0], [15, 2], [13, 0], [7, 0], [6, 1], [9, 1]], [[3, 2], [14, 1], [11, 2], [8, 2], [4, 0], [12, 1], [10, 0], [5, 2], [1, 2], [2, 1], [0, 0], [15, 2], [13, 0], [7, 0], [6, 1], [9, 1]], [[3, 2], [14, 1], [11, 2], [8, 2], [4, 0], [12, 1], [10, 0], [5, 2], [2, 2], [1, 1], [0, 0], [15, 2], [13, 0], [7, 0], [6, 1], [9, 1]], [[4, 2], [14, 1], [11, 2], [8, 2], [3, 0], [12, 1], [10, 0], [5, 2], [2, 2], [1, 1], [0, 0], [15, 2], [13, 0], [7, 0], [6, 1], [9, 1]], [[4, 2], [14, 1], [11, 2], [8, 2], [3, 0], [12, 1], [10, 0], [5, 2], [2, 2], [1, 1], [0, 0], [15, 2], [13, 0], [7, 0], [6, 1], [9, 1]], [[4, 2], [14, 1], [11, 2], [8, 2], [3, 0], [12, 1], [10, 0], [5, 2], [2, 2], [1, 1], [0, 0], [15, 2], [13, 0], [7, 0], [6, 1], [9, 1]], [[4, 2], [14, 1], [11, 2], [8, 2], [3, 0], [12, 1], [10, 0], [5, 2], [1, 2], [2, 1], [0, 0], [15, 2], [13, 0], [7, 0], [6, 1], [9, 1]], [[3, 2], [14, 1], [11, 2], [8, 2], [4, 0], [12, 1], [10, 0], [5, 2], [1, 2], [2, 1], [0, 0], [15, 2], [13, 0], [7, 0], [6, 1], [9, 1]], [[3, 2], [14, 1], [11, 2], [8, 2], [4, 0], [12, 1], [10, 0], [5, 2], [1, 2], [2, 1], [0, 0], [15, 2], [13, 0], [7, 0], [6, 1], [9, 1]], [[3, 2], [14, 1], [11, 2], [8, 2], [4, 0], [12, 1], [10, 0], [5, 2], [1, 2], [2, 1], [0, 0], [15, 2], [13, 0], [7, 0], [6, 1], [9, 1]], [[3, 2], [14, 1], [11, 2], [8, 2], [4, 0], [12, 1], [10, 0], [5, 2], [1, 2], [2, 1], [0, 0], [15, 2], [13, 0], [7, 0], [6, 1], [9, 1]], [[3, 2], [14, 1], [11, 2], [8, 2], [4, 0], [12, 1], [10, 0], [5, 2], [1, 2], [2, 1], [7, 0], [15, 2], [13, 0], [0, 0], [6, 1], [9, 1]], [[4, 2], [14, 1], [11, 2], [8, 2], [3, 0], [12, 1], [10, 0], [5, 2], [1, 2], [2, 1], [7, 0], [15, 2], [13, 0], [0, 0], [6, 1], [9, 1]], [[4, 2], [14, 1], [11, 2], [8, 2], [3, 0], [12, 1], [10, 0], [5, 2], [1, 2], [2, 1], [7, 0], [15, 2], [13, 0], [0, 0], [6, 1], [9, 1]], [[4, 2], [14, 1], [11, 2], [8, 2], [3, 0], [12, 1], [10, 0], [5, 2], [1, 2], [2, 1], [0, 0], [15, 2], [13, 0], [7, 0], [6, 1], [9, 1]], [[4, 2], [14, 1], [11, 2], [8, 2], [3, 0], [12, 1], [10, 0], [5, 2], [1, 2], [2, 1], [0, 0], [15, 2], [13, 0], [7, 0], [6, 1], [9, 1]], [[4, 2], [14, 1], [11, 2], [8, 2], [3, 0], [12, 1], [10, 0], [5, 2], [1, 2], [2, 1], [0, 0], [15, 2], [13, 0], [7, 0], [6, 1], [9, 1]], [[4, 2], [14, 1], [11, 2], [8, 2], [3, 0], [12, 1], [10, 0], [5, 2], [1, 2], [2, 1], [7, 0], [15, 2], [13, 0], [0, 0], [6, 1], [9, 1]], [[4, 2], [14, 1], [11, 2], [8, 2], [7, 2], [12, 1], [10, 0], [5, 2], [1, 2], [2, 1], [3, 0], [15, 2], [13, 0], [0, 0], [6, 1], [9, 1]], [[4, 2], [14, 1], [11, 2], [8, 2], [7, 2], [12, 1], [10, 0], [5, 2], [1, 2], [2, 1], [3, 0], [15, 2], [13, 0], [0, 0], [6, 1], [9, 1]], [[4, 2], [14, 1], [11, 2], [8, 2], [7, 2], [12, 1], [9, 0], [5, 2], [1, 2], [2, 1], [3, 0], [15, 2], [13, 0], [0, 0], [6, 1], [10, 1]], [[4, 2], [14, 1], [11, 2], [8, 2], [3, 0], [12, 1], [9, 0], [5, 2], [1, 2], [2, 1], [7, 0], [15, 2], [13, 0], [0, 0], [6, 1], [10, 1]], [[4, 2], [14, 1], [11, 2], [8, 2], [3, 0], [12, 1], [9, 0], [5, 2], [1, 2], [2, 1], [7, 0], [15, 2], [13, 0], [0, 0], [6, 1], [10, 1]], [[4, 2], [14, 1], [11, 2], [8, 2], [3, 0], [12, 1], [9, 0], [5, 2], [1, 2], [2, 1], [7, 0], [15, 2], [13, 0], [0, 0], [6, 1], [10, 1]], [[4, 2], [14, 1], [11, 2], [8, 2], [3, 0], [12, 1], [9, 0], [5, 2], [1, 2], [2, 1], [7, 0], [15, 2], [13, 0], [0, 0], [6, 1], [10, 1]], [[4, 2], [14, 1], [11, 2], [8, 2], [3, 0], [12, 1], [9, 0], [5, 2], [1, 2], [2, 1], [7, 0], [15, 2], [13, 0], [0, 0], [6, 1], [10, 1]], [[4, 2], [14, 1], [11, 2], [8, 2], [3, 0], [12, 1], [9, 0], [5, 2], [1, 2], [2, 1], [7, 0], [15, 2], [13, 0], [0, 0], [6, 1], [10, 1]], [[4, 2], [14, 1], [11, 2], [8, 2], [3, 0], [12, 1], [9, 0], [5, 2], [1, 2], [2, 1], [7, 0], [15, 2], [13, 0], [0, 0], [6, 1], [10, 1]], [[4, 2], [14, 1], [11, 2], [8, 2], [3, 0], [12, 1], [9, 0], [5, 2], [1, 2], [2, 1], [7, 0], [15, 2], [13, 0], [0, 0], [6, 1], [10, 1]], [[4, 2], [14, 1], [11, 2], [8, 2], [3, 0], [12, 1], [10, 0], [5, 2], [1, 2], [2, 1], [7, 0], [15, 2], [13, 0], [0, 0], [6, 1], [9, 1]], [[4, 2], [14, 1], [11, 2], [8, 2], [3, 0], [12, 1], [10, 0], [5, 2], [1, 2], [2, 1], [7, 0], [15, 2], [13, 0], [0, 0], [6, 1], [9, 1]], [[4, 2], [14, 1], [11, 2], [8, 2], [3, 0], [12, 1], [10, 0], [5, 2], [2, 2], [1, 1], [7, 0], [15, 2], [13, 0], [0, 0], [6, 1], [9, 1]], [[4, 2], [14, 1], [11, 2], [8, 2], [3, 0], [12, 1], [10, 0], [5, 2], [2, 2], [1, 1], [7, 0], [15, 2], [13, 0], [0, 0], [6, 1], [9, 1]], [[4, 2], [14, 1], [11, 2], [8, 2], [3, 0], [12, 1], [10, 0], [5, 2], [2, 2], [1, 1], [7, 0], [15, 2], [13, 0], [0, 0], [6, 1], [9, 1]], [[4, 2], [14, 1], [11, 2], [8, 2], [3, 0], [12, 1], [10, 0], [5, 2], [2, 2], [1, 1], [7, 0], [15, 2], [13, 0], [0, 0], [6, 1], [9, 1]], [[4, 2], [14, 1], [11, 2], [8, 2], [3, 0], [12, 1], [9, 0], [5, 2], [2, 2], [1, 1], [7, 0], [15, 2], [13, 0], [0, 0], [6, 1], [10, 1]], [[4, 2], [14, 1], [11, 2], [8, 2], [3, 0], [12, 1], [10, 0], [5, 2], [2, 2], [1, 1], [7, 0], [15, 2], [13, 0], [0, 0], [6, 1], [9, 1]], [[4, 2], [14, 1], [11, 2], [8, 2], [3, 0], [12, 1], [10, 0], [5, 2], [1, 2], [2, 1], [7, 0], [15, 2], [13, 0], [0, 0], [6, 1], [9, 1]], [[4, 2], [14, 1], [11, 2], [8, 2], [3, 0], [12, 1], [10, 0], [5, 2], [1, 2], [2, 1], [7, 0], [15, 2], [13, 0], [0, 0], [6, 1], [9, 1]], [[4, 2], [14, 1], [11, 2], [8, 2], [3, 0], [12, 1], [10, 0], [5, 2], [1, 2], [2, 1], [7, 0], [15, 2], [13, 0], [0, 0], [6, 1], [9, 1]], [[4, 2], [14, 1], [11, 2], [8, 2], [3, 0], [12, 1], [10, 0], [5, 2], [2, 2], [1, 1], [7, 0], [15, 2], [13, 0], [0, 0], [6, 1], [9, 1]], [[4, 2], [14, 1], [11, 2], [8, 2], [3, 0], [12, 1], [10, 0], [5, 2], [2, 2], [1, 1], [7, 0], [15, 2], [13, 0], [0, 0], [6, 1], [9, 1]], [[4, 2], [14, 1], [11, 2], [8, 2], [3, 0], [12, 1], [10, 0], [5, 2], [2, 2], [1, 1], [7, 0], [15, 2], [13, 0], [0, 0], [6, 1], [9, 1]], [[4, 2], [14, 1], [11, 2], [8, 2], [3, 0], [12, 1], [10, 0], [5, 2], [2, 2], [1, 1], [7, 0], [15, 2], [13, 0], [0, 0], [6, 1], [9, 1]], [[4, 2], [14, 1], [11, 2], [8, 2], [3, 0], [12, 1], [10, 0], [5, 2], [2, 2], [1, 1], [0, 0], [15, 2], [13, 0], [7, 0], [6, 1], [9, 1]], [[4, 2], [14, 1], [11, 2], [8, 2], [3, 0], [12, 1], [10, 0], [5, 2], [2, 2], [1, 1], [0, 0], [15, 2], [13, 0], [7, 0], [6, 1], [9, 1]], [[4, 2], [14, 1], [11, 2], [8, 2], [3, 0], [12, 1], [10, 0], [5, 2], [2, 2], [1, 1], [7, 0], [15, 2], [13, 0], [0, 0], [6, 1], [9, 1]], [[4, 2], [14, 1], [11, 2], [8, 2], [3, 0], [12, 1], [10, 0], [5, 2], [2, 2], [1, 1], [7, 0], [15, 2], [13, 0], [0, 0], [6, 1], [9, 1]], [[4, 2], [14, 1], [11, 2], [8, 2], [3, 0], [12, 1], [10, 0], [5, 2], [2, 2], [1, 1], [0, 0], [15, 2], [13, 0], [7, 0], [6, 1], [9, 1]], [[4, 2], [14, 1], [11, 2], [8, 2], [0, 0], [12, 1], [10, 0], [5, 2], [2, 2], [1, 1], [3, 0], [15, 2], [13, 0], [7, 0], [6, 1], [9, 1]], [[4, 2], [1, 2], [11, 2], [8, 2], [0, 0], [12, 1], [10, 0], [5, 2], [2, 2], [14, 0], [3, 0], [15, 2], [13, 0], [7, 0], [6, 1], [9, 1]], [[4, 2], [1, 2], [11, 2], [8, 2], [0, 0], [12, 1], [10, 0], [5, 2], [2, 2], [14, 0], [3, 0], [15, 2], [13, 0], [7, 0], [6, 1], [9, 1]], [[0, 2], [1, 2], [11, 2], [8, 2], [4, 0], [12, 1], [10, 0], [5, 2], [2, 2], [14, 0], [3, 0], [15, 2], [13, 0], [7, 0], [6, 1], [9, 1]], [[0, 2], [1, 2], [11, 2], [8, 2], [4, 0], [12, 1], [10, 0], [5, 2], [2, 2], [14, 0], [3, 0], [15, 2], [13, 0], [7, 0], [6, 1], [9, 1]], [[0, 2], [1, 2], [11, 2], [8, 2], [4, 0], [12, 1], [10, 0], [5, 2], [2, 2], [14, 0], [3, 0], [15, 2], [13, 0], [7, 0], [6, 1], [9, 1]], [[0, 2], [1, 2], [11, 2], [8, 2], [4, 0], [12, 1], [10, 0], [5, 2], [2, 2], [14, 0], [3, 0], [15, 2], [13, 0], [7, 0], [6, 1], [9, 1]], [[0, 2], [1, 2], [11, 2], [8, 2], [4, 0], [12, 1], [9, 0], [5, 2], [2, 2], [14, 0], [3, 0], [15, 2], [13, 0], [7, 0], [6, 1], [10, 1]], [[3, 2], [1, 2], [11, 2], [8, 2], [4, 0], [12, 1], [9, 0], [5, 2], [2, 2], [14, 0], [0, 0], [15, 2], [13, 0], [7, 0], [6, 1], [10, 1]], [[3, 2], [1, 2], [11, 2], [8, 2], [4, 0], [12, 1], [9, 0], [5, 2], [2, 2], [14, 0], [0, 0], [15, 2], [13, 0], [7, 0], [6, 1], [10, 1]], [[3, 2], [1, 2], [11, 2], [8, 2], [4, 0], [12, 1], [9, 0], [5, 2], [2, 2], [14, 0], [0, 0], [15, 2], [13, 0], [7, 0], [6, 1], [10, 1]], [[3, 2], [1, 2], [11, 2], [8, 2], [4, 0], [12, 1], [9, 0], [5, 2], [2, 2], [14, 0], [0, 0], [15, 2], [13, 0], [7, 0], [6, 1], [10, 1]], [[3, 2], [1, 2], [11, 2], [8, 2], [4, 0], [12, 1], [9, 0], [5, 2], [2, 2], [14, 0], [0, 0], [15, 2], [13, 0], [7, 0], [6, 1], [10, 1]], [[3, 2], [1, 2], [11, 2], [8, 2], [4, 0], [12, 1], [9, 0], [5, 2], [2, 2], [14, 0], [0, 0], [15, 2], [13, 0], [7, 0], [6, 1], [10, 1]], [[3, 2], [1, 2], [11, 2], [8, 2], [4, 0], [12, 1], [9, 0], [5, 2], [2, 2], [14, 0], [0, 0], [15, 2], [13, 0], [7, 0], [6, 1], [10, 1]], [[3, 2], [14, 1], [11, 2], [8, 2], [4, 0], [12, 1], [9, 0], [5, 2], [2, 2], [1, 1], [0, 0], [15, 2], [13, 0], [7, 0], [6, 1], [10, 1]], [[3, 2], [14, 1], [11, 2], [8, 2], [4, 0], [12, 1], [9, 0], [5, 2], [1, 2], [2, 1], [0, 0], [15, 2], [13, 0], [7, 0], [6, 1], [10, 1]], [[4, 2], [14, 1], [11, 2], [8, 2], [3, 0], [12, 1], [9, 0], [5, 2], [1, 2], [2, 1], [0, 0], [15, 2], [13, 0], [7, 0], [6, 1], [10, 1]], [[4, 2], [14, 1], [11, 2], [8, 2], [3, 0], [12, 1], [9, 0], [5, 2], [1, 2], [2, 1], [0, 0], [15, 2], [13, 0], [7, 0], [6, 1], [10, 1]], [[4, 2], [14, 1], [11, 2], [8, 2], [3, 0], [12, 1], [9, 0], [5, 2], [1, 2], [2, 1], [0, 0], [15, 2], [13, 0], [7, 0], [6, 1], [10, 1]], [[4, 2], [14, 1], [11, 2], [8, 2], [3, 0], [12, 1], [9, 0], [5, 2], [1, 2], [2, 1], [7, 0], [15, 2], [13, 0], [0, 0], [6, 1], [10, 1]], [[4, 2], [14, 1], [11, 2], [8, 2], [3, 0], [15, 1], [9, 0], [5, 2], [1, 2], [2, 1], [7, 0], [12, 2], [13, 0], [0, 0], [6, 1], [10, 1]], [[3, 2], [14, 1], [11, 2], [8, 2], [4, 2], [15, 1], [9, 0], [5, 2], [1, 2], [2, 1], [7, 0], [12, 2], [13, 0], [0, 0], [6, 1], [10, 1]], [[3, 2], [14, 1], [11, 2], [8, 2], [4, 2], [15, 1], [9, 0], [5, 2], [2, 2], [1, 1], [7, 0], [12, 2], [13, 0], [0, 0], [6, 1], [10, 1]], [[7, 2], [14, 1], [11, 2], [8, 2], [4, 2], [15, 1], [9, 0], [5, 2], [2, 2], [1, 1], [3, 1], [12, 2], [13, 0], [0, 0], [6, 1], [10, 1]], [[4, 2], [14, 1], [11, 2], [8, 2], [7, 1], [15, 1], [9, 0], [5, 2], [2, 2], [1, 1], [3, 1], [12, 2], [13, 0], [0, 0], [6, 1], [10, 1]], [[4, 2], [14, 1], [11, 2], [8, 2], [7, 1], [6, 1], [9, 0], [5, 2], [2, 2], [1, 1], [3, 1], [12, 2], [13, 0], [0, 0], [15, 1], [10, 1]], [[4, 2], [14, 1], [11, 2], [8, 2], [7, 1], [6, 1], [9, 0], [5, 2], [2, 2], [1, 1], [3, 1], [12, 2], [13, 0], [0, 0], [15, 1], [10, 1]], [[4, 2], [14, 1], [11, 2], [8, 2], [7, 1], [6, 1], [9, 0], [5, 2], [1, 2], [2, 1], [3, 1], [12, 2], [13, 0], [0, 0], [15, 1], [10, 1]], [[4, 2], [14, 1], [11, 2], [8, 2], [7, 1], [6, 1], [9, 0], [5, 2], [1, 2], [2, 1], [3, 1], [12, 2], [13, 0], [0, 0], [15, 1], [10, 1]], [[3, 2], [14, 1], [11, 2], [8, 2], [7, 1], [6, 1], [9, 0], [5, 2], [1, 2], [2, 1], [4, 1], [12, 2], [13, 0], [0, 0], [15, 1], [10, 1]], [[3, 2], [14, 1], [12, 0], [8, 2], [7, 1], [6, 1], [9, 0], [5, 2], [1, 2], [2, 1], [4, 1], [11, 1], [13, 0], [0, 0], [15, 1], [10, 1]], [[3, 2], [14, 1], [12, 0], [8, 2], [7, 1], [15, 1], [9, 0], [5, 2], [1, 2], [2, 1], [4, 1], [11, 1], [13, 0], [0, 0], [6, 1], [10, 1]], [[3, 2], [14, 1], [12, 0], [8, 2], [7, 1], [15, 1], [9, 0], [5, 2], [1, 2], [2, 1], [4, 1], [11, 1], [13, 0], [0, 0], [6, 1], [10, 1]], [[3, 2], [14, 1], [12, 0], [8, 2], [7, 1], [15, 1], [9, 0], [5, 2], [1, 2], [2, 1], [4, 1], [11, 1], [13, 0], [0, 0], [6, 1], [10, 1]], [[3, 2], [14, 1], [12, 0], [8, 2], [7, 1], [15, 1], [9, 0], [5, 2], [2, 2], [1, 1], [4, 1], [11, 1], [13, 0], [0, 0], [6, 1], [10, 1]], [[3, 2], [14, 1], [12, 0], [8, 2], [7, 1], [15, 1], [9, 0], [5, 2], [2, 2], [1, 1], [4, 1], [11, 1], [13, 0], [0, 0], [6, 1], [10, 1]], [[3, 2], [14, 1], [12, 0], [8, 2], [7, 1], [15, 1], [9, 0], [5, 2], [2, 2], [1, 1], [4, 1], [11, 1], [13, 0], [0, 0], [6, 1], [10, 1]], [[3, 2], [14, 1], [11, 2], [8, 2], [7, 1], [15, 1], [9, 0], [5, 2], [2, 2], [1, 1], [4, 1], [12, 2], [13, 0], [0, 0], [6, 1], [10, 1]], [[3, 2], [14, 1], [11, 2], [8, 2], [0, 2], [15, 1], [9, 0], [5, 2], [2, 2], [1, 1], [4, 1], [12, 2], [13, 0], [7, 0], [6, 1], [10, 1]]]};"
      ],
      "text/plain": [
       "<IPython.core.display.Javascript object>"
      ]
     },
     "metadata": {},
     "output_type": "display_data"
    }
   ],
   "source": [
    "solver = SimulatedAnnealingSolver(1)\n",
    "res = solver.run(max_it=100000, verbose=False)\n",
    "score = scoring(res)\n",
    "if score == MAX_SCORING:\n",
    "    print('Solution found after', solver.it, 'iterations')\n",
    "    print(res)\n",
    "    print('Actions:')\n",
    "    send_to_js('simulatedAnnealing', Permutation(res, solver.log))\n",
    "else:\n",
    "    print('No solution found, score:', score)"
   ]
  },
  {
   "cell_type": "code",
   "execution_count": 33,
   "metadata": {},
   "outputs": [
    {
     "data": {
      "application/javascript": [
       "\n",
       "drawStaticBoard('solution-sa', 'simulatedAnnealing', element)"
      ],
      "text/plain": [
       "<IPython.core.display.Javascript object>"
      ]
     },
     "metadata": {},
     "output_type": "display_data"
    }
   ],
   "source": [
    "%%javascript\n",
    "\n",
    "drawStaticBoard('solution-sa', 'simulatedAnnealing', element)"
   ]
  },
  {
   "cell_type": "code",
   "execution_count": 34,
   "metadata": {
    "scrolled": false
   },
   "outputs": [
    {
     "data": {
      "application/javascript": [
       "\n",
       "animateBoard('simulated-annealing', 'simulatedAnnealing', element, 0, 1000)"
      ],
      "text/plain": [
       "<IPython.core.display.Javascript object>"
      ]
     },
     "metadata": {},
     "output_type": "display_data"
    }
   ],
   "source": [
    "%%javascript\n",
    "\n",
    "animateBoard('simulated-annealing', 'simulatedAnnealing', element, 0, 1000)"
   ]
  },
  {
   "cell_type": "markdown",
   "metadata": {},
   "source": [
    "## Recursive"
   ]
  },
  {
   "cell_type": "code",
   "execution_count": 35,
   "metadata": {},
   "outputs": [
    {
     "data": {
      "text/plain": [
       "16"
      ]
     },
     "execution_count": 35,
     "metadata": {},
     "output_type": "execute_result"
    }
   ],
   "source": [
    "N_TRIANGLES"
   ]
  },
  {
   "cell_type": "code",
   "execution_count": 36,
   "metadata": {},
   "outputs": [
    {
     "data": {
      "text/plain": [
       "['triangles[p[0][0]][2-p[0][1]] == Board.LEFT[0]',\n",
       " 'triangles[p[0][0]][1-p[0][1]] == Board.RIGHT[0]',\n",
       " '(not p[2] or triangles[p[0][0]][0-p[0][1]] == triangles[p[2][0]][0-p[2][1]])']"
      ]
     },
     "execution_count": 36,
     "metadata": {},
     "output_type": "execute_result"
    }
   ],
   "source": [
    "def generate_valid_triangle(triangle_id, reverse=False):\n",
    "    j, i, k = unpack(triangle_id)\n",
    "    code = []\n",
    "    if k == 0:\n",
    "        # on the left edge\n",
    "        code.append(f'{tri(j, k, 2)} == Board.LEFT[{j}]')\n",
    "\n",
    "    if k == i - 1:\n",
    "        # on the right edge\n",
    "        code.append(f'{tri(j, k, 1)} == Board.RIGHT[{j}]')\n",
    "\n",
    "    if j == 3 and k % 2 == 0:\n",
    "        # on the bottom edge\n",
    "        code.append(f'{tri(j, k, 0)} == Board.BOTTOM[{k//2}]')\n",
    "\n",
    "    if k % 2 == 0:\n",
    "        # normal orientation (facing up)\n",
    "        if j < 3:\n",
    "            # match with line below\n",
    "            code.append(f'(not p[{pack(j + 1, k + 1, 0)}] or {tri(j, k, 0)} == {tri(j + 1, k + 1, 0)})')\n",
    "        if k > 0:\n",
    "            # match with triangle on the left\n",
    "            code.append(f'(not p[{pack(j, k - 1, 2)}] or {tri(j, k, 2)} == {tri(j, k - 1, 2)})')\n",
    "        if k < i - 1:\n",
    "            # match with triangle on the right\n",
    "            code.append(f'(not p[{pack(j, k + 1, 1)}] or {tri(j, k, 1)} == {tri(j, k + 1, 1)})')\n",
    "            \n",
    "    if k % 2 == 1 and reverse:\n",
    "        # reverse orientation (facing down)\n",
    "        # match with line above\n",
    "        code.append(f'(not p[{pack(j - 1, k - 1, 0)}] or {tri(j, k, 0)} == {tri(j - 1, k - 1, 0)})')\n",
    "        # match with triangle on the left\n",
    "        code.append(f'(not p[{pack(j, k - 1, 2)}] or {tri(j, k, 2)} == {tri(j, k - 1, 2)})')\n",
    "        # match with triangle on the right\n",
    "        code.append(f'(not p[{pack(j, k + 1, 1)}] or {tri(j, k, 1)} == {tri(j, k + 1, 1)})')\n",
    "        \n",
    "    return code\n",
    "\n",
    "generate_valid_triangle(0, True)"
   ]
  },
  {
   "cell_type": "code",
   "execution_count": 37,
   "metadata": {},
   "outputs": [
    {
     "name": "stdout",
     "output_type": "stream",
     "text": [
      "Code:\n",
      "def is_valid (p):\n",
      "\treturn (not p[0] or (triangles[p[0][0]][2-p[0][1]] == Board.LEFT[0] and triangles[p[0][0]][1-p[0][1]] == Board.RIGHT[0] and (not p[2] or triangles[p[0][0]][0-p[0][1]] == triangles[p[2][0]][0-p[2][1]]))) and (not p[1] or (triangles[p[1][0]][2-p[1][1]] == Board.LEFT[1] and (not p[5] or triangles[p[1][0]][0-p[1][1]] == triangles[p[5][0]][0-p[5][1]]) and (not p[2] or triangles[p[1][0]][1-p[1][1]] == triangles[p[2][0]][1-p[2][1]]))) and (not p[3] or (triangles[p[3][0]][1-p[3][1]] == Board.RIGHT[1] and (not p[7] or triangles[p[3][0]][0-p[3][1]] == triangles[p[7][0]][0-p[7][1]]) and (not p[2] or triangles[p[3][0]][2-p[3][1]] == triangles[p[2][0]][2-p[2][1]]))) and (not p[4] or (triangles[p[4][0]][2-p[4][1]] == Board.LEFT[2] and (not p[10] or triangles[p[4][0]][0-p[4][1]] == triangles[p[10][0]][0-p[10][1]]) and (not p[5] or triangles[p[4][0]][1-p[4][1]] == triangles[p[5][0]][1-p[5][1]]))) and (not p[6] or ((not p[12] or triangles[p[6][0]][0-p[6][1]] == triangles[p[12][0]][0-p[12][1]]) and (not p[5] or triangles[p[6][0]][2-p[6][1]] == triangles[p[5][0]][2-p[5][1]]) and (not p[7] or triangles[p[6][0]][1-p[6][1]] == triangles[p[7][0]][1-p[7][1]]))) and (not p[8] or (triangles[p[8][0]][1-p[8][1]] == Board.RIGHT[2] and (not p[14] or triangles[p[8][0]][0-p[8][1]] == triangles[p[14][0]][0-p[14][1]]) and (not p[7] or triangles[p[8][0]][2-p[8][1]] == triangles[p[7][0]][2-p[7][1]]))) and (not p[9] or (triangles[p[9][0]][2-p[9][1]] == Board.LEFT[3] and triangles[p[9][0]][0-p[9][1]] == Board.BOTTOM[0] and (not p[10] or triangles[p[9][0]][1-p[9][1]] == triangles[p[10][0]][1-p[10][1]]))) and (not p[11] or (triangles[p[11][0]][0-p[11][1]] == Board.BOTTOM[1] and (not p[10] or triangles[p[11][0]][2-p[11][1]] == triangles[p[10][0]][2-p[10][1]]) and (not p[12] or triangles[p[11][0]][1-p[11][1]] == triangles[p[12][0]][1-p[12][1]]))) and (not p[13] or (triangles[p[13][0]][0-p[13][1]] == Board.BOTTOM[2] and (not p[12] or triangles[p[13][0]][2-p[13][1]] == triangles[p[12][0]][2-p[12][1]]) and (not p[14] or triangles[p[13][0]][1-p[13][1]] == triangles[p[14][0]][1-p[14][1]]))) and (not p[15] or (triangles[p[15][0]][1-p[15][1]] == Board.RIGHT[3] and triangles[p[15][0]][0-p[15][1]] == Board.BOTTOM[3] and (not p[14] or triangles[p[15][0]][2-p[15][1]] == triangles[p[14][0]][2-p[14][1]])))\n",
      "\t\n",
      "Evaluating the code...\n",
      "done.\n"
     ]
    }
   ],
   "source": [
    "def generate_valid_function():\n",
    "    code = []\n",
    "    for n in range(N_TRIANGLES):\n",
    "        _, _, k = unpack(n)\n",
    "        if k % 2 != 0:\n",
    "            continue\n",
    "        code += [f\"(not p[{n}] or ({' and '.join(generate_valid_triangle(n))}))\"]\n",
    "    return 'def is_valid (p):\\n\\treturn ' + ' and '.join(code) + '\\n\\t'\n",
    "\n",
    "\n",
    "code = generate_valid_function()\n",
    "print('Code:')\n",
    "print(code)\n",
    "print('Evaluating the code...')\n",
    "exec(code)\n",
    "assert 'scoring' in globals()\n",
    "print('done.')"
   ]
  },
  {
   "cell_type": "code",
   "execution_count": 38,
   "metadata": {},
   "outputs": [
    {
     "name": "stdout",
     "output_type": "stream",
     "text": [
      "[[3, 0], None, None, None, None, None, None, None, None, None, None, None, None, None, None, None]\n"
     ]
    },
    {
     "data": {
      "text/plain": [
       "False"
      ]
     },
     "execution_count": 38,
     "metadata": {},
     "output_type": "execute_result"
    }
   ],
   "source": [
    "state = [None for i in range(N_TRIANGLES)]\n",
    "state[0] = [3, 0]\n",
    "print(state)\n",
    "is_valid(state)"
   ]
  },
  {
   "cell_type": "code",
   "execution_count": 39,
   "metadata": {},
   "outputs": [],
   "source": [
    "def solve_recursive():\n",
    "    board = [None] * N_TRIANGLES\n",
    "    used = [0] * N_TRIANGLES\n",
    "    \n",
    "    def place(i):\n",
    "        if i == N_TRIANGLES:\n",
    "            # base case, all the pieces are on the board\n",
    "            return True\n",
    "        \n",
    "        for j in range(0, N_TRIANGLES):\n",
    "            if used[j]:\n",
    "                # piece number j already used\n",
    "                continue\n",
    "                \n",
    "            used[j] = 1\n",
    "            \n",
    "            for rot in range(3):\n",
    "                # place the piece on the board\n",
    "                board[i] = (j, rot)\n",
    "\n",
    "                # stop the recursion if the current configuration\n",
    "                # is not valid or a solution has been found\n",
    "                if is_valid(board) and place(i + 1):\n",
    "                    return True\n",
    "\n",
    "                # remove the piece from the board\n",
    "                board[i] = None\n",
    "                \n",
    "            used[j] = 0\n",
    "            \n",
    "        return False\n",
    "    \n",
    "    place(0)\n",
    "    return board"
   ]
  },
  {
   "cell_type": "code",
   "execution_count": 40,
   "metadata": {},
   "outputs": [
    {
     "name": "stdout",
     "output_type": "stream",
     "text": [
      "[(3, 2), (14, 1), (11, 2), (8, 2), (0, 2), (15, 1), (9, 0), (5, 2), (1, 2), (2, 1), (4, 1), (12, 2), (13, 0), (7, 0), (6, 1), (10, 1)]\n"
     ]
    },
    {
     "data": {
      "application/javascript": [
       "window.kv.recursive = {\"TRIANGLES\": [[0, 1, 1], [0, 2, 3], [0, 2, 3], [0, 4, 1], [0, 4, 1], [0, 3, 5], [0, 5, 2], [0, 0, 1], [4, 3, 5], [4, 5, 3], [4, 5, 3], [4, 4, 3], [4, 3, 2], [4, 2, 1], [3, 5, 2], [1, 3, 2]], \"LEFT\": [0, 5, 0, 2], \"RIGHT\": [1, 5, 3, 4], \"BOTTOM\": [3, 3, 0, 3], \"repr\": [[0, 4, 1, 2], [3, 5, 2, 1], [4, 4, 3, 2], [4, 3, 5, 2], [0, 1, 1, 2], [1, 3, 2, 1], [4, 5, 3, 0], [0, 3, 5, 2], [0, 2, 3, 2], [0, 2, 3, 1], [0, 4, 1, 1], [4, 3, 2, 2], [4, 2, 1, 0], [0, 0, 1, 0], [0, 5, 2, 1], [4, 5, 3, 1]], \"permutation\": [[3, 2], [14, 1], [11, 2], [8, 2], [0, 2], [15, 1], [9, 0], [5, 2], [1, 2], [2, 1], [4, 1], [12, 2], [13, 0], [7, 0], [6, 1], [10, 1]], \"states\": []};"
      ],
      "text/plain": [
       "<IPython.core.display.Javascript object>"
      ]
     },
     "metadata": {},
     "output_type": "display_data"
    }
   ],
   "source": [
    "res = solve_recursive()\n",
    "print(res)\n",
    "send_to_js('recursive', Permutation(res, []))"
   ]
  },
  {
   "cell_type": "code",
   "execution_count": 41,
   "metadata": {},
   "outputs": [
    {
     "data": {
      "application/javascript": [
       "\n",
       "drawStaticBoard('solution-recursive', 'recursive', element)"
      ],
      "text/plain": [
       "<IPython.core.display.Javascript object>"
      ]
     },
     "metadata": {},
     "output_type": "display_data"
    }
   ],
   "source": [
    "%%javascript\n",
    "\n",
    "drawStaticBoard('solution-recursive', 'recursive', element)"
   ]
  },
  {
   "cell_type": "markdown",
   "metadata": {},
   "source": [
    "## Next Steps\n",
    "\n",
    "- Create a p5.js [ipywiget](https://github.com/jupyter-widgets/ipywidgets)\n",
    "- Better way to pass data from Javascript to Python (and reversed)"
   ]
  }
 ],
 "metadata": {
  "anaconda-cloud": {},
  "kernelspec": {
   "display_name": "Python 3",
   "language": "python",
   "name": "python3"
  },
  "language_info": {
   "codemirror_mode": {
    "name": "ipython",
    "version": 3
   },
   "file_extension": ".py",
   "mimetype": "text/x-python",
   "name": "python",
   "nbconvert_exporter": "python",
   "pygments_lexer": "ipython3",
   "version": "3.6.3"
  }
 },
 "nbformat": 4,
 "nbformat_minor": 1
}
