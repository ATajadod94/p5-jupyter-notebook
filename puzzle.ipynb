{
 "cells": [
  {
   "cell_type": "markdown",
   "metadata": {
    "slideshow": {
     "slide_type": "slide"
    }
   },
   "source": [
    "# p5.js in the Jupyter Notebook for custom interactive visualizations \n",
    "\n",
    "### By Jeremy Tuloup - [@jtpio](https://twitter.com/jtpio) - [jtp.io](https://jtp.io) - [github.com/jtpio](https://github.com/jtpio)\n",
    "\n",
    "The goal of this notebook is to show how to create custom visualizations in a Jupyter Notebook.\n",
    "\n",
    "\n",
    "## What is p5.js?\n",
    "\n",
    "From the [official website](https://p5js.org):\n",
    "\n",
    "> p5.js is a JS client-side library for creating graphic and interactive experiences, based on the core principles of Processing. \n",
    "\n",
    "> make coding accessible for artists, designers, educators, and beginners, and reinterprets this for today's web.\n",
    "\n",
    "In this notebook I decided to use p5.js. However this can be adapted to other libraries if needed. I just like p5 for its simplicity and values."
   ]
  },
  {
   "cell_type": "markdown",
   "metadata": {},
   "source": [
    "## Running Javascript code in the Jupyter Notebook\n",
    "\n",
    "The Jupyter Notebook, like the Python language itself, also comes with batteries included, such as cell magics. One of the cell magics is `%%javascript`, which lets the user run Javascript code directly in the browser.\n",
    "\n",
    "As an example, we can define a variable and print its value:"
   ]
  },
  {
   "cell_type": "code",
   "execution_count": null,
   "metadata": {},
   "outputs": [],
   "source": [
    "%%javascript\n",
    "\n",
    "let myVar = 'test'\n",
    "console.log(myVar)"
   ]
  },
  {
   "cell_type": "markdown",
   "metadata": {},
   "source": [
    "Nothing is show on the page and it is normal. `console.log` prints in the Developer Tools console. However the notebook exposes the `element` variable in the Input cell to reference the Output cell."
   ]
  },
  {
   "cell_type": "code",
   "execution_count": null,
   "metadata": {},
   "outputs": [],
   "source": [
    "%%javascript\n",
    "\n",
    "element.text('Hello')"
   ]
  },
  {
   "cell_type": "markdown",
   "metadata": {},
   "source": [
    "## Setting up the libraries\n",
    "\n",
    "\n",
    "Jupyter uses [require.js](http://requirejs.org/) under the hood, and the good thing is that we can use of it for our own purposes.\n",
    "\n",
    "The following block states that we are using:\n",
    "- p5.js: rendering on the canvas\n",
    "- lodash: utility library with many high order functions"
   ]
  },
  {
   "cell_type": "code",
   "execution_count": null,
   "metadata": {},
   "outputs": [],
   "source": [
    "%%javascript\n",
    "require.config({\n",
    "    paths: {\n",
    "        'p5': 'https://cdnjs.cloudflare.com/ajax/libs/p5.js/0.6.0/p5.min',\n",
    "        'lodash': 'https://cdnjs.cloudflare.com/ajax/libs/lodash.js/4.17.4/lodash.min'\n",
    "    }\n",
    "});"
   ]
  },
  {
   "cell_type": "markdown",
   "metadata": {},
   "source": [
    "## Jupyter Widgets\n",
    "\n",
    "![view-model](./img/WidgetModelView.png)\n",
    "\n",
    "- Source: https://ipywidgets.readthedocs.io/en/stable/examples/Widget%20Basics.html#Why-does-displaying-the-same-widget-twice-work?\n",
    "\n",
    "We can for example define small modules relying on p5.js, that will in the end be assembled together to form the bigger picture. The function defined under `window` will be accessible anywhere in the notebook when using `%%javascript` cell magic, and even in the developer tools console."
   ]
  },
  {
   "cell_type": "code",
   "execution_count": null,
   "metadata": {},
   "outputs": [],
   "source": [
    "%%javascript \n",
    "\n",
    "window.defineModule = function (name, dependencies, module) {\n",
    "    // force the recreation of the module\n",
    "    // (when re-executing a cell for example)\n",
    "    require.undef(name);\n",
    "    \n",
    "    define(name, dependencies, module);\n",
    "};"
   ]
  },
  {
   "cell_type": "code",
   "execution_count": null,
   "metadata": {},
   "outputs": [],
   "source": [
    "%%javascript\n",
    "\n",
    "window.createSketchView = function (name, dependencies, module) {\n",
    "    \n",
    "    require.undef(name);\n",
    "    \n",
    "    define(name,\n",
    "           ['@jupyter-widgets/base', 'p5', 'lodash'].concat(dependencies),\n",
    "           (widgets, p5, _, ...deps) => {\n",
    "\n",
    "        let modelName = `${name}Model`;\n",
    "        let viewName = `${name}View`;\n",
    "        \n",
    "        let Model = widgets.DOMWidgetModel.extend({\n",
    "            defaults: function () {\n",
    "                return _.extend(widgets.DOMWidgetModel.prototype.defaults.call(this), {\n",
    "                    _model_name: modelName,\n",
    "                    _view_name: viewName,\n",
    "                    _model_module: name,\n",
    "                    _view_module: name,\n",
    "                    _model_module_version: '0.1.0',\n",
    "                    _view_module_version: '0.1.0',\n",
    "                });\n",
    "            }\n",
    "        });\n",
    "        \n",
    "        let View = widgets.DOMWidgetView.extend({\n",
    "            initialize: function () {\n",
    "                // create the dom element to contain the p5.js canvas\n",
    "                this.node = document.createElement('div');\n",
    "                this.node.setAttribute('style', 'text-align: center;');\n",
    "                this.el.appendChild(this.node);\n",
    "            },\n",
    "\n",
    "            render: function () {\n",
    "                // pass the model as the last dependency so it can\n",
    "                // be accessed in the sketch\n",
    "                let sketch = module(...deps, this.model);\n",
    "                setTimeout(() => {\n",
    "                    this.sketch = new p5(sketch, this.node);\n",
    "                }, 0);\n",
    "            },\n",
    "\n",
    "            remove: function () {\n",
    "                // stop the existing sketch when the view is removed\n",
    "                // so p5.js can cancel the animation frame callback and free up resources\n",
    "                if (this.sketch) {\n",
    "                    this.sketch.remove();\n",
    "                    this.sketch = null;\n",
    "                }\n",
    "            }\n",
    "        });\n",
    "        \n",
    "        return {\n",
    "            [modelName] : Model,\n",
    "            [viewName] : View,\n",
    "        };\n",
    "    });\n",
    "}"
   ]
  },
  {
   "cell_type": "markdown",
   "metadata": {},
   "source": [
    "The `defineModule` javascript function can now be used to create a module containing a bunch of parameters (for testing)."
   ]
  },
  {
   "cell_type": "code",
   "execution_count": null,
   "metadata": {},
   "outputs": [],
   "source": [
    "%%javascript\n",
    "\n",
    "// Test module defining a few constants, for example purposes\n",
    "// Such constants should ideally be defined directly in the model\n",
    "// and directly accessed by the view\n",
    "\n",
    "defineModule('testModule', [], () => {\n",
    "    const W = 500;\n",
    "    const H = 500;\n",
    "    \n",
    "    return {W, H};\n",
    "})"
   ]
  },
  {
   "cell_type": "markdown",
   "metadata": {},
   "source": [
    "## 2D Demo\n",
    "\n",
    "### Defining the view"
   ]
  },
  {
   "cell_type": "code",
   "execution_count": null,
   "metadata": {},
   "outputs": [],
   "source": [
    "%%javascript\n",
    "\n",
    "createSketchView('Sketch2D', ['testModule'], (TestModule, model) => {\n",
    "    return function(p) {\n",
    "        const {W, H} = TestModule;\n",
    "        const [CX, CY] = [W / 2, H / 2];\n",
    "        \n",
    "        p.setup = function(){\n",
    "            p.createCanvas(W, H);\n",
    "            p.rectMode(p.CENTER);\n",
    "        }\n",
    "\n",
    "        p.draw = function () {\n",
    "            p.background('#ddd');\n",
    "            p.translate(CX, CY);\n",
    "            let n = model.get('n_squares');\n",
    "            _.range(n).forEach(i => {\n",
    "                p.push();\n",
    "                p.rotate(p.frameCount / 200 * (i + 1));\n",
    "                p.fill(i * 5, i * 100, i * 150);\n",
    "                p.rect(0, 0, 200, 200);\n",
    "                p.pop();\n",
    "            });\n",
    "        }\n",
    "    };\n",
    "})"
   ]
  },
  {
   "cell_type": "markdown",
   "metadata": {},
   "source": [
    "### Defining the model"
   ]
  },
  {
   "cell_type": "code",
   "execution_count": null,
   "metadata": {},
   "outputs": [],
   "source": [
    "import ipywidgets as widgets\n",
    "from traitlets import Unicode, Int, default\n",
    "\n",
    "\n",
    "class Sketch2D(widgets.DOMWidget):\n",
    "    _view_name = Unicode('Sketch2DView').tag(sync=True)\n",
    "    _view_module = Unicode('Sketch2D').tag(sync=True)\n",
    "    _view_module_version = Unicode('0.1.0').tag(sync=True)\n",
    "    n_squares = Int(1).tag(sync=True)"
   ]
  },
  {
   "cell_type": "code",
   "execution_count": null,
   "metadata": {},
   "outputs": [],
   "source": [
    "sketch_2d = Sketch2D()\n",
    "sketch_2d"
   ]
  },
  {
   "cell_type": "code",
   "execution_count": null,
   "metadata": {},
   "outputs": [],
   "source": [
    "sketch_2d.n_squares = 4"
   ]
  },
  {
   "cell_type": "markdown",
   "metadata": {},
   "source": [
    "## 3D Demo\n",
    "\n",
    "P5.js even supports basic 3D primitives, so let's create a new widget to test that!"
   ]
  },
  {
   "cell_type": "code",
   "execution_count": null,
   "metadata": {},
   "outputs": [],
   "source": [
    "%%javascript\n",
    "\n",
    "createSketchView('Sketch3D', ['testModule'], (Settings, model) => {\n",
    "    return function(p) {\n",
    "        const {W, H} = Settings;\n",
    "        \n",
    "        p.setup = function(){\n",
    "            p.createCanvas(W, H, p.WEBGL);\n",
    "        }\n",
    "\n",
    "        p.draw = function () {\n",
    "            p.background('#ddd');\n",
    "            let t = p.frameCount;\n",
    "            let n = model.get('n_cubes');\n",
    "            p.randomSeed(42);\n",
    "            _.range(n).forEach(i => {\n",
    "                const R = 180// + 30 * p.sin(t * 0.2 + i);\n",
    "                const x = R * p.cos(i * p.TWO_PI / n);\n",
    "                const y = R * p.sin(i* p.TWO_PI / n);\n",
    "                p.push();\n",
    "                p.translate(x, y);\n",
    "                p.fill(p.random(255), p.random(255), p.random(255));\n",
    "                p.rotateY(t * 0.05 + i);\n",
    "                p.box(50);\n",
    "                p.pop();\n",
    "            });\n",
    "        } \n",
    "    };\n",
    "})"
   ]
  },
  {
   "cell_type": "code",
   "execution_count": null,
   "metadata": {},
   "outputs": [],
   "source": [
    "class Sketch3D(widgets.DOMWidget):\n",
    "    _view_name = Unicode('Sketch3DView').tag(sync=True)\n",
    "    _view_module = Unicode('Sketch3D').tag(sync=True)\n",
    "    _view_module_version = Unicode('0.1.0').tag(sync=True)\n",
    "    n_cubes = Int(4).tag(sync=True)"
   ]
  },
  {
   "cell_type": "code",
   "execution_count": null,
   "metadata": {},
   "outputs": [],
   "source": [
    "sketch_3d = Sketch3D()\n",
    "sketch_3d"
   ]
  },
  {
   "cell_type": "code",
   "execution_count": null,
   "metadata": {},
   "outputs": [],
   "source": [
    "sketch_3d.n_cubes = 10"
   ]
  },
  {
   "cell_type": "markdown",
   "metadata": {},
   "source": [
    "All of this is great! What about looking at a concrete example?"
   ]
  },
  {
   "cell_type": "markdown",
   "metadata": {
    "slideshow": {
     "slide_type": "slide"
    }
   },
   "source": [
    "## Concrete example with the Bermuda Triangle Puzzle\n",
    "\n",
    "\n",
    "The Bermuda Triangle Puzzle is a wooden puzzle consisting of 1 big triangle and 16 smaller triangles of equal size.\n",
    "\n",
    "On the edges of the big triangle, there are colored dots, as well as on the edges of the small triangles:\n",
    "\n",
    "![Bermuda Triangle Puzzle](./img/bermuda_triangle_puzzle.jpg)"
   ]
  },
  {
   "cell_type": "markdown",
   "metadata": {},
   "source": [
    "## Goal\n",
    "\n",
    "The 16 triangles all fit inside the big triangle. But the goal of the puzzle is to **arrange the triangles in a way so that each adjacent color is the same: red next to red, blue next to blue, and so on...**.\n",
    "\n",
    "One thing to notice is that the colors on the edges of the big triangle cannot be moved, but the smaller triangles can be rotated and re-arranged as we want.\n",
    "\n",
    "### How do we solve this?\n",
    "\n",
    "As usual, there are different approaches:\n",
    "\n",
    "1. One can just take the puzzle and start playing with it. After a while, some patterns may show up but can become very tedious when trying all combinations.\n",
    "2. Speaking of trying all combinations, it is also possible to brute force the puzzle manually with the wooden pieces, take notes of the configurations that have been tested, and keep iterating. This requires a lot of rigor to not miss any step and start from the beginning.\n",
    "3. Brute-forcing can be fun for a moment, but repetitive after a few minutes. Instead of doing it manually, we write a program that goes through all possibilities and try them one by one, maybe finding more than one solution if more exist. This requires knowing how to approach the problem and define an explicit and efficient search strategy, which can be difficult to find and implement.\n",
    "4. When we don't really know what to do, we can start modelling the puzzle / state, and use stochastic search to find a solution. This requires a set of good building blocks and tools that the stochastic search can rely on. You can find examples of using Simulated Annealing on my [blog](https://jtp.io) to solve the [Aristotle Number Puzzle](https://jtp.io/2017/01/12/aristotle-number-puzzle.html) or [Nine-Color Cube](https://jtp.io/2017/05/10/nine-color-cube.html)."
   ]
  },
  {
   "cell_type": "markdown",
   "metadata": {
    "slideshow": {
     "slide_type": "-"
    }
   },
   "source": [
    "## Strategy\n",
    "\n",
    "In this notebook, we will go with the third approach, using a recursive search.\n",
    "To prove that a solution is correct, the best way is to draw it right away, and visually verify the colors match. This is what we would do with the real puzzle.\n",
    "\n",
    "Since we will already be drawing the puzzle, we can push one step further to make an interactive animation of the search.\n",
    "\n",
    "Steps:\n",
    "\n",
    "1. Model the puzzle by encoding the colors to numbers and arranging them into lists.\n",
    "2. Define a function, which draws a state on a canvas. A state is defined as the big triangle and a permutation of the 16 small triangles potentially rotated.\n",
    "3. Define a function, which given a list of actions (permutations of triangles, rotation of triangles), animate them on a canvas.\n",
    "5. Define a function that uses the helper to search for the solution, logging each step taken (permutation, rotation) to a list of actions.\n",
    "6. Use the previously defined functions to animated the search and display the final solution."
   ]
  },
  {
   "cell_type": "markdown",
   "metadata": {},
   "source": [
    "## Model\n",
    "\n",
    "This is perhaps the most tedious step, as it requires listing the different pieces with the proper order for the colors.\n",
    "\n",
    "### Triangles\n",
    "\n",
    "In total, we have 16 triangles, and 6 colors: **white, blue, yellow, green, black, red**."
   ]
  },
  {
   "cell_type": "code",
   "execution_count": null,
   "metadata": {
    "slideshow": {
     "slide_type": "slide"
    }
   },
   "outputs": [],
   "source": [
    "N_TRIANGLES = 16\n",
    "IDS = list(range(N_TRIANGLES))\n",
    "N_COLORS = 6\n",
    "WHITE, BLUE, YELLOW, GREEN, BLACK, RED = range(N_COLORS)\n",
    "\n",
    "# list the pieces, turning anti-clockwise for the colors\n",
    "# The number at the last position of the tuple indicate the number\n",
    "# of identical pieces (cf photo above)\n",
    "triangles_count = [\n",
    "    (WHITE, BLUE, BLUE, 1),\n",
    "    (WHITE, YELLOW, GREEN, 2),  # 2 of these\n",
    "    (WHITE, BLACK, BLUE, 2),  # 2 of these\n",
    "    (WHITE, GREEN, RED, 1),\n",
    "    (WHITE, RED, YELLOW, 1),\n",
    "    (WHITE, WHITE, BLUE, 1),\n",
    "    (BLACK, GREEN, RED, 1),\n",
    "    (BLACK, RED, GREEN, 2),  # 2 of these\n",
    "    (BLACK, BLACK, GREEN, 1),\n",
    "    (BLACK, GREEN, YELLOW, 1),\n",
    "    (BLACK, YELLOW, BLUE, 1),\n",
    "    (GREEN, RED, YELLOW, 1),\n",
    "    (BLUE, GREEN, YELLOW, 1)\n",
    "]\n",
    "\n",
    "assert N_TRIANGLES == sum(t[-1] for t in triangles_count)"
   ]
  },
  {
   "cell_type": "markdown",
   "metadata": {},
   "source": [
    "The triangles were listed correctly, let's unpack them into a flat list."
   ]
  },
  {
   "cell_type": "code",
   "execution_count": null,
   "metadata": {},
   "outputs": [],
   "source": [
    "triangles = tuple([t[:-1] for t in triangles_count for times in range(t[-1])])\n",
    "print(triangles)\n",
    "\n",
    "assert N_TRIANGLES == len(triangles)"
   ]
  },
  {
   "cell_type": "markdown",
   "metadata": {},
   "source": [
    "This is our immutable list of triangles (tuples), that we can index with an integer from 0 to 15.\n",
    "\n",
    "### Board\n",
    "\n",
    "What needs to be done now is to define the board with the fixed colors. Together with the triangles, they define the **state** of the puzzle."
   ]
  },
  {
   "cell_type": "code",
   "execution_count": null,
   "metadata": {},
   "outputs": [],
   "source": [
    "from traitlets import List, Tuple\n",
    "\n",
    "class Board(widgets.DOMWidget):    \n",
    "    TRIANGLES = List(triangles).tag(sync=True)\n",
    "    LEFT = Tuple((WHITE, RED, WHITE, YELLOW)).tag(sync=True)\n",
    "    RIGHT = Tuple((BLUE, RED, GREEN, BLACK)).tag(sync=True)\n",
    "    BOTTOM = Tuple((GREEN, GREEN, WHITE, GREEN)).tag(sync=True)\n",
    "    permutation = List([]).tag(sync=True)\n",
    "    \n",
    "    def random(self):\n",
    "        self.permutation = [triangles[i] + (0,) for i in range(N_TRIANGLES)]"
   ]
  },
  {
   "cell_type": "code",
   "execution_count": null,
   "metadata": {},
   "outputs": [],
   "source": [
    "Board(permutation=[[i, 0] for i in range(N_TRIANGLES)])"
   ]
  },
  {
   "cell_type": "markdown",
   "metadata": {},
   "source": [
    "## Drawing the state\n",
    "\n",
    "We can now reuse the previously defined Javascript helpers to create modules and sketches on demand."
   ]
  },
  {
   "cell_type": "code",
   "execution_count": null,
   "metadata": {},
   "outputs": [],
   "source": [
    "%%javascript\n",
    "\n",
    "// define a list of constant such as the size of the base canvas,\n",
    "// the size of the triangles, colors...\n",
    "defineModule('settings', [], () => {\n",
    "    const ANIM_W = 800;\n",
    "    const ANIM_H = ANIM_W / 1.6;\n",
    "    const N_TRIANGLES = 16;\n",
    "    const COLORS = ['#fff', '#00f', '#ff0', '#0f0', '#000', '#f00'];\n",
    "    const WOOD_COLOR = '#825201';\n",
    "    const R = 50;\n",
    "    const r = R / 2;\n",
    "    const CR = r / 2;\n",
    "    const OFFSET_X = R * Math.sqrt(3) * 0.5;\n",
    "    const OFFSET_Y = 1.5 * R;\n",
    "    \n",
    "    return {ANIM_W, ANIM_H, N_TRIANGLES, WOOD_COLOR, COLORS, R, r, CR, OFFSET_X, OFFSET_Y};\n",
    "})"
   ]
  },
  {
   "cell_type": "markdown",
   "metadata": {},
   "source": [
    "With these parameters defined, we can create a `triangles` module that will be used to draw one triangle on the screen."
   ]
  },
  {
   "cell_type": "code",
   "execution_count": null,
   "metadata": {},
   "outputs": [],
   "source": [
    "%%javascript\n",
    "\n",
    "defineModule('triangles', ['settings'], (settings) => {\n",
    "    const {COLORS, WOOD_COLOR, R, r, CR, OFFSET_X, OFFSET_Y} = settings;\n",
    "    \n",
    "    function _getPoints(n, startAngle, radius) {\n",
    "        let points = [];\n",
    "        const da = 2 * Math.PI / n;\n",
    "        for (let i = 0; i < n; i++) {\n",
    "            const angle = startAngle - i * da;\n",
    "            const x = radius * Math.cos(angle);\n",
    "            const y = radius * Math.sin(angle);\n",
    "            points.push(x);\n",
    "            points.push(y);\n",
    "        }\n",
    "        return points;\n",
    "    }\n",
    "    \n",
    "    return (p) => {\n",
    "        return {\n",
    "            getTrianglePoints: _getPoints,\n",
    "            genTrianglesPos: function () {\n",
    "                let positions = [];\n",
    "                let id = 0;\n",
    "                for (let row = 0; row < 4; row++) {\n",
    "                    const n_row = 2 * row + 1;\n",
    "                    for (let col = 0; col < n_row; col++) {\n",
    "                        const x = (col - row) * OFFSET_X;\n",
    "                        const flip = (id + row) % 2;\n",
    "                        const y = row * OFFSET_Y + ((flip == 1) ? -R/2 : 0);\n",
    "                        positions.push({id, x, y, flip, row, col, n_row});\n",
    "                        id++;\n",
    "                    }\n",
    "                }\n",
    "                return positions;\n",
    "            },\n",
    "            drawTriangle: function (colors, x, y, rotation, flip=0) {\n",
    "                const n = colors.length;\n",
    "                \n",
    "                p.fill(WOOD_COLOR);\n",
    "                p.push();\n",
    "                p.translate(x, y);\n",
    "                p.rotate(-rotation * p.TWO_PI / 3 + flip * p.PI);\n",
    "                \n",
    "                p.triangle(..._getPoints(n, Math.PI / 6, R));\n",
    "\n",
    "                let circles = _getPoints(n, Math.PI / 2, 1.25 * CR);\n",
    "                for (let i = 0; i < n; i++) {\n",
    "                    const xx = circles[2*i];\n",
    "                    const yy = circles[2*i+1];\n",
    "                    const color = COLORS[colors[i]];\n",
    "                    p.fill(color);\n",
    "                    p.ellipse(xx, yy, CR);\n",
    "                }\n",
    "                p.pop();\n",
    "            }\n",
    "        };\n",
    "    };\n",
    "});"
   ]
  },
  {
   "cell_type": "markdown",
   "metadata": {},
   "source": [
    "### Static Board\n",
    "\n",
    "Let's start small and focus on drawing a static board. This is were the different modules defined above become useful, as we can now depend on them."
   ]
  },
  {
   "cell_type": "code",
   "execution_count": null,
   "metadata": {},
   "outputs": [],
   "source": [
    "%%javascript\n",
    "\n",
    "defineModule('staticBoard', ['settings', 'triangles'], (Settings, Triangles) => {\n",
    "    let {COLORS, R, CR, OFFSET_X, OFFSET_Y} = Settings;\n",
    "    \n",
    "    return (p) => {\n",
    "        let triangles = Triangles(p);\n",
    "        \n",
    "        function _drawStaticColors (left, right, bottom) {\n",
    "            for (let {id, x, y, row, col, n_row} of triangles.genTrianglesPos()) {\n",
    "                if (col === 0) {\n",
    "                    const colorLeft = COLORS[left[row]];\n",
    "                    const colorRight = COLORS[right[row]];\n",
    "                    p.fill(colorLeft);\n",
    "                    p.ellipse(x - OFFSET_X, y - R / 2, CR);\n",
    "                    p.fill(colorRight);\n",
    "                    p.ellipse(x + n_row * OFFSET_X, y - R / 2, CR);\n",
    "                }\n",
    "                          \n",
    "                if (row === 3 && col % 2 == 0) {\n",
    "                    p.fill(COLORS[bottom[parseInt(col / 2, 10)]]);\n",
    "                    p.ellipse(x, 3.75 * OFFSET_Y, CR);\n",
    "                }\n",
    "            }\n",
    "        }\n",
    "        \n",
    "        function _drawFrame () {\n",
    "            const positions = triangles.genTrianglesPos();\n",
    "            const mid = positions[6];\n",
    "            p.push();\n",
    "            p.noFill();\n",
    "            p.stroke(0);\n",
    "            p.strokeWeight(2);\n",
    "            p.translate(mid.x, mid.y);\n",
    "            p.triangle(...triangles.getTrianglePoints(3, Math.PI / 6, 4 * R));\n",
    "            p.pop();\n",
    "        }\n",
    "        \n",
    "        return {\n",
    "            drawStaticColors: _drawStaticColors,\n",
    "            drawFrame: _drawFrame,\n",
    "            drawTriangles: (permutation) => {\n",
    "                for (let {id, x, y, flip} of triangles.genTrianglesPos()) {\n",
    "                    let [a, b, c, rot] = permutation[id];\n",
    "                    p.push();\n",
    "                    triangles.drawTriangle([a, b, c], x, y, rot, flip);\n",
    "                    p.pop();\n",
    "                }\n",
    "            }\n",
    "        };\n",
    "    };\n",
    "});"
   ]
  },
  {
   "cell_type": "markdown",
   "metadata": {},
   "source": [
    "Creating the sketch is now just a matter of putting the previous pieces together:"
   ]
  },
  {
   "cell_type": "code",
   "execution_count": null,
   "metadata": {
    "scrolled": false
   },
   "outputs": [],
   "source": [
    "%%javascript\n",
    "\n",
    "createSketchView('StaticBoard', ['staticBoard'], (StaticBoard, model) => {\n",
    "    return function(p) {\n",
    "        const W = 400;\n",
    "        const H = 400;\n",
    "        const LEFT = model.get('LEFT');\n",
    "        const RIGHT = model.get('RIGHT');\n",
    "        const BOTTOM = model.get('BOTTOM');\n",
    "        let staticBoard = StaticBoard(p);\n",
    "\n",
    "        p.setup = function(){\n",
    "            p.createCanvas(W, H);\n",
    "        }\n",
    "\n",
    "        p.draw = function () {\n",
    "            p.background('#ddd');\n",
    "            p.push();\n",
    "            p.translate(W / 2, H / 4);\n",
    "            let permutation = model.get('permutation');\n",
    "            staticBoard.drawFrame();\n",
    "            staticBoard.drawTriangles(permutation);\n",
    "            staticBoard.drawStaticColors(LEFT, RIGHT, BOTTOM);\n",
    "            p.pop();\n",
    "        }\n",
    "    };\n",
    "})"
   ]
  },
  {
   "cell_type": "code",
   "execution_count": null,
   "metadata": {},
   "outputs": [],
   "source": [
    "from random import sample\n",
    "from traitlets import List\n",
    "\n",
    "class StaticBoard(Board):\n",
    "    _view_name = Unicode('StaticBoardView').tag(sync=True)\n",
    "    _view_module = Unicode('StaticBoard').tag(sync=True)\n",
    "    _view_module_version = Unicode('0.1.0').tag(sync=True)\n",
    "    _model_name = Unicode('StaticBoardModel').tag(sync=True)\n",
    "    _model_module = Unicode('StaticBoard').tag(sync=True)\n",
    "    _model_module_version = Unicode('0.1.0').tag(sync=True)\n",
    "    \n",
    "    def __init__(self, **kwargs):\n",
    "        super().__init__(**kwargs)\n",
    "        self.random()\n",
    "    \n",
    "    def shuffle(self):\n",
    "        self.permutation = sample(self.permutation, N_TRIANGLES) "
   ]
  },
  {
   "cell_type": "code",
   "execution_count": null,
   "metadata": {
    "scrolled": false
   },
   "outputs": [],
   "source": [
    "testStaticBoard = StaticBoard()\n",
    "testStaticBoard"
   ]
  },
  {
   "cell_type": "code",
   "execution_count": null,
   "metadata": {},
   "outputs": [],
   "source": [
    "testStaticBoard.shuffle()"
   ]
  },
  {
   "cell_type": "markdown",
   "metadata": {},
   "source": [
    "We can see that all the pieces are drawn, but they are not placed at the correct position, which is normal since we haven't even tried to solve the problem yet!\n",
    "\n",
    "But this is already looking good and this static visualization lets us verify quickly whether or not a solution is valid."
   ]
  },
  {
   "cell_type": "markdown",
   "metadata": {},
   "source": [
    "### Rotating the triangles\n",
    "\n",
    "You must have noticed the magic `0` number as the last element of the triangle tuple when creating a permutation of the `Board`.\n",
    "\n",
    "This number can take the values `[0, 1, 2]` and corresponds to the rotation of a triangle. To make it simple, we order the three colors of the triangles from 0 to 2, with 0 corresponding to the color at the \"bottom\" of the triangle.\n",
    "\n",
    "Difficult to visualize? No problem, we can create a new sketch for that purpose!\n",
    "\n",
    "Since we want to visualize the rotation of the triangle, let's add another library to our toolbet: [tween.js](https://github.com/tweenjs/tween.js/). With tween.js, we can create tweens which are convenient helpers to create interpolations between values. "
   ]
  },
  {
   "cell_type": "code",
   "execution_count": null,
   "metadata": {},
   "outputs": [],
   "source": [
    "%%javascript\n",
    "\n",
    "require.config({\n",
    "    paths: {\n",
    "        tween: 'https://cdnjs.cloudflare.com/ajax/libs/tween.js/17.1.1/Tween.min'\n",
    "    }\n",
    "});"
   ]
  },
  {
   "cell_type": "markdown",
   "metadata": {},
   "source": [
    "Now let's define a sketch showcasing the use of tween.js with our triangles."
   ]
  },
  {
   "cell_type": "code",
   "execution_count": null,
   "metadata": {},
   "outputs": [],
   "source": [
    "%%javascript\n",
    "\n",
    "createSketchView('RotateDemo', ['tween', 'triangles'], (Tween, Triangles, model) => {\n",
    "    const W = 300; const H = 150;\n",
    "    \n",
    "    return (p) => {\n",
    "        let obj = { angle: 0 };\n",
    "        let T = Triangles(p);\n",
    "        let rotateButton;\n",
    "        \n",
    "        let tweenGroup = new Tween.Group();\n",
    "        let t = new Tween.Tween(obj, tweenGroup)\n",
    "                    .to({angle: \"+\" + (p.TWO_PI / 3)}, 500)\n",
    "                    .easing(Tween.Easing.Quadratic.InOut)\n",
    "                    .onStart(() => t.running = true)\n",
    "                    .onComplete(() => t.running = false)\n",
    "        \n",
    "        function rotate () {\n",
    "            if (t.running) return;\n",
    "            t.start();\n",
    "        }\n",
    "        \n",
    "        model.on('change:rotations', rotate);\n",
    "\n",
    "        p.setup = function(){\n",
    "            p.createCanvas(W, H);\n",
    "        }\n",
    "\n",
    "        p.draw = function () {\n",
    "            tweenGroup.update();\n",
    "            p.background('#ddd');\n",
    "            p.translate(W / 3, H / 2);\n",
    "            p.push();\n",
    "            p.rotate(obj.angle);\n",
    "            T.drawTriangle([0, 1, 2], 0);\n",
    "            p.pop();\n",
    "            p.push();\n",
    "            p.translate(W / 3, 0);\n",
    "            p.rotate(-obj.angle);\n",
    "            T.drawTriangle([3, 4, 5], 0);\n",
    "            p.pop();\n",
    "        }\n",
    "    };\n",
    "});"
   ]
  },
  {
   "cell_type": "code",
   "execution_count": null,
   "metadata": {},
   "outputs": [],
   "source": [
    "class RotateDemo(Board):\n",
    "    _view_name = Unicode('RotateDemoView').tag(sync=True)\n",
    "    _view_module = Unicode('RotateDemo').tag(sync=True)\n",
    "    _view_module_version = Unicode('0.1.0').tag(sync=True)\n",
    "    _model_name = Unicode('RotateDemoModel').tag(sync=True)\n",
    "    _model_module = Unicode('RotateDemo').tag(sync=True)\n",
    "    _model_module_version = Unicode('0.1.0').tag(sync=True)\n",
    "    rotations = Int(0).tag(sync=True)"
   ]
  },
  {
   "cell_type": "code",
   "execution_count": null,
   "metadata": {
    "scrolled": false
   },
   "outputs": [],
   "source": [
    "rotate_button = widgets.Button(description=\"Rotate the triangles\")\n",
    "\n",
    "def on_button_clicked(b):\n",
    "    rotate_demo.rotations += 1\n",
    "\n",
    "rotate_button.on_click(on_button_clicked)\n",
    "rotate_demo = RotateDemo()\n",
    "\n",
    "widgets.HBox([rotate_button, rotate_demo])"
   ]
  },
  {
   "cell_type": "markdown",
   "metadata": {},
   "source": [
    "### Animated Board\n",
    "\n",
    "As stated above, the goal is to also create an animation of the solving process.\n",
    "\n",
    "\n",
    "Similar to the previous examples, we can define a new require module called `animatedBoard`."
   ]
  },
  {
   "cell_type": "code",
   "execution_count": null,
   "metadata": {},
   "outputs": [],
   "source": [
    "%%javascript\n",
    "\n",
    "defineModule('animationUtils', ['settings', 'triangles', 'lodash'], (Settings, triangles, _) => {\n",
    "    const {ANIM_W, N_TRIANGLES} = Settings;\n",
    "    \n",
    "    return {\n",
    "        // positions around the big triangles (outside)\n",
    "        outPositions: _.range(N_TRIANGLES).map(i => {\n",
    "            return {\n",
    "                x: ANIM_W * 0.3 + (i % 4) * 100,\n",
    "                y: Math.floor(i / 4) * 100,\n",
    "                r: 0,\n",
    "                f: 0,\n",
    "            };\n",
    "        }),\n",
    "        \n",
    "        // positions of the small triangles inside the big triangle\n",
    "        inPositions: triangles().genTrianglesPos().map(t => _.pick(t, ['x', 'y', 'flip']))\n",
    "    };\n",
    "});"
   ]
  },
  {
   "cell_type": "code",
   "execution_count": null,
   "metadata": {},
   "outputs": [],
   "source": [
    "%%javascript\n",
    "\n",
    "defineModule('animatedBoard',\n",
    "             ['settings', 'animationUtils', 'staticBoard', 'triangles', 'tween', 'lodash'],\n",
    "             (Settings, Utils, StaticBoard, Triangles, Tween, _) => {\n",
    "    \n",
    "    const {ANIM_W, ANIM_H, N_TRIANGLES} = Settings;\n",
    "    \n",
    "    return (p) => {\n",
    "        let tweenGroup = new Tween.Group();\n",
    "        let globalTime = 0;\n",
    "        \n",
    "        let staticBoard = StaticBoard(p);\n",
    "        let triangles = Triangles(p);\n",
    "        \n",
    "        let states = model.get('states');\n",
    "        const [out, pos] = [Utils.outPositions, Utils.inPositions];\n",
    "        \n",
    "        // arrays of positions to create the tweens (animations)\n",
    "        let start = _.range(N_TRIANGLES).map(i => ({x: 0, y: 0, r: 0, f: 0}));\n",
    "        let end = _.range(N_TRIANGLES).map(i => ({x: 0, y: 0, r: 0, f: 0}));\n",
    "        \n",
    "        // store the triangles moving at each turn to display them on top of the others\n",
    "        let moving = [];\n",
    "        \n",
    "        function findPos(triangleId, state) {\n",
    "            return state.findIndex(e => (e && e[0] === triangleId));\n",
    "        }\n",
    "\n",
    "        function transitionState(curr) {\n",
    "            const [from, to] = [states[curr], states[curr + 1]];\n",
    "            _.range(N_TRIANGLES).forEach(i => {\n",
    "                \n",
    "                const [startPos, endPos] = [findPos(i, from), findPos(i, to)];\n",
    "                \n",
    "                // on the board\n",
    "                if (startPos > -1 && endPos > -1) {\n",
    "                    _.assign(start[i], {x: pos[startPos].x, y: pos[startPos].y, r: from[startPos][1], f: pos[startPos].flip});\n",
    "                    _.assign(end[i], {x: pos[endPos].x, y: pos[endPos].y, r: to[endPos][1], f: pos[endPos].flip});\n",
    "                    return;\n",
    "                }\n",
    "                \n",
    "                // not in current state but in the next one\n",
    "                if (startPos < 0 && endPos > -1) {\n",
    "                    _.assign(start[i], {x: out[i].x, y: out[i].y, r: out[i].r, f: out[i].f});\n",
    "                    _.assign(end[i], {x: pos[endPos].x, y: pos[endPos].y, r: to[endPos][1], f: pos[endPos].flip});\n",
    "                    return;\n",
    "                }\n",
    "                \n",
    "                // in current state but not in the next one, bring back\n",
    "                if (startPos > -1 && endPos < 0) {\n",
    "                    _.assign(start[i], {x: pos[startPos].x, y: pos[startPos].y, r: from[startPos][1], f: pos[startPos].flip});\n",
    "                    _.assign(end[i], {x: out[i].x, y: out[i].y, r: out[i].r, f: out[i].f});\n",
    "                    return;\n",
    "                }\n",
    "                \n",
    "                // out, no movement\n",
    "                if (startPos < 0 && endPos < 0) {\n",
    "                    _.assign(start[i], {x: out[i].x, y: out[i].y, r: out[i].r, f: out[i].f});\n",
    "                    _.assign(end[i], start[i]);\n",
    "                    return;\n",
    "                }\n",
    "            });\n",
    "\n",
    "            moving = [];\n",
    "            start.forEach((a, i) => {\n",
    "                const b = end[i];\n",
    "                if (a.x != b.x || a.y != b.y || a.r != b.r) {\n",
    "                    moving.push(i);\n",
    "                    new Tween.Tween(a, tweenGroup)\n",
    "                        .to({x: b.x, y: b.y, r: b.r, f: b.f}, animationSpeed)\n",
    "                        .easing(Tween.Easing.Quadratic.InOut)\n",
    "                        .start(globalTime)\n",
    "                }\n",
    "            });\n",
    "            \n",
    "            new Tween.Tween({t: 0}, tweenGroup)\n",
    "                .to({t: animationSpeed}, animationSpeed)\n",
    "                .onComplete(() => {\n",
    "                    if (it >= states.length - 2) return;\n",
    "                    transitionState(curr + Math.min(step, states.length - it - 1));\n",
    "                })\n",
    "                .start(globalTime);\n",
    "            \n",
    "        }\n",
    "        \n",
    "        function setState(stateId) {\n",
    "            tweenGroup.removeAll();\n",
    "            it = Math.max(0, Math.min(stateId, board.states.length - 2));\n",
    "            transitionState(it);\n",
    "            running = false;\n",
    "        }\n",
    "\n",
    "        return {\n",
    "            startAnimation: (startIteration, speed) => {\n",
    "                it = startIteration;\n",
    "                baseSpeed = speed;\n",
    "                animationSpeed = speed;\n",
    "                transitionState(0);\n",
    "            },\n",
    "            draw: () => {\n",
    "                if (running) {\n",
    "                    tweenGroup.update(globalTime);  \n",
    "                    globalTime += Math.min(1000 / p.frameRate(), 33);\n",
    "                }\n",
    "                \n",
    "                p.fill(0);\n",
    "                p.textSize(24);\n",
    "                p.text(`Iteration: ${it}`, 10, 30);\n",
    "                \n",
    "                p.translate(ANIM_W / 4, ANIM_H / 4);\n",
    "                \n",
    "                staticBoard.drawFrame();\n",
    "                \n",
    "                let allTriangles = _.range(N_TRIANGLES);\n",
    "                let staticTriangles = _.difference(allTriangles, moving);\n",
    "                [staticTriangles, moving].forEach(bucket => {\n",
    "                    bucket.forEach(triangleId => {\n",
    "                        const [a, b, c] = board.TRIANGLES[triangleId];\n",
    "                        const {x, y, r, f} = start[triangleId];\n",
    "                        p.push();\n",
    "                        triangles.drawTriangle([a, b, c], x, y, r, f);\n",
    "                        p.pop();\n",
    "                    });\n",
    "                });\n",
    "                staticBoard.drawStaticColors(board);\n",
    "            }\n",
    "        };\n",
    "    };\n",
    "});"
   ]
  },
  {
   "cell_type": "code",
   "execution_count": null,
   "metadata": {},
   "outputs": [],
   "source": [
    "%%javascript\n",
    "\n",
    "createSketchView('AnimatedBoard', ['animatedBoard', 'settings'], (AnimatedBoard, Settings, model) => {\n",
    "    const {ANIM_W, ANIM_H} = Settings;\n",
    "\n",
    "    const W = Math.min(element[0].offsetWidth, 900); \n",
    "    const H = W / (ANIM_W / ANIM_H);\n",
    "\n",
    "    return function(p) {\n",
    "        let board = AnimatedBoard(p);\n",
    "\n",
    "        p.setup = function () {\n",
    "            let canvas = p.createCanvas(W, H);\n",
    "            board.startAnimation(startIteration, speed);\n",
    "        }\n",
    "\n",
    "        p.draw = function () {\n",
    "            p.scale(W / ANIM_W);\n",
    "            p.background('#ddd');\n",
    "            board.draw();\n",
    "        }\n",
    "    };\n",
    "});"
   ]
  },
  {
   "cell_type": "code",
   "execution_count": null,
   "metadata": {},
   "outputs": [],
   "source": [
    "class AnimatedBoard(Board):\n",
    "    _view_name = Unicode('AnimatedBoardView').tag(sync=True)\n",
    "    _view_module = Unicode('AnimatedBoard').tag(sync=True)\n",
    "    _view_module_version = Unicode('0.1.0').tag(sync=True)\n",
    "    _model_name = Unicode('AnimatedBoardModel').tag(sync=True)\n",
    "    _model_module = Unicode('AnimatedBoard').tag(sync=True)\n",
    "    _model_module_version = Unicode('0.1.0').tag(sync=True)\n",
    "    \n",
    "    states = List([]).tag(sync=True)\n",
    "    \n",
    "    def __init__(self, **kwargs):\n",
    "        super().__init__(**kwargs)"
   ]
  },
  {
   "cell_type": "markdown",
   "metadata": {},
   "source": [
    "Let's create a test `AnimatedBoard` for testing."
   ]
  },
  {
   "cell_type": "code",
   "execution_count": null,
   "metadata": {},
   "outputs": [],
   "source": [
    "animated_board = AnimatedBoard(\n",
    "    permutation=[[i, 0] for i in range(N_TRIANGLES)],\n",
    "    states=[\n",
    "        [None] * 16,\n",
    "        [[7, 0]] + [None] * 15,\n",
    "        [[7, 1]] + [None] * 15,\n",
    "        [[7, 2]] + [None] * 15,\n",
    "        [[7, 2], [0, 0]] + [None] * 14,\n",
    "        [[7, 2], [0, 1]] + [None] * 14,\n",
    "        [[7, 2], [0, 2]] + [None] * 14,\n",
    "    ]\n",
    ")\n",
    "animated_board"
   ]
  },
  {
   "cell_type": "code",
   "execution_count": null,
   "metadata": {},
   "outputs": [],
   "source": [
    "from ipywidgets import Layout, Button, Box, VBox, ToggleButton\n",
    "\n",
    "items_layout = Layout(flex='flex-stretch', width='auto')\n",
    "\n",
    "iteration_slider = widgets.IntSlider(max=10000, description='Iteration', layout=Layout(width='100%'))\n",
    "prev_button = Button(description='Previous', button_style='info')\n",
    "next_button = Button(description='Next', button_style='info')\n",
    "play_button = ToggleButton(description='Play / Pause', button_style='info')\n",
    "\n",
    "items = [prev_button, play_button, next_button, iteration_slider]\n",
    "\n",
    "box_layout = Layout(display='flex', flex_flow='row', align_items='stretch', border='solid', width='100%')\n",
    "box = VBox([Box(children=items, layout=box_layout)])\n",
    "box"
   ]
  },
  {
   "cell_type": "markdown",
   "metadata": {},
   "source": [
    "## Recursive Search\n",
    "\n",
    "### Helper functions"
   ]
  },
  {
   "cell_type": "code",
   "execution_count": null,
   "metadata": {},
   "outputs": [],
   "source": [
    "import numpy as np\n",
    "\n",
    "cumsum = np.cumsum([2 * k + 1 for k in range(4)])\n",
    "\n",
    "\n",
    "def pack(j, i, c):\n",
    "    return sum(2 * k + 1 for k in range(j)) + i\n",
    "\n",
    "def tri(j, i, c):\n",
    "    n = pack(j, i, c)\n",
    "    return f'triangles[p[{n}][0]][{c}-p[{n}][1]]'\n",
    "\n",
    "def unpack(triangle_id):\n",
    "    j = next(i for i, s in enumerate(cumsum) if s > triangle_id)\n",
    "    i = 2 * j + 1\n",
    "    k = max(0, triangle_id - cumsum[max(0, j - 1)] )\n",
    "    return (j, i, k)"
   ]
  },
  {
   "cell_type": "markdown",
   "metadata": {},
   "source": [
    "A board is valid if there is not conflicting colors. Some slots can be missing (marked as `None`, meaning not placed yet)."
   ]
  },
  {
   "cell_type": "code",
   "execution_count": null,
   "metadata": {},
   "outputs": [],
   "source": [
    "def generate_valid_triangle(triangle_id, reverse=False):\n",
    "    j, i, k = unpack(triangle_id)\n",
    "    code = []\n",
    "    if k == 0:\n",
    "        # on the left edge\n",
    "        code.append(f'{tri(j, k, 2)} == Board.LEFT[{j}]')\n",
    "\n",
    "    if k == i - 1:\n",
    "        # on the right edge\n",
    "        code.append(f'{tri(j, k, 1)} == Board.RIGHT[{j}]')\n",
    "\n",
    "    if j == 3 and k % 2 == 0:\n",
    "        # on the bottom edge\n",
    "        code.append(f'{tri(j, k, 0)} == Board.BOTTOM[{k//2}]')\n",
    "\n",
    "    if k % 2 == 0:\n",
    "        # normal orientation (facing up)\n",
    "        if j < 3:\n",
    "            # match with line below\n",
    "            code.append(f'(not p[{pack(j + 1, k + 1, 0)}] or {tri(j, k, 0)} == {tri(j + 1, k + 1, 0)})')\n",
    "        if k > 0:\n",
    "            # match with triangle on the left\n",
    "            code.append(f'(not p[{pack(j, k - 1, 2)}] or {tri(j, k, 2)} == {tri(j, k - 1, 2)})')\n",
    "        if k < i - 1:\n",
    "            # match with triangle on the right\n",
    "            code.append(f'(not p[{pack(j, k + 1, 1)}] or {tri(j, k, 1)} == {tri(j, k + 1, 1)})')\n",
    "            \n",
    "    if k % 2 == 1 and reverse:\n",
    "        # reverse orientation (facing down)\n",
    "        # match with line above\n",
    "        code.append(f'(not p[{pack(j - 1, k - 1, 0)}] or {tri(j, k, 0)} == {tri(j - 1, k - 1, 0)})')\n",
    "        # match with triangle on the left\n",
    "        code.append(f'(not p[{pack(j, k - 1, 2)}] or {tri(j, k, 2)} == {tri(j, k - 1, 2)})')\n",
    "        # match with triangle on the right\n",
    "        code.append(f'(not p[{pack(j, k + 1, 1)}] or {tri(j, k, 1)} == {tri(j, k + 1, 1)})')\n",
    "        \n",
    "    return code\n",
    "\n",
    "generate_valid_triangle(0, False)"
   ]
  },
  {
   "cell_type": "code",
   "execution_count": null,
   "metadata": {},
   "outputs": [],
   "source": [
    "def generate_valid_function():\n",
    "    code = []\n",
    "    for n in range(N_TRIANGLES):\n",
    "        _, _, k = unpack(n)\n",
    "        if k % 2 != 0:\n",
    "            continue\n",
    "        code += [f\"(not p[{n}] or ({' and '.join(generate_valid_triangle(n))}))\"]\n",
    "    return 'def is_valid (p):\\n\\treturn ' + ' and '.join(code) + '\\n\\t'\n",
    "\n",
    "\n",
    "code = generate_valid_function()\n",
    "print('Code:')\n",
    "print(code)\n",
    "print('Evaluating the code...')\n",
    "exec(code)\n",
    "assert 'is_valid' in globals()\n",
    "print('done.')"
   ]
  },
  {
   "cell_type": "code",
   "execution_count": null,
   "metadata": {},
   "outputs": [],
   "source": [
    "state = [None for i in range(N_TRIANGLES)]\n",
    "state[0] = [3, 0]\n",
    "print(state)\n",
    "assert not is_valid(state)\n",
    "\n",
    "state[0] = [0, 2]\n",
    "print(state)\n",
    "assert is_valid(state)"
   ]
  },
  {
   "cell_type": "code",
   "execution_count": null,
   "metadata": {},
   "outputs": [],
   "source": [
    "from copy import deepcopy\n",
    "\n",
    "\n",
    "class RecursiveSolver():\n",
    "    '''\n",
    "    Usage\n",
    "    -----\n",
    "    \n",
    "    solver = RecursiveSolver()\n",
    "    solver.run()\n",
    "\n",
    "    solver.board    # state of the board at the end of execution\n",
    "    solver.found()  # returns True if a solution was found \n",
    "    '''\n",
    "    \n",
    "    def __init__(self):\n",
    "        self.reset_state()\n",
    "        \n",
    "    def reset_state(self):\n",
    "        self.board = [None] * N_TRIANGLES\n",
    "        self.used = [0] * N_TRIANGLES\n",
    "        self.log = [deepcopy(self.board)]\n",
    "        self.it = 0\n",
    "        \n",
    "    def _log(self):\n",
    "        self.log.append(deepcopy(self.board))\n",
    "        \n",
    "    def _place(self, i):\n",
    "        self.it += 1\n",
    "        if i == N_TRIANGLES:\n",
    "            return True\n",
    "        \n",
    "        for j in range(N_TRIANGLES - 1, -1, -1):\n",
    "            if self.used[j]:\n",
    "                # piece number j already used\n",
    "                continue\n",
    "                \n",
    "            self.used[j] = 1\n",
    "            \n",
    "            for rot in range(3):\n",
    "                # place the piece on the board\n",
    "                self.board[i] = (j, rot)\n",
    "                self._log()\n",
    "\n",
    "                # stop the recursion if the current configuration\n",
    "                # is not valid or a solution has been found\n",
    "                if is_valid(self.board) and self._place(i + 1):\n",
    "                    return True\n",
    "\n",
    "            # remove the piece from the board\n",
    "            self.board[i] = None\n",
    "            self._log()\n",
    "                \n",
    "            self.used[j] = 0\n",
    "            \n",
    "        return False\n",
    "\n",
    "    def run(self):\n",
    "        self.reset_state()\n",
    "        self._place(0)\n",
    "        return self.board\n",
    "    \n",
    "    def found(self):\n",
    "        return all(slot is not None for slot in self.board)"
   ]
  },
  {
   "cell_type": "code",
   "execution_count": null,
   "metadata": {},
   "outputs": [],
   "source": [
    "%%time\n",
    "\n",
    "solver = RecursiveSolver()\n",
    "res = solver.run()\n",
    "if solver.found():\n",
    "    print('Solution found')\n",
    "    print(res)\n",
    "    print(f'{len(solver.log)} actions')\n",
    "    send_to_js('recursive', Board(res, solver.log))\n",
    "else:\n",
    "    print('No solution found')"
   ]
  },
  {
   "cell_type": "markdown",
   "metadata": {},
   "source": [
    "A solution was found!\n",
    "\n",
    "We can also double check the first states of the log that will be used for the animation."
   ]
  },
  {
   "cell_type": "code",
   "execution_count": null,
   "metadata": {},
   "outputs": [],
   "source": [
    "for s in solver.log[:10]:\n",
    "    print(s)"
   ]
  },
  {
   "cell_type": "code",
   "execution_count": null,
   "metadata": {},
   "outputs": [],
   "source": [
    "%%javascript\n",
    "\n",
    "drawStaticBoard('solution-recursive', 'recursive', element)"
   ]
  },
  {
   "cell_type": "code",
   "execution_count": null,
   "metadata": {
    "scrolled": false
   },
   "outputs": [],
   "source": [
    "%%javascript\n",
    "\n",
    "animateBoard('animation-recursive', 'recursive', element, 0, 2500)"
   ]
  },
  {
   "cell_type": "markdown",
   "metadata": {},
   "source": [
    "And with the real physical pieces:\n",
    "\n",
    "![Real Puzzle Solution](./img/bermuda_triangle_solved.jpg)"
   ]
  },
  {
   "cell_type": "markdown",
   "metadata": {},
   "source": [
    "## Summary\n",
    "\n",
    "In this notebook, we managed to combine all the core strengths of Javascript, Python and the Jupyter Notebook to create a custom and interactive walkthrough of the resolution of a puzzle.\n",
    "\n",
    "The core logic and the resolution of the problem can be implemented in Python. On the other hand the rendering and visual feedback can be delegated to Javascript (which excels at it), making once again the best out of the tools at our disposition.\n",
    "Finally, the Jupyter Notebook acts as the glue between the two worlds.\n",
    "\n",
    "There are however a couple of things that can be improved for this workflow that I am going to list below without particular order:\n",
    "\n",
    "- Transfering data from Python to Javascript (in our case the JSON blob sent from Python to Javascript) is not convenient and has to go through the use of the \"shared global `window` memory. Instead it would make more sense to implement a [Jupyter Widget](https://github.com/jupyter-widgets/ipywidgets) to benefit from the underlying Websockets communication at the core of the notebook itself. With a widget, all the code can be written in Python and the Javascript details are abstracted away.\n",
    "- The setup code at the beginning of the notebook and the animations were tailored for this specific problem and not really designed with reusability in mind. One could built a mini-libraries of such helper functions on the side that can be imported in the notebook (as Python packages or by executing the content of a Javascript file).\n",
    "- Does it work in JupyterLab? At the moment of writing it's a no (sadly), as arbitrary execution of Javascript is prohibited. I haven't looked into this in details yet but there surely will be (or already is) a way to integrate with Javascript libraries as JupyterLab extensions.\n",
    "\n",
    "## References and going further\n",
    "\n",
    "I underwent quite a lot of research to find an existing library that would fit my needs (low level rendering to draw custom shapes, with interactivity). There are already some projects implementing similar use cases, but all still specific in some way:\n",
    "\n",
    "- [Jake VanderPlas: The Python Visualization Landscape PyCon 2017](https://www.youtube.com/watch?v=FytuB8nFHPQ)\n",
    "- Drawing from the presentation made by Nicolas P. Rougier: https://github.com/rougier/python-visualization-landscape\n",
    "- [pythreejs](https://github.com/jovyan/pythreejs): Implemented as an Jupyter Widget\n",
    "- [bqplot](https://github.com/bloomberg/bqplot): Great library for interactive data exploration\n",
    "- [matplotlib patches](https://matplotlib.org/gallery/api/patch_collection.html?highlight=circles%20wedges%20polygons): Draw primitive shapes\n",
    "- Let's create a **pyp5** Python package?  `¯\\_(ツ)_/¯`"
   ]
  }
 ],
 "metadata": {
  "anaconda-cloud": {},
  "kernelspec": {
   "display_name": "Python 3",
   "language": "python",
   "name": "python3"
  },
  "language_info": {
   "codemirror_mode": {
    "name": "ipython",
    "version": 3
   },
   "file_extension": ".py",
   "mimetype": "text/x-python",
   "name": "python",
   "nbconvert_exporter": "python",
   "pygments_lexer": "ipython3",
   "version": "3.6.4"
  }
 },
 "nbformat": 4,
 "nbformat_minor": 1
}
