{
 "cells": [
  {
   "cell_type": "markdown",
   "metadata": {
    "slideshow": {
     "slide_type": "slide"
    }
   },
   "source": [
    "# p5.js in the Jupyter Notebook for custom interactive visualizations \n",
    "\n",
    "## by Jeremy Tuloup\n",
    "\n",
    "- [@jtpio](https://twitter.com/jtpio)\n",
    "- [jtp.io](https://jtp.io)\n",
    "\n",
    "#### PyData Berlin Meetup - February 2018"
   ]
  },
  {
   "cell_type": "markdown",
   "metadata": {
    "slideshow": {
     "slide_type": "slide"
    }
   },
   "source": [
    "##  The Python Visualization Landscape"
   ]
  },
  {
   "cell_type": "markdown",
   "metadata": {
    "slideshow": {
     "slide_type": "subslide"
    }
   },
   "source": [
    "![Python Landscape](./img/python_viz_landscape.png)"
   ]
  },
  {
   "cell_type": "markdown",
   "metadata": {
    "slideshow": {
     "slide_type": "slide"
    }
   },
   "source": [
    "## What is p5.js?\n",
    "\n",
    "- JS client-side library for creating graphic and interactive experiences\n",
    "- Based on the core principles of Processing\n",
    "- More infos on the website: [https://p5js.org](https://p5js.org)"
   ]
  },
  {
   "cell_type": "markdown",
   "metadata": {
    "slideshow": {
     "slide_type": "subslide"
    }
   },
   "source": [
    "![P5 Editor](./img/p5.png)\n",
    "\n",
    "[http://alpha.editor.p5js.org/p5/sketches/BygPr3zaZYW](http://alpha.editor.p5js.org/p5/sketches/BygPr3zaZYW)"
   ]
  },
  {
   "cell_type": "markdown",
   "metadata": {
    "slideshow": {
     "slide_type": "slide"
    }
   },
   "source": [
    "## How to execute Javascript code in the Jupyter Notebook?\n",
    "\n",
    "\n",
    "- Use the `%%javascript` cell magic"
   ]
  },
  {
   "cell_type": "code",
   "execution_count": null,
   "metadata": {
    "slideshow": {
     "slide_type": "subslide"
    }
   },
   "outputs": [],
   "source": [
    "%%javascript\n",
    "\n",
    "// type your Javascript code here\n",
    "\n",
    "let myVar = 'test'\n",
    "element.text(myVar)"
   ]
  },
  {
   "cell_type": "markdown",
   "metadata": {
    "slideshow": {
     "slide_type": "slide"
    }
   },
   "source": [
    "## How to use p5.js in the Jupyter Notebook?\n",
    "\n",
    "- Using require.js\n",
    "- p5.js: rendering on the canvas\n",
    "- p5.dom: creating dom elements\n",
    "- lodash: utility library with many high order functions"
   ]
  },
  {
   "cell_type": "code",
   "execution_count": null,
   "metadata": {
    "slideshow": {
     "slide_type": "subslide"
    }
   },
   "outputs": [],
   "source": [
    "%%javascript\n",
    "require.config({\n",
    "    paths: {\n",
    "        'p5': 'https://cdnjs.cloudflare.com/ajax/libs/p5.js/0.6.0/p5.min',\n",
    "        'p5.dom': 'https://cdnjs.cloudflare.com/ajax/libs/p5.js/0.6.0/addons/p5.dom.min',\n",
    "        'lodash': 'https://cdnjs.cloudflare.com/ajax/libs/lodash.js/4.17.4/lodash.min'\n",
    "    }\n",
    "});"
   ]
  },
  {
   "cell_type": "code",
   "execution_count": null,
   "metadata": {
    "slideshow": {
     "slide_type": "subslide"
    }
   },
   "outputs": [],
   "source": [
    "%%javascript\n",
    "\n",
    "window.defineModule = function (name, dependencies, module) {\n",
    "    // force the recreation of the module\n",
    "    // (when re-executing a cell for example)\n",
    "    require.undef(name);\n",
    "    \n",
    "    define(name, dependencies, module);\n",
    "};"
   ]
  },
  {
   "cell_type": "code",
   "execution_count": null,
   "metadata": {
    "slideshow": {
     "slide_type": "subslide"
    }
   },
   "outputs": [],
   "source": [
    "%%javascript\n",
    "\n",
    "window.createSketch = function (cell, name, dependencies, module) {\n",
    "    // global store for sketches, lazily created\n",
    "    window.sketches = window.sketches || {};\n",
    "    \n",
    "    // remove existing sketch if it already exists\n",
    "    $(`${name}`).remove();\n",
    "    cell.append(`<div id=\"${name}\" style=\"text-align: center;\"></div>`);\n",
    "    \n",
    "    // stop the existing sketch\n",
    "    let sketch = window.sketches[name];\n",
    "    if (sketch) {\n",
    "        sketch.remove();\n",
    "    }\n",
    "    \n",
    "    require(['p5', 'p5.dom'], (p5, p5dom) => {\n",
    "        require(dependencies, function(...deps) {\n",
    "            let sketch = module(...deps);\n",
    "            window.sketches[name] = new p5(sketch, name);\n",
    "            console.log(`sketch ${name} created`);\n",
    "        })\n",
    "    });\n",
    "}"
   ]
  },
  {
   "cell_type": "code",
   "execution_count": null,
   "metadata": {
    "slideshow": {
     "slide_type": "subslide"
    }
   },
   "outputs": [],
   "source": [
    "%%javascript\n",
    "\n",
    "defineModule('testModule', [], () => {\n",
    "    const W = 500;\n",
    "    const H = 500;\n",
    "    \n",
    "    return {W, H};\n",
    "})"
   ]
  },
  {
   "cell_type": "code",
   "execution_count": null,
   "metadata": {
    "slideshow": {
     "slide_type": "subslide"
    }
   },
   "outputs": [],
   "source": [
    "%%javascript\n",
    "\n",
    "createSketch(element, 'test-sketch', ['testModule'], function (testModule) {\n",
    "    return function(p) {\n",
    "        const {W, H} = testModule;\n",
    "        const [CX, CY] = [W / 2, H / 2];\n",
    "        \n",
    "        p.setup = function(){\n",
    "            p.createCanvas(W, H);\n",
    "            p.rectMode(p.CENTER);\n",
    "        }\n",
    "\n",
    "        p.draw = function () {\n",
    "            p.background('#ddd');\n",
    "            p.translate(CX, CY);\n",
    "            p.fill(255, 0, 0);\n",
    "            p.rect(0, 0, 200, 200); \n",
    "        }\n",
    "    };\n",
    "});"
   ]
  },
  {
   "cell_type": "code",
   "execution_count": null,
   "metadata": {
    "slideshow": {
     "slide_type": "subslide"
    }
   },
   "outputs": [],
   "source": [
    "%%javascript\n",
    "\n",
    "createSketch(element, 'test-sketch-3d', ['testModule', 'lodash'], function (testModule, _) {\n",
    "    return function(p) {\n",
    "        const {W, H} = testModule;\n",
    "        \n",
    "        p.setup = function(){\n",
    "            p.createCanvas(W, H, p.WEBGL);\n",
    "        }\n",
    "\n",
    "        p.draw = function () {\n",
    "            p.background('#ddd');\n",
    "            let t = p.frameCount;\n",
    "            let n = 10;\n",
    "            p.randomSeed(42);\n",
    "            _.range(n).forEach(i => {\n",
    "                const R = 180// + 30 * p.sin(t * 0.2 + i);\n",
    "                const x = R * p.cos(i * p.TWO_PI / n);\n",
    "                const y = R * p.sin(i* p.TWO_PI / n);\n",
    "                p.push();\n",
    "                p.translate(x, y);\n",
    "                p.fill(p.random(255), p.random(255), p.random(255));\n",
    "                p.rotateY(t * 0.05 + i);\n",
    "                p.box(50);\n",
    "                p.pop();\n",
    "            });\n",
    "        }\n",
    "    };\n",
    "});"
   ]
  },
  {
   "cell_type": "markdown",
   "metadata": {
    "slideshow": {
     "slide_type": "slide"
    }
   },
   "source": [
    "## Example with the Bermuda Triangle Puzzle"
   ]
  },
  {
   "cell_type": "markdown",
   "metadata": {
    "slideshow": {
     "slide_type": "subslide"
    }
   },
   "source": [
    "![Bermuda Triangle Puzzle](./img/bermuda_triangle_puzzle.jpg)"
   ]
  },
  {
   "cell_type": "markdown",
   "metadata": {
    "slideshow": {
     "slide_type": "subslide"
    }
   },
   "source": [
    "## How to solve it?"
   ]
  },
  {
   "cell_type": "markdown",
   "metadata": {
    "slideshow": {
     "slide_type": "fragment"
    }
   },
   "source": [
    "1. Play with it\n",
    "2. Manual brute-force\n",
    "3. Brute-force program\n",
    "4. Stochastic search. Refer to [Aristotle Number Puzzle](https://jtp.io/2017/01/12/aristotle-number-puzzle.html) and the [Nine-Color Cube](https://jtp.io/2017/05/10/nine-color-cube.html) for more details."
   ]
  },
  {
   "cell_type": "markdown",
   "metadata": {
    "slideshow": {
     "slide_type": "slide"
    }
   },
   "source": [
    "## Strategy\n",
    "\n",
    "1. Model the puzzle\n",
    "2. Draw a static state\n",
    "3. Animate the state transitions\n",
    "4. Solve the problem and log the steps"
   ]
  },
  {
   "cell_type": "markdown",
   "metadata": {
    "slideshow": {
     "slide_type": "slide"
    }
   },
   "source": [
    "## Model\n",
    "\n",
    "Back to Python!"
   ]
  },
  {
   "cell_type": "code",
   "execution_count": null,
   "metadata": {
    "slideshow": {
     "slide_type": "subslide"
    }
   },
   "outputs": [],
   "source": [
    "N_TRIANGLES = 16\n",
    "IDS = list(range(N_TRIANGLES))\n",
    "N_COLORS = 6\n",
    "WHITE, BLUE, YELLOW, GREEN, BLACK, RED = range(N_COLORS)\n",
    "\n",
    "# list the pieces, turning anti-clockwise for the colors\n",
    "# The number at the last position of the tuple indicate the number\n",
    "# of identical pieces (cf photo above)\n",
    "triangles_count = [\n",
    "    (WHITE, BLUE, BLUE, 1),\n",
    "    (WHITE, YELLOW, GREEN, 2),  # 2 of these\n",
    "    (WHITE, BLACK, BLUE, 2),  # 2 of these\n",
    "    (WHITE, GREEN, RED, 1),\n",
    "    (WHITE, RED, YELLOW, 1),\n",
    "    (WHITE, WHITE, BLUE, 1),\n",
    "    (BLACK, GREEN, RED, 1),\n",
    "    (BLACK, RED, GREEN, 2),  # 2 of these\n",
    "    (BLACK, BLACK, GREEN, 1),\n",
    "    (BLACK, GREEN, YELLOW, 1),\n",
    "    (BLACK, YELLOW, BLUE, 1),\n",
    "    (GREEN, RED, YELLOW, 1),\n",
    "    (BLUE, GREEN, YELLOW, 1)\n",
    "]\n",
    "\n",
    "assert N_TRIANGLES == sum(t[-1] for t in triangles_count)"
   ]
  },
  {
   "cell_type": "code",
   "execution_count": null,
   "metadata": {
    "slideshow": {
     "slide_type": "subslide"
    }
   },
   "outputs": [],
   "source": [
    "triangles = tuple([t[:-1] for t in triangles_count for times in range(t[-1])])\n",
    "print(triangles)\n",
    "\n",
    "assert N_TRIANGLES == len(triangles)"
   ]
  },
  {
   "cell_type": "markdown",
   "metadata": {
    "slideshow": {
     "slide_type": "slide"
    }
   },
   "source": [
    "### Board"
   ]
  },
  {
   "cell_type": "code",
   "execution_count": null,
   "metadata": {
    "slideshow": {
     "slide_type": "subslide"
    }
   },
   "outputs": [],
   "source": [
    "import json\n",
    "\n",
    "class Board:\n",
    "    TRIANGLES = triangles\n",
    "    LEFT = (WHITE, RED, WHITE, YELLOW)\n",
    "    RIGHT = (BLUE, RED, GREEN, BLACK)\n",
    "    BOTTOM = (GREEN, GREEN, WHITE, GREEN)\n",
    "    \n",
    "    def __init__(self, permutation, states=[]):\n",
    "        self.permutation = list(permutation)\n",
    "        self.repr = [triangles[p[0]] + (p[1],) for p in self.permutation]\n",
    "        self.states = states\n",
    "        \n",
    "    def __str__(self):\n",
    "        return json.dumps({\n",
    "            'TRIANGLES': self.TRIANGLES,\n",
    "            'LEFT': self.LEFT,\n",
    "            'RIGHT': self.RIGHT,\n",
    "            'BOTTOM': self.BOTTOM,\n",
    "            'repr': self.repr,\n",
    "            'permutation': self.permutation,\n",
    "            'states': self.states,\n",
    "        })\n",
    "    \n",
    "    def __repr__(self):\n",
    "        return f'{self.__class__.__name__}({self.permutation})'"
   ]
  },
  {
   "cell_type": "code",
   "execution_count": null,
   "metadata": {
    "slideshow": {
     "slide_type": "subslide"
    }
   },
   "outputs": [],
   "source": [
    "%%javascript\n",
    "window.kv = {};"
   ]
  },
  {
   "cell_type": "code",
   "execution_count": null,
   "metadata": {
    "slideshow": {
     "slide_type": "subslide"
    }
   },
   "outputs": [],
   "source": [
    "from IPython.display import Javascript\n",
    "\n",
    "def send_to_js(key, value):\n",
    "    display(Javascript(f'window.kv.{key} = {value};'))"
   ]
  },
  {
   "cell_type": "code",
   "execution_count": null,
   "metadata": {
    "slideshow": {
     "slide_type": "subslide"
    }
   },
   "outputs": [],
   "source": [
    "send_to_js('defaultBoard', Board([i, 0] for i in range(N_TRIANGLES)))"
   ]
  },
  {
   "cell_type": "markdown",
   "metadata": {
    "slideshow": {
     "slide_type": "slide"
    }
   },
   "source": [
    "## Drawing the state"
   ]
  },
  {
   "cell_type": "code",
   "execution_count": null,
   "metadata": {
    "slideshow": {
     "slide_type": "subslide"
    }
   },
   "outputs": [],
   "source": [
    "%%javascript\n",
    "\n",
    "// define a list of constant such as the size of the base canvas,\n",
    "// the size of the triangles, colors...\n",
    "defineModule('settings', [], () => {\n",
    "    const ANIM_W = 800;\n",
    "    const ANIM_H = ANIM_W / 1.6;\n",
    "    const N_TRIANGLES = 16;\n",
    "    const COLORS = ['#fff', '#00f', '#ff0', '#0f0', '#000', '#f00'];\n",
    "    const WOOD_COLOR = '#825201';\n",
    "    const R = 50;\n",
    "    const r = R / 2;\n",
    "    const CR = r / 2;\n",
    "    const OFFSET_X = R * Math.sqrt(3) * 0.5;\n",
    "    const OFFSET_Y = 1.5 * R;\n",
    "    \n",
    "    return {ANIM_W, ANIM_H, N_TRIANGLES, WOOD_COLOR,\n",
    "            COLORS, R, r, CR, OFFSET_X, OFFSET_Y};\n",
    "})"
   ]
  },
  {
   "cell_type": "code",
   "execution_count": null,
   "metadata": {
    "slideshow": {
     "slide_type": "subslide"
    }
   },
   "outputs": [],
   "source": [
    "%%javascript\n",
    "\n",
    "defineModule('triangles', ['settings'], (settings) => {\n",
    "    const {COLORS, WOOD_COLOR, R, r, CR, OFFSET_X, OFFSET_Y} = settings;\n",
    "    \n",
    "    function _getPoints(n, startAngle, radius) {\n",
    "        let points = [];\n",
    "        const da = 2 * Math.PI / n;\n",
    "        for (let i = 0; i < n; i++) {\n",
    "            const angle = startAngle - i * da;\n",
    "            const x = radius * Math.cos(angle);\n",
    "            const y = radius * Math.sin(angle);\n",
    "            points.push(x);\n",
    "            points.push(y);\n",
    "        }\n",
    "        return points;\n",
    "    }\n",
    "    \n",
    "    return (p) => {\n",
    "        return {\n",
    "            getTrianglePoints: _getPoints,\n",
    "            genTrianglesPos: function () {\n",
    "                let positions = [];\n",
    "                let id = 0;\n",
    "                for (let row = 0; row < 4; row++) {\n",
    "                    const n_row = 2 * row + 1;\n",
    "                    for (let col = 0; col < n_row; col++) {\n",
    "                        const x = (col - row) * OFFSET_X;\n",
    "                        const flip = (id + row) % 2;\n",
    "                        const y = row * OFFSET_Y + ((flip == 1) ? -R/2 : 0);\n",
    "                        positions.push({id, x, y, flip, row, col, n_row});\n",
    "                        id++;\n",
    "                    }\n",
    "                }\n",
    "                return positions;\n",
    "            },\n",
    "            drawTriangle: function (colors, x, y, rotation, flip=0) {\n",
    "                const n = colors.length;\n",
    "                \n",
    "                p.fill(WOOD_COLOR);\n",
    "                p.push();\n",
    "                p.translate(x, y);\n",
    "                p.rotate(-rotation * p.TWO_PI / 3 + flip * p.PI);\n",
    "                \n",
    "                p.triangle(..._getPoints(n, Math.PI / 6, R));\n",
    "\n",
    "                let circles = _getPoints(n, Math.PI / 2, 1.25 * CR);\n",
    "                for (let i = 0; i < n; i++) {\n",
    "                    const xx = circles[2*i];\n",
    "                    const yy = circles[2*i+1];\n",
    "                    const color = COLORS[colors[i]];\n",
    "                    p.fill(color);\n",
    "                    p.ellipse(xx, yy, CR);\n",
    "                }\n",
    "                p.pop();\n",
    "            }\n",
    "        };\n",
    "    };\n",
    "});"
   ]
  },
  {
   "cell_type": "code",
   "execution_count": null,
   "metadata": {
    "slideshow": {
     "slide_type": "subslide"
    }
   },
   "outputs": [],
   "source": [
    "%%javascript\n",
    "\n",
    "createSketch(element, 'oneTriangle', ['triangles'], function (Triangles) {\n",
    "        const [W, H] = [400, 400];\n",
    "\n",
    "        return function(p) {\n",
    "            let triangles = Triangles(p);\n",
    "\n",
    "            p.setup = function(){\n",
    "                p.createCanvas(W, H);\n",
    "                p.noLoop();\n",
    "            }\n",
    "\n",
    "            p.draw = function () {\n",
    "                p.background('#ddd');\n",
    "                p.push();\n",
    "                triangles.drawTriangle([0, 1, 2], W / 2, H / 2, 0, 0);\n",
    "                p.pop();\n",
    "            }\n",
    "        };\n",
    "    });"
   ]
  },
  {
   "cell_type": "markdown",
   "metadata": {
    "slideshow": {
     "slide_type": "slide"
    }
   },
   "source": [
    "### Static Board"
   ]
  },
  {
   "cell_type": "code",
   "execution_count": null,
   "metadata": {
    "slideshow": {
     "slide_type": "subslide"
    }
   },
   "outputs": [],
   "source": [
    "%%javascript\n",
    "\n",
    "defineModule('staticBoard', ['settings', 'triangles'], (Settings, Triangles) => {\n",
    "    let {COLORS, R, CR, OFFSET_X, OFFSET_Y} = Settings;\n",
    "    \n",
    "    return (p) => {\n",
    "        let triangles = Triangles(p);\n",
    "        \n",
    "        function _drawStaticColors (board) {\n",
    "            for (let {id, x, y, row, col, n_row} of triangles.genTrianglesPos()) {\n",
    "                if (col === 0) {\n",
    "                    const left = COLORS[board.LEFT[row]];\n",
    "                    const right = COLORS[board.RIGHT[row]];\n",
    "                    p.fill(left);\n",
    "                    p.ellipse(x - OFFSET_X, y - R / 2, CR);\n",
    "                    p.fill(right);\n",
    "                    p.ellipse(x + n_row * OFFSET_X, y - R / 2, CR);\n",
    "                }\n",
    "                          \n",
    "                if (row === 3 && col % 2 == 0) {\n",
    "                    p.fill(COLORS[board.BOTTOM[parseInt(col / 2, 10)]]);\n",
    "                    p.ellipse(x, 3.75 * OFFSET_Y, CR);\n",
    "                }\n",
    "            }\n",
    "        }\n",
    "        \n",
    "        function _drawFrame () {\n",
    "            const positions = triangles.genTrianglesPos();\n",
    "            const mid = positions[6];\n",
    "            p.push();\n",
    "            p.noFill();\n",
    "            p.stroke(0);\n",
    "            p.strokeWeight(2);\n",
    "            p.translate(mid.x, mid.y);\n",
    "            p.triangle(...triangles.getTrianglePoints(3, Math.PI / 6, 4 * R));\n",
    "            p.pop();\n",
    "        }\n",
    "        \n",
    "        return {\n",
    "            drawStaticColors: _drawStaticColors,\n",
    "            drawFrame: _drawFrame,\n",
    "            drawBoard: (boardName) => {\n",
    "                const board = window.kv[boardName];\n",
    "                const repr = board.repr;\n",
    "                \n",
    "                _drawFrame();\n",
    "                for (let {id, x, y, flip} of triangles.genTrianglesPos()) {\n",
    "                    let [a, b, c, rot] = repr[id];\n",
    "                    p.push();\n",
    "                    triangles.drawTriangle([a, b, c], x, y, rot, flip);\n",
    "                    p.pop();\n",
    "                }\n",
    "                \n",
    "                _drawStaticColors(board);\n",
    "            }\n",
    "        };\n",
    "    };\n",
    "});"
   ]
  },
  {
   "cell_type": "code",
   "execution_count": null,
   "metadata": {
    "scrolled": false,
    "slideshow": {
     "slide_type": "subslide"
    }
   },
   "outputs": [],
   "source": [
    "%%javascript\n",
    "\n",
    "window.drawStaticBoard = function (name, boardName, element) {\n",
    "    createSketch(element, name, ['staticBoard'], function (StaticBoard) {\n",
    "        const [W, H] = [400, 400];\n",
    "\n",
    "        return function(p) {\n",
    "            let staticBoard = StaticBoard(p);\n",
    "\n",
    "            p.setup = function(){\n",
    "                p.createCanvas(W, H);\n",
    "                p.noLoop();\n",
    "            }\n",
    "\n",
    "            p.draw = function () {\n",
    "                p.background('#ddd');\n",
    "                p.push();\n",
    "                p.translate(W / 2, H / 4);\n",
    "                staticBoard.drawBoard(boardName);\n",
    "                p.pop();\n",
    "            }\n",
    "        };\n",
    "    });\n",
    "}"
   ]
  },
  {
   "cell_type": "code",
   "execution_count": null,
   "metadata": {
    "slideshow": {
     "slide_type": "subslide"
    }
   },
   "outputs": [],
   "source": [
    "send_to_js('staticBoardTest', Board([i, 1] for i in range(N_TRIANGLES)))"
   ]
  },
  {
   "cell_type": "code",
   "execution_count": null,
   "metadata": {
    "scrolled": false,
    "slideshow": {
     "slide_type": "subslide"
    }
   },
   "outputs": [],
   "source": [
    "%%javascript\n",
    "\n",
    "drawStaticBoard('drawTriangles', 'staticBoardTest', element)"
   ]
  },
  {
   "cell_type": "markdown",
   "metadata": {
    "slideshow": {
     "slide_type": "slide"
    }
   },
   "source": [
    "### Rotating the triangles\n",
    "\n",
    "- Encode the rotation as a number in `[0, 1, 2]`\n",
    "- Use Tween.js for the animation"
   ]
  },
  {
   "cell_type": "code",
   "execution_count": null,
   "metadata": {
    "slideshow": {
     "slide_type": "subslide"
    }
   },
   "outputs": [],
   "source": [
    "%%javascript\n",
    "\n",
    "require.config({\n",
    "    paths: {\n",
    "        tween: 'https://cdnjs.cloudflare.com/ajax/libs/tween.js/17.1.1/Tween.min'\n",
    "    }\n",
    "});"
   ]
  },
  {
   "cell_type": "code",
   "execution_count": null,
   "metadata": {
    "slideshow": {
     "slide_type": "subslide"
    }
   },
   "outputs": [],
   "source": [
    "%%javascript\n",
    "\n",
    "createSketch(element, 'rotate-triangle-demo', ['tween', 'triangles'], function (Tween, Triangles) {\n",
    "    const W = 300; const H = 150;\n",
    "    \n",
    "    return (p) => {\n",
    "        let obj = { angle: 0 };\n",
    "        let T = Triangles(p);\n",
    "        let rotateButton;\n",
    "        \n",
    "        let tweenGroup = new Tween.Group();\n",
    "        let t = new Tween.Tween(obj, tweenGroup)\n",
    "                    .to({angle: \"+\" + (p.TWO_PI / 3)}, 500)\n",
    "                    .easing(Tween.Easing.Quadratic.InOut)\n",
    "                    .onStart(() => t.running = true)\n",
    "                    .onComplete(() => t.running = false)\n",
    "        \n",
    "        function rotate () {\n",
    "            if (t.running) return;\n",
    "            t.start();\n",
    "        }\n",
    "\n",
    "        p.setup = function(){\n",
    "            p.createCanvas(W, H);\n",
    "            rotateButton = p.createButton('Rotate');\n",
    "            rotateButton.style('color', '#000');\n",
    "            rotateButton.mousePressed(rotate);\n",
    "            rotateButton.position(150, 10);\n",
    "        }\n",
    "\n",
    "        p.draw = function () {\n",
    "            tweenGroup.update();\n",
    "            p.background('#ddd');\n",
    "            p.translate(W / 3, H / 2);\n",
    "            p.push();\n",
    "            p.rotate(obj.angle);\n",
    "            T.drawTriangle([0, 1, 2], 0);\n",
    "            p.pop();\n",
    "            p.push();\n",
    "            p.translate(W / 3, 0);\n",
    "            p.rotate(-obj.angle);\n",
    "            T.drawTriangle([3, 4, 5], 0);\n",
    "            p.pop();\n",
    "        }\n",
    "    };\n",
    "});"
   ]
  },
  {
   "cell_type": "markdown",
   "metadata": {
    "slideshow": {
     "slide_type": "slide"
    }
   },
   "source": [
    "### Animated Board"
   ]
  },
  {
   "cell_type": "code",
   "execution_count": null,
   "metadata": {
    "slideshow": {
     "slide_type": "subslide"
    }
   },
   "outputs": [],
   "source": [
    "%%javascript\n",
    "\n",
    "defineModule('animatedBoard',\n",
    "             ['settings', 'staticBoard', 'triangles', 'tween', 'lodash'],\n",
    "             (Settings, StaticBoard, Triangles, Tween, _) => {\n",
    "    \n",
    "    const {ANIM_W, ANIM_H, N_TRIANGLES} = Settings;\n",
    "    \n",
    "    return (p) => {\n",
    "        let tweenGroup = new Tween.Group();\n",
    "        let globalTime = 0;\n",
    "        \n",
    "        let staticBoard = StaticBoard(p);\n",
    "        let triangles = Triangles(p);\n",
    "        \n",
    "        let [it, animationSpeed, baseSpeed, step] = [0, 1000, 1000, 1];\n",
    "        let board = null;\n",
    "        \n",
    "        // positions around the big triangles (outside)\n",
    "        const out = _.range(N_TRIANGLES).map(i => {\n",
    "            return {\n",
    "                x: ANIM_W * 0.3 + (i % 4) * 100,\n",
    "                y: Math.floor(i / 4) * 100,\n",
    "                r: 0,\n",
    "                f: 0\n",
    "            };\n",
    "        });\n",
    "        \n",
    "        // positions of the small triangles inside the big triangle\n",
    "        const pos = triangles.genTrianglesPos().map(t => _.pick(t, ['x', 'y', 'flip']));\n",
    "        \n",
    "        // arrays of positions to create the tweens (animations)\n",
    "        let start = _.range(N_TRIANGLES).map(i => ({x: 0, y: 0, r: 0, f: 0}));\n",
    "        let end = _.range(N_TRIANGLES).map(i => ({x: 0, y: 0, r: 0, f: 0}));\n",
    "        \n",
    "        // store the triangles moving at each turn to display them on top of the others\n",
    "        let moving = [];\n",
    "        \n",
    "        function findPos(triangleId, state) {\n",
    "            return state.findIndex(e => (e && e[0] === triangleId));\n",
    "        }\n",
    "\n",
    "        function transitionState(curr) {\n",
    "            const states = board.states;\n",
    "            const [from, to] = [states[curr], states[curr + 1]];\n",
    "            _.range(N_TRIANGLES).forEach(i => {\n",
    "                \n",
    "                const startPos = findPos(i, from);\n",
    "                const endPos = findPos(i, to);\n",
    "                \n",
    "                // one the board\n",
    "                if (startPos > -1 && endPos > -1) {\n",
    "                    _.assign(start[i], {x: pos[startPos].x, y: pos[startPos].y, r: from[startPos][1], f: pos[startPos].flip});\n",
    "                    _.assign(end[i], {x: pos[endPos].x, y: pos[endPos].y, r: to[endPos][1], f: pos[endPos].flip});\n",
    "                    return;\n",
    "                }\n",
    "                \n",
    "                // not in current state but in the next one\n",
    "                if (startPos < 0 && endPos > -1) {\n",
    "                    _.assign(start[i], {x: out[i].x, y: out[i].y, r: out[i].r, f: out[i].f});\n",
    "                    _.assign(end[i], {x: pos[endPos].x, y: pos[endPos].y, r: to[endPos][1], f: pos[endPos].flip});\n",
    "                    return;\n",
    "                }\n",
    "                \n",
    "                // in current state but not in the next one, bring back\n",
    "                if (startPos > -1 && endPos < 0) {\n",
    "                    _.assign(start[i], {x: pos[startPos].x, y: pos[startPos].y, r: from[startPos][1], f: pos[startPos].flip});\n",
    "                    _.assign(end[i], {x: out[i].x, y: out[i].y, r: out[i].r, f: out[i].f});\n",
    "                    return;\n",
    "                }\n",
    "                \n",
    "                // out, no movement\n",
    "                if (startPos < 0 && endPos < 0) {\n",
    "                    _.assign(start[i], {x: out[i].x, y: out[i].y, r: out[i].r, f: out[i].f});\n",
    "                    _.assign(end[i], start[i]);\n",
    "                    return;\n",
    "                }\n",
    "            });\n",
    "\n",
    "            moving = [];\n",
    "            start.forEach((a, i) => {\n",
    "                const b = end[i];\n",
    "                if (a.x != b.x || a.y != b.y || a.r != b.r) {\n",
    "                    moving.push(i);\n",
    "                    new Tween.Tween(a, tweenGroup)\n",
    "                        .to({x: b.x, y: b.y, r: b.r, f: b.f}, animationSpeed)\n",
    "                        .easing(Tween.Easing.Quadratic.InOut)\n",
    "                        .start(globalTime)\n",
    "                }\n",
    "            });\n",
    "            \n",
    "            new Tween.Tween({t: 0}, tweenGroup)\n",
    "                .to({t: animationSpeed}, animationSpeed)\n",
    "                .onComplete(() => {\n",
    "                    if (it >= states.length - 2) return;\n",
    "                    updateIterationNumber(it+1);\n",
    "                    transitionState(curr + Math.min(step, states.length - it - 1));\n",
    "                })\n",
    "                .start(globalTime);\n",
    "            \n",
    "        }\n",
    "        \n",
    "        // controls\n",
    "        let playButton;\n",
    "        let running = true;\n",
    "        let iterationNumber;\n",
    "        \n",
    "        function updateIterationNumber(newIt) {\n",
    "            it = newIt;\n",
    "            iterationNumber.value(it);\n",
    "        }\n",
    "        \n",
    "        function setState(stateId) {\n",
    "            tweenGroup.removeAll();\n",
    "            it = Math.max(0, Math.min(stateId, board.states.length - 2));\n",
    "            updateIterationNumber(it);\n",
    "            transitionState(it);\n",
    "            running = false;\n",
    "        }\n",
    "\n",
    "        return {\n",
    "            init: (boardName) => {\n",
    "                board = window.kv[boardName];\n",
    "                playButton = p.createButton('❚❚');\n",
    "                playButton.style('color', '#000');\n",
    "                playButton.style('width', '50px');\n",
    "                playButton.mousePressed(() => running = !running);\n",
    "                playButton.position(200, 10);\n",
    "                \n",
    "                let prevButton = p.createButton('◄');\n",
    "                prevButton.style('color', '#000');\n",
    "                prevButton.style('width', '50px');\n",
    "                prevButton.mousePressed(() => setState(it-1));\n",
    "                prevButton.position(150, 10);\n",
    "                \n",
    "                let nextButton = p.createButton('►');\n",
    "                nextButton.style('color', '#000');\n",
    "                nextButton.style('width', '50px');\n",
    "                nextButton.mousePressed(() => setState(it+1));\n",
    "                nextButton.position(250, 10);\n",
    "                \n",
    "                _.range(3).forEach(i => {\n",
    "                    let speedRatio = Math.pow(10, i);\n",
    "                    let speedButton = p.createButton(`x${speedRatio}`);\n",
    "                    speedButton.position(320 + 50 * i, 10);\n",
    "                    speedButton.style('width', '50px');\n",
    "                    speedButton.style('color', '#000');\n",
    "                    speedButton.mousePressed(() => animationSpeed = baseSpeed / speedRatio);\n",
    "                });\n",
    "                \n",
    "                iterationNumber = p.createInput();\n",
    "                iterationNumber.position(150, 50);\n",
    "                iterationNumber.style('width', '50px');\n",
    "                iterationNumber.style('color', '#000');\n",
    "                \n",
    "                let iterationSubmit = p.createButton('Set Iteration');\n",
    "                iterationSubmit.position(200, 50);\n",
    "                iterationSubmit.style('width', '100px');\n",
    "                iterationSubmit.style('color', '#000');\n",
    "                iterationSubmit.style('font-size', '12px');\n",
    "                iterationSubmit.mousePressed(() => setState(parseInt(iterationNumber.value(), 10) || 0));\n",
    "            },\n",
    "            startAnimation: (startIteration, speed) => {\n",
    "                it = startIteration;\n",
    "                baseSpeed = speed;\n",
    "                animationSpeed = speed;\n",
    "                transitionState(0);\n",
    "            },\n",
    "            draw: () => {\n",
    "                playButton.html(running ? '❚❚' : '►');\n",
    "                if (running) {\n",
    "                    tweenGroup.update(globalTime);  \n",
    "                    globalTime += Math.min(1000 / p.frameRate(), 33);\n",
    "                }\n",
    "                \n",
    "                p.fill('#000');\n",
    "                p.textSize(24);\n",
    "                p.text(`Iteration: ${it}`, 10, 30);\n",
    "                \n",
    "                \n",
    "                p.translate(ANIM_W / 4, ANIM_H / 4);\n",
    "                \n",
    "                staticBoard.drawFrame();\n",
    "                \n",
    "                let allTriangles = _.range(N_TRIANGLES);\n",
    "                let staticTriangles = _.difference(allTriangles, moving);\n",
    "                [staticTriangles, moving].forEach(bucket => {\n",
    "                    bucket.forEach(triangleId => {\n",
    "                        const [a, b, c] = board.TRIANGLES[triangleId];\n",
    "                        const {x, y, r, f} = start[triangleId];\n",
    "                        p.push();\n",
    "                        triangles.drawTriangle([a, b, c], x, y, r, f);\n",
    "                        p.pop();\n",
    "                    });\n",
    "                });\n",
    "                staticBoard.drawStaticColors(board);\n",
    "            }\n",
    "        }\n",
    "    };\n",
    "});"
   ]
  },
  {
   "cell_type": "code",
   "execution_count": null,
   "metadata": {
    "slideshow": {
     "slide_type": "subslide"
    }
   },
   "outputs": [],
   "source": [
    "%%javascript\n",
    "\n",
    "window.animateBoard = function (name, boardName, element, startIteration=0, speed=1000) {\n",
    "    createSketch(element, name, ['animatedBoard', 'settings'], (AnimatedBoard, Settings) => {\n",
    "        const {ANIM_W, ANIM_H} = Settings;\n",
    "        \n",
    "        const W = Math.min(element[0].offsetWidth, 900); \n",
    "        const H = W / (ANIM_W / ANIM_H);\n",
    "\n",
    "        return function(p) {\n",
    "            let board = AnimatedBoard(p);\n",
    "            \n",
    "            p.setup = function () {\n",
    "                let canvas = p.createCanvas(W, H);\n",
    "                canvas.style('margin-top', '100px');\n",
    "                board.init(boardName);\n",
    "                board.startAnimation(startIteration, speed);\n",
    "            }\n",
    "\n",
    "            p.draw = function () {\n",
    "                p.scale(W / ANIM_W);\n",
    "                p.background('#ddd');\n",
    "                board.draw();\n",
    "            }\n",
    "        };\n",
    "    });\n",
    "}"
   ]
  },
  {
   "cell_type": "code",
   "execution_count": null,
   "metadata": {
    "slideshow": {
     "slide_type": "subslide"
    }
   },
   "outputs": [],
   "source": [
    "board = Board(\n",
    "    [[i, 0] for i in range(N_TRIANGLES)],\n",
    "    (\n",
    "        [None] * 16,\n",
    "        [[7, 0]] + [None] * 15,\n",
    "        [[7, 1]] + [None] * 15,\n",
    "        [[7, 2]] + [None] * 15,\n",
    "        [[7, 2], [0, 0]] + [None] * 14,\n",
    "        [[7, 2], [0, 1]] + [None] * 14,\n",
    "        [[7, 2], [0, 2]] + [None] * 14,\n",
    "    )\n",
    ")\n",
    "send_to_js('testAnimatedBoard', board)"
   ]
  },
  {
   "cell_type": "code",
   "execution_count": null,
   "metadata": {
    "scrolled": false,
    "slideshow": {
     "slide_type": "subslide"
    }
   },
   "outputs": [],
   "source": [
    "%%javascript\n",
    "\n",
    "animateBoard('animatedBoard', 'testAnimatedBoard', element, 0, 2000)"
   ]
  },
  {
   "cell_type": "markdown",
   "metadata": {
    "slideshow": {
     "slide_type": "slide"
    }
   },
   "source": [
    "## Recursive Search"
   ]
  },
  {
   "cell_type": "code",
   "execution_count": null,
   "metadata": {
    "slideshow": {
     "slide_type": "subslide"
    }
   },
   "outputs": [],
   "source": [
    "import numpy as np\n",
    "\n",
    "cumsum = np.cumsum([2 * k + 1 for k in range(4)])\n",
    "\n",
    "def pack(j, i, c):\n",
    "    return sum(2 * k + 1 for k in range(j)) + i\n",
    "\n",
    "def tri(j, i, c):\n",
    "    n = pack(j, i, c)\n",
    "    return f'triangles[p[{n}][0]][{c}-p[{n}][1]]'\n",
    "\n",
    "def unpack(triangle_id):\n",
    "    j = next(i for i, s in enumerate(cumsum) if s > triangle_id)\n",
    "    i = 2 * j + 1\n",
    "    k = max(0, triangle_id - cumsum[max(0, j - 1)] )\n",
    "    return (j, i, k)"
   ]
  },
  {
   "cell_type": "markdown",
   "metadata": {
    "slideshow": {
     "slide_type": "subslide"
    }
   },
   "source": [
    "### Iterating over the triangles\n",
    "\n",
    "![looping triangle](./img/looping_triangle.png)"
   ]
  },
  {
   "cell_type": "code",
   "execution_count": null,
   "metadata": {
    "slideshow": {
     "slide_type": "subslide"
    }
   },
   "outputs": [],
   "source": [
    "def generate_valid_triangle(triangle_id, reverse=False):\n",
    "    j, i, k = unpack(triangle_id)\n",
    "    code = []\n",
    "    if k == 0:\n",
    "        # on the left edge\n",
    "        code.append(f'{tri(j, k, 2)} == Board.LEFT[{j}]')\n",
    "\n",
    "    if k == i - 1:\n",
    "        # on the right edge\n",
    "        code.append(f'{tri(j, k, 1)} == Board.RIGHT[{j}]')\n",
    "\n",
    "    if j == 3 and k % 2 == 0:\n",
    "        # on the bottom edge\n",
    "        code.append(f'{tri(j, k, 0)} == Board.BOTTOM[{k//2}]')\n",
    "\n",
    "    if k % 2 == 0:\n",
    "        # normal orientation (facing up)\n",
    "        if j < 3:\n",
    "            # match with line below\n",
    "            code.append(f'(not p[{pack(j + 1, k + 1, 0)}] or {tri(j, k, 0)} == {tri(j + 1, k + 1, 0)})')\n",
    "        if k > 0:\n",
    "            # match with triangle on the left\n",
    "            code.append(f'(not p[{pack(j, k - 1, 2)}] or {tri(j, k, 2)} == {tri(j, k - 1, 2)})')\n",
    "        if k < i - 1:\n",
    "            # match with triangle on the right\n",
    "            code.append(f'(not p[{pack(j, k + 1, 1)}] or {tri(j, k, 1)} == {tri(j, k + 1, 1)})')\n",
    "            \n",
    "    if k % 2 == 1 and reverse:\n",
    "        # reverse orientation (facing down)\n",
    "        # match with line above\n",
    "        code.append(f'(not p[{pack(j - 1, k - 1, 0)}] or {tri(j, k, 0)} == {tri(j - 1, k - 1, 0)})')\n",
    "        # match with triangle on the left\n",
    "        code.append(f'(not p[{pack(j, k - 1, 2)}] or {tri(j, k, 2)} == {tri(j, k - 1, 2)})')\n",
    "        # match with triangle on the right\n",
    "        code.append(f'(not p[{pack(j, k + 1, 1)}] or {tri(j, k, 1)} == {tri(j, k + 1, 1)})')\n",
    "        \n",
    "    return code\n",
    "\n",
    "generate_valid_triangle(0, False)"
   ]
  },
  {
   "cell_type": "markdown",
   "metadata": {
    "slideshow": {
     "slide_type": "subslide"
    }
   },
   "source": [
    "### Valid?\n",
    "\n",
    "![valid triangle](./img/valid_triangle.png)"
   ]
  },
  {
   "cell_type": "code",
   "execution_count": null,
   "metadata": {
    "slideshow": {
     "slide_type": "subslide"
    }
   },
   "outputs": [],
   "source": [
    "def generate_valid_function():\n",
    "    code = []\n",
    "    for n in range(N_TRIANGLES):\n",
    "        _, _, k = unpack(n)\n",
    "        if k % 2 != 0:\n",
    "            continue\n",
    "        code += [f\"(not p[{n}] or ({' and '.join(generate_valid_triangle(n))}))\"]\n",
    "    return 'def is_valid (p):\\n\\treturn ' + ' and '.join(code) + '\\n\\t'\n",
    "\n",
    "\n",
    "code = generate_valid_function()\n",
    "print('Code:')\n",
    "print(code)\n",
    "print('Evaluating the code...')\n",
    "exec(code)\n",
    "assert 'is_valid' in globals()\n",
    "print('done.')"
   ]
  },
  {
   "cell_type": "code",
   "execution_count": null,
   "metadata": {
    "slideshow": {
     "slide_type": "subslide"
    }
   },
   "outputs": [],
   "source": [
    "state = [None for i in range(N_TRIANGLES)]\n",
    "state[0] = [3, 0]\n",
    "print(state)\n",
    "assert not is_valid(state)\n",
    "\n",
    "state[0] = [0, 2]\n",
    "print(state)\n",
    "assert is_valid(state)"
   ]
  },
  {
   "cell_type": "code",
   "execution_count": null,
   "metadata": {
    "slideshow": {
     "slide_type": "subslide"
    }
   },
   "outputs": [],
   "source": [
    "from copy import deepcopy\n",
    "\n",
    "\n",
    "class RecursiveSolver():\n",
    "    \n",
    "    def __init__(self):\n",
    "        self.reset_state()\n",
    "        \n",
    "    def reset_state(self):\n",
    "        self.board = [None] * N_TRIANGLES\n",
    "        self.used = [0] * N_TRIANGLES\n",
    "        self.log = [deepcopy(self.board)]\n",
    "        self.it = 0\n",
    "        \n",
    "    def _log(self):\n",
    "        self.log.append(deepcopy(self.board))\n",
    "        \n",
    "    def _place(self, i):\n",
    "        self.it += 1\n",
    "        if i == N_TRIANGLES:\n",
    "            return True\n",
    "        \n",
    "        for j in range(N_TRIANGLES - 1, -1, -1):\n",
    "            if self.used[j]:\n",
    "                # piece number j already used\n",
    "                continue\n",
    "                \n",
    "            self.used[j] = 1\n",
    "            \n",
    "            for rot in range(3):\n",
    "                self.board[i] = (j, rot)\n",
    "                self._log()\n",
    "\n",
    "                if is_valid(self.board) and self._place(i + 1):\n",
    "                    return True\n",
    "\n",
    "            # remove the piece from the board\n",
    "            self.board[i] = None\n",
    "            self._log()    \n",
    "            self.used[j] = 0\n",
    "            \n",
    "        return False\n",
    "\n",
    "    def run(self):\n",
    "        self.reset_state()\n",
    "        self._place(0)\n",
    "        return self.board\n",
    "    \n",
    "    def found(self):\n",
    "        return all(slot is not None for slot in self.board)"
   ]
  },
  {
   "cell_type": "code",
   "execution_count": null,
   "metadata": {
    "slideshow": {
     "slide_type": "subslide"
    }
   },
   "outputs": [],
   "source": [
    "%%time\n",
    "\n",
    "solver = RecursiveSolver()\n",
    "res = solver.run()\n",
    "if solver.found():\n",
    "    print('Solution found')\n",
    "    print(res)\n",
    "    print(f'{len(solver.log)} actions')\n",
    "    send_to_js('recursive', Board(res, solver.log))\n",
    "else:\n",
    "    print('No solution found')"
   ]
  },
  {
   "cell_type": "code",
   "execution_count": null,
   "metadata": {
    "slideshow": {
     "slide_type": "fragment"
    }
   },
   "outputs": [],
   "source": [
    "for s in solver.log[:10]:\n",
    "    print(s)"
   ]
  },
  {
   "cell_type": "code",
   "execution_count": null,
   "metadata": {
    "slideshow": {
     "slide_type": "subslide"
    }
   },
   "outputs": [],
   "source": [
    "%%javascript\n",
    "\n",
    "drawStaticBoard('solution-recursive', 'recursive', element)"
   ]
  },
  {
   "cell_type": "code",
   "execution_count": null,
   "metadata": {
    "scrolled": false,
    "slideshow": {
     "slide_type": "subslide"
    }
   },
   "outputs": [],
   "source": [
    "%%javascript\n",
    "\n",
    "animateBoard('animation-recursive', 'recursive', element, 0, 2500)"
   ]
  },
  {
   "cell_type": "code",
   "execution_count": null,
   "metadata": {
    "slideshow": {
     "slide_type": "subslide"
    }
   },
   "outputs": [],
   "source": [
    "from IPython.display import HTML\n",
    "\n",
    "HTML('<iframe width=\"900\" height=\"600\" src=\"https://www.youtube.com/embed/lW7mo-9TqEQ?rel=0\" frameborder=\"0\" allow=\"autoplay; encrypted-media\" allowfullscreen></iframe>')"
   ]
  },
  {
   "cell_type": "markdown",
   "metadata": {
    "slideshow": {
     "slide_type": "subslide"
    }
   },
   "source": [
    "![Real Puzzle Solution](./img/bermuda_triangle_solved.jpg)"
   ]
  },
  {
   "cell_type": "markdown",
   "metadata": {
    "slideshow": {
     "slide_type": "slide"
    }
   },
   "source": [
    "## Summary\n",
    "\n",
    "- Combine all the core strengths of Javascript, Python and the Jupyter Notebook\n",
    "- Core logic in Python\n",
    "- Rendering in Javascript"
   ]
  },
  {
   "cell_type": "markdown",
   "metadata": {
    "slideshow": {
     "slide_type": "subslide"
    }
   },
   "source": [
    "## Improvements \n",
    "\n",
    "- Transfering data from Python to Javascript (JSON blob)\n",
    "- Implement a [Jupyter Widget](https://github.com/jupyter-widgets/ipywidgets) instead\n",
    "- Support for JupyterLab"
   ]
  },
  {
   "cell_type": "markdown",
   "metadata": {
    "slideshow": {
     "slide_type": "fragment"
    }
   },
   "source": [
    "- Let's create a **pyp5** Python package?  `¯\\_(ツ)_/¯`"
   ]
  },
  {
   "cell_type": "markdown",
   "metadata": {
    "slideshow": {
     "slide_type": "subslide"
    }
   },
   "source": [
    "## References and going further\n",
    "\n",
    "- [Jake VanderPlas: The Python Visualization Landscape PyCon 2017](https://www.youtube.com/watch?v=FytuB8nFHPQ)\n",
    "- Drawing from the presentation made by Nicolas P. Rougier: https://github.com/rougier/python-visualization-landscape\n",
    "- [pythreejs](https://github.com/jovyan/pythreejs): Implemented as an Jupyter Widget\n",
    "- [bqplot](https://github.com/bloomberg/bqplot): Great library for interactive data exploration\n",
    "- [matplotlib patches](https://matplotlib.org/gallery/api/patch_collection.html?highlight=circles%20wedges%20polygons): Draw primitive shapes"
   ]
  },
  {
   "cell_type": "markdown",
   "metadata": {
    "slideshow": {
     "slide_type": "subslide"
    }
   },
   "source": [
    "## Questions?\n",
    "\n",
    "- **@jtpio** on Twitter\n",
    "- Source: [https://github.com/jtpio/p5-jupyter-notebook](https://github.com/jtpio/p5-jupyter-notebook)\n",
    "- [jtp.io](https://jtp.io)"
   ]
  }
 ],
 "metadata": {
  "anaconda-cloud": {},
  "celltoolbar": "Slideshow",
  "kernelspec": {
   "display_name": "Python 3",
   "language": "python",
   "name": "python3"
  },
  "language_info": {
   "codemirror_mode": {
    "name": "ipython",
    "version": 3
   },
   "file_extension": ".py",
   "mimetype": "text/x-python",
   "name": "python",
   "nbconvert_exporter": "python",
   "pygments_lexer": "ipython3",
   "version": "3.6.4"
  },
  "livereveal": {
   "scroll": true
  }
 },
 "nbformat": 4,
 "nbformat_minor": 1
}
